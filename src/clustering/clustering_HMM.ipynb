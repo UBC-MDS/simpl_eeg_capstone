{
 "cells": [
  {
   "cell_type": "markdown",
   "id": "1b1fec5a",
   "metadata": {},
   "source": [
    "# Unsupervised Clustering using Hidden Markov Model "
   ]
  },
  {
   "cell_type": "markdown",
   "id": "8b9ee246",
   "metadata": {},
   "source": [
    "## Import packages"
   ]
  },
  {
   "cell_type": "code",
   "execution_count": 1,
   "id": "ec621318",
   "metadata": {},
   "outputs": [],
   "source": [
    "import mne\n",
    "import numpy as np\n",
    "import pandas as pd\n",
    "import seaborn as sns\n",
    "from hmmlearn import hmm\n",
    "from simpl_eeg import (\n",
    "    connectivity,\n",
    "    eeg_objects,\n",
    "    raw_voltage,\n",
    "    topomap_2d,\n",
    "    topomap_3d_brain,\n",
    "    topomap_3d_head,\n",
    ")"
   ]
  },
  {
   "cell_type": "code",
   "execution_count": 2,
   "id": "a5a4660d",
   "metadata": {},
   "outputs": [],
   "source": [
    "%matplotlib inline"
   ]
  },
  {
   "cell_type": "markdown",
   "id": "b7d8e2de",
   "metadata": {},
   "source": [
    "## Introduction"
   ]
  },
  {
   "cell_type": "markdown",
   "id": "39fd542b",
   "metadata": {},
   "source": [
    "Electroencephalograms (EEG) is an electrophysiological measurement method used to examine the electrical activity of the brain and represent it as location-based channels of waves and frequencies. Essentially, the EEG data from our dataset is recorded from 19 electrodes nodes for 1.5 hours. Therefore, the EEG data is in high dimensionality and could be represented as a multivariate time series data. If we present the data in a tabular format, the number of rows would be the time stamps and the number of columns would be the different electrodes. As we have 1.5 hrs experiment data and each seconds is recorded at 2048 Hz, which means we have 2048 EEG data readings per second, our dataset is large with at least 1 million rows."
   ]
  },
  {
   "cell_type": "markdown",
   "id": "e38209b6",
   "metadata": {},
   "source": [
    "## Objectives"
   ]
  },
  {
   "cell_type": "markdown",
   "id": "699c320d",
   "metadata": {},
   "source": [
    "EEG data is widely use in diagnosing brain disorders such as epilepsy and brain damage from head injuries, however, with the complexity of data and its dynamic changes over time, it is hard to identify any significant patterns by simply reading the data or visualizing it. The main objective of this strech goal is to find similar patterns from the combination of EEG signals of all 19 electrodes for a given time section from the dataset. In plain English, it is to cluster the brain states for different time periods in the data."
   ]
  },
  {
   "cell_type": "markdown",
   "id": "e0086aa9",
   "metadata": {},
   "source": [
    "## Read in the Data"
   ]
  },
  {
   "cell_type": "code",
   "execution_count": 3,
   "id": "72be6707",
   "metadata": {},
   "outputs": [
    {
     "name": "stdout",
     "output_type": "stream",
     "text": [
      "Reading C:\\Users\\Yiki\\Documents\\UBC\\MDS\\Homework\\capstone\\simpl_eeg_capstone\\data\\927\\fixica.fdt\n"
     ]
    },
    {
     "name": "stderr",
     "output_type": "stream",
     "text": [
      "<ipython-input-3-99b5e4cf8c83>:1: RuntimeWarning: Data file name in EEG.data (927 fix ica correct.fdt) is incorrect, the file name must have changed on disk, using the correct file name (fixica.fdt).\n",
      "  raw_full = mne.io.read_raw_eeglab(\"../../data/927/fixica.set\")\n"
     ]
    }
   ],
   "source": [
    "raw_full = mne.io.read_raw_eeglab(\"../../data/927/fixica.set\")"
   ]
  },
  {
   "cell_type": "code",
   "execution_count": 5,
   "id": "ffddaaa6",
   "metadata": {},
   "outputs": [],
   "source": [
    "entire_df = raw_full.to_data_frame()"
   ]
  },
  {
   "cell_type": "code",
   "execution_count": 6,
   "id": "67798a58",
   "metadata": {},
   "outputs": [],
   "source": [
    "channel_names=raw_full.ch_names"
   ]
  },
  {
   "cell_type": "markdown",
   "id": "d127f7e2",
   "metadata": {},
   "source": [
    "## Exploratory Data Analysis"
   ]
  },
  {
   "cell_type": "code",
   "execution_count": 7,
   "id": "826085cf",
   "metadata": {},
   "outputs": [
    {
     "data": {
      "text/html": [
       "<div>\n",
       "<style scoped>\n",
       "    .dataframe tbody tr th:only-of-type {\n",
       "        vertical-align: middle;\n",
       "    }\n",
       "\n",
       "    .dataframe tbody tr th {\n",
       "        vertical-align: top;\n",
       "    }\n",
       "\n",
       "    .dataframe thead th {\n",
       "        text-align: right;\n",
       "    }\n",
       "</style>\n",
       "<table border=\"1\" class=\"dataframe\">\n",
       "  <thead>\n",
       "    <tr style=\"text-align: right;\">\n",
       "      <th></th>\n",
       "      <th>time</th>\n",
       "      <th>Fp1</th>\n",
       "      <th>Fp2</th>\n",
       "      <th>F7</th>\n",
       "      <th>T3</th>\n",
       "      <th>T5</th>\n",
       "      <th>F3</th>\n",
       "      <th>C3</th>\n",
       "      <th>P3</th>\n",
       "      <th>Fz</th>\n",
       "      <th>Cz</th>\n",
       "      <th>Pz</th>\n",
       "      <th>F4</th>\n",
       "      <th>C4</th>\n",
       "      <th>P4</th>\n",
       "      <th>F8</th>\n",
       "      <th>T4</th>\n",
       "      <th>T6</th>\n",
       "      <th>O1</th>\n",
       "      <th>O2</th>\n",
       "    </tr>\n",
       "  </thead>\n",
       "  <tbody>\n",
       "    <tr>\n",
       "      <th>count</th>\n",
       "      <td>1.108849e+07</td>\n",
       "      <td>1.108849e+07</td>\n",
       "      <td>1.108849e+07</td>\n",
       "      <td>1.108849e+07</td>\n",
       "      <td>1.108849e+07</td>\n",
       "      <td>1.108849e+07</td>\n",
       "      <td>1.108849e+07</td>\n",
       "      <td>1.108849e+07</td>\n",
       "      <td>1.108849e+07</td>\n",
       "      <td>1.108849e+07</td>\n",
       "      <td>1.108849e+07</td>\n",
       "      <td>1.108849e+07</td>\n",
       "      <td>1.108849e+07</td>\n",
       "      <td>1.108849e+07</td>\n",
       "      <td>1.108849e+07</td>\n",
       "      <td>1.108849e+07</td>\n",
       "      <td>1.108849e+07</td>\n",
       "      <td>1.108849e+07</td>\n",
       "      <td>1.108849e+07</td>\n",
       "      <td>1.108849e+07</td>\n",
       "    </tr>\n",
       "    <tr>\n",
       "      <th>mean</th>\n",
       "      <td>2.707150e+06</td>\n",
       "      <td>-4.951856e-02</td>\n",
       "      <td>-5.360361e-02</td>\n",
       "      <td>-1.970000e-01</td>\n",
       "      <td>-1.045423e-01</td>\n",
       "      <td>-1.890660e-01</td>\n",
       "      <td>-1.007904e-01</td>\n",
       "      <td>-1.226650e-01</td>\n",
       "      <td>-1.405565e-01</td>\n",
       "      <td>-5.769371e-02</td>\n",
       "      <td>-1.050824e-01</td>\n",
       "      <td>-1.218021e-01</td>\n",
       "      <td>-6.789351e-02</td>\n",
       "      <td>-7.151982e-02</td>\n",
       "      <td>-7.599173e-02</td>\n",
       "      <td>-7.250481e-02</td>\n",
       "      <td>-4.937661e-02</td>\n",
       "      <td>-3.070300e-02</td>\n",
       "      <td>-6.297736e-02</td>\n",
       "      <td>-5.717235e-02</td>\n",
       "    </tr>\n",
       "    <tr>\n",
       "      <th>std</th>\n",
       "      <td>1.562974e+06</td>\n",
       "      <td>7.881340e+00</td>\n",
       "      <td>7.769932e+00</td>\n",
       "      <td>1.212798e+01</td>\n",
       "      <td>6.043827e+00</td>\n",
       "      <td>1.199746e+01</td>\n",
       "      <td>1.222635e+01</td>\n",
       "      <td>1.163743e+01</td>\n",
       "      <td>1.126299e+01</td>\n",
       "      <td>1.231525e+01</td>\n",
       "      <td>1.199590e+01</td>\n",
       "      <td>1.220014e+01</td>\n",
       "      <td>1.141870e+01</td>\n",
       "      <td>1.149002e+01</td>\n",
       "      <td>1.256943e+01</td>\n",
       "      <td>6.294935e+00</td>\n",
       "      <td>6.381905e+00</td>\n",
       "      <td>1.206392e+01</td>\n",
       "      <td>1.185191e+01</td>\n",
       "      <td>1.647667e+01</td>\n",
       "    </tr>\n",
       "    <tr>\n",
       "      <th>min</th>\n",
       "      <td>0.000000e+00</td>\n",
       "      <td>-8.024929e+01</td>\n",
       "      <td>-7.839950e+01</td>\n",
       "      <td>-2.722647e+02</td>\n",
       "      <td>-8.675944e+01</td>\n",
       "      <td>-2.099264e+02</td>\n",
       "      <td>-1.635053e+02</td>\n",
       "      <td>-2.136972e+02</td>\n",
       "      <td>-3.073107e+02</td>\n",
       "      <td>-1.147499e+02</td>\n",
       "      <td>-1.185257e+02</td>\n",
       "      <td>-1.350610e+02</td>\n",
       "      <td>-1.872107e+02</td>\n",
       "      <td>-1.384043e+02</td>\n",
       "      <td>-1.338534e+02</td>\n",
       "      <td>-8.942552e+01</td>\n",
       "      <td>-9.223476e+01</td>\n",
       "      <td>-2.544708e+02</td>\n",
       "      <td>-3.976269e+02</td>\n",
       "      <td>-4.125500e+02</td>\n",
       "    </tr>\n",
       "    <tr>\n",
       "      <th>25%</th>\n",
       "      <td>1.353575e+06</td>\n",
       "      <td>-5.059593e+00</td>\n",
       "      <td>-4.970109e+00</td>\n",
       "      <td>-7.103350e+00</td>\n",
       "      <td>-3.798762e+00</td>\n",
       "      <td>-7.367568e+00</td>\n",
       "      <td>-7.708792e+00</td>\n",
       "      <td>-7.332805e+00</td>\n",
       "      <td>-7.187517e+00</td>\n",
       "      <td>-7.874664e+00</td>\n",
       "      <td>-7.798521e+00</td>\n",
       "      <td>-7.951976e+00</td>\n",
       "      <td>-7.010767e+00</td>\n",
       "      <td>-7.186753e+00</td>\n",
       "      <td>-7.971704e+00</td>\n",
       "      <td>-3.943664e+00</td>\n",
       "      <td>-4.024702e+00</td>\n",
       "      <td>-7.243095e+00</td>\n",
       "      <td>-6.864659e+00</td>\n",
       "      <td>-7.983721e+00</td>\n",
       "    </tr>\n",
       "    <tr>\n",
       "      <th>50%</th>\n",
       "      <td>2.707150e+06</td>\n",
       "      <td>-1.097212e-01</td>\n",
       "      <td>-8.891173e-02</td>\n",
       "      <td>-1.409743e-01</td>\n",
       "      <td>-1.799444e-01</td>\n",
       "      <td>-3.511483e-01</td>\n",
       "      <td>-1.710321e-01</td>\n",
       "      <td>-2.296336e-01</td>\n",
       "      <td>-2.677179e-01</td>\n",
       "      <td>-9.671074e-02</td>\n",
       "      <td>-2.464668e-01</td>\n",
       "      <td>-2.721145e-01</td>\n",
       "      <td>-8.589961e-02</td>\n",
       "      <td>-7.801341e-02</td>\n",
       "      <td>-1.233626e-01</td>\n",
       "      <td>-8.700962e-02</td>\n",
       "      <td>-6.181740e-02</td>\n",
       "      <td>-9.822004e-03</td>\n",
       "      <td>-1.093020e-01</td>\n",
       "      <td>-2.175741e-01</td>\n",
       "    </tr>\n",
       "    <tr>\n",
       "      <th>75%</th>\n",
       "      <td>4.060726e+06</td>\n",
       "      <td>4.897449e+00</td>\n",
       "      <td>4.826879e+00</td>\n",
       "      <td>6.797164e+00</td>\n",
       "      <td>3.490998e+00</td>\n",
       "      <td>6.722553e+00</td>\n",
       "      <td>7.428260e+00</td>\n",
       "      <td>6.991313e+00</td>\n",
       "      <td>6.756059e+00</td>\n",
       "      <td>7.727930e+00</td>\n",
       "      <td>7.434458e+00</td>\n",
       "      <td>7.546031e+00</td>\n",
       "      <td>6.851805e+00</td>\n",
       "      <td>7.061900e+00</td>\n",
       "      <td>7.780638e+00</td>\n",
       "      <td>3.782850e+00</td>\n",
       "      <td>3.918500e+00</td>\n",
       "      <td>7.192153e+00</td>\n",
       "      <td>6.669391e+00</td>\n",
       "      <td>7.602581e+00</td>\n",
       "    </tr>\n",
       "    <tr>\n",
       "      <th>max</th>\n",
       "      <td>5.414301e+06</td>\n",
       "      <td>8.276429e+01</td>\n",
       "      <td>8.739672e+01</td>\n",
       "      <td>2.333079e+02</td>\n",
       "      <td>9.022140e+01</td>\n",
       "      <td>1.838179e+02</td>\n",
       "      <td>2.396673e+02</td>\n",
       "      <td>2.372432e+02</td>\n",
       "      <td>1.325360e+02</td>\n",
       "      <td>1.173398e+02</td>\n",
       "      <td>1.020642e+02</td>\n",
       "      <td>1.369814e+02</td>\n",
       "      <td>2.460898e+02</td>\n",
       "      <td>1.723651e+02</td>\n",
       "      <td>1.609878e+02</td>\n",
       "      <td>8.442140e+01</td>\n",
       "      <td>7.311791e+01</td>\n",
       "      <td>2.648633e+02</td>\n",
       "      <td>4.283883e+02</td>\n",
       "      <td>5.051952e+02</td>\n",
       "    </tr>\n",
       "  </tbody>\n",
       "</table>\n",
       "</div>"
      ],
      "text/plain": [
       "               time           Fp1           Fp2            F7            T3  \\\n",
       "count  1.108849e+07  1.108849e+07  1.108849e+07  1.108849e+07  1.108849e+07   \n",
       "mean   2.707150e+06 -4.951856e-02 -5.360361e-02 -1.970000e-01 -1.045423e-01   \n",
       "std    1.562974e+06  7.881340e+00  7.769932e+00  1.212798e+01  6.043827e+00   \n",
       "min    0.000000e+00 -8.024929e+01 -7.839950e+01 -2.722647e+02 -8.675944e+01   \n",
       "25%    1.353575e+06 -5.059593e+00 -4.970109e+00 -7.103350e+00 -3.798762e+00   \n",
       "50%    2.707150e+06 -1.097212e-01 -8.891173e-02 -1.409743e-01 -1.799444e-01   \n",
       "75%    4.060726e+06  4.897449e+00  4.826879e+00  6.797164e+00  3.490998e+00   \n",
       "max    5.414301e+06  8.276429e+01  8.739672e+01  2.333079e+02  9.022140e+01   \n",
       "\n",
       "                 T5            F3            C3            P3            Fz  \\\n",
       "count  1.108849e+07  1.108849e+07  1.108849e+07  1.108849e+07  1.108849e+07   \n",
       "mean  -1.890660e-01 -1.007904e-01 -1.226650e-01 -1.405565e-01 -5.769371e-02   \n",
       "std    1.199746e+01  1.222635e+01  1.163743e+01  1.126299e+01  1.231525e+01   \n",
       "min   -2.099264e+02 -1.635053e+02 -2.136972e+02 -3.073107e+02 -1.147499e+02   \n",
       "25%   -7.367568e+00 -7.708792e+00 -7.332805e+00 -7.187517e+00 -7.874664e+00   \n",
       "50%   -3.511483e-01 -1.710321e-01 -2.296336e-01 -2.677179e-01 -9.671074e-02   \n",
       "75%    6.722553e+00  7.428260e+00  6.991313e+00  6.756059e+00  7.727930e+00   \n",
       "max    1.838179e+02  2.396673e+02  2.372432e+02  1.325360e+02  1.173398e+02   \n",
       "\n",
       "                 Cz            Pz            F4            C4            P4  \\\n",
       "count  1.108849e+07  1.108849e+07  1.108849e+07  1.108849e+07  1.108849e+07   \n",
       "mean  -1.050824e-01 -1.218021e-01 -6.789351e-02 -7.151982e-02 -7.599173e-02   \n",
       "std    1.199590e+01  1.220014e+01  1.141870e+01  1.149002e+01  1.256943e+01   \n",
       "min   -1.185257e+02 -1.350610e+02 -1.872107e+02 -1.384043e+02 -1.338534e+02   \n",
       "25%   -7.798521e+00 -7.951976e+00 -7.010767e+00 -7.186753e+00 -7.971704e+00   \n",
       "50%   -2.464668e-01 -2.721145e-01 -8.589961e-02 -7.801341e-02 -1.233626e-01   \n",
       "75%    7.434458e+00  7.546031e+00  6.851805e+00  7.061900e+00  7.780638e+00   \n",
       "max    1.020642e+02  1.369814e+02  2.460898e+02  1.723651e+02  1.609878e+02   \n",
       "\n",
       "                 F8            T4            T6            O1            O2  \n",
       "count  1.108849e+07  1.108849e+07  1.108849e+07  1.108849e+07  1.108849e+07  \n",
       "mean  -7.250481e-02 -4.937661e-02 -3.070300e-02 -6.297736e-02 -5.717235e-02  \n",
       "std    6.294935e+00  6.381905e+00  1.206392e+01  1.185191e+01  1.647667e+01  \n",
       "min   -8.942552e+01 -9.223476e+01 -2.544708e+02 -3.976269e+02 -4.125500e+02  \n",
       "25%   -3.943664e+00 -4.024702e+00 -7.243095e+00 -6.864659e+00 -7.983721e+00  \n",
       "50%   -8.700962e-02 -6.181740e-02 -9.822004e-03 -1.093020e-01 -2.175741e-01  \n",
       "75%    3.782850e+00  3.918500e+00  7.192153e+00  6.669391e+00  7.602581e+00  \n",
       "max    8.442140e+01  7.311791e+01  2.648633e+02  4.283883e+02  5.051952e+02  "
      ]
     },
     "execution_count": 7,
     "metadata": {},
     "output_type": "execute_result"
    }
   ],
   "source": [
    "entire_df.describe()"
   ]
  },
  {
   "cell_type": "code",
   "execution_count": 8,
   "id": "1928cd5c",
   "metadata": {},
   "outputs": [
    {
     "data": {
      "text/plain": [
       "<AxesSubplot:>"
      ]
     },
     "execution_count": 8,
     "metadata": {},
     "output_type": "execute_result"
    },
    {
     "data": {
      "image/png": "[encoded data removed]",
      "text/plain": [
       "<Figure size 432x288 with 1 Axes>"
      ]
     },
     "metadata": {
      "needs_background": "light"
     },
     "output_type": "display_data"
    }
   ],
   "source": [
    "sns.violinplot(data=entire_df['Fp1'].values)"
   ]
  },
  {
   "cell_type": "code",
   "execution_count": 9,
   "id": "399f2138",
   "metadata": {},
   "outputs": [
    {
     "data": {
      "text/plain": [
       "<AxesSubplot:>"
      ]
     },
     "execution_count": 9,
     "metadata": {},
     "output_type": "execute_result"
    },
    {
     "data": {
      "image/png": "[encoded data removed]",
      "text/plain": [
       "<Figure size 432x288 with 1 Axes>"
      ]
     },
     "metadata": {
      "needs_background": "light"
     },
     "output_type": "display_data"
    }
   ],
   "source": [
    "sns.violinplot(data=entire_df['O2'].values)"
   ]
  },
  {
   "cell_type": "markdown",
   "id": "2b72a68e",
   "metadata": {},
   "source": [
    "According to the EDA, the EEG data is following Gaussian distribution. However, there are clearly some outliers in the data. My next step is to remove the outliers of the data based on the expertise suggestions from the partner to keep EEG data which falls into (-50, 50) range."
   ]
  },
  {
   "cell_type": "markdown",
   "id": "a92076d3",
   "metadata": {},
   "source": [
    "## Data preprocessing"
   ]
  },
  {
   "cell_type": "code",
   "execution_count": 10,
   "id": "a5d5ed80",
   "metadata": {},
   "outputs": [],
   "source": [
    "# drop rows where all values are zero\n",
    "cleaned_df = entire_df.loc[(entire_df[channel_names] != 0).all(axis=1)]\n",
    "\n",
    "# drop the outliers of dataset\n",
    "df_no_outliers = cleaned_df.loc[((cleaned_df[channel_names] <=50) & (cleaned_df[channel_names] >= -50)).all(axis=1)]"
   ]
  },
  {
   "cell_type": "code",
   "execution_count": null,
   "id": "17370c6d",
   "metadata": {},
   "outputs": [],
   "source": []
  }
 ],
 "metadata": {
  "kernelspec": {
   "display_name": "Python [conda env:capstone]",
   "language": "python",
   "name": "conda-env-capstone-py"
  },
  "language_info": {
   "codemirror_mode": {
    "name": "ipython",
    "version": 3
   },
   "file_extension": ".py",
   "mimetype": "text/x-python",
   "name": "python",
   "nbconvert_exporter": "python",
   "pygments_lexer": "ipython3",
   "version": "3.9.4"
  }
 },
 "nbformat": 4,
 "nbformat_minor": 5
}
