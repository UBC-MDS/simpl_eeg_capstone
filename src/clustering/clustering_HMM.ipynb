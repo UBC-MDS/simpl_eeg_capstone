{
 "cells": [
  {
   "cell_type": "markdown",
   "id": "d55cb289",
   "metadata": {},
   "source": [
    "# Unsupervised Clustering using Hidden Markov Model "
   ]
  },
  {
   "cell_type": "markdown",
   "id": "63f55250",
   "metadata": {},
   "source": [
    "## Import packages"
   ]
  },
  {
   "cell_type": "code",
   "execution_count": 1,
   "id": "60051ed1",
   "metadata": {},
   "outputs": [],
   "source": [
    "import mne\n",
    "import numpy as np\n",
    "import pandas as pd\n",
    "import seaborn as sns\n",
    "from hmmlearn import hmm\n",
    "from simpl_eeg import (\n",
    "    connectivity,\n",
    "    eeg_objects,\n",
    "    raw_voltage,\n",
    "    topomap_2d,\n",
    "    topomap_3d_brain,\n",
    "    topomap_3d_head,\n",
    ")\n",
    "import matplotlib.pyplot as plt\n",
    "import matplotlib.animation as animation"
   ]
  },
  {
   "cell_type": "code",
   "execution_count": 2,
   "id": "83d9348e",
   "metadata": {},
   "outputs": [],
   "source": [
    "%load_ext autoreload"
   ]
  },
  {
   "cell_type": "code",
   "execution_count": 3,
   "id": "726c93f2",
   "metadata": {},
   "outputs": [],
   "source": [
    "%autoreload 2"
   ]
  },
  {
   "cell_type": "code",
   "execution_count": 4,
   "id": "f4ae4dc0",
   "metadata": {},
   "outputs": [],
   "source": [
    "%matplotlib inline"
   ]
  },
  {
   "cell_type": "markdown",
   "id": "bea27207",
   "metadata": {},
   "source": [
    "## Introduction"
   ]
  },
  {
   "cell_type": "markdown",
   "id": "81edfc83",
   "metadata": {},
   "source": [
    "Electroencephalograms (EEG) is an electrophysiological measurement method used to examine the electrical activity of the brain and represent it as location-based channels of waves and frequencies. Essentially, the EEG data from our dataset is recorded from 19 electrodes nodes for 1.5 hours. Therefore, the EEG data is in high dimensionality and could be represented as a multivariate time series data. If we present the data in a tabular format, the number of rows would be the time stamps and the number of columns would be the different electrodes. As we have 1.5 hrs experiment data and each seconds is recorded at 2048 Hz, which means we have 2048 EEG data readings per second, our dataset is large with at least 1 million rows."
   ]
  },
  {
   "cell_type": "markdown",
   "id": "ad59ac51",
   "metadata": {},
   "source": [
    "## Objectives"
   ]
  },
  {
   "cell_type": "markdown",
   "id": "7f28397e",
   "metadata": {},
   "source": [
    "EEG data is widely use in diagnosing brain disorders such as epilepsy and brain damage from head injuries, however, with the complexity of data and its dynamic changes over time, it is hard to identify any significant patterns by simply reading the data or visualizing it. The main objective of this strech goal is to find similar patterns from the combination of EEG signals of all 19 electrodes for a given time section from the dataset. In plain English, it is to cluster the brain states for different time periods in the data."
   ]
  },
  {
   "cell_type": "markdown",
   "id": "7442371c",
   "metadata": {},
   "source": [
    "## Why Hidden Markov Model"
   ]
  },
  {
   "cell_type": "markdown",
   "id": "8371cbf8",
   "metadata": {},
   "source": [
    "A Markov model assumes that the future is conditionally independent of the past given the present (Daniel & James, 2020), with the probability shown below:\n",
    "$$P(S_i |S_1...S_{i−1}) = P(S_i|S_{i−1})$$ where $S_i$ is the state at time i.\n",
    "</br>\n",
    "A hidden Markov model (HMM) relates a sequence of observations to a sequence of hidden states that explain the observations (Daniel & James, 2020). For the EEG data, the sequence of observations is the EEG data per time frame and the sequence of hidden states would be the brain states in the dataset. Since the brain activities at time $i$ is less likely to highly correlate to brain activitiees before time $i-1$, the Markov model assumption would be satisfied at this case and therefore we would like to try to apply the hidden Markov model to EEG data."
   ]
  },
  {
   "cell_type": "markdown",
   "id": "c28b37d1",
   "metadata": {},
   "source": [
    "Since we don't know have labeled data or pre-defined brain states, we would need to use unsupervised HMM for this task. The process of finding the sequence of hidden states given the sequence of observations using HMM is called decoding (Daniel & James, 2020) and the `Viterbi` algorithm is commonly used for decoding. Therefore, for this notebook, I would use the `Viterbi` algorithm in the HMM model for finding the potential brain states. "
   ]
  },
  {
   "cell_type": "markdown",
   "id": "0935e1b3",
   "metadata": {},
   "source": [
    "A hidden Markov model consists of 5 components:\n",
    "- the state space: a set of hidden states\n",
    "- the sequence of observation\n",
    "- the transition probability matrix: the probability transitioning from state $i$ to state $j$\n",
    "- the emission probabilities: conditional probabilities for all observations given a hidden state\n",
    "- the initial probability over states: the probability for the Markov model starts at state $i$"
   ]
  },
  {
   "cell_type": "markdown",
   "id": "9c9e1954",
   "metadata": {},
   "source": [
    "The goal for this task is to explore the set of hidden states (the state space) and the transition probability matrix of the EEG data using hidden Markov model. "
   ]
  },
  {
   "cell_type": "markdown",
   "id": "0ad49a0b",
   "metadata": {},
   "source": [
    "## Read in the Data"
   ]
  },
  {
   "cell_type": "code",
   "execution_count": 5,
   "id": "a44ec52a",
   "metadata": {},
   "outputs": [
    {
     "name": "stdout",
     "output_type": "stream",
     "text": [
      "Reading C:\\Users\\Yiki\\Documents\\UBC\\MDS\\Homework\\capstone\\simpl_eeg_capstone\\data\\927\\fixica.fdt\n"
     ]
    },
    {
     "name": "stderr",
     "output_type": "stream",
     "text": [
      "<ipython-input-5-99b5e4cf8c83>:1: RuntimeWarning: Data file name in EEG.data (927 fix ica correct.fdt) is incorrect, the file name must have changed on disk, using the correct file name (fixica.fdt).\n",
      "  raw_full = mne.io.read_raw_eeglab(\"../../data/927/fixica.set\")\n"
     ]
    }
   ],
   "source": [
    "raw_full = mne.io.read_raw_eeglab(\"../../data/927/fixica.set\")"
   ]
  },
  {
   "cell_type": "code",
   "execution_count": 7,
   "id": "a1c6ae21",
   "metadata": {},
   "outputs": [],
   "source": [
    "entire_df = raw_full.to_data_frame()"
   ]
  },
  {
   "cell_type": "code",
   "execution_count": 9,
   "id": "65887329",
   "metadata": {},
   "outputs": [],
   "source": [
    "channel_names=raw_full.ch_names"
   ]
  },
  {
   "cell_type": "code",
   "execution_count": 11,
   "id": "329cdec6",
   "metadata": {},
   "outputs": [
    {
     "name": "stdout",
     "output_type": "stream",
     "text": [
      "Reading C:\\Users\\Yiki\\Documents\\UBC\\MDS\\Homework\\capstone\\simpl_eeg_capstone\\data\\927\\fixica.fdt\n"
     ]
    },
    {
     "name": "stderr",
     "output_type": "stream",
     "text": [
      "c:\\users\\yiki\\documents\\ubc\\mds\\homework\\capstone\\simpl_eeg_capstone\\simpl_eeg\\eeg_objects.py:52: RuntimeWarning: Data file name in EEG.data (927 fix ica correct.fdt) is incorrect, the file name must have changed on disk, using the correct file name (fixica.fdt).\n",
      "  self.raw = mne.io.read_raw_eeglab(folder_path+\"/\"+file_name+\".set\")\n"
     ]
    },
    {
     "name": "stdout",
     "output_type": "stream",
     "text": [
      "Not setting metadata\n",
      "Not setting metadata\n",
      "33 matching events found\n",
      "Setting baseline interval to [-0.2998046875, 0.0] sec\n",
      "Applying baseline correction (mode: mean)\n",
      "0 projection items activated\n",
      "Loading data for 33 events and 2049 original time points ...\n",
      "0 bad epochs dropped\n"
     ]
    }
   ],
   "source": [
    "epoch = eeg_objects.Epochs(\"../../data/927\").epoch"
   ]
  },
  {
   "cell_type": "markdown",
   "id": "92fa10ee",
   "metadata": {},
   "source": [
    "## Exploratory Data Analysis"
   ]
  },
  {
   "cell_type": "code",
   "execution_count": null,
   "id": "6ae63fd1",
   "metadata": {},
   "outputs": [],
   "source": [
    "entire_df.describe()"
   ]
  },
  {
   "cell_type": "code",
   "execution_count": null,
   "id": "72f6b5f4",
   "metadata": {},
   "outputs": [],
   "source": [
    "sns.violinplot(data=entire_df['Fp1'].values)"
   ]
  },
  {
   "cell_type": "code",
   "execution_count": null,
   "id": "ca6c637d",
   "metadata": {},
   "outputs": [],
   "source": [
    "sns.violinplot(data=entire_df['O2'].values)"
   ]
  },
  {
   "cell_type": "markdown",
   "id": "c77315ae",
   "metadata": {},
   "source": [
    "According to the EDA, the EEG data is following Gaussian distribution, therefore, a GaussianHMM model would be used. However, there are clearly some outliers in the data. My next step is to remove the outliers of the data based on the expertise suggestions from the partner to keep EEG data which falls into (-50, 50) range."
   ]
  },
  {
   "cell_type": "markdown",
   "id": "e72b3156",
   "metadata": {},
   "source": [
    "## Data preprocessing"
   ]
  },
  {
   "cell_type": "code",
   "execution_count": 12,
   "id": "158512fb",
   "metadata": {},
   "outputs": [],
   "source": [
    "# drop rows where all values are zero\n",
    "cleaned_df = entire_df.loc[(entire_df[channel_names] != 0).all(axis=1)]\n",
    "\n",
    "# drop the outliers of dataset (only keep rows where EEG voltage is between -50 to 50)\n",
    "df_no_outliers = cleaned_df.loc[((cleaned_df[channel_names] <=50) & (cleaned_df[channel_names] >= -50)).all(axis=1)]\n",
    "\n",
    "# chunk the data into per second (each second has 2048 readings (rows))\n",
    "df_second = np.split(df_no_outliers, range(2048, len(df_no_outliers), 2048))\n",
    "\n",
    "# for each second, randomly sampled 10 time stamps (the original dataset is too big, wants to sample a smaller dataset for exploration)\n",
    "df_second_resample={}\n",
    "for second in range(len(df_second)):\n",
    "    df_second_resample[second] = df_second[second].sample(10, random_state=2020, axis=0).sort_values(by=\"time\")\n",
    "df_resampled = pd.concat([values for key, values in df_second_resample.items()])"
   ]
  },
  {
   "cell_type": "markdown",
   "id": "dbac237e",
   "metadata": {},
   "source": [
    "## Building Models"
   ]
  },
  {
   "cell_type": "markdown",
   "id": "bc805408",
   "metadata": {},
   "source": [
    "Based on the suggestion from the partner, we would like to explore the data in per 5 second interval. "
   ]
  },
  {
   "cell_type": "code",
   "execution_count": 13,
   "id": "f8bc2d6b",
   "metadata": {},
   "outputs": [],
   "source": [
    "five_second_df = np.split(df_resampled, range(50, len(df_resampled), 50))"
   ]
  },
  {
   "cell_type": "code",
   "execution_count": 14,
   "id": "18a43746",
   "metadata": {},
   "outputs": [],
   "source": [
    "# since HMM model only takes in (n_sample, n_feature) array, reshape the data into an array where each sample has 50 time stamps (5 seconds data)\n",
    "chunked_list = []\n",
    "for i in range(len(five_second_df)):\n",
    "    chunked_list.append(np.array(five_second_df[i].iloc[:, 1:]).flatten())\n",
    "chunked_array = np.array(chunked_list)"
   ]
  },
  {
   "cell_type": "markdown",
   "id": "d8d85449",
   "metadata": {},
   "source": [
    "As mentioned above, the EEG data follows Gaussian distribution and is continous, we would use the `GaussianHMM` model from `hmmlearn` package. Since we don't know the number of brain states from the model, we would like to start with some random numbers."
   ]
  },
  {
   "cell_type": "code",
   "execution_count": 15,
   "id": "3c4121ea",
   "metadata": {},
   "outputs": [],
   "source": [
    "# n_components is the number of hidden states (number of brain states)\n",
    "chunked_model = hmm.GaussianHMM(n_components=4)"
   ]
  },
  {
   "cell_type": "code",
   "execution_count": 16,
   "id": "91c4ccc2",
   "metadata": {},
   "outputs": [
    {
     "data": {
      "text/plain": [
       "GaussianHMM(n_components=4)"
      ]
     },
     "execution_count": 16,
     "metadata": {},
     "output_type": "execute_result"
    }
   ],
   "source": [
    "chunked_model.fit(chunked_array)"
   ]
  },
  {
   "cell_type": "code",
   "execution_count": 17,
   "id": "cfefcfbf",
   "metadata": {},
   "outputs": [],
   "source": [
    "chunked_result = chunked_model.decode(chunked_array, algorithm=\"viterbi\")"
   ]
  },
  {
   "cell_type": "markdown",
   "id": "eee23caa",
   "metadata": {},
   "source": [
    "### Check model output"
   ]
  },
  {
   "cell_type": "code",
   "execution_count": 18,
   "id": "899bc006",
   "metadata": {},
   "outputs": [
    {
     "name": "stdout",
     "output_type": "stream",
     "text": [
      "The log probability for this 4-cluster model is -3674387.5830\n"
     ]
    }
   ],
   "source": [
    "# the metric that hmmlearn package itself used to evaluate the model\n",
    "print(f\"The log probability for this 4-cluster model is {chunked_result[0]:0.4f}\")"
   ]
  },
  {
   "cell_type": "code",
   "execution_count": 19,
   "id": "8a02fc28",
   "metadata": {},
   "outputs": [
    {
     "name": "stdout",
     "output_type": "stream",
     "text": [
      "The prior probability for this model is: [1.15714803e-298 3.81701224e-287 6.27559545e-193 1.00000000e+000]\n"
     ]
    }
   ],
   "source": [
    "print(f\"The prior probability for this model is: {chunked_model.startprob_}\")"
   ]
  },
  {
   "cell_type": "code",
   "execution_count": 20,
   "id": "9ce828d0",
   "metadata": {},
   "outputs": [
    {
     "name": "stdout",
     "output_type": "stream",
     "text": [
      "The transmission probability matrix of this model is: \n",
      " [[0.18427537 0.26452458 0.30500036 0.24619969]\n",
      " [0.2423285  0.22365823 0.26917549 0.26483778]\n",
      " [0.23521008 0.30190941 0.23479394 0.22808656]\n",
      " [0.24297949 0.19719533 0.28369746 0.27612771]]\n"
     ]
    }
   ],
   "source": [
    "print(f\"The transmission probability matrix of this model is: \\n {chunked_model.transmat_}\")"
   ]
  },
  {
   "cell_type": "code",
   "execution_count": 21,
   "id": "00f1d9ea",
   "metadata": {},
   "outputs": [],
   "source": [
    "# add lables back to the df\n",
    "df_result = five_second_df.copy()\n",
    "for i in range(len(df_result)):\n",
    "    df_result[i]=df_result[i].assign(cluster = chunked_result[1][i])"
   ]
  },
  {
   "cell_type": "code",
   "execution_count": 22,
   "id": "48347abe",
   "metadata": {},
   "outputs": [],
   "source": [
    "df_result=pd.concat([df_result[i] for i in range(len(df_result))])"
   ]
  },
  {
   "cell_type": "code",
   "execution_count": 23,
   "id": "8cae530d",
   "metadata": {},
   "outputs": [
    {
     "data": {
      "text/html": [
       "<div>\n",
       "<style scoped>\n",
       "    .dataframe tbody tr th:only-of-type {\n",
       "        vertical-align: middle;\n",
       "    }\n",
       "\n",
       "    .dataframe tbody tr th {\n",
       "        vertical-align: top;\n",
       "    }\n",
       "\n",
       "    .dataframe thead th {\n",
       "        text-align: right;\n",
       "    }\n",
       "</style>\n",
       "<table border=\"1\" class=\"dataframe\">\n",
       "  <thead>\n",
       "    <tr style=\"text-align: right;\">\n",
       "      <th></th>\n",
       "      <th>time</th>\n",
       "      <th>Fp1</th>\n",
       "      <th>Fp2</th>\n",
       "      <th>F7</th>\n",
       "      <th>T3</th>\n",
       "      <th>T5</th>\n",
       "      <th>F3</th>\n",
       "      <th>C3</th>\n",
       "      <th>P3</th>\n",
       "      <th>Fz</th>\n",
       "      <th>...</th>\n",
       "      <th>Pz</th>\n",
       "      <th>F4</th>\n",
       "      <th>C4</th>\n",
       "      <th>P4</th>\n",
       "      <th>F8</th>\n",
       "      <th>T4</th>\n",
       "      <th>T6</th>\n",
       "      <th>O1</th>\n",
       "      <th>O2</th>\n",
       "      <th>cluster</th>\n",
       "    </tr>\n",
       "  </thead>\n",
       "  <tbody>\n",
       "    <tr>\n",
       "      <th>290</th>\n",
       "      <td>142</td>\n",
       "      <td>-12.305924</td>\n",
       "      <td>-14.524019</td>\n",
       "      <td>-12.033823</td>\n",
       "      <td>-10.463505</td>\n",
       "      <td>-18.698639</td>\n",
       "      <td>-21.039619</td>\n",
       "      <td>-17.012308</td>\n",
       "      <td>-9.173825</td>\n",
       "      <td>-20.733271</td>\n",
       "      <td>...</td>\n",
       "      <td>-10.324389</td>\n",
       "      <td>-21.066496</td>\n",
       "      <td>-10.429639</td>\n",
       "      <td>-12.290789</td>\n",
       "      <td>-7.048176</td>\n",
       "      <td>-13.812033</td>\n",
       "      <td>-30.080774</td>\n",
       "      <td>-9.132559</td>\n",
       "      <td>-24.478706</td>\n",
       "      <td>3</td>\n",
       "    </tr>\n",
       "    <tr>\n",
       "      <th>835</th>\n",
       "      <td>408</td>\n",
       "      <td>2.043821</td>\n",
       "      <td>0.677582</td>\n",
       "      <td>4.069639</td>\n",
       "      <td>0.183605</td>\n",
       "      <td>-1.415403</td>\n",
       "      <td>0.921270</td>\n",
       "      <td>0.454749</td>\n",
       "      <td>-2.289015</td>\n",
       "      <td>0.769230</td>\n",
       "      <td>...</td>\n",
       "      <td>4.335721</td>\n",
       "      <td>-3.216433</td>\n",
       "      <td>1.440984</td>\n",
       "      <td>13.561232</td>\n",
       "      <td>0.889752</td>\n",
       "      <td>2.896240</td>\n",
       "      <td>12.884544</td>\n",
       "      <td>4.252829</td>\n",
       "      <td>15.347451</td>\n",
       "      <td>3</td>\n",
       "    </tr>\n",
       "    <tr>\n",
       "      <th>951</th>\n",
       "      <td>464</td>\n",
       "      <td>-1.345173</td>\n",
       "      <td>-3.076103</td>\n",
       "      <td>-1.363036</td>\n",
       "      <td>-5.552776</td>\n",
       "      <td>-14.956915</td>\n",
       "      <td>-8.253411</td>\n",
       "      <td>-7.443714</td>\n",
       "      <td>-7.266998</td>\n",
       "      <td>-3.748096</td>\n",
       "      <td>...</td>\n",
       "      <td>-4.303961</td>\n",
       "      <td>-3.743513</td>\n",
       "      <td>-4.067729</td>\n",
       "      <td>-0.489298</td>\n",
       "      <td>-3.749812</td>\n",
       "      <td>-2.437128</td>\n",
       "      <td>4.650862</td>\n",
       "      <td>-2.279960</td>\n",
       "      <td>7.630559</td>\n",
       "      <td>3</td>\n",
       "    </tr>\n",
       "    <tr>\n",
       "      <th>1077</th>\n",
       "      <td>526</td>\n",
       "      <td>-1.204437</td>\n",
       "      <td>-1.127121</td>\n",
       "      <td>4.215368</td>\n",
       "      <td>-0.593124</td>\n",
       "      <td>-5.474500</td>\n",
       "      <td>1.049892</td>\n",
       "      <td>-7.793763</td>\n",
       "      <td>-11.830889</td>\n",
       "      <td>0.610142</td>\n",
       "      <td>...</td>\n",
       "      <td>-9.682485</td>\n",
       "      <td>2.152258</td>\n",
       "      <td>-5.578439</td>\n",
       "      <td>-0.699790</td>\n",
       "      <td>-1.290700</td>\n",
       "      <td>-1.334474</td>\n",
       "      <td>0.059585</td>\n",
       "      <td>0.868291</td>\n",
       "      <td>0.214049</td>\n",
       "      <td>3</td>\n",
       "    </tr>\n",
       "    <tr>\n",
       "      <th>1079</th>\n",
       "      <td>527</td>\n",
       "      <td>1.416702</td>\n",
       "      <td>1.575619</td>\n",
       "      <td>11.799867</td>\n",
       "      <td>0.300454</td>\n",
       "      <td>-8.435659</td>\n",
       "      <td>0.702340</td>\n",
       "      <td>-2.704662</td>\n",
       "      <td>-11.066032</td>\n",
       "      <td>1.391591</td>\n",
       "      <td>...</td>\n",
       "      <td>-2.896578</td>\n",
       "      <td>4.693271</td>\n",
       "      <td>0.308687</td>\n",
       "      <td>8.091104</td>\n",
       "      <td>0.271600</td>\n",
       "      <td>3.730724</td>\n",
       "      <td>14.582500</td>\n",
       "      <td>4.444334</td>\n",
       "      <td>14.589820</td>\n",
       "      <td>3</td>\n",
       "    </tr>\n",
       "    <tr>\n",
       "      <th>...</th>\n",
       "      <td>...</td>\n",
       "      <td>...</td>\n",
       "      <td>...</td>\n",
       "      <td>...</td>\n",
       "      <td>...</td>\n",
       "      <td>...</td>\n",
       "      <td>...</td>\n",
       "      <td>...</td>\n",
       "      <td>...</td>\n",
       "      <td>...</td>\n",
       "      <td>...</td>\n",
       "      <td>...</td>\n",
       "      <td>...</td>\n",
       "      <td>...</td>\n",
       "      <td>...</td>\n",
       "      <td>...</td>\n",
       "      <td>...</td>\n",
       "      <td>...</td>\n",
       "      <td>...</td>\n",
       "      <td>...</td>\n",
       "      <td>...</td>\n",
       "    </tr>\n",
       "    <tr>\n",
       "      <th>11087904</th>\n",
       "      <td>5414016</td>\n",
       "      <td>-6.610009</td>\n",
       "      <td>-7.223364</td>\n",
       "      <td>-12.266292</td>\n",
       "      <td>-3.573279</td>\n",
       "      <td>5.112036</td>\n",
       "      <td>-9.907949</td>\n",
       "      <td>0.888572</td>\n",
       "      <td>5.426938</td>\n",
       "      <td>-14.382585</td>\n",
       "      <td>...</td>\n",
       "      <td>7.871559</td>\n",
       "      <td>-10.398688</td>\n",
       "      <td>-4.957295</td>\n",
       "      <td>12.188210</td>\n",
       "      <td>-7.352980</td>\n",
       "      <td>-0.054107</td>\n",
       "      <td>15.214875</td>\n",
       "      <td>10.395098</td>\n",
       "      <td>10.530667</td>\n",
       "      <td>2</td>\n",
       "    </tr>\n",
       "    <tr>\n",
       "      <th>11087943</th>\n",
       "      <td>5414035</td>\n",
       "      <td>-3.476718</td>\n",
       "      <td>-4.419089</td>\n",
       "      <td>-3.866617</td>\n",
       "      <td>-0.360025</td>\n",
       "      <td>0.359701</td>\n",
       "      <td>-4.389467</td>\n",
       "      <td>-4.113535</td>\n",
       "      <td>3.939424</td>\n",
       "      <td>-7.776194</td>\n",
       "      <td>...</td>\n",
       "      <td>5.464191</td>\n",
       "      <td>-8.341524</td>\n",
       "      <td>1.469253</td>\n",
       "      <td>16.699818</td>\n",
       "      <td>-2.854111</td>\n",
       "      <td>3.744080</td>\n",
       "      <td>17.852783</td>\n",
       "      <td>9.625099</td>\n",
       "      <td>15.415713</td>\n",
       "      <td>2</td>\n",
       "    </tr>\n",
       "    <tr>\n",
       "      <th>11087990</th>\n",
       "      <td>5414058</td>\n",
       "      <td>0.326115</td>\n",
       "      <td>-0.565378</td>\n",
       "      <td>2.968954</td>\n",
       "      <td>0.685646</td>\n",
       "      <td>0.182901</td>\n",
       "      <td>4.178503</td>\n",
       "      <td>5.758841</td>\n",
       "      <td>7.094522</td>\n",
       "      <td>0.665302</td>\n",
       "      <td>...</td>\n",
       "      <td>3.404079</td>\n",
       "      <td>-6.659790</td>\n",
       "      <td>-3.184608</td>\n",
       "      <td>2.831799</td>\n",
       "      <td>2.421298</td>\n",
       "      <td>1.140580</td>\n",
       "      <td>4.311066</td>\n",
       "      <td>0.509049</td>\n",
       "      <td>1.266607</td>\n",
       "      <td>2</td>\n",
       "    </tr>\n",
       "    <tr>\n",
       "      <th>11087996</th>\n",
       "      <td>5414061</td>\n",
       "      <td>-1.102225</td>\n",
       "      <td>-1.389770</td>\n",
       "      <td>0.725688</td>\n",
       "      <td>-0.385604</td>\n",
       "      <td>-13.361439</td>\n",
       "      <td>3.834272</td>\n",
       "      <td>7.490092</td>\n",
       "      <td>2.815547</td>\n",
       "      <td>-0.249259</td>\n",
       "      <td>...</td>\n",
       "      <td>1.739644</td>\n",
       "      <td>-2.535020</td>\n",
       "      <td>-2.792989</td>\n",
       "      <td>5.255863</td>\n",
       "      <td>0.226473</td>\n",
       "      <td>-0.465584</td>\n",
       "      <td>-8.051359</td>\n",
       "      <td>-7.096376</td>\n",
       "      <td>-4.957862</td>\n",
       "      <td>2</td>\n",
       "    </tr>\n",
       "    <tr>\n",
       "      <th>11088301</th>\n",
       "      <td>5414209</td>\n",
       "      <td>-4.581624</td>\n",
       "      <td>-4.465291</td>\n",
       "      <td>0.827918</td>\n",
       "      <td>0.454538</td>\n",
       "      <td>9.240126</td>\n",
       "      <td>-4.762224</td>\n",
       "      <td>-6.819982</td>\n",
       "      <td>-2.016436</td>\n",
       "      <td>-8.178885</td>\n",
       "      <td>...</td>\n",
       "      <td>-3.805844</td>\n",
       "      <td>-4.571185</td>\n",
       "      <td>-0.892862</td>\n",
       "      <td>-0.846464</td>\n",
       "      <td>-1.988600</td>\n",
       "      <td>0.093823</td>\n",
       "      <td>10.042666</td>\n",
       "      <td>5.829481</td>\n",
       "      <td>10.138336</td>\n",
       "      <td>2</td>\n",
       "    </tr>\n",
       "  </tbody>\n",
       "</table>\n",
       "<p>52650 rows × 21 columns</p>\n",
       "</div>"
      ],
      "text/plain": [
       "             time        Fp1        Fp2         F7         T3         T5  \\\n",
       "290           142 -12.305924 -14.524019 -12.033823 -10.463505 -18.698639   \n",
       "835           408   2.043821   0.677582   4.069639   0.183605  -1.415403   \n",
       "951           464  -1.345173  -3.076103  -1.363036  -5.552776 -14.956915   \n",
       "1077          526  -1.204437  -1.127121   4.215368  -0.593124  -5.474500   \n",
       "1079          527   1.416702   1.575619  11.799867   0.300454  -8.435659   \n",
       "...           ...        ...        ...        ...        ...        ...   \n",
       "11087904  5414016  -6.610009  -7.223364 -12.266292  -3.573279   5.112036   \n",
       "11087943  5414035  -3.476718  -4.419089  -3.866617  -0.360025   0.359701   \n",
       "11087990  5414058   0.326115  -0.565378   2.968954   0.685646   0.182901   \n",
       "11087996  5414061  -1.102225  -1.389770   0.725688  -0.385604 -13.361439   \n",
       "11088301  5414209  -4.581624  -4.465291   0.827918   0.454538   9.240126   \n",
       "\n",
       "                 F3         C3         P3         Fz  ...         Pz  \\\n",
       "290      -21.039619 -17.012308  -9.173825 -20.733271  ... -10.324389   \n",
       "835        0.921270   0.454749  -2.289015   0.769230  ...   4.335721   \n",
       "951       -8.253411  -7.443714  -7.266998  -3.748096  ...  -4.303961   \n",
       "1077       1.049892  -7.793763 -11.830889   0.610142  ...  -9.682485   \n",
       "1079       0.702340  -2.704662 -11.066032   1.391591  ...  -2.896578   \n",
       "...             ...        ...        ...        ...  ...        ...   \n",
       "11087904  -9.907949   0.888572   5.426938 -14.382585  ...   7.871559   \n",
       "11087943  -4.389467  -4.113535   3.939424  -7.776194  ...   5.464191   \n",
       "11087990   4.178503   5.758841   7.094522   0.665302  ...   3.404079   \n",
       "11087996   3.834272   7.490092   2.815547  -0.249259  ...   1.739644   \n",
       "11088301  -4.762224  -6.819982  -2.016436  -8.178885  ...  -3.805844   \n",
       "\n",
       "                 F4         C4         P4        F8         T4         T6  \\\n",
       "290      -21.066496 -10.429639 -12.290789 -7.048176 -13.812033 -30.080774   \n",
       "835       -3.216433   1.440984  13.561232  0.889752   2.896240  12.884544   \n",
       "951       -3.743513  -4.067729  -0.489298 -3.749812  -2.437128   4.650862   \n",
       "1077       2.152258  -5.578439  -0.699790 -1.290700  -1.334474   0.059585   \n",
       "1079       4.693271   0.308687   8.091104  0.271600   3.730724  14.582500   \n",
       "...             ...        ...        ...       ...        ...        ...   \n",
       "11087904 -10.398688  -4.957295  12.188210 -7.352980  -0.054107  15.214875   \n",
       "11087943  -8.341524   1.469253  16.699818 -2.854111   3.744080  17.852783   \n",
       "11087990  -6.659790  -3.184608   2.831799  2.421298   1.140580   4.311066   \n",
       "11087996  -2.535020  -2.792989   5.255863  0.226473  -0.465584  -8.051359   \n",
       "11088301  -4.571185  -0.892862  -0.846464 -1.988600   0.093823  10.042666   \n",
       "\n",
       "                 O1         O2  cluster  \n",
       "290       -9.132559 -24.478706        3  \n",
       "835        4.252829  15.347451        3  \n",
       "951       -2.279960   7.630559        3  \n",
       "1077       0.868291   0.214049        3  \n",
       "1079       4.444334  14.589820        3  \n",
       "...             ...        ...      ...  \n",
       "11087904  10.395098  10.530667        2  \n",
       "11087943   9.625099  15.415713        2  \n",
       "11087990   0.509049   1.266607        2  \n",
       "11087996  -7.096376  -4.957862        2  \n",
       "11088301   5.829481  10.138336        2  \n",
       "\n",
       "[52650 rows x 21 columns]"
      ]
     },
     "execution_count": 23,
     "metadata": {},
     "output_type": "execute_result"
    }
   ],
   "source": [
    "df_result"
   ]
  },
  {
   "cell_type": "markdown",
   "id": "c1c62772",
   "metadata": {},
   "source": [
    "### Visualize output"
   ]
  },
  {
   "cell_type": "markdown",
   "id": "4ddfc7dc",
   "metadata": {},
   "source": [
    "#### Visualize the average voltage for each cluster"
   ]
  },
  {
   "cell_type": "code",
   "execution_count": 24,
   "id": "2592f9fe",
   "metadata": {},
   "outputs": [],
   "source": [
    "cluster_0 = df_result[df_result['cluster'] == 0]\n",
    "cluster_1 = df_result[df_result['cluster'] == 1]\n",
    "cluster_2 = df_result[df_result['cluster'] == 2]\n",
    "cluster_3 = df_result[df_result['cluster'] == 3]"
   ]
  },
  {
   "cell_type": "code",
   "execution_count": 41,
   "id": "577642fe",
   "metadata": {},
   "outputs": [
    {
     "data": {
      "text/plain": [
       "<matplotlib.image.AxesImage at 0x2a48af823a0>"
      ]
     },
     "execution_count": 41,
     "metadata": {},
     "output_type": "execute_result"
    },
    {
     "data": {
      "image/png": "[encoded data removed]",
      "text/plain": [
       "<Figure size 432x288 with 2 Axes>"
      ]
     },
     "metadata": {
      "needs_background": "light"
     },
     "output_type": "display_data"
    }
   ],
   "source": [
    "topomap_2d.plot_topomap_2d(epoch, cluster_0.iloc[:, 1:20].mean().values*1e-6, mark=\"channel_name\",  cmin=-1, cmax=1)"
   ]
  },
  {
   "cell_type": "code",
   "execution_count": 38,
   "id": "8de9a068",
   "metadata": {},
   "outputs": [
    {
     "data": {
      "text/plain": [
       "<matplotlib.image.AxesImage at 0x2a48adbf100>"
      ]
     },
     "execution_count": 38,
     "metadata": {},
     "output_type": "execute_result"
    },
    {
     "data": {
      "image/png": "[encoded data removed]",
      "text/plain": [
       "<Figure size 432x288 with 2 Axes>"
      ]
     },
     "metadata": {
      "needs_background": "light"
     },
     "output_type": "display_data"
    }
   ],
   "source": [
    "topomap_2d.plot_topomap_2d(epoch, cluster_1.iloc[:, 1:20].mean().values*1e-6, mark=\"channel_name\", cmin=-0.5, cmax=0.5)"
   ]
  },
  {
   "cell_type": "code",
   "execution_count": 40,
   "id": "5df34b79",
   "metadata": {},
   "outputs": [
    {
     "data": {
      "text/plain": [
       "<matplotlib.image.AxesImage at 0x2a48aec6e20>"
      ]
     },
     "execution_count": 40,
     "metadata": {},
     "output_type": "execute_result"
    },
    {
     "data": {
      "image/png": "[encoded data removed]",
      "text/plain": [
       "<Figure size 432x288 with 2 Axes>"
      ]
     },
     "metadata": {
      "needs_background": "light"
     },
     "output_type": "display_data"
    }
   ],
   "source": [
    "topomap_2d.plot_topomap_2d(epoch, cluster_2.iloc[:, 1:20].mean().values*1e-6, mark=\"channel_name\",  cmin=-1, cmax=1)"
   ]
  },
  {
   "cell_type": "code",
   "execution_count": 32,
   "id": "f802ea6a",
   "metadata": {},
   "outputs": [
    {
     "data": {
      "text/plain": [
       "<matplotlib.image.AxesImage at 0x2a475d8aa90>"
      ]
     },
     "execution_count": 32,
     "metadata": {},
     "output_type": "execute_result"
    },
    {
     "data": {
      "image/png": "[encoded data removed]",
      "text/plain": [
       "<Figure size 432x288 with 2 Axes>"
      ]
     },
     "metadata": {
      "needs_background": "light"
     },
     "output_type": "display_data"
    }
   ],
   "source": [
    "topomap_2d.plot_topomap_2d(epoch, cluster_3.iloc[:, 1:20].mean().values*1e-6, mark=\"channel_name\", cmin=-0.5, cmax=0.5)"
   ]
  },
  {
   "cell_type": "markdown",
   "id": "61cc5faa",
   "metadata": {},
   "source": [
    "#### Visualize in an animated way"
   ]
  },
  {
   "cell_type": "code",
   "execution_count": 42,
   "id": "21892750",
   "metadata": {},
   "outputs": [],
   "source": [
    "cluster_array = np.array(df_result.cluster)\n",
    "change_index = np.where(cluster_array[:-1] != cluster_array[1:])[0]"
   ]
  },
  {
   "cell_type": "code",
   "execution_count": 43,
   "id": "16ca86a2",
   "metadata": {},
   "outputs": [],
   "source": [
    "first_batch = df_result.iloc[:change_index[0]+1]"
   ]
  },
  {
   "cell_type": "code",
   "execution_count": 44,
   "id": "d101aa2b",
   "metadata": {},
   "outputs": [],
   "source": [
    "try_batch = first_batch.iloc[:5]"
   ]
  },
  {
   "cell_type": "code",
   "execution_count": 57,
   "id": "64d31102",
   "metadata": {},
   "outputs": [
    {
     "data": {
      "text/plain": [
       "(19, 5)"
      ]
     },
     "execution_count": 57,
     "metadata": {},
     "output_type": "execute_result"
    }
   ],
   "source": [
    "try_batch.iloc[:, 1:20].to_numpy().T.shape"
   ]
  },
  {
   "cell_type": "code",
   "execution_count": 58,
   "id": "a6ba47a4",
   "metadata": {},
   "outputs": [
    {
     "ename": "ValueError",
     "evalue": "Passed plotting_data object contains more than a single row. \n                Please pass a numpy.ndarray of a single set of voltage readings for each node used in the data.\n                For example, if your data has 19 channels, then the shape should be (19,)",
     "output_type": "error",
     "traceback": [
      "\u001b[1;31m---------------------------------------------------------------------------\u001b[0m",
      "\u001b[1;31mValueError\u001b[0m                                Traceback (most recent call last)",
      "\u001b[1;32m<ipython-input-58-c17b66a4478e>\u001b[0m in \u001b[0;36m<module>\u001b[1;34m\u001b[0m\n\u001b[1;32m----> 1\u001b[1;33m \u001b[0mtopomap_2d\u001b[0m\u001b[1;33m.\u001b[0m\u001b[0mplot_topomap_2d\u001b[0m\u001b[1;33m(\u001b[0m\u001b[0mepoch\u001b[0m\u001b[1;33m,\u001b[0m \u001b[0mtry_batch\u001b[0m\u001b[1;33m.\u001b[0m\u001b[0miloc\u001b[0m\u001b[1;33m[\u001b[0m\u001b[1;33m:\u001b[0m\u001b[1;33m,\u001b[0m \u001b[1;36m1\u001b[0m\u001b[1;33m:\u001b[0m\u001b[1;36m20\u001b[0m\u001b[1;33m]\u001b[0m\u001b[1;33m.\u001b[0m\u001b[0mto_numpy\u001b[0m\u001b[1;33m(\u001b[0m\u001b[1;33m)\u001b[0m\u001b[1;33m.\u001b[0m\u001b[0mT\u001b[0m\u001b[1;33m)\u001b[0m\u001b[1;33m\u001b[0m\u001b[1;33m\u001b[0m\u001b[0m\n\u001b[0m",
      "\u001b[1;32mc:\\users\\yiki\\documents\\ubc\\mds\\homework\\capstone\\simpl_eeg_capstone\\simpl_eeg\\topomap_2d.py\u001b[0m in \u001b[0;36mplot_topomap_2d\u001b[1;34m(epoch, plotting_data, recording_number, colormap, colorbar, cmin, cmax, mark, timestamp, **kwargs)\u001b[0m\n\u001b[0;32m    135\u001b[0m             )\n\u001b[0;32m    136\u001b[0m         \u001b[1;32mif\u001b[0m \u001b[0mlen\u001b[0m\u001b[1;33m(\u001b[0m\u001b[0mplotting_data\u001b[0m\u001b[1;33m.\u001b[0m\u001b[0mshape\u001b[0m\u001b[1;33m)\u001b[0m \u001b[1;33m>\u001b[0m \u001b[1;36m1\u001b[0m\u001b[1;33m:\u001b[0m\u001b[1;33m\u001b[0m\u001b[1;33m\u001b[0m\u001b[0m\n\u001b[1;32m--> 137\u001b[1;33m             raise ValueError(\n\u001b[0m\u001b[0;32m    138\u001b[0m                 \"\"\"Passed plotting_data object contains more than a single row. \n\u001b[0;32m    139\u001b[0m                 \u001b[0mPlease\u001b[0m \u001b[1;32mpass\u001b[0m \u001b[0ma\u001b[0m \u001b[0mnumpy\u001b[0m\u001b[1;33m.\u001b[0m\u001b[0mndarray\u001b[0m \u001b[0mof\u001b[0m \u001b[0ma\u001b[0m \u001b[0msingle\u001b[0m \u001b[0mset\u001b[0m \u001b[0mof\u001b[0m \u001b[0mvoltage\u001b[0m \u001b[0mreadings\u001b[0m \u001b[1;32mfor\u001b[0m \u001b[0meach\u001b[0m \u001b[0mnode\u001b[0m \u001b[0mused\u001b[0m \u001b[1;32min\u001b[0m \u001b[0mthe\u001b[0m \u001b[0mdata\u001b[0m\u001b[1;33m.\u001b[0m\u001b[1;33m\u001b[0m\u001b[1;33m\u001b[0m\u001b[0m\n",
      "\u001b[1;31mValueError\u001b[0m: Passed plotting_data object contains more than a single row. \n                Please pass a numpy.ndarray of a single set of voltage readings for each node used in the data.\n                For example, if your data has 19 channels, then the shape should be (19,)"
     ]
    }
   ],
   "source": [
    "topomap_2d.plot_topomap_2d(epoch, try_batch.iloc[:, 1:20].to_numpy().T)"
   ]
  },
  {
   "cell_type": "code",
   "execution_count": null,
   "id": "c285f363",
   "metadata": {},
   "outputs": [],
   "source": [
    "%%capture\n",
    "fig, ax = plt.subplots()\n",
    "def animate(frame_number):\n",
    "    fig.clear()\n",
    "#     ax.clear()\n",
    "    fig = topomap_2d.plot_topomap_2d(raw_full, try_batch.iloc[frame_number, 1:20], mark=\"channel_name\")\n",
    "#     plot_static=plt.plot(1,2)\n",
    "    return fig\n",
    "ani = animation.FuncAnimation(\n",
    "        fig,\n",
    "        animate,\n",
    "        frames=range(len(try_batch)),\n",
    "        blit=True\n",
    "    )"
   ]
  },
  {
   "cell_type": "code",
   "execution_count": null,
   "id": "10ef2f3d",
   "metadata": {},
   "outputs": [],
   "source": [
    "from IPython.core.display import HTML\n",
    "\n",
    "HTML(ani.to_jshtml())"
   ]
  },
  {
   "cell_type": "markdown",
   "id": "b2d14dc5",
   "metadata": {},
   "source": [
    "## Next Steps"
   ]
  },
  {
   "cell_type": "markdown",
   "id": "dfb1e29e",
   "metadata": {},
   "source": [
    "Due to the limited time and efforts that we could allocate to this task, there are other potential useful approaches to try for this task but haven't been implemented yet. \n",
    "\n",
    "- Data preprocessing: instead of sampling only 10 time stamps per second, increase the sampling rate so that it could capture more dynmaics from each second to provide a more accurate resutl.\n",
    "\n",
    "- Feature engineering: instead of only using the raw voltage data for model input, include some engineered features that could provide a better representation of the temporal dependencies of the data such as the following:\n",
    "    - apply rolling mean for each 5 second data chunks rather than simply taking the mean of each 5 second data chunks\n",
    "    - use the sliding window approach to slide the per 5 second data \n",
    "\n",
    "\n",
    "- Literature review: read through more literature articles to define a better metric to evaluate the model\n",
    "\n",
    "- Hyperparameter tuning: currently, there isn't a better way to find the optimal `# of cluster` in the model other than finish fitting the model and visualizing the output to check. Use the metric that we could locate from the previous objective to tune the hyperparameter."
   ]
  },
  {
   "cell_type": "markdown",
   "id": "bc46ed87",
   "metadata": {},
   "source": [
    "## Attribution"
   ]
  },
  {
   "cell_type": "markdown",
   "id": "e491d223",
   "metadata": {},
   "source": [
    "- Speech and Language Processing. Daniel Jurafsky & James H. Martin. Copyright © 2020. All\n",
    "rights reserved. Draft of December 30, 2020.\n"
   ]
  },
  {
   "cell_type": "code",
   "execution_count": null,
   "id": "90986cc9",
   "metadata": {},
   "outputs": [],
   "source": []
  }
 ],
 "metadata": {
  "kernelspec": {
   "display_name": "Python [conda env:capstone]",
   "language": "python",
   "name": "conda-env-capstone-py"
  },
  "language_info": {
   "codemirror_mode": {
    "name": "ipython",
    "version": 3
   },
   "file_extension": ".py",
   "mimetype": "text/x-python",
   "name": "python",
   "nbconvert_exporter": "python",
   "pygments_lexer": "ipython3",
   "version": "3.9.4"
  }
 },
 "nbformat": 4,
 "nbformat_minor": 5
}
