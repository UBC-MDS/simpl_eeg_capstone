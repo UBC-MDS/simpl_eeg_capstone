{
 "cells": [
  {
   "cell_type": "markdown",
   "id": "10357b3c",
   "metadata": {},
   "source": [
    "# Clustering using Hidden Markov Model "
   ]
  },
  {
   "cell_type": "markdown",
   "id": "a3eeaceb",
   "metadata": {},
   "source": [
    "### Import packages"
   ]
  },
  {
   "cell_type": "code",
   "execution_count": null,
   "id": "3e7542a1",
   "metadata": {},
   "outputs": [],
   "source": [
    "import mne\n",
    "import numpy as np\n",
    "import pandas as pd\n",
    "import seaborn as sns\n",
    "from hmmlearn import hmm\n",
    "from simpl_eeg import (\n",
    "    connectivity,\n",
    "    eeg_objects,\n",
    "    raw_voltage,\n",
    "    topomap_2d,\n",
    "    topomap_3d_brain,\n",
    "    topomap_3d_head,\n",
    ")"
   ]
  },
  {
   "cell_type": "code",
   "execution_count": null,
   "id": "39f33147",
   "metadata": {},
   "outputs": [],
   "source": [
    "%matplotlib inline"
   ]
  },
  {
   "cell_type": "markdown",
   "id": "155e8d42",
   "metadata": {},
   "source": [
    "### Plotting function"
   ]
  },
  {
   "cell_type": "code",
   "execution_count": null,
   "id": "4f7779e4",
   "metadata": {},
   "outputs": [],
   "source": [
    "# Adapted from MDS 563 lecture 2\n",
    "import matplotlib.pyplot as plt\n",
    "from sklearn.decomposition import PCA\n",
    "\n",
    "\n",
    "def plot_pca_clusters(data, labels):\n",
    "    \"\"\"\n",
    "    Carries out dimensionality reduction on the data for visualization\n",
    "    \"\"\"\n",
    "    pca = PCA(n_components=2)\n",
    "    principal_comp = pca.fit_transform(data)\n",
    "    pca_df = pd.DataFrame(\n",
    "        data=principal_comp, columns=[\"pca1\", \"pca2\"], index=data.index\n",
    "    )\n",
    "    pca_df[\"cluster\"] = labels\n",
    "    plt.figure(figsize=(6, 4))\n",
    "    ax = sns.scatterplot(\n",
    "        x=\"pca1\", y=\"pca2\", hue=\"cluster\", data=pca_df, palette=\"tab10\"\n",
    "    )\n",
    "    plt.show()"
   ]
  },
  {
   "cell_type": "markdown",
   "id": "159e9429",
   "metadata": {},
   "source": [
    "### Read in the data"
   ]
  },
  {
   "cell_type": "code",
   "execution_count": null,
   "id": "6bcd6bfd",
   "metadata": {},
   "outputs": [],
   "source": [
    "raw_full = mne.io.read_raw_eeglab(\"../../data/927/fixica.set\")"
   ]
  },
  {
   "cell_type": "code",
   "execution_count": null,
   "id": "1ab10463",
   "metadata": {},
   "outputs": [],
   "source": [
    "entire_df = raw_full.to_data_frame()"
   ]
  },
  {
   "cell_type": "code",
   "execution_count": null,
   "id": "6a31dcc0",
   "metadata": {},
   "outputs": [],
   "source": [
    "channel_names=raw_full.ch_names"
   ]
  },
  {
   "cell_type": "markdown",
   "id": "ba1adb6c",
   "metadata": {},
   "source": [
    "### Data preprocessing"
   ]
  },
  {
   "cell_type": "code",
   "execution_count": null,
   "id": "26f53bfa",
   "metadata": {},
   "outputs": [],
   "source": [
    "# to get average chunked data\n",
    "\n",
    "cleaned_df = entire_df.loc[(entire_df[channel_names] != 0).all(axis=1)] # drop rows where all values are zero\n",
    "\n",
    "df_no_outliers = cleaned_df.loc[((cleaned_df[channel_names] <=50) & (cleaned_df[channel_names] >= -50)).all(axis=1)].groupby(\"time\").mean().reset_index()\n",
    "\n",
    "sliced_col = int((len(df_no_outliers))/(2048*5))\n",
    "\n",
    "avg_chunked_list = []\n",
    "for i in range(sliced_col):\n",
    "    avg_sliced_array = (\n",
    "        df_no_outliers.iloc[i * 10240 : i * 10240 + 10240, 1:].mean().to_numpy()\n",
    "    )  # separate the data into chunks of per 5 seconds and get the average\n",
    "    avg_chunked_list.append(avg_sliced_array)\n",
    "avg_chunked_array = np.array(avg_chunked_list)"
   ]
  },
  {
   "cell_type": "code",
   "execution_count": null,
   "id": "25ddf5fe",
   "metadata": {},
   "outputs": [],
   "source": [
    "# round(df_no_outliers.describe(), 3)"
   ]
  },
  {
   "cell_type": "code",
   "execution_count": null,
   "id": "d44018d8",
   "metadata": {},
   "outputs": [],
   "source": [
    "# to get chunk data, not used since file is too large and the operation runs out of memory\n",
    "\n",
    "# avg_df = entire_df.groupby(\"time\").mean().reset_index()\n",
    "# entire_list = []\n",
    "# for i in range(541):\n",
    "#     sliced_array = avg_df.iloc[i*10000:i*10000+10000, 1:].to_numpy().reshape(-1)\n",
    "#     entire_list.append(sliced_array)\n",
    "# entire_array_chunk = np.array(entire_list)\n",
    "\n",
    "# entire_array_chunk=np.float32(entire_array_chunk)"
   ]
  },
  {
   "cell_type": "markdown",
   "id": "553472df",
   "metadata": {},
   "source": [
    "## Remove outliers"
   ]
  },
  {
   "cell_type": "code",
   "execution_count": null,
   "id": "9f52b5a2",
   "metadata": {},
   "outputs": [],
   "source": [
    "centered_model = hmm.GaussianHMM(n_components=4)"
   ]
  },
  {
   "cell_type": "code",
   "execution_count": null,
   "id": "f74b85cd",
   "metadata": {},
   "outputs": [],
   "source": [
    "centered_model.fit(avg_chunked_array)"
   ]
  },
  {
   "cell_type": "code",
   "execution_count": null,
   "id": "b8e4db8f",
   "metadata": {},
   "outputs": [],
   "source": [
    "centered_result = centered_model.decode(avg_chunked_array, algorithm=\"viterbi\")"
   ]
  },
  {
   "cell_type": "code",
   "execution_count": null,
   "id": "b5fa417a",
   "metadata": {},
   "outputs": [],
   "source": [
    "result_on_outlier = df_no_outliers.copy()\n",
    "for index, labels in enumerate(centered_result[1]):\n",
    "    result_on_outlier.loc[index * 10240 : index * 10240 + 10240, \"cluster\"] = labels"
   ]
  },
  {
   "cell_type": "code",
   "execution_count": null,
   "id": "1d24bdfc",
   "metadata": {},
   "outputs": [],
   "source": [
    "result_df_outlier=result_on_outlier.dropna()"
   ]
  },
  {
   "cell_type": "code",
   "execution_count": null,
   "id": "40b89fa4",
   "metadata": {},
   "outputs": [],
   "source": [
    "pca_no_outlier=plot_pca_clusters(result_df_outlier.iloc[:, 1:20], result_df_outlier.cluster)"
   ]
  },
  {
   "cell_type": "code",
   "execution_count": null,
   "id": "1a2d253a",
   "metadata": {},
   "outputs": [],
   "source": [
    "df_sub_no_outlier = {}\n",
    "for i in range(19):\n",
    "    df_sub_no_outlier[i] = result_df_outlier[result_df_outlier['cluster'] == i].iloc[:, 1:20]"
   ]
  },
  {
   "cell_type": "code",
   "execution_count": null,
   "id": "eb42f27d",
   "metadata": {},
   "outputs": [],
   "source": [
    "fig_no_outlier, axes_no_outlier = plt.subplots(nrows=4, ncols=1, figsize=(90, 90))\n",
    "fig_no_outlier.suptitle('4 Clusters with no outliers')\n",
    "\n",
    "for i, ax in enumerate(axes_no_outlier.flatten()):\n",
    "    sns.violinplot(x=\"node\", y=\"eeg\", data=df_sub_no_outlier[i].melt(var_name=\"node\", value_name=\"eeg\"), ax=ax)\n",
    "\n",
    "fig_no_outlier.show()"
   ]
  },
  {
   "cell_type": "markdown",
   "id": "e065ae23",
   "metadata": {},
   "source": [
    "### Hyperparameter tuning"
   ]
  },
  {
   "cell_type": "code",
   "execution_count": null,
   "id": "12d5703b",
   "metadata": {},
   "outputs": [],
   "source": [
    "tune_comp = {}\n",
    "model_list = []\n",
    "for n_comp in range(5, 21, 1):\n",
    "    model = hmm.GaussianHMM(n_components=n_comp)\n",
    "    model_list.append(model)\n",
    "    model.fit(avg_chunked_array)\n",
    "    result = model.decode(avg_chunked_array, algorithm=\"viterbi\")\n",
    "    tune_comp[n_comp] = result[0]"
   ]
  },
  {
   "cell_type": "code",
   "execution_count": null,
   "id": "ab7bb1f8",
   "metadata": {},
   "outputs": [],
   "source": [
    "maximum = max(tune_comp, key=tune_comp.get)\n",
    "print(\n",
    "    f\"The best # of cluster is {maximum}, with log probability of {tune_comp[maximum]}\"\n",
    ")"
   ]
  },
  {
   "cell_type": "markdown",
   "id": "4f7619ba",
   "metadata": {},
   "source": [
    "### Model fitting"
   ]
  },
  {
   "cell_type": "code",
   "execution_count": null,
   "id": "63a50948",
   "metadata": {},
   "outputs": [],
   "source": [
    "model19 = model_list[14]\n",
    "model19"
   ]
  },
  {
   "cell_type": "code",
   "execution_count": null,
   "id": "598ce84a",
   "metadata": {},
   "outputs": [],
   "source": [
    "result19 = model19.decode(avg_chunked_array, algorithm=\"viterbi\")"
   ]
  },
  {
   "cell_type": "code",
   "execution_count": null,
   "id": "3f0abe8c",
   "metadata": {},
   "outputs": [],
   "source": [
    "result_df19 = sliced_df.copy()\n",
    "for index, labels in enumerate(result19[1]):\n",
    "    result_df19.loc[index * 10000 : index * 10000 + 10000, \"cluster\"] = labels"
   ]
  },
  {
   "cell_type": "code",
   "execution_count": null,
   "id": "dee49db9",
   "metadata": {},
   "outputs": [],
   "source": [
    "model20 = model_list[-1]\n",
    "model20"
   ]
  },
  {
   "cell_type": "code",
   "execution_count": null,
   "id": "74762389",
   "metadata": {},
   "outputs": [],
   "source": [
    "result20 = model20.decode(avg_chunked_array, algorithm=\"viterbi\")"
   ]
  },
  {
   "cell_type": "code",
   "execution_count": null,
   "id": "9d2af244",
   "metadata": {},
   "outputs": [],
   "source": [
    "result_df20 = sliced_df.copy()\n",
    "for index, labels in enumerate(result20[1]):\n",
    "    result_df20.loc[index * 10000 : index * 10000 + 10000, \"cluster\"] = labels"
   ]
  },
  {
   "cell_type": "markdown",
   "id": "bd016a4b",
   "metadata": {},
   "source": [
    "### PCA "
   ]
  },
  {
   "cell_type": "code",
   "execution_count": null,
   "id": "49921783",
   "metadata": {},
   "outputs": [],
   "source": [
    "pca19=plot_pca_clusters(result_df19.iloc[:, 1:20], result_df19.cluster)\n",
    "pca20=plot_pca_clusters(result_df20.iloc[:, 1:20], result_df20.cluster)"
   ]
  },
  {
   "cell_type": "markdown",
   "id": "265f2164",
   "metadata": {},
   "source": [
    "### Correlation"
   ]
  },
  {
   "cell_type": "code",
   "execution_count": null,
   "id": "fc1cd3b8",
   "metadata": {},
   "outputs": [],
   "source": [
    "df_corr19 = {}\n",
    "for i in range(19):\n",
    "    df_corr19[i] = result_df19[result_df19['cluster'] == i].iloc[:, 1:20].corr()"
   ]
  },
  {
   "cell_type": "code",
   "execution_count": null,
   "id": "fdfff1e0",
   "metadata": {},
   "outputs": [],
   "source": [
    "df_corr20 = {}\n",
    "for i in range(20):\n",
    "    df_corr20[i] = result_df20[result_df20['cluster'] == i].iloc[:, 1:20].corr()"
   ]
  },
  {
   "cell_type": "code",
   "execution_count": null,
   "id": "5b44d977",
   "metadata": {},
   "outputs": [],
   "source": [
    "# Set figsize here\n",
    "fig, axes = plt.subplots(nrows=7, ncols=3, figsize=(30, 30))\n",
    "\n",
    "for i, ax in enumerate(axes.flatten()[:19]):\n",
    "    sns.heatmap(df_corr19[i], ax=ax)\n",
    "\n",
    "fig.show()"
   ]
  },
  {
   "cell_type": "code",
   "execution_count": null,
   "id": "b374e4a9",
   "metadata": {},
   "outputs": [],
   "source": [
    "fig1, axes1 = plt.subplots(nrows=7, ncols=3, figsize=(30, 30))\n",
    "fig1.suptitle('20 Clusters')\n",
    "\n",
    "for i, ax in enumerate(axes1.flatten()[:20]):\n",
    "    sns.heatmap(df_corr20[i], ax=ax)\n",
    "\n",
    "fig1.show()"
   ]
  },
  {
   "cell_type": "markdown",
   "id": "60ef6ef9",
   "metadata": {},
   "source": [
    "### Violin plot"
   ]
  },
  {
   "cell_type": "code",
   "execution_count": null,
   "id": "3538982b",
   "metadata": {},
   "outputs": [],
   "source": [
    "df_sub19 = {}\n",
    "for i in range(19):\n",
    "    df_sub19[i] = result_df19[result_df19['cluster'] == i].iloc[:, 1:20]"
   ]
  },
  {
   "cell_type": "code",
   "execution_count": null,
   "id": "0b7b90b2",
   "metadata": {},
   "outputs": [],
   "source": [
    "df_sub20 = {}\n",
    "for i in range(20):\n",
    "    df_sub20[i] = result_df20[result_df20['cluster'] == i].iloc[:, 1:20]"
   ]
  },
  {
   "cell_type": "code",
   "execution_count": null,
   "id": "3ae0c112",
   "metadata": {},
   "outputs": [],
   "source": [
    "%matplotlib inline"
   ]
  },
  {
   "cell_type": "code",
   "execution_count": null,
   "id": "4b52bcf7",
   "metadata": {},
   "outputs": [],
   "source": [
    "fig2, axes2 = plt.subplots(nrows=19, ncols=1, figsize=(90, 90))\n",
    "fig2.suptitle('19 Clusters')\n",
    "\n",
    "for i, ax in enumerate(axes2.flatten()[:19]):\n",
    "    sns.violinplot(x=\"node\", y=\"eeg\", data=df_sub19[i].melt(var_name=\"node\", value_name=\"eeg\"), ax=ax)\n",
    "\n",
    "fig2.show()"
   ]
  },
  {
   "cell_type": "code",
   "execution_count": null,
   "id": "d5289e0b",
   "metadata": {},
   "outputs": [],
   "source": [
    "fig3, axes3 = plt.subplots(nrows=20, ncols=1, figsize=(90, 90))\n",
    "fig3.suptitle('20 Clusters')\n",
    "\n",
    "for i, ax in enumerate(axes3.flatten()[:20]):\n",
    "    sns.violinplot(x=\"node\", y=\"eeg\", data=df_sub20[i].melt(var_name=\"node\", value_name=\"eeg\"), ax=ax)\n",
    "fig3.show()"
   ]
  },
  {
   "cell_type": "code",
   "execution_count": null,
   "id": "2cc5a409",
   "metadata": {},
   "outputs": [],
   "source": []
  },
  {
   "cell_type": "markdown",
   "id": "8db8d59c",
   "metadata": {},
   "source": [
    "## Try less clusters"
   ]
  },
  {
   "cell_type": "code",
   "execution_count": null,
   "id": "4ebf65e2",
   "metadata": {},
   "outputs": [],
   "source": [
    "model4 = hmm.GaussianHMM(n_components=4)\n",
    "model4.fit(avg_chunked_array)"
   ]
  },
  {
   "cell_type": "code",
   "execution_count": null,
   "id": "fcc0db32",
   "metadata": {},
   "outputs": [],
   "source": [
    "result4 = model4.decode(avg_chunked_array, algorithm=\"viterbi\")"
   ]
  },
  {
   "cell_type": "code",
   "execution_count": null,
   "id": "02dfc6b5",
   "metadata": {},
   "outputs": [],
   "source": [
    "result_df4 = sliced_df.copy()\n",
    "for index, labels in enumerate(result4[1]):\n",
    "    result_df4.loc[index * 10000 : index * 10000 + 10000, \"cluster\"] = labels"
   ]
  },
  {
   "cell_type": "code",
   "execution_count": null,
   "id": "3175caa7",
   "metadata": {},
   "outputs": [],
   "source": [
    "pca4=plot_pca_clusters(result_df4.iloc[:, 1:20], result_df4.cluster)\n",
    "pca4"
   ]
  },
  {
   "cell_type": "code",
   "execution_count": null,
   "id": "b3d15b16",
   "metadata": {},
   "outputs": [],
   "source": [
    "df_corr4 = {}\n",
    "for i in range(4):\n",
    "    df_corr4[i] = result_df4[result_df4['cluster'] == i].iloc[:, 1:20].corr()"
   ]
  },
  {
   "cell_type": "code",
   "execution_count": null,
   "id": "f2f0d847",
   "metadata": {},
   "outputs": [],
   "source": [
    "fig6, axes6 = plt.subplots(nrows=2, ncols=2, figsize=(20, 20))\n",
    "fig6.suptitle('4 Clusters')\n",
    "\n",
    "for i, ax in enumerate(axes6.flatten()):\n",
    "    sns.heatmap(df_corr4[i], ax=ax)\n",
    "\n",
    "fig6.show()"
   ]
  },
  {
   "cell_type": "code",
   "execution_count": null,
   "id": "f0aea9ec",
   "metadata": {},
   "outputs": [],
   "source": [
    "df_sub4 = {}\n",
    "for i in range(4):\n",
    "    df_sub4[i] = result_df4[result_df4['cluster'] == i].iloc[:, 1:20]"
   ]
  },
  {
   "cell_type": "code",
   "execution_count": null,
   "id": "063f3641",
   "metadata": {},
   "outputs": [],
   "source": [
    "fig7, axes7 = plt.subplots(nrows=4, ncols=1, figsize=(90, 90))\n",
    "fig7.suptitle('4 Clusters')\n",
    "\n",
    "for i, ax in enumerate(axes7.flatten()):\n",
    "    sns.violinplot(x=\"node\", y=\"eeg\", data=df_sub4[i].melt(var_name=\"node\", value_name=\"eeg\"), ax=ax)\n",
    "fig7.show()"
   ]
  },
  {
   "cell_type": "code",
   "execution_count": null,
   "id": "56af7c98",
   "metadata": {},
   "outputs": [],
   "source": [
    "model10 = hmm.GaussianHMM(n_components=10)"
   ]
  },
  {
   "cell_type": "code",
   "execution_count": null,
   "id": "55d94dbe",
   "metadata": {},
   "outputs": [],
   "source": [
    "model10.fit(avg_chunked_array)"
   ]
  },
  {
   "cell_type": "code",
   "execution_count": null,
   "id": "8b82de4f",
   "metadata": {},
   "outputs": [],
   "source": [
    "result10 = model10.decode(avg_chunked_array, algorithm=\"viterbi\")"
   ]
  },
  {
   "cell_type": "code",
   "execution_count": null,
   "id": "7013bc2f",
   "metadata": {},
   "outputs": [],
   "source": [
    "result_df10 = sliced_df.copy()\n",
    "for index, labels in enumerate(result10[1]):\n",
    "    result_df10.loc[index * 10000 : index * 10000 + 10000, \"cluster\"] = labels"
   ]
  },
  {
   "cell_type": "code",
   "execution_count": null,
   "id": "45cad8ca",
   "metadata": {},
   "outputs": [],
   "source": [
    "pca10=plot_pca_clusters(result_df10.iloc[:, 1:20], result_df10.cluster)\n",
    "pca10"
   ]
  },
  {
   "cell_type": "code",
   "execution_count": null,
   "id": "38e73e6e",
   "metadata": {},
   "outputs": [],
   "source": [
    "df_corr10 = {}\n",
    "for i in range(10):\n",
    "    df_corr10[i] = result_df10[result_df10['cluster'] == i].iloc[:, 1:20].corr()"
   ]
  },
  {
   "cell_type": "code",
   "execution_count": null,
   "id": "532c01ad",
   "metadata": {},
   "outputs": [],
   "source": [
    "fig4, axes4 = plt.subplots(nrows=4, ncols=3, figsize=(30, 30))\n",
    "fig4.suptitle('10 Clusters')\n",
    "\n",
    "for i, ax in enumerate(axes4.flatten()[:10]):\n",
    "    sns.heatmap(df_corr10[i], ax=ax)\n",
    "\n",
    "fig4.show()"
   ]
  },
  {
   "cell_type": "code",
   "execution_count": null,
   "id": "1616d793",
   "metadata": {},
   "outputs": [],
   "source": [
    "df_sub10 = {}\n",
    "for i in range(10):\n",
    "    df_sub10[i] = result_df10[result_df10['cluster'] == i].iloc[:, 1:20]"
   ]
  },
  {
   "cell_type": "code",
   "execution_count": null,
   "id": "5fa9758f",
   "metadata": {},
   "outputs": [],
   "source": [
    "fig5, axes5 = plt.subplots(nrows=10, ncols=1, figsize=(90, 90))\n",
    "fig5.suptitle('10 Clusters')\n",
    "\n",
    "for i, ax in enumerate(axes5.flatten()[:10]):\n",
    "    sns.violinplot(x=\"node\", y=\"eeg\", data=df_sub10[i].melt(var_name=\"node\", value_name=\"eeg\"), ax=ax)\n",
    "fig5.show()"
   ]
  },
  {
   "cell_type": "code",
   "execution_count": null,
   "id": "06b4daa2",
   "metadata": {},
   "outputs": [],
   "source": []
  }
 ],
 "metadata": {
  "kernelspec": {
   "display_name": "Python [conda env:capstone]",
   "language": "python",
   "name": "conda-env-capstone-py"
  },
  "language_info": {
   "codemirror_mode": {
    "name": "ipython",
    "version": 3
   },
   "file_extension": ".py",
   "mimetype": "text/x-python",
   "name": "python",
   "nbconvert_exporter": "python",
   "pygments_lexer": "ipython3",
   "version": "3.9.4"
  }
 },
 "nbformat": 4,
 "nbformat_minor": 5
}
