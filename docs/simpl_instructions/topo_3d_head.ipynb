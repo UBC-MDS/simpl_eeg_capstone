{
 "cells": [
  {
   "cell_type": "markdown",
   "id": "f3245bc7",
   "metadata": {},
   "source": [
    "# 3D Head Visualizations"
   ]
  },
  {
   "cell_type": "markdown",
   "id": "a9b97519",
   "metadata": {},
   "source": [
    "## 3D topographic head map\n",
    "\n",
    "The 3D topographic head map provides a view of voltage measurements as a heatmap imposed on a 3D skull shape. It can be generated as an [animation](#animation) to view changes over time or as a [standalone plot](#plot). "
   ]
  },
  {
   "cell_type": "markdown",
   "id": "62fcef9c",
   "metadata": {},
   "source": [
    "![](instruction_imgs/topo_3d_head_ani.gif)"
   ]
  },
  {
   "cell_type": "markdown",
   "id": "5276a02f",
   "metadata": {},
   "source": [
    "## General Setup\n",
    "### Import required modules"
   ]
  },
  {
   "cell_type": "code",
   "execution_count": null,
   "id": "d6a05c40",
   "metadata": {},
   "outputs": [],
   "source": [
    "from simpl_eeg import topomap_3d_head, eeg_objects"
   ]
  },
  {
   "cell_type": "code",
   "execution_count": null,
   "id": "c82362ee",
   "metadata": {},
   "outputs": [],
   "source": [
    "import warnings\n",
    "warnings.filterwarnings('ignore')"
   ]
  },
  {
   "cell_type": "markdown",
   "id": "348e7a9e",
   "metadata": {},
   "source": [
    "```{note}\n",
    "Please include the line below in your IDE so that the changes would be simultaneously reflected when you make a change to the python scripts.\n",
    "```"
   ]
  },
  {
   "cell_type": "code",
   "execution_count": null,
   "id": "381eb754",
   "metadata": {},
   "outputs": [],
   "source": [
    "%load_ext autoreload"
   ]
  },
  {
   "cell_type": "code",
   "execution_count": null,
   "id": "1ac9e954",
   "metadata": {},
   "outputs": [],
   "source": [
    "%autoreload 2"
   ]
  },
  {
   "cell_type": "markdown",
   "id": "fbf3c88a",
   "metadata": {},
   "source": [
    "### Create epoched data\n",
    "For additional options see [Creating EEG Objects](eeg_objects.html#intro) section."
   ]
  },
  {
   "cell_type": "code",
   "execution_count": null,
   "id": "c5494cd5",
   "metadata": {},
   "outputs": [],
   "source": [
    "experiment_folder = \"../../data/927\"\n",
    "nth_epoch = 0\n",
    "\n",
    "epochs = eeg_objects.Epochs(experiment_folder)\n",
    "epoch = epochs.get_nth_epoch(nth_epoch)"
   ]
  },
  {
   "cell_type": "markdown",
   "id": "6e4d8041",
   "metadata": {},
   "source": [
    "<a id=\"animation\"></a>\n",
    "## Create a 3D topographic animation"
   ]
  },
  {
   "cell_type": "markdown",
   "id": "b6cc0e55",
   "metadata": {},
   "source": [
    "### Define parameters"
   ]
  },
  {
   "cell_type": "markdown",
   "id": "2c5fd273",
   "metadata": {},
   "source": [
    "A detailed description of all parameters can be found in the `topomap_3d_head.animate_3d_head` docstring:"
   ]
  },
  {
   "cell_type": "code",
   "execution_count": null,
   "id": "cd55c8f4",
   "metadata": {},
   "outputs": [],
   "source": [
    "help(topomap_3d_head.animate_3d_head)"
   ]
  },
  {
   "cell_type": "code",
   "execution_count": null,
   "id": "2638bfb5",
   "metadata": {},
   "outputs": [],
   "source": [
    "color_min = -40\n",
    "color_max = 40\n",
    "colormap = \"RdBu_r\"\n",
    "time_stamp = -300"
   ]
  },
  {
   "cell_type": "markdown",
   "id": "dc33c082",
   "metadata": {},
   "source": [
    "### Generating the animation"
   ]
  },
  {
   "cell_type": "code",
   "execution_count": null,
   "id": "a0630a3c",
   "metadata": {},
   "outputs": [],
   "source": [
    "topo_3d_head = topomap_3d_head.animate_3d_head(\n",
    "    epoch,\n",
    "    color_title=\"EEG MicroVolt\",\n",
    "    color_min=color_min,\n",
    "    color_max=color_max,\n",
    "    colormap=colormap,\n",
    ")"
   ]
  },
  {
   "cell_type": "code",
   "execution_count": null,
   "id": "f3bb56f0",
   "metadata": {},
   "outputs": [],
   "source": [
    "topo_3d_head.show()"
   ]
  },
  {
   "cell_type": "markdown",
   "id": "3a45cf62",
   "metadata": {},
   "source": [
    "### Saving the animation"
   ]
  },
  {
   "cell_type": "markdown",
   "id": "e41fbbe1",
   "metadata": {},
   "source": [
    "#### Save as html"
   ]
  },
  {
   "cell_type": "markdown",
   "id": "c625c891",
   "metadata": {},
   "source": [
    "```python\n",
    "html_file_path = \"examples/topo_3d.html\"\n",
    "topo_3d_head.write_html(html_file_path)\n",
    "```"
   ]
  },
  {
   "cell_type": "markdown",
   "id": "000c1bb7",
   "metadata": {},
   "source": [
    "#### Save as gif"
   ]
  },
  {
   "cell_type": "markdown",
   "id": "5fa5fa52",
   "metadata": {},
   "source": [
    "```python\n",
    "topomap_3d_head.save_gif(epoch, gifname=\"topo_3d_head_ani\", duration=200)\n",
    "```"
   ]
  },
  {
   "cell_type": "markdown",
   "id": "c6b3cfa6",
   "metadata": {},
   "source": [
    "#### Save as mp4 "
   ]
  },
  {
   "cell_type": "markdown",
   "id": "adf02acc",
   "metadata": {},
   "source": [
    "```{note}\n",
    "You need to save the file as gif first and then convert it into mp4 file.\n",
    "```"
   ]
  },
  {
   "cell_type": "markdown",
   "id": "1fe75a4e",
   "metadata": {},
   "source": [
    "```python\n",
    "import moviepy.editor as mp\n",
    "\n",
    "clip = mp.VideoFileClip(\"topo_3d_head_ani.gif\")\n",
    "clip.write_videofile(\"examples/topo_3d_head_ani.mp4\")\n",
    "```"
   ]
  },
  {
   "cell_type": "markdown",
   "id": "612f4c69",
   "metadata": {},
   "source": [
    "<a id=\"plot\"></a>\n",
    "## Create a 3D topographic plot"
   ]
  },
  {
   "cell_type": "markdown",
   "id": "b49210a8",
   "metadata": {},
   "source": [
    "### Define parameters\n",
    "A detailed description of all animation parameters can be found in the `topomap_2d.topo_3d_map` docstring:"
   ]
  },
  {
   "cell_type": "code",
   "execution_count": null,
   "id": "d5a4252e",
   "metadata": {},
   "outputs": [],
   "source": [
    "help(topomap_3d_head.topo_3d_map)"
   ]
  },
  {
   "cell_type": "code",
   "execution_count": null,
   "id": "6a70690a",
   "metadata": {},
   "outputs": [],
   "source": [
    "color_min = -40\n",
    "color_max = 40\n",
    "colormap = \"RdBu_r\"\n",
    "time_stamp = -300"
   ]
  },
  {
   "cell_type": "markdown",
   "id": "c28b1f1a",
   "metadata": {},
   "source": [
    "### Generating a standalone plot"
   ]
  },
  {
   "cell_type": "code",
   "execution_count": null,
   "id": "148f30ad",
   "metadata": {},
   "outputs": [],
   "source": [
    "topo_3d__head_static = topomap_3d_head.topo_3d_map(\n",
    "    epoch,\n",
    "    time_stamp,\n",
    "    color_title=\"EEG MicroVolt\",\n",
    "    color_min=color_min,\n",
    "    color_max=color_max,\n",
    "    colormap=colormap,\n",
    ")"
   ]
  },
  {
   "cell_type": "code",
   "execution_count": null,
   "id": "58ec95cf",
   "metadata": {},
   "outputs": [],
   "source": [
    "topo_3d__head_static.show()"
   ]
  },
  {
   "cell_type": "markdown",
   "id": "612c0768",
   "metadata": {},
   "source": [
    "### Saving the plot\n",
    "You can change the plot to different formats by changing the format argument in the function. It supports 'png', 'pdf', 'svg'."
   ]
  },
  {
   "cell_type": "markdown",
   "id": "9c65e726",
   "metadata": {},
   "source": [
    "#### Save as svg\n",
    "```python\n",
    "static_file_path = \"examples/topo_3d_static.svg\"\n",
    "topo_3d__head_static.write_image(static_file_path, engine=\"kaleido\")\n",
    "```"
   ]
  },
  {
   "cell_type": "markdown",
   "id": "6eb8a4cf",
   "metadata": {},
   "source": [
    "#### Save as png\n",
    "```python\n",
    "static_file_path_png = \"examples/topo_3d_static.png\"\n",
    "\n",
    "# no need to specify engine if not saving as svg file\n",
    "topo_3d__head_static.write_image(static_file_path_png)\n",
    "```"
   ]
  }
 ],
 "metadata": {
  "kernelspec": {
   "display_name": "Python 3",
   "language": "python",
   "name": "python3"
  },
  "language_info": {
   "codemirror_mode": {
    "name": "ipython",
    "version": 3
   },
   "file_extension": ".py",
   "mimetype": "text/x-python",
   "name": "python",
   "nbconvert_exporter": "python",
   "pygments_lexer": "ipython3",
   "version": "3.8.5"
  },
  "widgets": {
   "application/vnd.jupyter.widget-state+json": {
    "state": {},
    "version_major": 2,
    "version_minor": 0
   }
  }
 },
 "nbformat": 4,
 "nbformat_minor": 5
}
