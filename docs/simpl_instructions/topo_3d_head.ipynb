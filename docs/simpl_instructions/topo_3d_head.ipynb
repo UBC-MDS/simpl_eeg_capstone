{
 "cells": [
  {
   "cell_type": "markdown",
   "id": "f1ad17d3",
   "metadata": {},
   "source": [
    "# 3D Head Visualizations"
   ]
  },
  {
   "cell_type": "markdown",
   "id": "8974e4d1",
   "metadata": {},
   "source": [
    "## 3D topographic head map\n",
    "\n",
    "The 3D topographic head map provides a view of voltage measurements as a heatmap imposed on a 3D skull shape. It can be generated as an [animation](#animation) to view changes over time or as a [standalone plot](#plot). "
   ]
  },
  {
   "cell_type": "markdown",
   "id": "fc2bad98",
   "metadata": {},
   "source": [
    "![](instruction_imgs/topo_3d_head_ani.gif)"
   ]
  },
  {
   "cell_type": "markdown",
   "id": "c85180d5",
   "metadata": {},
   "source": [
    "## General Setup\n",
    "### Import required modules"
   ]
  },
  {
   "cell_type": "code",
   "execution_count": null,
   "id": "c0bcc3ee",
   "metadata": {},
   "outputs": [],
   "source": [
    "from simpl_eeg import topomap_3d_head, eeg_objects"
   ]
  },
  {
   "cell_type": "markdown",
   "id": "c1877a58",
   "metadata": {},
   "source": [
    "### Create epoched data\n",
    "For additional options see [Creating EEG Objects](eeg_objects.html#intro) section."
   ]
  },
  {
   "cell_type": "code",
   "execution_count": null,
   "id": "3ffa904e",
   "metadata": {},
   "outputs": [],
   "source": [
    "experiment_folder = \"../../data/927\"\n",
    "nth_epoch = 0\n",
    "\n",
    "epochs = eeg_objects.Epochs(experiment_folder)\n",
    "epoch = epochs.get_epoch(nth_epoch)"
   ]
  },
  {
   "cell_type": "markdown",
   "id": "6314f858",
   "metadata": {},
   "source": [
    "<a id=\"animation\"></a>\n",
    "## Create a 3D topographic animation"
   ]
  },
  {
   "cell_type": "markdown",
   "id": "f1b90e0d",
   "metadata": {},
   "source": [
    "### Define parameters"
   ]
  },
  {
   "cell_type": "markdown",
   "id": "5aeeeda4",
   "metadata": {},
   "source": [
    "A detailed description of all parameters can be found in the `topomap_3d_head.animate_3d_head` docstring:"
   ]
  },
  {
   "cell_type": "code",
   "execution_count": null,
   "id": "a659ccfb",
   "metadata": {},
   "outputs": [],
   "source": [
    "help(topomap_3d_head.animate_3d_head)"
   ]
  },
  {
   "cell_type": "code",
   "execution_count": null,
   "id": "912df7b1",
   "metadata": {},
   "outputs": [],
   "source": [
    "df = None \n",
    "color_min = -40\n",
    "color_max = 40\n",
    "colormap = \"RdBu_r\"\n",
    "time_stamp = -300"
   ]
  },
  {
   "cell_type": "markdown",
   "id": "20d6632e",
   "metadata": {},
   "source": [
    "### Generating the animation"
   ]
  },
  {
   "cell_type": "code",
   "execution_count": null,
   "id": "2f895aad",
   "metadata": {},
   "outputs": [],
   "source": [
    "topo_3d_head = topomap_3d_head.animate_3d_head(\n",
    "    epoch,\n",
    "    data_df = df, # if you want to animate a data frame not values of epoch, you would still need to input the epoch for node locations\n",
    "    color_title=\"EEG MicroVolt\",\n",
    "    color_min=color_min,\n",
    "    color_max=color_max,\n",
    "    colormap=colormap,\n",
    ")"
   ]
  },
  {
   "cell_type": "code",
   "execution_count": null,
   "id": "9766fc50",
   "metadata": {},
   "outputs": [],
   "source": [
    "topo_3d_head.show()"
   ]
  },
  {
   "cell_type": "markdown",
   "id": "2ea32d2d",
   "metadata": {},
   "source": [
    "### Saving the animation"
   ]
  },
  {
   "cell_type": "markdown",
   "id": "b4770ec9",
   "metadata": {},
   "source": [
    "#### Save as html"
   ]
  },
  {
   "cell_type": "markdown",
   "id": "c56b4578",
   "metadata": {},
   "source": [
    "```python\n",
    "html_file_path = \"examples/topo_3d.html\"\n",
    "topo_3d_head.write_html(html_file_path)\n",
    "```"
   ]
  },
  {
   "cell_type": "markdown",
   "id": "9c3a6d4e",
   "metadata": {},
   "source": [
    "#### Save as gif"
   ]
  },
  {
   "cell_type": "markdown",
   "id": "80313c01",
   "metadata": {},
   "source": [
    "```python\n",
    "topomap_3d_head.save_gif(epoch, gifname=\"topo_3d_head_ani\", duration=200)\n",
    "```"
   ]
  },
  {
   "cell_type": "markdown",
   "id": "b75be0e1",
   "metadata": {},
   "source": [
    "#### Save as mp4 "
   ]
  },
  {
   "cell_type": "markdown",
   "id": "f114483b",
   "metadata": {},
   "source": [
    "```{note}\n",
    "You need to save the file as gif first and then convert it into mp4 file.\n",
    "```"
   ]
  },
  {
   "cell_type": "markdown",
   "id": "a8c32416",
   "metadata": {},
   "source": [
    "```python\n",
    "import moviepy.editor as mp\n",
    "\n",
    "clip = mp.VideoFileClip(\"topo_3d_head_ani.gif\")\n",
    "clip.write_videofile(\"examples/topo_3d_head_ani.mp4\")\n",
    "```"
   ]
  },
  {
   "cell_type": "markdown",
   "id": "b0f2c724",
   "metadata": {},
   "source": [
    "<a id=\"plot\"></a>\n",
    "## Create a 3D topographic plot"
   ]
  },
  {
   "cell_type": "markdown",
   "id": "71c8f61e",
   "metadata": {},
   "source": [
    "### Define parameters\n",
    "A detailed description of all animation parameters can be found in the `topomap_3d_head.topo_3d_map` docstring:"
   ]
  },
  {
   "cell_type": "code",
   "execution_count": null,
   "id": "fab4996a",
   "metadata": {},
   "outputs": [],
   "source": [
    "help(topomap_3d_head.topo_3d_map)"
   ]
  },
  {
   "cell_type": "code",
   "execution_count": null,
   "id": "629d36b9",
   "metadata": {},
   "outputs": [],
   "source": [
    "df = None \n",
    "color_min = -40\n",
    "color_max = 40\n",
    "colormap = \"RdBu_r\"\n",
    "time_stamp = -300"
   ]
  },
  {
   "cell_type": "markdown",
   "id": "d458420a",
   "metadata": {},
   "source": [
    "### Generating a standalone plot"
   ]
  },
  {
   "cell_type": "code",
   "execution_count": null,
   "id": "076ed9a3",
   "metadata": {},
   "outputs": [],
   "source": [
    "topo_3d__head_static = topomap_3d_head.topo_3d_map(\n",
    "    epoch,\n",
    "    time_stamp,\n",
    "    data_df = df,\n",
    "    color_title=\"EEG MicroVolt\",\n",
    "    color_min=color_min,\n",
    "    color_max=color_max,\n",
    "    colormap=colormap,\n",
    ")"
   ]
  },
  {
   "cell_type": "code",
   "execution_count": null,
   "id": "2d94e0a7",
   "metadata": {},
   "outputs": [],
   "source": [
    "topo_3d__head_static.show()"
   ]
  },
  {
   "cell_type": "markdown",
   "id": "507bd62e",
   "metadata": {},
   "source": [
    "### Saving the plot\n",
    "You can change the file to different formats by changing the format argument in the function. It supports `png`, `pdf`, `svg`."
   ]
  },
  {
   "cell_type": "markdown",
   "id": "013201fd",
   "metadata": {},
   "source": [
    "#### Save as svg\n",
    "```python\n",
    "static_file_path = \"examples/topo_3d_static.svg\"\n",
    "topo_3d__head_static.write_image(static_file_path, engine=\"kaleido\")\n",
    "```"
   ]
  },
  {
   "cell_type": "markdown",
   "id": "f96bf837",
   "metadata": {},
   "source": [
    "#### Save as png\n",
    "```python\n",
    "static_file_path_png = \"examples/topo_3d_static.png\"\n",
    "\n",
    "# no need to specify engine if not saving as svg file\n",
    "topo_3d__head_static.write_image(static_file_path_png)\n",
    "```"
   ]
  }
 ],
 "metadata": {
  "kernelspec": {
   "display_name": "Python 3",
   "language": "python",
   "name": "python3"
  },
  "language_info": {
   "codemirror_mode": {
    "name": "ipython",
    "version": 3
   },
   "file_extension": ".py",
   "mimetype": "text/x-python",
   "name": "python",
   "nbconvert_exporter": "python",
   "pygments_lexer": "ipython3",
   "version": "3.8.5"
  },
  "widgets": {
   "application/vnd.jupyter.widget-state+json": {
    "state": {},
    "version_major": 2,
    "version_minor": 0
   }
  }
 },
 "nbformat": 4,
 "nbformat_minor": 5
}
