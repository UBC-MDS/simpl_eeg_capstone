{
 "cells": [
  {
   "cell_type": "markdown",
   "id": "e610c504",
   "metadata": {},
   "source": [
    "# 3D Head Visualizations"
   ]
  },
  {
   "cell_type": "markdown",
   "id": "5ac338b6",
   "metadata": {},
   "source": [
    "## 3D topographic head map\n",
    "\n",
    "The 3D topographic head map provides a view of voltage measurements as a heatmap imposed on a 3D skull shape. It can be generated as an [animation](#animation) to view changes over time or as a [standalone plot](#plot). "
   ]
  },
  {
   "cell_type": "markdown",
   "id": "51592d76",
   "metadata": {},
   "source": [
    "![](instruction_imgs/topo_3d_head_ani.gif)"
   ]
  },
  {
   "cell_type": "markdown",
   "id": "104dafde",
   "metadata": {},
   "source": [
    "## General Setup\n",
    "### Import required modules"
   ]
  },
  {
   "cell_type": "code",
   "execution_count": null,
   "id": "6a523328",
   "metadata": {},
   "outputs": [],
   "source": [
    "from simpl_eeg import topomap_3d_head, eeg_objects"
   ]
  },
  {
   "cell_type": "code",
   "execution_count": null,
   "id": "fee233aa",
   "metadata": {},
   "outputs": [],
   "source": [
    "import warnings\n",
    "warnings.filterwarnings('ignore')"
   ]
  },
  {
   "cell_type": "markdown",
   "id": "caa651d4",
   "metadata": {},
   "source": [
    "```{note}\n",
    "Please include the line below in your IDE so that the changes would be simultaneously reflected when you make a change to the python scripts.\n",
    "```"
   ]
  },
  {
   "cell_type": "code",
   "execution_count": null,
   "id": "d41f21bf",
   "metadata": {},
   "outputs": [],
   "source": [
    "%load_ext autoreload"
   ]
  },
  {
   "cell_type": "code",
   "execution_count": null,
   "id": "c59298e5",
   "metadata": {},
   "outputs": [],
   "source": [
    "%autoreload 2"
   ]
  },
  {
   "cell_type": "markdown",
   "id": "a0cb2b2b",
   "metadata": {},
   "source": [
    "### Create epoched data\n",
    "For additional options see [Creating EEG Objects](eeg_objects.html#intro) section."
   ]
  },
  {
   "cell_type": "code",
   "execution_count": null,
   "id": "31c5667f",
   "metadata": {},
   "outputs": [],
   "source": [
    "experiment_folder = \"../../data/927\"\n",
    "nth_epoch = 0\n",
    "\n",
    "epochs = eeg_objects.Epochs(experiment_folder)\n",
    "epoch = epochs.get_nth_epoch(nth_epoch)"
   ]
  },
  {
   "cell_type": "markdown",
   "id": "11daaedc",
   "metadata": {},
   "source": [
    "<a id=\"animation\"></a>\n",
    "## Create a 3D topographic animation"
   ]
  },
  {
   "cell_type": "markdown",
   "id": "1ea11b21",
   "metadata": {},
   "source": [
    "### Define parameters"
   ]
  },
  {
   "cell_type": "markdown",
   "id": "2b170c26",
   "metadata": {},
   "source": [
    "A detailed description of all parameters can be found in the `topomap_3d_head.animate_3d_head` docstring:"
   ]
  },
  {
   "cell_type": "code",
   "execution_count": null,
   "id": "58d5cc65",
   "metadata": {},
   "outputs": [],
   "source": [
    "help(topomap_3d_head.animate_3d_head)"
   ]
  },
  {
   "cell_type": "code",
   "execution_count": null,
   "id": "17c2cadc",
   "metadata": {},
   "outputs": [],
   "source": [
    "color_min = -40\n",
    "color_max = 40\n",
    "colormap = \"RdBu_r\"\n",
    "time_stamp = -300"
   ]
  },
  {
   "cell_type": "markdown",
   "id": "36d323e6",
   "metadata": {},
   "source": [
    "### Generating the animation"
   ]
  },
  {
   "cell_type": "code",
   "execution_count": null,
   "id": "f2b62ad7",
   "metadata": {},
   "outputs": [],
   "source": [
    "topo_3d_head = topomap_3d_head.animate_3d_head(\n",
    "    epoch,\n",
    "    color_title=\"EEG MicroVolt\",\n",
    "    color_min=color_min,\n",
    "    color_max=color_max,\n",
    "    colormap=colormap,\n",
    ")"
   ]
  },
  {
   "cell_type": "code",
   "execution_count": null,
   "id": "8edfb2cb",
   "metadata": {},
   "outputs": [],
   "source": [
    "topo_3d_head.show()"
   ]
  },
  {
   "cell_type": "markdown",
   "id": "62c3d7b2",
   "metadata": {},
   "source": [
    "### Saving the animation"
   ]
  },
  {
   "cell_type": "markdown",
   "id": "3b5d5b21",
   "metadata": {},
   "source": [
    "#### Save as html"
   ]
  },
  {
   "cell_type": "markdown",
   "id": "590ed3b7",
   "metadata": {},
   "source": [
    "```python\n",
    "html_file_path = \"examples/topo_3d.html\"\n",
    "topo_3d_head.write_html(html_file_path)\n",
    "```"
   ]
  },
  {
   "cell_type": "markdown",
   "id": "d4385f87",
   "metadata": {},
   "source": [
    "#### Save as gif"
   ]
  },
  {
   "cell_type": "markdown",
   "id": "44a725bd",
   "metadata": {},
   "source": [
    "```python\n",
    "topomap_3d_head.save_gif(epoch, gifname=\"topo_3d_head_ani\", duration=200)\n",
    "```"
   ]
  },
  {
   "cell_type": "markdown",
   "id": "84528cd9",
   "metadata": {},
   "source": [
    "#### Save as mp4 "
   ]
  },
  {
   "cell_type": "markdown",
   "id": "6f198614",
   "metadata": {},
   "source": [
    "```{note}\n",
    "You need to save the file as gif first and then convert it into mp4 file.\n",
    "```"
   ]
  },
  {
   "cell_type": "markdown",
   "id": "32f2e046",
   "metadata": {},
   "source": [
    "```python\n",
    "import moviepy.editor as mp\n",
    "\n",
    "clip = mp.VideoFileClip(\"topo_3d_head_ani.gif\")\n",
    "clip.write_videofile(\"examples/topo_3d_head_ani.mp4\")\n",
    "```"
   ]
  },
  {
   "cell_type": "markdown",
   "id": "41045d1c",
   "metadata": {},
   "source": [
    "<a id=\"plot\"></a>\n",
    "## Create a 3D topographic plot"
   ]
  },
  {
   "cell_type": "markdown",
   "id": "5e4bc356",
   "metadata": {},
   "source": [
    "### Define parameters\n",
    "A detailed description of all animation parameters can be found in the `topomap_3d_head.topo_3d_map` docstring:"
   ]
  },
  {
   "cell_type": "code",
   "execution_count": null,
   "id": "5555a735",
   "metadata": {},
   "outputs": [],
   "source": [
    "help(topomap_3d_head.topo_3d_map)"
   ]
  },
  {
   "cell_type": "code",
   "execution_count": null,
   "id": "763c930d",
   "metadata": {},
   "outputs": [],
   "source": [
    "color_min = -40\n",
    "color_max = 40\n",
    "colormap = \"RdBu_r\"\n",
    "time_stamp = -300"
   ]
  },
  {
   "cell_type": "markdown",
   "id": "f5a54e0d",
   "metadata": {},
   "source": [
    "### Generating a standalone plot"
   ]
  },
  {
   "cell_type": "code",
   "execution_count": null,
   "id": "e9f3fc1c",
   "metadata": {},
   "outputs": [],
   "source": [
    "topo_3d__head_static = topomap_3d_head.topo_3d_map(\n",
    "    epoch,\n",
    "    time_stamp,\n",
    "    color_title=\"EEG MicroVolt\",\n",
    "    color_min=color_min,\n",
    "    color_max=color_max,\n",
    "    colormap=colormap,\n",
    ")"
   ]
  },
  {
   "cell_type": "code",
   "execution_count": null,
   "id": "66ee2779",
   "metadata": {},
   "outputs": [],
   "source": [
    "topo_3d__head_static.show()"
   ]
  },
  {
   "cell_type": "markdown",
   "id": "6f5f4ef9",
   "metadata": {},
   "source": [
    "### Saving the plot\n",
    "You can change the file to different formats by changing the format argument in the function. It supports `png`, `pdf`, `svg`."
   ]
  },
  {
   "cell_type": "markdown",
   "id": "2eee5f96",
   "metadata": {},
   "source": [
    "#### Save as svg\n",
    "```python\n",
    "static_file_path = \"examples/topo_3d_static.svg\"\n",
    "topo_3d__head_static.write_image(static_file_path, engine=\"kaleido\")\n",
    "```"
   ]
  },
  {
   "cell_type": "markdown",
   "id": "151a5e4d",
   "metadata": {},
   "source": [
    "#### Save as png\n",
    "```python\n",
    "static_file_path_png = \"examples/topo_3d_static.png\"\n",
    "\n",
    "# no need to specify engine if not saving as svg file\n",
    "topo_3d__head_static.write_image(static_file_path_png)\n",
    "```"
   ]
  }
 ],
 "metadata": {
  "kernelspec": {
   "display_name": "Python 3",
   "language": "python",
   "name": "python3"
  },
  "language_info": {
   "codemirror_mode": {
    "name": "ipython",
    "version": 3
   },
   "file_extension": ".py",
   "mimetype": "text/x-python",
   "name": "python",
   "nbconvert_exporter": "python",
   "pygments_lexer": "ipython3",
   "version": "3.8.5"
  },
  "widgets": {
   "application/vnd.jupyter.widget-state+json": {
    "state": {},
    "version_major": 2,
    "version_minor": 0
   }
  }
 },
 "nbformat": 4,
 "nbformat_minor": 5
}
