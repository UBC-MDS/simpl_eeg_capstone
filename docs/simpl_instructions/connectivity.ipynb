{
 "cells": [
  {
   "cell_type": "markdown",
   "metadata": {},
   "source": [
    "# Connectivity Visualizations"
   ]
  },
  {
   "cell_type": "markdown",
   "metadata": {},
   "source": [
    "## Connectivity Plot"
   ]
  },
  {
   "cell_type": "markdown",
   "metadata": {},
   "source": [
    "<img src=\"instruction_imgs/connectivity.gif\" align=\"left\" style=\"height:30em\"/>"
   ]
  },
  {
   "cell_type": "code",
   "execution_count": null,
   "metadata": {},
   "outputs": [],
   "source": [
    "from simpl_eeg import connectivity, eeg_objects"
   ]
  },
  {
   "cell_type": "code",
   "execution_count": null,
   "metadata": {},
   "outputs": [],
   "source": [
    "import warnings\n",
    "warnings.filterwarnings('ignore')"
   ]
  },
  {
   "cell_type": "markdown",
   "metadata": {},
   "source": [
    "```{note}\n",
    "Please include the line below in your IDE so that the changes would be simultaneously reflected when you make a change to the python scripts.**\n",
    "```"
   ]
  },
  {
   "cell_type": "code",
   "execution_count": null,
   "metadata": {},
   "outputs": [],
   "source": [
    "%load_ext autoreload"
   ]
  },
  {
   "cell_type": "code",
   "execution_count": null,
   "metadata": {},
   "outputs": [],
   "source": [
    "%autoreload 2"
   ]
  },
  {
   "cell_type": "markdown",
   "metadata": {},
   "source": [
    "<br>"
   ]
  },
  {
   "cell_type": "markdown",
   "metadata": {},
   "source": [
    "### Define global parameters"
   ]
  },
  {
   "cell_type": "markdown",
   "metadata": {},
   "source": [
    "There are some common parameters for all functions in this package, it would be more convenient to define all parameters before going into each functions."
   ]
  },
  {
   "cell_type": "code",
   "execution_count": null,
   "metadata": {},
   "outputs": [],
   "source": [
    "# change values below to values of interest\n",
    "\n",
    "experiment_path = \"../../data/927\" # path to the experiment folder.\n",
    "nth_epoch = 0\n",
    "vmin = -1 # The minimum for the scale. Defaults to None.\n",
    "vmax = 1 # The minimum for the scale. Defaults to None.\n",
    "colormap = 'RdBu_r' # select from [\"RdBu_r\", \"hot\", \"cool\", \"inferno\", \"turbo\", \"rainbow\"]. Defaults to 'RdBu_r'.\n",
    "calc_type = 'correlation' # select from [\"correlation\", \"spectral_connectivity\",\"envelope_correlation\"]\n",
    "pair_list = \"all_pairs\" # select from the PAIR_OPTIONS below\n",
    "line_width = None # The line width for the connections. Defaults to None for non-static width.\n",
    "max_connections = 50 # Number of connections to display. Defaults to 50."
   ]
  },
  {
   "cell_type": "code",
   "execution_count": null,
   "metadata": {},
   "outputs": [],
   "source": [
    "PAIR_OPTIONS = {\n",
    "    \"all_pairs\": [],\n",
    "    \"local_anterior\": \"Fp1-F7, Fp2-F8, F7-C3, F4-C4, C4-F8, F3-C3\",\n",
    "    \"local_posterior\": \"T5-C3, T5-O1, C3-P3, C4-P4, C4-T6, T6-O2\",\n",
    "    \"far_coherence\": \"Fp1-T5, Fp2-T6, F7-T5, F7-P3, F7-O1, T5-F3, F3-P3, F4-P4, P4-F8, F8-T6, F8-O2, F4-T6\",\n",
    "    \"prefrontal_to_frontal_and_central\": \"Fp1-F3, Fp1-C3, Fp2-F4, Fp2-C4\",\n",
    "    \"occipital_to_parietal_and_central\": \"C3-O1, P3-O1, C4-O2, P4-O4\",\n",
    "    \"prefrontal_to_parietal\": \"Fp1-P3, Fp2-P4\",\n",
    "    \"frontal_to_occipital\": \"F3-O1, P4-O2\",\n",
    "    \"prefrontal_to_occipital\": \"Fp1-O1, Fp2-O2\"\n",
    "}"
   ]
  },
  {
   "cell_type": "markdown",
   "metadata": {},
   "source": [
    "<br>"
   ]
  },
  {
   "cell_type": "markdown",
   "metadata": {},
   "source": [
    "### Create epoched data"
   ]
  },
  {
   "cell_type": "code",
   "execution_count": null,
   "metadata": {},
   "outputs": [],
   "source": [
    "epochs = eeg_objects.Epochs(experiment_path)\n",
    "epoch = epochs.get_nth_epoch(0)"
   ]
  },
  {
   "cell_type": "markdown",
   "metadata": {},
   "source": [
    "<br>"
   ]
  },
  {
   "cell_type": "markdown",
   "metadata": {},
   "source": [
    "### Create the connectivity plot"
   ]
  },
  {
   "cell_type": "markdown",
   "metadata": {},
   "source": [
    "#### Generating the animation"
   ]
  },
  {
   "cell_type": "code",
   "execution_count": null,
   "metadata": {},
   "outputs": [],
   "source": [
    "%matplotlib inline"
   ]
  },
  {
   "cell_type": "code",
   "execution_count": null,
   "metadata": {},
   "outputs": [],
   "source": [
    "%%capture\n",
    "\n",
    "conn_plot_animated = connectivity.animate_connectivity(\n",
    "    epoch,\n",
    "    calc_type=calc_type,\n",
    "    steps=20,\n",
    "    pair_list=pair_list,\n",
    "    threshold=0,\n",
    "    show_sphere=True,\n",
    "    colormap=colormap,\n",
    "    vmin=vmin,\n",
    "    vmax=vmax,\n",
    "    line_width=line_width,\n",
    ")\n",
    "\n",
    "from IPython.display import HTML\n",
    "\n",
    "conn_html = conn_plot_animated.to_jshtml()\n",
    "conn_video = HTML(conn_html)"
   ]
  },
  {
   "cell_type": "markdown",
   "metadata": {},
   "source": [
    "#### Saving the animation"
   ]
  },
  {
   "cell_type": "markdown",
   "metadata": {},
   "source": [
    "##### Save as html"
   ]
  },
  {
   "cell_type": "code",
   "execution_count": null,
   "metadata": {},
   "outputs": [],
   "source": [
    "html_file_path = \"../../exports/examples/connectivity.html\"  # change the file path to where you would like to save the file\n",
    "\n",
    "html_file = open(html_file_path, \"w\")\n",
    "html_file.write(conn_html)\n",
    "html_file.close()"
   ]
  },
  {
   "cell_type": "markdown",
   "metadata": {},
   "source": [
    "##### Save as gif"
   ]
  },
  {
   "cell_type": "code",
   "execution_count": null,
   "metadata": {},
   "outputs": [],
   "source": [
    "%%capture\n",
    "\n",
    "anim_conn = connectivity.animate_connectivity(epoch, vmin=-1, vmax=1, pair_list=PAIR_OPTIONS[\"far_coherence\"])\n",
    "\n",
    "conn_gif_file_path = \"../../exports/examples/connectivity.gif\"  # change the file path to where you would like to save the file\n",
    "anim_conn.save(conn_gif_file_path, fps=3, dpi=300)  # set frames per second (fps) and resolution (dpi)"
   ]
  },
  {
   "cell_type": "markdown",
   "metadata": {},
   "source": [
    "##### Save as mp4"
   ]
  },
  {
   "cell_type": "code",
   "execution_count": null,
   "metadata": {},
   "outputs": [],
   "source": [
    "conn_mp4_file_path = \"../../exports/examples/connectivity.mp4\"\n",
    "anim_conn.save(conn_mp4_file_path, fps=3, dpi=300)"
   ]
  },
  {
   "cell_type": "markdown",
   "metadata": {},
   "source": [
    "```{note}\n",
    "If `FFMpegWriter` does not work on your computer you can save the file as a gif first and then convert it into mp4 file.\n",
    "```"
   ]
  },
  {
   "cell_type": "code",
   "execution_count": null,
   "metadata": {},
   "outputs": [],
   "source": [
    "import moviepy.editor as mp\n",
    "\n",
    "clip = mp.VideoFileClip(conn_gif_file_path) # change the file path to where you saved the gif file\n",
    "clip.write_videofile(conn_mp4_file_path) # change the file path to where you would like to save the file"
   ]
  },
  {
   "cell_type": "markdown",
   "metadata": {},
   "source": [
    "<br>"
   ]
  },
  {
   "cell_type": "markdown",
   "metadata": {},
   "source": [
    "## Connectivity Circle Plot"
   ]
  },
  {
   "cell_type": "markdown",
   "metadata": {},
   "source": [
    "<img src=\"instruction_imgs/connectivity_circle.gif\" align=\"left\" style=\"height:30em\"/>"
   ]
  },
  {
   "cell_type": "markdown",
   "metadata": {},
   "source": [
    "#### Generating the animation"
   ]
  },
  {
   "cell_type": "code",
   "execution_count": null,
   "metadata": {},
   "outputs": [],
   "source": [
    "%matplotlib inline"
   ]
  },
  {
   "cell_type": "code",
   "execution_count": null,
   "metadata": {},
   "outputs": [],
   "source": [
    "%%capture\n",
    "\n",
    "plot_cir_animated = connectivity.animate_connectivity_circle(\n",
    "    epoch,\n",
    "    calc_type=calc_type,\n",
    "    max_connections=max_connections,\n",
    "    steps=50,\n",
    "    colormap=colormap,\n",
    "    vmin=vmin,\n",
    "    vmax=vmax,\n",
    "    line_width=line_width,\n",
    ")\n",
    "\n",
    "from IPython.display import HTML\n",
    "\n",
    "cir_html = plot_cir_animated.to_jshtml()\n",
    "cir_video = HTML(cir_html)"
   ]
  },
  {
   "cell_type": "code",
   "execution_count": null,
   "metadata": {},
   "outputs": [],
   "source": [
    "cir_video"
   ]
  },
  {
   "cell_type": "markdown",
   "metadata": {},
   "source": [
    "#### Saving the animation"
   ]
  },
  {
   "cell_type": "markdown",
   "metadata": {},
   "source": [
    "##### Save as html"
   ]
  },
  {
   "cell_type": "code",
   "execution_count": null,
   "metadata": {},
   "outputs": [],
   "source": [
    "cir_html_file_path = \"../../exports/examples/connectivity_circle.html\"  # change the file path to where you would like to save the file\n",
    "\n",
    "cir_html_file = open(cir_html_file_path, \"w\")\n",
    "cir_html_file.write(cir_html)\n",
    "cir_html_file.close()"
   ]
  },
  {
   "cell_type": "markdown",
   "metadata": {},
   "source": [
    "##### Save as gif"
   ]
  },
  {
   "cell_type": "code",
   "execution_count": null,
   "metadata": {},
   "outputs": [],
   "source": [
    "%%capture\n",
    "\n",
    "anim_cir = connectivity.animate_connectivity_circle(epoch)\n",
    "\n",
    "cir_gif_file_path = \"../../exports/examples/connectivity_circle.gif\"  # change the file path to where you would like to save the file\n",
    "anim_cir.save(cir_gif_file_path, fps=3, dpi=300) "
   ]
  },
  {
   "cell_type": "markdown",
   "metadata": {},
   "source": [
    "##### Save as mp4"
   ]
  },
  {
   "cell_type": "code",
   "execution_count": null,
   "metadata": {},
   "outputs": [],
   "source": [
    "%%capture\n",
    "\n",
    "cir_mp4_file_path = \"../../exports/examples/connectivity_cicle.mp4\"\n",
    "anim_cir.save(cir_mp4_file_path, fps=3, dpi=300)"
   ]
  },
  {
   "cell_type": "markdown",
   "metadata": {},
   "source": [
    "```{note}\n",
    "If `FFMpegWriter` does not work on your computer you can save the file as a gif first and then convert it into mp4 file.\n",
    "```"
   ]
  },
  {
   "cell_type": "code",
   "execution_count": null,
   "metadata": {},
   "outputs": [],
   "source": [
    "import moviepy.editor as mp\n",
    "\n",
    "clip = mp.VideoFileClip(cir_gif_file_path) # change the file path to where you saved the gif file\n",
    "clip.write_videofile(cir_mp4_file_path) # change the file path to where you would like to save the file "
   ]
  }
 ],
 "metadata": {
  "kernelspec": {
   "display_name": "Python 3",
   "language": "python",
   "name": "python3"
  },
  "language_info": {
   "codemirror_mode": {
    "name": "ipython",
    "version": 3
   },
   "file_extension": ".py",
   "mimetype": "text/x-python",
   "name": "python",
   "nbconvert_exporter": "python",
   "pygments_lexer": "ipython3",
   "version": "3.8.3"
  },
  "widgets": {
   "application/vnd.jupyter.widget-state+json": {
    "state": {},
    "version_major": 2,
    "version_minor": 0
   }
  }
 },
 "nbformat": 4,
 "nbformat_minor": 5
}
