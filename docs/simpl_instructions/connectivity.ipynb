{
 "cells": [
  {
   "cell_type": "markdown",
   "id": "d336d925",
   "metadata": {},
   "source": [
    "# Connectivity Visualizations"
   ]
  },
  {
   "cell_type": "markdown",
   "id": "8eabd3b0",
   "metadata": {},
   "source": [
    "## Connectivity Plot"
   ]
  },
  {
   "cell_type": "markdown",
   "id": "2b8d6391",
   "metadata": {},
   "source": [
    "<img src=\"instruction_imgs/connectivity.gif\" align=\"left\"/><img src=\"instruction_imgs/connectivity_circle.gif\" align=\"left\"/>"
   ]
  },
  {
   "cell_type": "code",
   "execution_count": null,
   "id": "43a7525c",
   "metadata": {},
   "outputs": [],
   "source": [
    "from simpl_eeg import connectivity, eeg_objects"
   ]
  },
  {
   "cell_type": "code",
   "execution_count": null,
   "id": "36881652",
   "metadata": {},
   "outputs": [],
   "source": [
    "import warnings\n",
    "warnings.filterwarnings('ignore')"
   ]
  },
  {
   "cell_type": "markdown",
   "id": "5fbe0781",
   "metadata": {},
   "source": [
    "```{note}\n",
    "Please include the line below in your IDE so that the changes would be simultaneously reflected when you make a change to the python scripts.**\n",
    "```"
   ]
  },
  {
   "cell_type": "code",
   "execution_count": null,
   "id": "f4c58fd0",
   "metadata": {},
   "outputs": [],
   "source": [
    "%load_ext autoreload"
   ]
  },
  {
   "cell_type": "code",
   "execution_count": null,
   "id": "28fba6c5",
   "metadata": {},
   "outputs": [],
   "source": [
    "%autoreload 2"
   ]
  },
  {
   "cell_type": "markdown",
   "id": "0d38a35e",
   "metadata": {},
   "source": [
    "<br>"
   ]
  },
  {
   "cell_type": "markdown",
   "id": "d794cc59",
   "metadata": {},
   "source": [
    "### Define global parameters"
   ]
  },
  {
   "cell_type": "markdown",
   "id": "70d74bea",
   "metadata": {},
   "source": [
    "There are some common parameters for all functions in this package, it would be more convenient to define all parameters before going into each functions."
   ]
  },
  {
   "cell_type": "code",
   "execution_count": null,
   "id": "6ee34b4a",
   "metadata": {},
   "outputs": [],
   "source": [
    "# change values below to values of interest\n",
    "\n",
    "experiment = \"../../data/927\" # path to the experiment folder.\n",
    "nth_epoch = 0\n",
    "vmin = None # The minimum for the scale. Defaults to None.\n",
    "vmax = None # The minimum for the scale. Defaults to None.\n",
    "colormap = 'RdBu_r' # select from [\"RdBu_r\", \"hot\", \"cool\", \"inferno\", \"turbo\", \"rainbow\"]. Defaults to 'RdBu_r'.\n",
    "calc_type = 'correlation' # select from [\"correlation\", \"spectral_connectivity\",\"envelope_correlation\"]\n",
    "pair_list = \"all_pairs\" # select from the PAIR_OPTIONS below\n",
    "line_width = None # The line width for the connections. Defaults to None for non-static width.\n",
    "max_connections = 50 # Number of connections to display. Defaults to 50."
   ]
  },
  {
   "cell_type": "markdown",
   "id": "0388bcac",
   "metadata": {},
   "source": [
    "```python\n",
    "PAIR_OPTIONS = {\n",
    "    \"all_pairs\": [],\n",
    "    \"local_anterior\": \"Fp1-F7, Fp2-F8, F7-C3, F4-C4, C4-F8, F3-C3\",\n",
    "    \"local_posterior\": \"T5-C3, T5-O1, C3-P3, C4-P4, C4-T6, T6-O2\",\n",
    "    \"far_coherence\": \"Fp1-T5, Fp2-T6, F7-T5, F7-P3, F7-O1, T5-F3, F3-P3, F4-P4, P4-F8, F8-T6, F8-O2, F4-T6\",\n",
    "    \"prefrontal_to_frontal_and_central\": \"Fp1-F3, Fp1-C3, Fp2-F4, Fp2-C4\",\n",
    "    \"occipital_to_parietal_and_central\": \"C3-O1, P3-O1, C4-O2, P4-O4\",\n",
    "    \"prefrontal_to_parietal\": \"Fp1-P3, Fp2-P4\",\n",
    "    \"frontal_to_occipital\": \"F3-O1, P4-O2\",\n",
    "    \"prefrontal_to_occipital\": \"Fp1-O1, Fp2-O2\"\n",
    "}\n",
    "```"
   ]
  },
  {
   "cell_type": "markdown",
   "id": "02173b3d",
   "metadata": {},
   "source": [
    "<br>"
   ]
  },
  {
   "cell_type": "markdown",
   "id": "c70c88d2",
   "metadata": {},
   "source": [
    "### Create epoched data"
   ]
  },
  {
   "cell_type": "code",
   "execution_count": null,
   "id": "43f15ff9",
   "metadata": {},
   "outputs": [],
   "source": [
    "tmin = -0.3  # number of seconds before the impact. Please change it to a value of your interest\n",
    "tmax = 0.7  # number of seconds after the impact. Please change it to a value of your interest\n",
    "start_second = None  # starting time of the epoch. Please change it to a value of your interest\n",
    "\n",
    "raw = eeg_objects.Epochs(experiment, tmin, tmax, start_second)\n",
    "\n",
    "raw.set_nth_epoch(nth_epoch)\n",
    "\n",
    "epoch = raw.get_nth_epoch()"
   ]
  },
  {
   "cell_type": "markdown",
   "id": "42f65265",
   "metadata": {},
   "source": [
    "<br>"
   ]
  },
  {
   "cell_type": "markdown",
   "id": "d849fc69",
   "metadata": {},
   "source": [
    "### Create the connectivity plot"
   ]
  },
  {
   "cell_type": "markdown",
   "id": "aae61ee0",
   "metadata": {},
   "source": [
    "#### Generating the animation"
   ]
  },
  {
   "cell_type": "code",
   "execution_count": null,
   "id": "d8179743",
   "metadata": {},
   "outputs": [],
   "source": [
    "%matplotlib inline"
   ]
  },
  {
   "cell_type": "code",
   "execution_count": null,
   "id": "e72cfcb3",
   "metadata": {},
   "outputs": [],
   "source": [
    "%%capture\n",
    "\n",
    "conn_plot_animated = connectivity.animate_connectivity(\n",
    "    epoch,\n",
    "    calc_type=calc_type,\n",
    "    steps=20,\n",
    "    pair_list=pair_list,\n",
    "    threshold=0,\n",
    "    show_sphere=True,\n",
    "    colormap=colormap,\n",
    "    vmin=vmin,\n",
    "    vmax=vmax,\n",
    "    line_width=line_width,\n",
    ")\n",
    "\n",
    "from IPython.display import HTML\n",
    "\n",
    "conn_html = conn_plot_animated.to_jshtml()\n",
    "conn_video = HTML(conn_html)"
   ]
  },
  {
   "cell_type": "markdown",
   "id": "e8d46d60",
   "metadata": {},
   "source": [
    "#### Saving the animattion"
   ]
  },
  {
   "cell_type": "markdown",
   "id": "5ccbac2f",
   "metadata": {},
   "source": [
    "##### Save as html"
   ]
  },
  {
   "cell_type": "code",
   "execution_count": null,
   "id": "9d93cef0",
   "metadata": {},
   "outputs": [],
   "source": [
    "html_file_path = \"exports/connectivity.html\"  # change the file path to where you would like to save the file\n",
    "\n",
    "html_file = open(html_file_path, \"w\")\n",
    "html_file.write(conn_html)\n",
    "html_file.close()"
   ]
  },
  {
   "cell_type": "markdown",
   "id": "c858e33f",
   "metadata": {},
   "source": [
    "##### Save as gif"
   ]
  },
  {
   "cell_type": "code",
   "execution_count": null,
   "id": "734027c1",
   "metadata": {},
   "outputs": [],
   "source": [
    "%%capture\n",
    "\n",
    "anim_conn = connectivity.animate_connectivity(epoch)\n",
    "\n",
    "# use a writer if you want to specify frames per second\n",
    "from matplotlib.animation import PillowWriter\n",
    "\n",
    "writer = PillowWriter(fps=5)\n",
    "\n",
    "conn_gif_file_path = \"exports/connectivity.gif\"  # change the file path to where you would like to save the file\n",
    "anim_conn.save(conn_gif_file_path, writer=writer)"
   ]
  },
  {
   "cell_type": "markdown",
   "id": "6da6c5ad",
   "metadata": {},
   "source": [
    "##### Save as mp4"
   ]
  },
  {
   "cell_type": "markdown",
   "id": "a1a0d637",
   "metadata": {},
   "source": [
    "```{note}\n",
    "You would need to save it as gif file first and then convert it into mp4 file.\n",
    "```"
   ]
  },
  {
   "cell_type": "code",
   "execution_count": null,
   "id": "a820a83d",
   "metadata": {},
   "outputs": [],
   "source": [
    "import moviepy.editor as mp\n",
    "\n",
    "clip = mp.VideoFileClip(\"exports/connectivity.gif\") # change the file path to where you saved the gif file\n",
    "clip.write_videofile(\"exports/connectivity.mp4\") # change the file path to where you would like to save the file"
   ]
  },
  {
   "cell_type": "markdown",
   "id": "e2ac8e23",
   "metadata": {},
   "source": [
    "<br>"
   ]
  },
  {
   "cell_type": "markdown",
   "id": "a12f9237",
   "metadata": {},
   "source": [
    "### Create the connectivity cicle plot"
   ]
  },
  {
   "cell_type": "markdown",
   "id": "e454ee89",
   "metadata": {},
   "source": [
    "#### Generating the animtation"
   ]
  },
  {
   "cell_type": "code",
   "execution_count": null,
   "id": "ba904818",
   "metadata": {},
   "outputs": [],
   "source": [
    "%matplotlib inline"
   ]
  },
  {
   "cell_type": "code",
   "execution_count": null,
   "id": "9cc4b84f",
   "metadata": {},
   "outputs": [],
   "source": [
    "%%capture\n",
    "plot_cir_animated = connectivity.animate_connectivity_circle(\n",
    "    epoch,\n",
    "    calc_type=calc_type,\n",
    "    max_connections=max_connections,\n",
    "    steps=20,\n",
    "    colormap=colormap,\n",
    "    vmin=vmin,\n",
    "    vmax=vmax,\n",
    "    line_width=line_width,\n",
    ")\n",
    "\n",
    "from IPython.display import HTML\n",
    "\n",
    "cir_html = plot_cir_animated.to_jshtml()\n",
    "cir_video = HTML(cir_html)"
   ]
  },
  {
   "cell_type": "code",
   "execution_count": null,
   "id": "ce2bb5ff",
   "metadata": {},
   "outputs": [],
   "source": [
    "cir_video"
   ]
  },
  {
   "cell_type": "markdown",
   "id": "e16a2fda",
   "metadata": {},
   "source": [
    "#### Saving the animation"
   ]
  },
  {
   "cell_type": "markdown",
   "id": "919ae004",
   "metadata": {},
   "source": [
    "##### Save as html"
   ]
  },
  {
   "cell_type": "code",
   "execution_count": null,
   "id": "440e1dca",
   "metadata": {},
   "outputs": [],
   "source": [
    "cir_html_file_path = \"exports/connectivity_circle.html\"  # change the file path to where you would like to save the file\n",
    "\n",
    "cir_html_file = open(cir_html_file_path, \"w\")\n",
    "cir_html_file.write(cir_html)\n",
    "cir_html_file.close()"
   ]
  },
  {
   "cell_type": "markdown",
   "id": "fc39c4ee",
   "metadata": {},
   "source": [
    "##### Save as gif"
   ]
  },
  {
   "cell_type": "code",
   "execution_count": null,
   "id": "9b49d7db",
   "metadata": {},
   "outputs": [],
   "source": [
    "%%capture\n",
    "\n",
    "anim_cir = connectivity.animate_connectivity_circle(epoch)\n",
    "\n",
    "# use a writer if you want to specify frames per second\n",
    "from matplotlib.animation import PillowWriter\n",
    "\n",
    "writer = PillowWriter(fps=5)\n",
    "\n",
    "cir_gif_file_path = \"exports/connectivity_circle.gif\"  # change the file path to where you would like to save the file\n",
    "anim_cir.save(cir_gif_file_path, writer=writer)"
   ]
  },
  {
   "cell_type": "markdown",
   "id": "8bb6fb36",
   "metadata": {},
   "source": [
    "##### Save as mp4"
   ]
  },
  {
   "cell_type": "markdown",
   "id": "fa29ebdc",
   "metadata": {},
   "source": [
    "```{note}\n",
    "You would need to save it as gif file first and then convert it into mp4 file.\n",
    "```"
   ]
  },
  {
   "cell_type": "code",
   "execution_count": null,
   "id": "1950581e",
   "metadata": {},
   "outputs": [],
   "source": [
    "import moviepy.editor as mp\n",
    "\n",
    "clip = mp.VideoFileClip(\"exports/connectivity_cicle.gif\") # change the file path to where you saved the gif file\n",
    "clip.write_videofile(\"exports/connectivity_cicle.mp4\") # change the file path to where you would like to save the file "
   ]
  },
  {
   "cell_type": "code",
   "execution_count": null,
   "id": "7a83638d",
   "metadata": {},
   "outputs": [],
   "source": []
  }
 ],
 "metadata": {
  "kernelspec": {
   "display_name": "Python 3",
   "language": "python",
   "name": "python3"
  },
  "language_info": {
   "codemirror_mode": {
    "name": "ipython",
    "version": 3
   },
   "file_extension": ".py",
   "mimetype": "text/x-python",
   "name": "python",
   "nbconvert_exporter": "python",
   "pygments_lexer": "ipython3",
   "version": "3.8.5"
  },
  "widgets": {
   "application/vnd.jupyter.widget-state+json": {
    "state": {},
    "version_major": 2,
    "version_minor": 0
   }
  }
 },
 "nbformat": 4,
 "nbformat_minor": 5
}
