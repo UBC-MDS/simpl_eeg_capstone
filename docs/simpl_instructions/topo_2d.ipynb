{
 "cells": [
  {
   "cell_type": "markdown",
   "id": "0fcb1c28-836a-4164-85e1-8116576fa2b1",
   "metadata": {},
   "source": [
    "# 2D Head Visualizations"
   ]
  },
  {
   "cell_type": "markdown",
   "id": "0f9229d7-772c-4bc6-b00f-48b58d7990f6",
   "metadata": {},
   "source": [
    "## 2D topographic head map\n",
    "\n",
    "The 2D topographic head map provides a view of voltage measurements as a heatmap imposed on an image of a 2D skull. It can be generated as an [animation](#animation) to view changes over time or as a [standalone plot](#plot). "
   ]
  },
  {
   "cell_type": "markdown",
   "id": "f4664236-bf8a-4f63-aaba-ec867eec4272",
   "metadata": {},
   "source": [
    "![](instruction_imgs/topo_2d.gif)"
   ]
  },
  {
   "cell_type": "markdown",
   "id": "eeddf898-9c94-48d2-baf0-c1854b84bada",
   "metadata": {},
   "source": [
    "## General Setup\n",
    "### Import required modules"
   ]
  },
  {
   "cell_type": "code",
   "execution_count": null,
   "id": "97667664-8b60-460b-8d9b-a5844babbe4f",
   "metadata": {},
   "outputs": [],
   "source": [
    "from simpl_eeg import topomap_2d, eeg_objects "
   ]
  },
  {
   "cell_type": "code",
   "execution_count": null,
   "id": "03d2e11c-6781-4a7c-851a-7a84aaf8901b",
   "metadata": {},
   "outputs": [],
   "source": [
    "import warnings\n",
    "warnings.filterwarnings('ignore')"
   ]
  },
  {
   "cell_type": "markdown",
   "id": "c2516517-284d-457d-b855-50cd87c7a898",
   "metadata": {},
   "source": [
    "```{note}\n",
    "Please include the line below in your IDE so that the changes would be simultaneously reflected when you make a change to the python scripts.\n",
    "```"
   ]
  },
  {
   "cell_type": "code",
   "execution_count": null,
   "id": "d997a19a-ea06-4557-ab14-0b23baa43a17",
   "metadata": {},
   "outputs": [],
   "source": [
    "%load_ext autoreload"
   ]
  },
  {
   "cell_type": "code",
   "execution_count": null,
   "id": "2e7bb91e-e615-4aa4-b801-31d59f4c11a4",
   "metadata": {},
   "outputs": [],
   "source": [
    "%autoreload 2"
   ]
  },
  {
   "cell_type": "markdown",
   "id": "053af197-baa9-423a-8b76-0c25605613e5",
   "metadata": {},
   "source": [
    "### Create epoched data\n",
    "For additional options see [Creating EEG Objects](eeg_objects.html#intro) section."
   ]
  },
  {
   "cell_type": "code",
   "execution_count": null,
   "id": "0e1acd7f-27cb-4a8c-a48a-ba8b1054b33a",
   "metadata": {},
   "outputs": [],
   "source": [
    "experiment_folder = \"../../data/109\"\n",
    "nth_epoch = 0\n",
    "num_steps = 50  # number of steps to skip to shorten epoch\n",
    "\n",
    "epochs = eeg_objects.Epochs(experiment_folder)\n",
    "epoch = epochs.get_nth_epoch(nth_epoch)\n",
    "shortened_epoch = epochs.skip_n_steps(num_steps)"
   ]
  },
  {
   "cell_type": "markdown",
   "id": "842f0443-f43d-491b-9631-0bc00782281d",
   "metadata": {},
   "source": [
    "<a id=\"animation\"></a>\n",
    "## Create a 2D topographic animation"
   ]
  },
  {
   "cell_type": "markdown",
   "id": "295e59f6-6896-400d-af1f-cf2aa7a8e865",
   "metadata": {},
   "source": [
    "### Define parameters\n",
    "A detailed description of all animation parameters can be found in the `topomap_2d.animate_topomap_2d` docstring:"
   ]
  },
  {
   "cell_type": "code",
   "execution_count": null,
   "id": "c0b781b2-3a58-4a00-ab75-dd6ffd0eb284",
   "metadata": {},
   "outputs": [],
   "source": [
    "help(topomap_2d.animate_topomap_2d)"
   ]
  },
  {
   "cell_type": "code",
   "execution_count": null,
   "id": "6dae3c63-436b-4c2a-91df-70e9775cefb3",
   "metadata": {},
   "outputs": [],
   "source": [
    "# change values below to values of interest\n",
    "\n",
    "# arguments built into the package\n",
    "colormap = \"Spectral\"\n",
    "mark = \"dot\"\n",
    "cmin = -40\n",
    "cmax = 40\n",
    "colorbar = True\n",
    "timestamp = True\n",
    "frame_rate = 12\n",
    "\n",
    "# some useful (and tested) arguments from the\n",
    "# MNE.viz.plot_topomap function (see **kwargs) include...\n",
    "contours = 0\n",
    "res = 100\n",
    "sphere = 100\n",
    "extrapolate = \"head\"\n",
    "outlines = \"head\"\n",
    "border = \"mean\""
   ]
  },
  {
   "cell_type": "markdown",
   "id": "13942fb8-7ac2-4baf-b6f7-dcc3ff2bec18",
   "metadata": {},
   "source": [
    "### Generating the animation"
   ]
  },
  {
   "cell_type": "code",
   "execution_count": null,
   "id": "a18a8d45-0b1a-4377-8a43-78767ee2134d",
   "metadata": {},
   "outputs": [],
   "source": [
    "%%capture\n",
    "\n",
    "anim = topomap_2d.animate_topomap_2d(\n",
    "    shortened_epoch, # REQUIRED\n",
    "    colormap=colormap,\n",
    "    mark=mark,\n",
    "    cmin=cmin,\n",
    "    cmax=cmax,\n",
    "    colorbar=colorbar,\n",
    "    timestamp=timestamp,\n",
    "    frame_rate=frame_rate,\n",
    "    contours=contours,\n",
    "    res=res,\n",
    "    sphere=sphere,\n",
    "    extrapolate=extrapolate,\n",
    "    outlines=outlines,\n",
    "    border=border\n",
    ")\n",
    "\n",
    "from IPython.core.display import HTML\n",
    "\n",
    "html_plot = anim.to_jshtml()\n",
    "video = HTML(html_plot)"
   ]
  },
  {
   "cell_type": "code",
   "execution_count": null,
   "id": "efa58cd3-37d5-4b45-953e-3ffcdeb9fd06",
   "metadata": {},
   "outputs": [],
   "source": [
    "video"
   ]
  },
  {
   "cell_type": "markdown",
   "id": "303e70fd-a532-4ca5-98f6-57c389ca1d37",
   "metadata": {},
   "source": [
    "### Saving the animation"
   ]
  },
  {
   "cell_type": "markdown",
   "id": "67c3096b-16bb-4823-b192-50b5f0a905dd",
   "metadata": {},
   "source": [
    "#### Save as html"
   ]
  },
  {
   "cell_type": "markdown",
   "id": "a01d315b-326f-458e-aecd-bfefa6813c4e",
   "metadata": {},
   "source": [
    "```python\n",
    "html_file_path = \"examples/topo_2d.html\"\n",
    "html_file = open(html_file_path, \"w\")\n",
    "html_file.write(html_plot)\n",
    "html_file.close()\n",
    "```"
   ]
  },
  {
   "cell_type": "markdown",
   "id": "aa85d374-a396-4821-91e6-5538def62945",
   "metadata": {},
   "source": [
    "#### Save as gif"
   ]
  },
  {
   "cell_type": "markdown",
   "id": "bc523ca0-2bca-43cc-9a75-98fe4ea2ccca",
   "metadata": {},
   "source": [
    "```python\n",
    "anim = topomap_2d.animate_topomap_2d(shortened_epoch)\n",
    "\n",
    "gif_file_path = \"examples/topo_2d.gif\"\n",
    "anim.save(gif_file_path, fps=5, dpi=300)\n",
    "```"
   ]
  },
  {
   "cell_type": "markdown",
   "id": "6c25b70a-47d4-436f-8896-902c0622fdb0",
   "metadata": {},
   "source": [
    "#### Save as mp4"
   ]
  },
  {
   "cell_type": "markdown",
   "id": "82e4d527-8b68-4bfb-ba4f-4d26ce23b213",
   "metadata": {},
   "source": [
    "```python\n",
    "anim = topomap_2d.animate_topomap_2d(shortened_epoch)\n",
    "\n",
    "mp4_file_path = \"examples/topo_2d.mp4\"\n",
    "anim.save(mp4_file_path)\n",
    "```"
   ]
  },
  {
   "cell_type": "markdown",
   "id": "17739d2c-f9fc-49a8-abb7-e53f552b73b8",
   "metadata": {},
   "source": [
    "```{note}\n",
    "If `FFMpegWriter` does not work on your computer you can save the file as a gif first and then convert it into mp4 file by running the code below.\n",
    "```\n",
    "```python\n",
    "import moviepy.editor as mp\n",
    "\n",
    "clip = mp.VideoFileClip(gif_file_path)\n",
    "clip.write_videofile(mp4_file_path)\n",
    "```"
   ]
  },
  {
   "cell_type": "markdown",
   "id": "33f82591-7b42-4ff7-860f-6f6b7faea1fe",
   "metadata": {},
   "source": [
    "<a id=\"plot\"></a>\n",
    "## Create a 2D topographic plot"
   ]
  },
  {
   "cell_type": "markdown",
   "id": "b2631922-14da-4628-a348-a80481c97860",
   "metadata": {},
   "source": [
    "### Define parameters\n",
    "A detailed description of all animation parameters can be found in the `topomap_2d.plot_topomap_2d` docstring:"
   ]
  },
  {
   "cell_type": "code",
   "execution_count": null,
   "id": "c284112e-32b3-4853-b808-fa6cc47c4615",
   "metadata": {},
   "outputs": [],
   "source": [
    "help(topomap_2d.plot_topomap_2d)"
   ]
  },
  {
   "cell_type": "code",
   "execution_count": null,
   "id": "6e330c1e-2a78-40a7-ba57-81a363eae1df",
   "metadata": {},
   "outputs": [],
   "source": [
    "timestamp=True\n",
    "recording_number = 2"
   ]
  },
  {
   "cell_type": "markdown",
   "id": "22d1f766-ac15-4dc8-bbfa-58ef8245d4f8",
   "metadata": {},
   "source": [
    "### Generating a standalone plot"
   ]
  },
  {
   "cell_type": "markdown",
   "id": "53710409-8c0e-4353-b5cc-b8c3bcf4e1a0",
   "metadata": {},
   "source": [
    "```{note}\n",
    "Generating a plot will use the first data recording in the epoch by default. \n",
    "```"
   ]
  },
  {
   "cell_type": "code",
   "execution_count": null,
   "id": "62711e37-123c-4c87-8a11-df38bf313073",
   "metadata": {},
   "outputs": [],
   "source": [
    "plot = topomap_2d.plot_topomap_2d(\n",
    "    epoch,\n",
    "    timestamp=timestamp,\n",
    "    recording_number=recording_number\n",
    ")\n",
    "plot;"
   ]
  },
  {
   "cell_type": "markdown",
   "id": "e3fff0d4-e369-4a31-ba5b-f3a551576f34",
   "metadata": {},
   "source": [
    "### Saving the plot\n",
    "You can change the file to different formats by changing the format argument in the function. It supports `png`, `pdf`, `svg`.\n",
    "```python\n",
    "file_path = \"examples/topo_2d.svg\"\n",
    "plot.figure.savefig(file_path)\n",
    "```"
   ]
  },
  {
   "cell_type": "code",
   "execution_count": null,
   "id": "1ac72526-3015-446f-b34c-f3742d845aee",
   "metadata": {},
   "outputs": [],
   "source": []
  }
 ],
 "metadata": {
  "kernelspec": {
   "display_name": "Python 3",
   "language": "python",
   "name": "python3"
  },
  "language_info": {
   "codemirror_mode": {
    "name": "ipython",
    "version": 3
   },
   "file_extension": ".py",
   "mimetype": "text/x-python",
   "name": "python",
   "nbconvert_exporter": "python",
   "pygments_lexer": "ipython3",
   "version": "3.8.3"
  },
  "widgets": {
   "application/vnd.jupyter.widget-state+json": {
    "state": {},
    "version_major": 2,
    "version_minor": 0
   }
  }
 },
 "nbformat": 4,
 "nbformat_minor": 5
}
