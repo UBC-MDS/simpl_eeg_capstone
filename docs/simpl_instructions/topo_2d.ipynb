{
 "cells": [
  {
   "cell_type": "markdown",
   "id": "dd9aa934",
   "metadata": {},
   "source": [
    "# 2D Head Visualizations"
   ]
  },
  {
   "cell_type": "markdown",
   "id": "53a29bb0",
   "metadata": {},
   "source": [
    "## 2D topographic map"
   ]
  },
  {
   "cell_type": "markdown",
   "id": "9fe12f5e",
   "metadata": {},
   "source": [
    "![](instruction_imgs/topo_2d.gif)"
   ]
  },
  {
   "cell_type": "code",
   "execution_count": null,
   "id": "62b08deb",
   "metadata": {},
   "outputs": [],
   "source": [
    "from simpl_eeg import eeg_objects, topomap_2d"
   ]
  },
  {
   "cell_type": "code",
   "execution_count": null,
   "id": "3ffcb6ea",
   "metadata": {},
   "outputs": [],
   "source": [
    "import warnings\n",
    "warnings.filterwarnings('ignore')"
   ]
  },
  {
   "cell_type": "markdown",
   "id": "a09c9580",
   "metadata": {},
   "source": [
    "```{note}\n",
    "Please include the line below in your IDE so that the changes would be simultaneously reflected when you make a change to the python scripts.**\n",
    "```"
   ]
  },
  {
   "cell_type": "code",
   "execution_count": null,
   "id": "6c899b51",
   "metadata": {},
   "outputs": [],
   "source": [
    "%load_ext autoreload"
   ]
  },
  {
   "cell_type": "code",
   "execution_count": null,
   "id": "246c3916",
   "metadata": {},
   "outputs": [],
   "source": [
    "%autoreload 2"
   ]
  },
  {
   "cell_type": "markdown",
   "id": "091356ab",
   "metadata": {},
   "source": [
    "<br>"
   ]
  },
  {
   "cell_type": "markdown",
   "id": "fa8e63b8",
   "metadata": {},
   "source": [
    "### Define global parameters"
   ]
  },
  {
   "cell_type": "markdown",
   "id": "a76b4599",
   "metadata": {},
   "source": [
    "There are some common parameters for all functions in this package, it would be more convenient to define all parameters before going into each functions."
   ]
  },
  {
   "cell_type": "code",
   "execution_count": null,
   "id": "dee7fd3a",
   "metadata": {},
   "outputs": [],
   "source": [
    "# change None to values of interest\n",
    "\n",
    "experiment_folder = \"../../data/109\"  # path to the experiment folder.\n",
    "nth_epoch = 0\n",
    "vmin = -40  # The minimum for the scale. Defaults to None.\n",
    "vmax = 40  # The minimum for the scale. Defaults to None.\n",
    "colormap = \"Spectral\"  # select any matplotlib colormap. Defaults to RdBu_r (Red-Blue)."
   ]
  },
  {
   "cell_type": "markdown",
   "id": "6aeae9b0",
   "metadata": {},
   "source": [
    "<br>"
   ]
  },
  {
   "cell_type": "markdown",
   "id": "e1b97964",
   "metadata": {},
   "source": [
    "### Create epoched data"
   ]
  },
  {
   "cell_type": "code",
   "execution_count": null,
   "id": "194a91fc",
   "metadata": {},
   "outputs": [],
   "source": [
    "tmin = -0.3  # number of seconds before the impact. Please change it to a value of your interest\n",
    "tmax = 0.7  # number of seconds after the impact. Please change it to a value of your interest\n",
    "start_second = None  # starting time of the epoch. Please change it to a value of your interest\n",
    "\n",
    "raw = eeg_objects.Epochs(experiment, tmin, tmax, start_second)\n",
    "\n",
    "raw.set_nth_epoch(nth_epoch)\n",
    "\n",
    "epoch = raw.get_nth_epoch()"
   ]
  },
  {
   "cell_type": "markdown",
   "id": "42e40e12",
   "metadata": {},
   "source": [
    "<br>"
   ]
  },
  {
   "cell_type": "markdown",
   "id": "529222d0",
   "metadata": {},
   "source": [
    "### Create the 2D topographic map"
   ]
  },
  {
   "cell_type": "markdown",
   "id": "76d83239",
   "metadata": {},
   "source": [
    "#### Generating the animation"
   ]
  },
  {
   "cell_type": "code",
   "execution_count": null,
   "id": "7b87bc26",
   "metadata": {},
   "outputs": [],
   "source": [
    "%%capture\n",
    "\n",
    "anim = topomap_2d.animate_topomap_2d(\n",
    "    shortened_epoch,\n",
    "    colormap=colormap,\n",
    "    mark=\"dot\",\n",
    "    contours=\"6\",\n",
    "    sphere=100,\n",
    "    cmin=vmin,\n",
    "    cmax=vmax,\n",
    "    res=100,\n",
    "    extrapolate=\"head\",\n",
    "    outlines=\"head\",\n",
    "    axes=None,\n",
    "    mask=None,\n",
    "    mask_params=None,\n",
    "    colorbar=True,\n",
    "    timestamp=True,\n",
    "    frame_rate=12,\n",
    ")\n",
    "\n",
    "from IPython.core.display import HTML\n",
    "\n",
    "html_plot = anim.to_jshtml()\n",
    "video = HTML(html_plot)"
   ]
  },
  {
   "cell_type": "code",
   "execution_count": null,
   "id": "b71ce757",
   "metadata": {},
   "outputs": [],
   "source": [
    "video"
   ]
  },
  {
   "cell_type": "markdown",
   "id": "9d874a0e",
   "metadata": {},
   "source": [
    "#### Saving the animation"
   ]
  },
  {
   "cell_type": "markdown",
   "id": "52b7145e",
   "metadata": {},
   "source": [
    "##### Save as html"
   ]
  },
  {
   "cell_type": "code",
   "execution_count": null,
   "id": "eb89f965",
   "metadata": {},
   "outputs": [],
   "source": [
    "html_file_path = \"../../exports/examples/topo_2d.html\"  # change the file path to where you would like to save the file\n",
    "\n",
    "html_file = open(html_file_path, \"w\")\n",
    "html_file.write(html_plot)\n",
    "html_file.close()"
   ]
  },
  {
   "cell_type": "markdown",
   "id": "9de51ebd",
   "metadata": {},
   "source": [
    "##### Save as gif"
   ]
  },
  {
   "cell_type": "code",
   "execution_count": null,
   "id": "91cd5c8a",
   "metadata": {},
   "outputs": [],
   "source": [
    "%%capture\n",
    "\n",
    "anim = topomap_2d.animate_topomap_2d(shortened_epoch)\n",
    "\n",
    "# use a writer if you want to specify frames per second\n",
    "from matplotlib.animation import PillowWriter\n",
    "\n",
    "writer = PillowWriter(fps=5)\n",
    "\n",
    "gif_file_path = \"../../exports/examples/topo_2d.gif\"  # change the file path to where you would like to save the file\n",
    "anim.save(gif_file_path, writer=writer)"
   ]
  },
  {
   "cell_type": "markdown",
   "id": "e3fec0a3",
   "metadata": {},
   "source": [
    "##### Save as mp4"
   ]
  },
  {
   "cell_type": "code",
   "execution_count": null,
   "id": "ce1bda24",
   "metadata": {},
   "outputs": [],
   "source": [
    "%%capture\n",
    "\n",
    "anim = topomap_2d.animate_topomap_2d(shortened_epoch)\n",
    "\n",
    "mp4_file_path = \"../../exports/examples/topo_2d.mp4\"  # change the file path to where you would like to save the file\n",
    "anim.save(mp4_file_path)"
   ]
  },
  {
   "cell_type": "markdown",
   "id": "caf605ad",
   "metadata": {},
   "source": [
    "<br>"
   ]
  }
 ],
 "metadata": {
  "kernelspec": {
   "display_name": "Python 3",
   "language": "python",
   "name": "python3"
  },
  "language_info": {
   "codemirror_mode": {
    "name": "ipython",
    "version": 3
   },
   "file_extension": ".py",
   "mimetype": "text/x-python",
   "name": "python",
   "nbconvert_exporter": "python",
   "pygments_lexer": "ipython3",
   "version": "3.8.5"
  },
  "widgets": {
   "application/vnd.jupyter.widget-state+json": {
    "state": {},
    "version_major": 2,
    "version_minor": 0
   }
  }
 },
 "nbformat": 4,
 "nbformat_minor": 5
}
