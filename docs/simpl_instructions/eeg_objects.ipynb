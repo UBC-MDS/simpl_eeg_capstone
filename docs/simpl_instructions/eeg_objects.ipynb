{
 "cells": [
  {
   "cell_type": "markdown",
   "metadata": {},
   "source": [
    "# Creating EEG Objects"
   ]
  },
  {
   "cell_type": "markdown",
   "metadata": {},
   "source": [
    "## Epoch Creation\n",
    "<a id=\"intro\"></a>"
   ]
  },
  {
   "cell_type": "code",
   "execution_count": 1,
   "metadata": {},
   "outputs": [],
   "source": [
    "from simpl_eeg import eeg_objects"
   ]
  },
  {
   "cell_type": "code",
   "execution_count": 2,
   "metadata": {},
   "outputs": [],
   "source": [
    "import warnings\n",
    "warnings.filterwarnings('ignore')"
   ]
  },
  {
   "cell_type": "markdown",
   "metadata": {},
   "source": [
    "```{note}\n",
    "Please include the line below in your IDE so that the changes would be simultaneously reflected when you make a change to the python scripts.\n",
    "```"
   ]
  },
  {
   "cell_type": "code",
   "execution_count": 3,
   "metadata": {},
   "outputs": [],
   "source": [
    "%load_ext autoreload"
   ]
  },
  {
   "cell_type": "code",
   "execution_count": 4,
   "metadata": {},
   "outputs": [],
   "source": [
    "%autoreload 2"
   ]
  },
  {
   "cell_type": "markdown",
   "metadata": {},
   "source": [
    "<br>"
   ]
  },
  {
   "cell_type": "markdown",
   "metadata": {},
   "source": [
    "### Module Overview"
   ]
  },
  {
   "cell_type": "markdown",
   "metadata": {},
   "source": [
    "The `eeg_objects` module contains helper classes for storing and manipulating relevant information regarding epochs to pass to other package functions. It contains two classes. Typically you will only you use the `eeg_objects.Epochs` directly, which by default contains a `eeg_objects.EEG_File` object in the `eeg_file` attribute. \n",
    "Below are the docstrings for the two classes:"
   ]
  },
  {
   "cell_type": "code",
   "execution_count": 5,
   "metadata": {},
   "outputs": [
    {
     "data": {
      "text/plain": [
       "\u001b[0;31mInit signature:\u001b[0m \u001b[0meeg_objects\u001b[0m\u001b[0;34m.\u001b[0m\u001b[0mEEG_File\u001b[0m\u001b[0;34m(\u001b[0m\u001b[0mfolder_path\u001b[0m\u001b[0;34m,\u001b[0m \u001b[0mfile_name\u001b[0m\u001b[0;34m=\u001b[0m\u001b[0;34m'fixica'\u001b[0m\u001b[0;34m)\u001b[0m\u001b[0;34m\u001b[0m\u001b[0;34m\u001b[0m\u001b[0m\n",
       "\u001b[0;31mDocstring:\u001b[0m     \n",
       "A class to import and store relevant eeg files\n",
       "\n",
       "Attributes:\n",
       "    folder_path: str\n",
       "        path to experiment folder\n",
       "    experiment: str\n",
       "        the name of the folder containing experiment files\n",
       "    mat: list of ints\n",
       "        a list of integers representing impact times\n",
       "    raw: mne.io.eeglab.eeglab.RawEEGLAB\n",
       "        raw experiment data in FIF format\n",
       "\u001b[0;31mInit docstring:\u001b[0m\n",
       "Imports and stores EEG data files\n",
       "\n",
       "Parameters:\n",
       "    folder_path: str\n",
       "        The folder path containing the experiment data\n",
       "    file_name: str (optional)\n",
       "        The file name for the .set and .fdt file.\n",
       "        Defaults to \"fixica\".\n",
       "\u001b[0;31mFile:\u001b[0m           ~/mds/simpl_eeg_capstone/simpl_eeg/eeg_objects.py\n",
       "\u001b[0;31mType:\u001b[0m           type\n",
       "\u001b[0;31mSubclasses:\u001b[0m     \n"
      ]
     },
     "metadata": {},
     "output_type": "display_data"
    }
   ],
   "source": [
    "# Class for reading and importing EEG files\n",
    "?eeg_objects.EEG_File"
   ]
  },
  {
   "cell_type": "code",
   "execution_count": 6,
   "metadata": {},
   "outputs": [
    {
     "data": {
      "text/plain": [
       "\u001b[0;31mInit signature:\u001b[0m\n",
       "\u001b[0meeg_objects\u001b[0m\u001b[0;34m.\u001b[0m\u001b[0mEpochs\u001b[0m\u001b[0;34m(\u001b[0m\u001b[0;34m\u001b[0m\n",
       "\u001b[0;34m\u001b[0m    \u001b[0mfolder_path\u001b[0m\u001b[0;34m,\u001b[0m\u001b[0;34m\u001b[0m\n",
       "\u001b[0;34m\u001b[0m    \u001b[0mtmin\u001b[0m\u001b[0;34m=\u001b[0m\u001b[0;34m-\u001b[0m\u001b[0;36m0.3\u001b[0m\u001b[0;34m,\u001b[0m\u001b[0;34m\u001b[0m\n",
       "\u001b[0;34m\u001b[0m    \u001b[0mtmax\u001b[0m\u001b[0;34m=\u001b[0m\u001b[0;36m0.7\u001b[0m\u001b[0;34m,\u001b[0m\u001b[0;34m\u001b[0m\n",
       "\u001b[0;34m\u001b[0m    \u001b[0mstart_second\u001b[0m\u001b[0;34m=\u001b[0m\u001b[0;32mNone\u001b[0m\u001b[0;34m,\u001b[0m\u001b[0;34m\u001b[0m\n",
       "\u001b[0;34m\u001b[0m    \u001b[0mfile_name\u001b[0m\u001b[0;34m=\u001b[0m\u001b[0;34m'fixica'\u001b[0m\u001b[0;34m,\u001b[0m\u001b[0;34m\u001b[0m\n",
       "\u001b[0;34m\u001b[0m    \u001b[0;34m**\u001b[0m\u001b[0mkwargs\u001b[0m\u001b[0;34m,\u001b[0m\u001b[0;34m\u001b[0m\n",
       "\u001b[0;34m\u001b[0m\u001b[0;34m)\u001b[0m\u001b[0;34m\u001b[0m\u001b[0;34m\u001b[0m\u001b[0m\n",
       "\u001b[0;31mDocstring:\u001b[0m     \n",
       "A class to represent epochs and underlying data\n",
       "\n",
       "Attributes:\n",
       "    eeg_file: EEG_File\n",
       "        eeg file data\n",
       "    all_epochs: mne.Epochs\n",
       "        the generated epoch data\n",
       "    epoch: mne.Epochs\n",
       "        the selected epoch of interest\n",
       "\n",
       "Methods:\n",
       "    generate_epochs(duration, start_second):\n",
       "        Calculates epochs based on a duration and start second\n",
       "    get_epoch(epoch_num):\n",
       "        Set and return the epoch of interest\n",
       "    skip_n_steps(num_steps):\n",
       "        Returns a subset of the epoch by skipping records in increments of num_steps\n",
       "\u001b[0;31mInit docstring:\u001b[0m\n",
       "Generates epochs and stores related information\n",
       "\n",
       "Parameters:\n",
       "    tmin: float\n",
       "        Number of seconds before the event time to include in epoch\n",
       "    tmax: float\n",
       "        Number of seconds after the event time to include in epoch\n",
       "    start_second: int | None\n",
       "        Second of the event time,\n",
       "        or None if autodetected event time should be used\n",
       "    file_name: str (optional)\n",
       "        The file name for the .set and .fdt file.\n",
       "        Defaults to \"fixica\".\n",
       "    **kwargs: dict (optional)\n",
       "        Additional parameters to pass to the mne.Epochs() constructor\n",
       "\n",
       "        Full list of options available at\n",
       "        https://mne.tools/stable/generated/mne.Epochs.html\n",
       "\u001b[0;31mFile:\u001b[0m           ~/mds/simpl_eeg_capstone/simpl_eeg/eeg_objects.py\n",
       "\u001b[0;31mType:\u001b[0m           type\n",
       "\u001b[0;31mSubclasses:\u001b[0m     \n"
      ]
     },
     "metadata": {},
     "output_type": "display_data"
    }
   ],
   "source": [
    "# Class for storing, generating, and adjusting epoch objects\n",
    "?eeg_objects.Epochs"
   ]
  },
  {
   "cell_type": "markdown",
   "metadata": {},
   "source": [
    "<br>"
   ]
  },
  {
   "cell_type": "markdown",
   "metadata": {},
   "source": [
    "### Define parameters"
   ]
  },
  {
   "cell_type": "markdown",
   "metadata": {},
   "source": [
    "The only required parameter to create an epoch object is the `folder_path` for the experiment of interest, however additional parameters may be used to customize your epoch object. \n",
    "\n",
    "- If you specify a `start_second`, a single epoch will be generated with an impact event at the specified second. \n",
    "\n",
    "- If you do not specify a `start_second`, epochs will be automatically generated using the impact times found in the `impact locations.mat` file in the selected `experiment_folder`. \n",
    "\n",
    "- `tmin` specifies the number of seconds before the impact to use, and `tmin` specifies the number of seconds after the impact."
   ]
  },
  {
   "cell_type": "code",
   "execution_count": 7,
   "metadata": {},
   "outputs": [],
   "source": [
    "# path to the experiment folder\n",
    "experiment_folder = \"../../data/109\"\n",
    "\n",
    "# number of seconds before the impact, should be a negative number for before impact\n",
    "tmin = -1\n",
    "\n",
    "# number of seconds after the impact\n",
    "tmax = 1\n",
    "\n",
    "# if creating a custom epoch, select a starting second\n",
    "start_second = None"
   ]
  },
  {
   "cell_type": "markdown",
   "metadata": {},
   "source": [
    "<br>"
   ]
  },
  {
   "cell_type": "markdown",
   "metadata": {},
   "source": [
    "### Create epoched data"
   ]
  },
  {
   "cell_type": "markdown",
   "metadata": {},
   "source": [
    "You can create epoched data using the `Epochs` class."
   ]
  },
  {
   "cell_type": "code",
   "execution_count": 8,
   "metadata": {},
   "outputs": [
    {
     "name": "stdout",
     "output_type": "stream",
     "text": [
      "Reading /Users/sasha/mds/simpl_eeg_capstone/data/109/fixica.fdt\n",
      "Not setting metadata\n",
      "Not setting metadata\n",
      "33 matching events found\n",
      "Setting baseline interval to [-1.0, 0.0] sec\n",
      "Applying baseline correction (mode: mean)\n",
      "0 projection items activated\n",
      "Loading data for 33 events and 4097 original time points ...\n",
      "0 bad epochs dropped\n"
     ]
    }
   ],
   "source": [
    "epochs = eeg_objects.Epochs(experiment_folder, tmin, tmax, start_second)"
   ]
  },
  {
   "cell_type": "markdown",
   "metadata": {},
   "source": [
    "The generated epoch data is found within the `all_epochs` attribute. Here we are generating epochs with automatically detected impact times, so we can see that there are multiple events."
   ]
  },
  {
   "cell_type": "code",
   "execution_count": 9,
   "metadata": {},
   "outputs": [
    {
     "data": {
      "text/html": [
       "\n",
       "<table class=\"table table-hover\">\n",
       "    <tr>\n",
       "        <th>Number of events</th>\n",
       "        <td>33</td>\n",
       "    </tr>\n",
       "    <tr>\n",
       "        <th>Events</th>\n",
       "        <td>1027 seconds: 1<br>1138 seconds: 1<br>1253 seconds: 1<br>1370 seconds: 1<br>1585 seconds: 1<br>1697 seconds: 1<br>1812 seconds: 1<br>1935 seconds: 1<br>2055 seconds: 1<br>2219 seconds: 1<br>2363 seconds: 1<br>2472 seconds: 1<br>2594 seconds: 1<br>2713 seconds: 1<br>2898 seconds: 1<br>3033 seconds: 1<br>3150 seconds: 1<br>3269 seconds: 1<br>3389 seconds: 1<br>3518 seconds: 1<br>3628 seconds: 1<br>3774 seconds: 1<br>3945 seconds: 1<br>4061 seconds: 1<br>4180 seconds: 1<br>4319 seconds: 1<br>4463 seconds: 1<br>4662 seconds: 1<br>4785 seconds: 1<br>4906 seconds: 1<br>5029 seconds: 1<br>735 seconds: 1<br>892 seconds: 1<br></td>\n",
       "    </tr>\n",
       "    <tr>\n",
       "        <th>Time range</th>\n",
       "        <td>-1.000 – 1.000 sec</td>\n",
       "    </tr>\n",
       "    <tr>\n",
       "        <th>Baseline</th>\n",
       "        <td>-1.000 – 0.000 sec</td>\n",
       "    </tr>\n",
       "</table>\n"
      ],
      "text/plain": [
       "<Epochs |  33 events (all good), -1 - 1 sec, baseline -1 – 0 sec, ~19.6 MB, data loaded,\n",
       " '1027 seconds': 1\n",
       " '1138 seconds': 1\n",
       " '1253 seconds': 1\n",
       " '1370 seconds': 1\n",
       " '1585 seconds': 1\n",
       " '1697 seconds': 1\n",
       " '1812 seconds': 1\n",
       " '1935 seconds': 1\n",
       " '2055 seconds': 1\n",
       " '2219 seconds': 1\n",
       " '2363 seconds': 1\n",
       " '2472 seconds': 1\n",
       " '2594 seconds': 1\n",
       " '2713 seconds': 1\n",
       " '2898 seconds': 1\n",
       " '3033 seconds': 1\n",
       " '3150 seconds': 1\n",
       " '3269 seconds': 1\n",
       " '3389 seconds': 1\n",
       " '3518 seconds': 1\n",
       " '3628 seconds': 1\n",
       " '3774 seconds': 1\n",
       " '3945 seconds': 1\n",
       " '4061 seconds': 1\n",
       " '4180 seconds': 1\n",
       " '4319 seconds': 1\n",
       " '4463 seconds': 1\n",
       " '4662 seconds': 1\n",
       " '4785 seconds': 1\n",
       " '4906 seconds': 1\n",
       " '5029 seconds': 1\n",
       " '735 seconds': 1\n",
       " '892 seconds': 1>"
      ]
     },
     "execution_count": 9,
     "metadata": {},
     "output_type": "execute_result"
    }
   ],
   "source": [
    "epochs.all_epochs"
   ]
  },
  {
   "cell_type": "markdown",
   "metadata": {},
   "source": [
    "If instead we create epochs with a custom start second, we will only create a single epoch with an impact the given `start_second`."
   ]
  },
  {
   "cell_type": "code",
   "execution_count": 11,
   "metadata": {},
   "outputs": [
    {
     "name": "stdout",
     "output_type": "stream",
     "text": [
      "Reading /Users/sasha/mds/simpl_eeg_capstone/data/109/fixica.fdt\n",
      "Not setting metadata\n",
      "Not setting metadata\n",
      "1 matching events found\n",
      "Setting baseline interval to [-1.0, 0.0] sec\n",
      "Applying baseline correction (mode: mean)\n",
      "0 projection items activated\n",
      "Loading data for 1 events and 4097 original time points ...\n",
      "0 bad epochs dropped\n"
     ]
    },
    {
     "data": {
      "text/html": [
       "\n",
       "<table class=\"table table-hover\">\n",
       "    <tr>\n",
       "        <th>Number of events</th>\n",
       "        <td>1</td>\n",
       "    </tr>\n",
       "    <tr>\n",
       "        <th>Events</th>\n",
       "        <td>15 seconds: 1<br></td>\n",
       "    </tr>\n",
       "    <tr>\n",
       "        <th>Time range</th>\n",
       "        <td>-1.000 – 1.000 sec</td>\n",
       "    </tr>\n",
       "    <tr>\n",
       "        <th>Baseline</th>\n",
       "        <td>-1.000 – 0.000 sec</td>\n",
       "    </tr>\n",
       "</table>\n"
      ],
      "text/plain": [
       "<Epochs |  1 events (all good), -1 - 1 sec, baseline -1 – 0 sec, ~638 kB, data loaded,\n",
       " '15 seconds': 1>"
      ]
     },
     "execution_count": 11,
     "metadata": {},
     "output_type": "execute_result"
    }
   ],
   "source": [
    "start_second = 15  # record event at second 15\n",
    "custom_epoch = eeg_objects.Epochs(experiment_folder, tmin, tmax, start_second) \n",
    "\n",
    "custom_epoch.all_epochs"
   ]
  },
  {
   "cell_type": "markdown",
   "metadata": {},
   "source": [
    "#### Get information about epochs"
   ]
  },
  {
   "cell_type": "markdown",
   "metadata": {},
   "source": [
    "In addition to the epochs contained in the `all_epochs` attribute, the `Epoch` object also contains information about the file used and has a selected epoch for quick access. "
   ]
  },
  {
   "cell_type": "code",
   "execution_count": 12,
   "metadata": {},
   "outputs": [
    {
     "name": "stdout",
     "output_type": "stream",
     "text": [
      "../../data/109\n",
      "109\n",
      "{'__header__': b'MATLAB 5.0 MAT-file, Platform: PCWIN64, Created on: Tue Mar 23 17:21:01 2021', '__version__': '1.0', '__globals__': [], 'baselocs': array([[   27722, 10544897]], dtype=int32), 'elecmax1': array([[ 1506127,  1828393,  2103572,  2332113,  2566359,  2806427,\n",
      "         3246204,  3475576,  3712770,  3963481,  4208934,  4544740,\n",
      "         4840659,  5064290,  5314417,  5557193,  5936062,  6213199,\n",
      "         6451715,  6695044,  6941686,  7206205,  7431075,  7731054,\n",
      "         8080362,  8317857,  8562682,  8847325,  9142217,  9549010,\n",
      "         9801198, 10049013, 10301077]], dtype=int32)}\n",
      "<RawEEGLAB | fixica.fdt, 19 x 11175225 (5456.7 s), ~30 kB, data not loaded>\n"
     ]
    }
   ],
   "source": [
    "eeg_file = epochs.eeg_file\n",
    "print(eeg_file.folder_path)  # experiment folder path\n",
    "print(eeg_file.experiment)  # experiment number\n",
    "print(eeg_file.mat)  # impact times\n",
    "print(eeg_file.raw)  # raw data"
   ]
  },
  {
   "cell_type": "markdown",
   "metadata": {},
   "source": [
    "#### Select specific epoch"
   ]
  },
  {
   "cell_type": "markdown",
   "metadata": {},
   "source": [
    "If you have a specific epoch of interest you can specify it with the `get_epoch` method. You can retrieve it later by accessing the `epoch` attribute."
   ]
  },
  {
   "cell_type": "code",
   "execution_count": 17,
   "metadata": {},
   "outputs": [
    {
     "data": {
      "text/html": [
       "\n",
       "<table class=\"table table-hover\">\n",
       "    <tr>\n",
       "        <th>Number of events</th>\n",
       "        <td>1</td>\n",
       "    </tr>\n",
       "    <tr>\n",
       "        <th>Events</th>\n",
       "        <td>1370 seconds: 1<br></td>\n",
       "    </tr>\n",
       "    <tr>\n",
       "        <th>Time range</th>\n",
       "        <td>-1.000 – 1.000 sec</td>\n",
       "    </tr>\n",
       "    <tr>\n",
       "        <th>Baseline</th>\n",
       "        <td>-1.000 – 0.000 sec</td>\n",
       "    </tr>\n",
       "</table>\n"
      ],
      "text/plain": [
       "<Epochs |  1 events (all good), -1 - 1 sec, baseline -1 – 0 sec, ~638 kB, data loaded,\n",
       " '1370 seconds': 1>"
      ]
     },
     "execution_count": 17,
     "metadata": {},
     "output_type": "execute_result"
    }
   ],
   "source": [
    "nth_epoch = 5  # the epoch of interest to select, the 6th impact\n",
    "single_epoch = epochs.get_epoch(nth_epoch)\n",
    "single_epoch"
   ]
  },
  {
   "cell_type": "code",
   "execution_count": 19,
   "metadata": {},
   "outputs": [
    {
     "data": {
      "text/html": [
       "\n",
       "<table class=\"table table-hover\">\n",
       "    <tr>\n",
       "        <th>Number of events</th>\n",
       "        <td>1</td>\n",
       "    </tr>\n",
       "    <tr>\n",
       "        <th>Events</th>\n",
       "        <td>1370 seconds: 1<br></td>\n",
       "    </tr>\n",
       "    <tr>\n",
       "        <th>Time range</th>\n",
       "        <td>-1.000 – 1.000 sec</td>\n",
       "    </tr>\n",
       "    <tr>\n",
       "        <th>Baseline</th>\n",
       "        <td>-1.000 – 0.000 sec</td>\n",
       "    </tr>\n",
       "</table>\n"
      ],
      "text/plain": [
       "<Epochs |  1 events (all good), -1 - 1 sec, baseline -1 – 0 sec, ~638 kB, data loaded,\n",
       " '1370 seconds': 1>"
      ]
     },
     "execution_count": 19,
     "metadata": {},
     "output_type": "execute_result"
    }
   ],
   "source": [
    "epochs.epoch"
   ]
  },
  {
   "cell_type": "markdown",
   "metadata": {},
   "source": [
    "#### Decimate the epoch (optional)"
   ]
  },
  {
   "cell_type": "markdown",
   "metadata": {},
   "source": [
    "To reduce the size of the selected epoch you can choose to skip a selected number of time steps by calling the `skip_n_steps` method. If `use_single=True` (the default), it will only be run on the current selected epoch from the previous step, contained in the `epoch` attribute. Otherwise it will run on all the epochs contained within the `all_epochs` attribute.\n",
    "\n",
    "Skipping steps will greatly reduce animation times for the other functions in the package. The greater the number of steps skipped, the fewer the frames to animate. In the example below we are reducing the selected epoch from 4097 time steps to 81 time steps. "
   ]
  },
  {
   "cell_type": "code",
   "execution_count": 20,
   "metadata": {},
   "outputs": [
    {
     "data": {
      "text/plain": [
       "(1, 19, 4097)"
      ]
     },
     "execution_count": 20,
     "metadata": {},
     "output_type": "execute_result"
    }
   ],
   "source": [
    "single_epoch.get_data().shape"
   ]
  },
  {
   "cell_type": "code",
   "execution_count": 21,
   "metadata": {},
   "outputs": [
    {
     "data": {
      "text/plain": [
       "(1, 19, 81)"
      ]
     },
     "execution_count": 21,
     "metadata": {},
     "output_type": "execute_result"
    }
   ],
   "source": [
    "num_steps = 50\n",
    "smaller_epoch = epochs.skip_n_steps(num_steps)\n",
    "smaller_epoch.get_data().shape"
   ]
  },
  {
   "cell_type": "markdown",
   "metadata": {},
   "source": [
    "### MNE functions"
   ]
  },
  {
   "cell_type": "markdown",
   "metadata": {},
   "source": [
    "Now that you have access epoched data, you can use the `simpl_eeg` package functions as well as any [MNE functions](https://mne.tools/stable/generated/mne.Epochs.html) which act on `mne.epoch` objects. Below are some useful examples for the MNE objects contained within the object we created. "
   ]
  },
  {
   "cell_type": "markdown",
   "metadata": {},
   "source": [
    "#### Raw data\n",
    "https://mne.tools/stable/generated/mne.io.Raw.html"
   ]
  },
  {
   "cell_type": "code",
   "execution_count": 27,
   "metadata": {},
   "outputs": [
    {
     "data": {
      "text/html": [
       "\n",
       "<table class=\"table table-hover\">\n",
       "    <tr>\n",
       "        <th>Measurement date</th>\n",
       "<td>Unknown</td>\n",
       "    </tr>\n",
       "    <tr>\n",
       "        <th>Experimenter</th>\n",
       "<td>Unknown</td>\n",
       "    </tr>\n",
       "        <th>Participant</th>\n",
       "<td>Unknown</td>\n",
       "    </tr>\n",
       "    <tr>\n",
       "        <th>Digitized points</th>\n",
       "        <td>19 points</td>\n",
       "    </tr>\n",
       "    <tr>\n",
       "        <th>Good channels</th>\n",
       "        <td>0 magnetometer, 0 gradiometer,\n",
       "            and 19 EEG channels</td>\n",
       "    </tr>\n",
       "    <tr>\n",
       "        <th>Bad channels</th>\n",
       "        <td></td>\n",
       "        \n",
       "    </tr>\n",
       "    <tr>\n",
       "        <th>EOG channels</th>\n",
       "        <td>Not available</td>\n",
       "    </tr>\n",
       "    <tr>\n",
       "        <th>ECG channels</th>\n",
       "        <td>Not available</td>\n",
       "    <tr>\n",
       "        <th>Sampling frequency</th>\n",
       "        <td>2048.00 Hz</td>\n",
       "    </tr>\n",
       "    <tr>\n",
       "        <th>Highpass</th>\n",
       "        <td>0.00 Hz</td>\n",
       "    </tr>\n",
       "     <tr>\n",
       "        <th>Lowpass</th>\n",
       "        <td>1024.00 Hz</td>\n",
       "    </tr>\n",
       "</table>\n"
      ],
      "text/plain": [
       "<Info | 8 non-empty values\n",
       " bads: []\n",
       " ch_names: Fp1, Fp2, F7, T3, T5, F3, C3, P3, Fz, Cz, Pz, F4, C4, P4, F8, ...\n",
       " chs: 19 EEG\n",
       " custom_ref_applied: False\n",
       " dig: 19 items (19 EEG)\n",
       " highpass: 0.0 Hz\n",
       " lowpass: 1024.0 Hz\n",
       " meas_date: unspecified\n",
       " nchan: 19\n",
       " projs: []\n",
       " sfreq: 2048.0 Hz\n",
       ">"
      ]
     },
     "execution_count": 27,
     "metadata": {},
     "output_type": "execute_result"
    }
   ],
   "source": [
    "raw = epochs.eeg_file.raw\n",
    "raw.info"
   ]
  },
  {
   "cell_type": "code",
   "execution_count": 28,
   "metadata": {},
   "outputs": [
    {
     "name": "stdout",
     "output_type": "stream",
     "text": [
      "Effective window size : 1.000 (s)\n"
     ]
    },
    {
     "data": {
      "image/png": "[encoded data removed]",
      "text/plain": [
       "<MNELineFigure size 720x252 with 2 Axes>"
      ]
     },
     "metadata": {
      "needs_background": "light"
     },
     "output_type": "display_data"
    }
   ],
   "source": [
    "raw.plot_psd();"
   ]
  },
  {
   "cell_type": "markdown",
   "metadata": {},
   "source": [
    "#### Epoch data"
   ]
  },
  {
   "cell_type": "code",
   "execution_count": 29,
   "metadata": {},
   "outputs": [
    {
     "ename": "AttributeError",
     "evalue": "'Epochs' object has no attribute 'data'",
     "output_type": "error",
     "traceback": [
      "\u001b[0;31m---------------------------------------------------------------------------\u001b[0m",
      "\u001b[0;31mAttributeError\u001b[0m                            Traceback (most recent call last)",
      "\u001b[0;32m<ipython-input-29-74d7144d8a4a>\u001b[0m in \u001b[0;36m<module>\u001b[0;34m\u001b[0m\n\u001b[1;32m      1\u001b[0m \u001b[0;31m# first 3 epochs\u001b[0m\u001b[0;34m\u001b[0m\u001b[0;34m\u001b[0m\u001b[0;34m\u001b[0m\u001b[0m\n\u001b[0;32m----> 2\u001b[0;31m \u001b[0mepochs\u001b[0m\u001b[0;34m.\u001b[0m\u001b[0mdata\u001b[0m\u001b[0;34m.\u001b[0m\u001b[0mplot\u001b[0m\u001b[0;34m(\u001b[0m\u001b[0mn_epochs\u001b[0m\u001b[0;34m=\u001b[0m\u001b[0;36m3\u001b[0m\u001b[0;34m)\u001b[0m\u001b[0;34m;\u001b[0m\u001b[0;34m\u001b[0m\u001b[0;34m\u001b[0m\u001b[0m\n\u001b[0m",
      "\u001b[0;31mAttributeError\u001b[0m: 'Epochs' object has no attribute 'data'"
     ]
    }
   ],
   "source": [
    "# first 3 epochs\n",
    "epochs.data.plot(n_epochs=3);"
   ]
  },
  {
   "cell_type": "code",
   "execution_count": null,
   "metadata": {},
   "outputs": [],
   "source": [
    "# specific epoch\n",
    "epochs.get_epoch().plot();  # alternatively you could call epochs.epoch directly"
   ]
  },
  {
   "cell_type": "code",
   "execution_count": null,
   "metadata": {},
   "outputs": [],
   "source": [
    "# specific epoch with steps skipped\n",
    "epochs.skip_n_steps(100).plot();"
   ]
  }
 ],
 "metadata": {
  "kernelspec": {
   "display_name": "Python 3",
   "language": "python",
   "name": "python3"
  },
  "language_info": {
   "codemirror_mode": {
    "name": "ipython",
    "version": 3
   },
   "file_extension": ".py",
   "mimetype": "text/x-python",
   "name": "python",
   "nbconvert_exporter": "python",
   "pygments_lexer": "ipython3",
   "version": "3.8.3"
  },
  "widgets": {
   "application/vnd.jupyter.widget-state+json": {
    "state": {},
    "version_major": 2,
    "version_minor": 0
   }
  }
 },
 "nbformat": 4,
 "nbformat_minor": 5
}
