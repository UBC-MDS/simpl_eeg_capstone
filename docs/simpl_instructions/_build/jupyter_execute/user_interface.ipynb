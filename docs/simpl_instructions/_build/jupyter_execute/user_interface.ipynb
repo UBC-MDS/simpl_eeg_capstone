{
 "cells": [
  {
   "cell_type": "markdown",
   "metadata": {},
   "source": [
    "# User Interface"
   ]
  },
  {
   "cell_type": "markdown",
   "metadata": {},
   "source": [
    "## Overview\n",
    "\n",
    "The user interface (UI) is designed to allow users to generate and customize visualizations with no coding required. \n",
    "\n",
    "A selection of the most useful package features are available in the UI, although the customization options and visualizations available on the UI are not exhaustive. If you would like to heavily customize your visualization we recommend using the python package directly instead, as it allows more flexibility. \n",
    "\n",
    "## Features\n",
    "The UI contains over 40 customization options and 6 visualization options:\n",
    "\n",
    "**1) [Raw Voltage Values Plot](raw_voltage.html#plot)**\n",
    "\n",
    "**2) [2D Head Map Animation](topo_2d.html#animation)**\n",
    "\n",
    "**3) [3D Head Map Animation](topo_3d_head.html#animation)**\n",
    "\n",
    "**4) [3D Brain Map Animation](topo_3d_brain.html#matplotlib)**\n",
    "\n",
    "**5) [Connectivity Animation](connectivity.html#connectivity)**\n",
    "\n",
    "**6) [Connectivity Circle Animation](connectivity.html#circle)**\n",
    "\n",
    "Features include customizing epochs, setting colour scheme, setting value scales, and more. Help messages have been added to all features, so hover over help button (which looks like a `?` in a circle) if you are ever wondering what a specific feature does."
   ]
  },
  {
   "cell_type": "markdown",
   "metadata": {},
   "source": [
    "![](instruction_imgs/ui_showcase.gif)"
   ]
  },
  {
   "cell_type": "markdown",
   "metadata": {},
   "source": [
    "## Demo Example 1\n",
    "\n",
    "Selecting a custom time between 14 - 16 seconds and generating a 3D head map for every 10th frame. \n",
    "\n",
    "![](instruction_imgs/demo1.gif)"
   ]
  },
  {
   "cell_type": "markdown",
   "metadata": {},
   "source": [
    "## Demo Example 2\n",
    "\n",
    "Creating a 2D head map with values between -30 to 30 with no colourbar and a pink green colour scheme.\n",
    "\n",
    "![](instruction_imgs/demo2.gif)"
   ]
  },
  {
   "cell_type": "markdown",
   "metadata": {},
   "source": [
    "## Demo Example 3\n",
    "\n",
    "Exporting a envelope correlation connectivity plot with custom node pairs \"Fp1-Fp2, Fp1-F7, Fp2-F8\"\n",
    "\n",
    "![](instruction_imgs/demo3.gif)"
   ]
  },
  {
   "cell_type": "code",
   "execution_count": null,
   "metadata": {},
   "outputs": [],
   "source": []
  }
 ],
 "metadata": {
  "kernelspec": {
   "display_name": "Python 3",
   "language": "python",
   "name": "python3"
  },
  "language_info": {
   "codemirror_mode": {
    "name": "ipython",
    "version": 3
   },
   "file_extension": ".py",
   "mimetype": "text/x-python",
   "name": "python",
   "nbconvert_exporter": "python",
   "pygments_lexer": "ipython3",
   "version": "3.8.3"
  },
  "widgets": {
   "application/vnd.jupyter.widget-state+json": {
    "state": {},
    "version_major": 2,
    "version_minor": 0
   }
  }
 },
 "nbformat": 4,
 "nbformat_minor": 4
}