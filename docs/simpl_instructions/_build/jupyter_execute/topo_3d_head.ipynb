{
 "cells": [
  {
   "cell_type": "markdown",
   "id": "4a265a0b",
   "metadata": {},
   "source": [
    "# 3D Head Visualizations"
   ]
  },
  {
   "cell_type": "markdown",
   "id": "ddbf124e",
   "metadata": {},
   "source": [
    "##  Topographic map in 3D head"
   ]
  },
  {
   "cell_type": "markdown",
   "id": "e4edd92e",
   "metadata": {},
   "source": [
    "![](instruction_imgs/topo_3d_head_ani.gif)"
   ]
  },
  {
   "cell_type": "code",
   "execution_count": 1,
   "id": "e4d16928",
   "metadata": {},
   "outputs": [],
   "source": [
    "from simpl_eeg import eeg_objects, topomap_3d_head"
   ]
  },
  {
   "cell_type": "code",
   "execution_count": 2,
   "id": "5046c3a7",
   "metadata": {},
   "outputs": [],
   "source": [
    "import warnings\n",
    "warnings.filterwarnings('ignore')"
   ]
  },
  {
   "cell_type": "markdown",
   "id": "7365424d",
   "metadata": {},
   "source": [
    "```{note}\n",
    "Please include the line below in your IDE so that the changes would be simultaneously reflected when you make a change to the python scripts.\n",
    "```"
   ]
  },
  {
   "cell_type": "code",
   "execution_count": 3,
   "id": "ecb18e7f",
   "metadata": {},
   "outputs": [],
   "source": [
    "%load_ext autoreload"
   ]
  },
  {
   "cell_type": "code",
   "execution_count": 4,
   "id": "08f9cc08",
   "metadata": {},
   "outputs": [],
   "source": [
    "%autoreload 2"
   ]
  },
  {
   "cell_type": "markdown",
   "id": "898a0902",
   "metadata": {},
   "source": [
    "<br>"
   ]
  },
  {
   "cell_type": "markdown",
   "id": "cb12f616",
   "metadata": {},
   "source": [
    "### Define global parameters"
   ]
  },
  {
   "cell_type": "markdown",
   "id": "720544c2",
   "metadata": {},
   "source": [
    "There are some common parameters for all functions in this package, it would be more convenient to define all parameters before going into each functions."
   ]
  },
  {
   "cell_type": "code",
   "execution_count": 5,
   "id": "53a78cd3",
   "metadata": {},
   "outputs": [],
   "source": [
    "# change values below to values of interest\n",
    "\n",
    "experiment = \"../../data/927\"  # path to the experiment folder.\n",
    "nth_epoch = 0\n",
    "color_min = -40  # the minimum voltage to show on the colorbar\n",
    "color_max = 40  # the minimum voltage to show on the colorbar\n",
    "colormap = \"RdBu_r\"  # select from [\"RdBu_r\", \"hot\", \"cool\", \"inferno\", \"turbo\", \"rainbow\"]"
   ]
  },
  {
   "cell_type": "markdown",
   "id": "7b59778f",
   "metadata": {},
   "source": [
    "<br>"
   ]
  },
  {
   "cell_type": "markdown",
   "id": "469a2f45",
   "metadata": {},
   "source": [
    "### Create epoched data"
   ]
  },
  {
   "cell_type": "code",
   "execution_count": 6,
   "id": "d2e3dfad",
   "metadata": {},
   "outputs": [
    {
     "name": "stdout",
     "output_type": "stream",
     "text": [
      "Reading /Users/sasha/mds/simpl_eeg_capstone/data/927/fixica.fdt\n"
     ]
    },
    {
     "name": "stdout",
     "output_type": "stream",
     "text": [
      "Not setting metadata\n"
     ]
    },
    {
     "name": "stdout",
     "output_type": "stream",
     "text": [
      "Not setting metadata\n"
     ]
    },
    {
     "name": "stdout",
     "output_type": "stream",
     "text": [
      "33 matching events found\n"
     ]
    },
    {
     "name": "stdout",
     "output_type": "stream",
     "text": [
      "Applying baseline correction (mode: mean)\n"
     ]
    },
    {
     "name": "stdout",
     "output_type": "stream",
     "text": [
      "0 projection items activated\n"
     ]
    },
    {
     "name": "stdout",
     "output_type": "stream",
     "text": [
      "Loading data for 33 events and 2049 original time points ...\n"
     ]
    },
    {
     "name": "stdout",
     "output_type": "stream",
     "text": [
      "0 bad epochs dropped\n"
     ]
    }
   ],
   "source": [
    "tmin = -0.3  # number of seconds before the impact. Please change it to a value of your interest\n",
    "tmax = 0.7  # number of seconds after the impact. Please change it to a value of your interest\n",
    "start_second = None  # starting time of the epoch. Please change it to a value of your interest\n",
    "\n",
    "raw = eeg_objects.Epochs(experiment, tmin, tmax, start_second)\n",
    "\n",
    "raw.set_nth_epoch(nth_epoch)\n",
    "\n",
    "epoch = raw.get_nth_epoch()"
   ]
  },
  {
   "cell_type": "markdown",
   "id": "e0cb7f41",
   "metadata": {},
   "source": [
    "</br>"
   ]
  },
  {
   "cell_type": "markdown",
   "id": "18103d80",
   "metadata": {},
   "source": [
    "### Create the topographic map in 3D head shape"
   ]
  },
  {
   "cell_type": "code",
   "execution_count": 7,
   "id": "f53dc397",
   "metadata": {},
   "outputs": [
    {
     "ename": "NameError",
     "evalue": "name 'time_stamp' is not defined",
     "output_type": "error",
     "traceback": [
      "\u001b[0;31m---------------------------------------------------------------------------\u001b[0m",
      "\u001b[0;31mNameError\u001b[0m                                 Traceback (most recent call last)",
      "\u001b[0;32m<ipython-input-7-fd32d8517896>\u001b[0m in \u001b[0;36m<module>\u001b[0;34m\u001b[0m\n\u001b[1;32m      2\u001b[0m topo_3d__head_static = topomap_3d_head.topo_3d_map(\n\u001b[1;32m      3\u001b[0m     \u001b[0mepoch\u001b[0m\u001b[0;34m,\u001b[0m\u001b[0;34m\u001b[0m\u001b[0;34m\u001b[0m\u001b[0m\n\u001b[0;32m----> 4\u001b[0;31m     \u001b[0mtime_stamp\u001b[0m\u001b[0;34m,\u001b[0m\u001b[0;34m\u001b[0m\u001b[0;34m\u001b[0m\u001b[0m\n\u001b[0m\u001b[1;32m      5\u001b[0m     \u001b[0mcolor_title\u001b[0m\u001b[0;34m=\u001b[0m\u001b[0;34m\"EEG MicroVolt\"\u001b[0m\u001b[0;34m,\u001b[0m\u001b[0;34m\u001b[0m\u001b[0;34m\u001b[0m\u001b[0m\n\u001b[1;32m      6\u001b[0m     \u001b[0mcolor_min\u001b[0m\u001b[0;34m=\u001b[0m\u001b[0mcolor_min\u001b[0m\u001b[0;34m,\u001b[0m\u001b[0;34m\u001b[0m\u001b[0;34m\u001b[0m\u001b[0m\n",
      "\u001b[0;31mNameError\u001b[0m: name 'time_stamp' is not defined"
     ]
    }
   ],
   "source": [
    "timestamp = -300  # you can change the value to the time stamp of your interest\n",
    "topo_3d__head_static = topomap_3d_head.topo_3d_map(\n",
    "    epoch,\n",
    "    time_stamp,\n",
    "    color_title=\"EEG MicroVolt\",\n",
    "    color_min=color_min,\n",
    "    color_max=color_max,\n",
    "    colormap=colormap,\n",
    ")"
   ]
  },
  {
   "cell_type": "code",
   "execution_count": null,
   "id": "17d1ee62",
   "metadata": {},
   "outputs": [],
   "source": [
    "topo_3d__head_static.show()"
   ]
  },
  {
   "cell_type": "markdown",
   "id": "90c99e8e",
   "metadata": {},
   "source": [
    "#### Generating the animnation"
   ]
  },
  {
   "cell_type": "code",
   "execution_count": null,
   "id": "23f6deee",
   "metadata": {},
   "outputs": [],
   "source": [
    "topo_3d_head = topomap_3d_head.animate_3d_head(\n",
    "    epoch,\n",
    "    color_title=\"EEG MicroVolt\",\n",
    "    color_min=color_min,\n",
    "    color_max=color_max,\n",
    "    colormap=colormap,\n",
    ")"
   ]
  },
  {
   "cell_type": "code",
   "execution_count": null,
   "id": "27ee4e40",
   "metadata": {},
   "outputs": [],
   "source": [
    "topo_3d_head.show()"
   ]
  },
  {
   "cell_type": "markdown",
   "id": "3fc6da51",
   "metadata": {},
   "source": [
    "#### Saving the animnation"
   ]
  },
  {
   "cell_type": "markdown",
   "id": "08ca691b",
   "metadata": {},
   "source": [
    "##### Save the static plot"
   ]
  },
  {
   "cell_type": "code",
   "execution_count": null,
   "id": "a7d0e204",
   "metadata": {},
   "outputs": [],
   "source": [
    "static_file_path = \"exports/topo_3d_static.svg\"  # change the file path to where you would like to save the file\n",
    "\n",
    "topo_3d__head_static.write_image(static_file_path, engine=\"kaleido\")"
   ]
  },
  {
   "cell_type": "code",
   "execution_count": null,
   "id": "f12b91cf",
   "metadata": {},
   "outputs": [],
   "source": [
    "static_file_path_png = \"exports/topo_3d_static.png\"  # change the file path to where you would like to save the file\n",
    "\n",
    "topo_3d__head_static.write_image(static_file_path_png) # no need to specify engine if not saved as svg file"
   ]
  },
  {
   "cell_type": "markdown",
   "id": "2ae8c3c7",
   "metadata": {},
   "source": [
    "##### Save the animation as html"
   ]
  },
  {
   "cell_type": "code",
   "execution_count": null,
   "id": "4d225e78",
   "metadata": {},
   "outputs": [],
   "source": [
    "html_file_path = \"exports/topo_3d.html\"  # change the file path to where you would like to save the file\n",
    "\n",
    "topo_3d_head.write_html(html_file_path)"
   ]
  },
  {
   "cell_type": "markdown",
   "id": "eba97dd0",
   "metadata": {},
   "source": [
    "##### Save the animation as gif"
   ]
  },
  {
   "cell_type": "code",
   "execution_count": null,
   "id": "901343d4",
   "metadata": {},
   "outputs": [],
   "source": [
    "topomap_3d_head.save_gif(epoch, gifname=\"topo_3d_head_ani\", duration=200) "
   ]
  },
  {
   "cell_type": "markdown",
   "id": "429b3c2c",
   "metadata": {},
   "source": [
    "##### Save the animation as mp4 "
   ]
  },
  {
   "cell_type": "markdown",
   "id": "f9470936",
   "metadata": {},
   "source": [
    "```{note}\n",
    "You would need to save it as gif file first and then convert it into mp4 file.\n",
    "```"
   ]
  },
  {
   "cell_type": "code",
   "execution_count": null,
   "id": "7495db62",
   "metadata": {},
   "outputs": [],
   "source": [
    "import moviepy.editor as mp\n",
    "\n",
    "clip = mp.VideoFileClip(\"topo_3d_head_ani.gif\")  # change the file path to where you saved the gif file\n",
    "clip.write_videofile(\"topo_3d_head_ani.mp4\")  # change the file path to where you would like to save the file"
   ]
  },
  {
   "cell_type": "code",
   "execution_count": null,
   "id": "fa1b20bd",
   "metadata": {},
   "outputs": [],
   "source": []
  }
 ],
 "metadata": {
  "kernelspec": {
   "display_name": "Python 3",
   "language": "python",
   "name": "python3"
  },
  "language_info": {
   "codemirror_mode": {
    "name": "ipython",
    "version": 3
   },
   "file_extension": ".py",
   "mimetype": "text/x-python",
   "name": "python",
   "nbconvert_exporter": "python",
   "pygments_lexer": "ipython3",
   "version": "3.8.3"
  },
  "widgets": {
   "application/vnd.jupyter.widget-state+json": {
    "state": {},
    "version_major": 2,
    "version_minor": 0
   }
  }
 },
 "nbformat": 4,
 "nbformat_minor": 5
}