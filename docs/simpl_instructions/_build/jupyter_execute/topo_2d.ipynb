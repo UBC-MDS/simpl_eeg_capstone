{
 "cells": [
  {
   "cell_type": "markdown",
   "metadata": {},
   "source": [
    "# 2D Head Visualizations"
   ]
  },
  {
   "cell_type": "markdown",
   "metadata": {},
   "source": [
    "## 2D topographic map"
   ]
  },
  {
   "cell_type": "markdown",
   "metadata": {},
   "source": [
    "![](instruction_imgs/topo_2d.gif)"
   ]
  },
  {
   "cell_type": "code",
   "execution_count": 1,
   "metadata": {},
   "outputs": [],
   "source": [
    "from simpl_eeg import topomap_2d, eeg_objects "
   ]
  },
  {
   "cell_type": "code",
   "execution_count": 2,
   "metadata": {},
   "outputs": [],
   "source": [
    "import warnings\n",
    "warnings.filterwarnings('ignore')"
   ]
  },
  {
   "cell_type": "markdown",
   "metadata": {},
   "source": [
    "```{note}\n",
    "Please include the line below in your IDE so that the changes would be simultaneously reflected when you make a change to the python scripts.**\n",
    "```"
   ]
  },
  {
   "cell_type": "code",
   "execution_count": 3,
   "metadata": {},
   "outputs": [],
   "source": [
    "%load_ext autoreload"
   ]
  },
  {
   "cell_type": "code",
   "execution_count": 4,
   "metadata": {},
   "outputs": [],
   "source": [
    "%autoreload 2"
   ]
  },
  {
   "cell_type": "markdown",
   "metadata": {},
   "source": [
    "<br>"
   ]
  },
  {
   "cell_type": "markdown",
   "metadata": {},
   "source": [
    "### Define parameters"
   ]
  },
  {
   "cell_type": "markdown",
   "metadata": {},
   "source": [
    "A detailed description of all parameters can be found in the `topomap_2d.animate_topomap_2d` docstring:"
   ]
  },
  {
   "cell_type": "code",
   "execution_count": 5,
   "metadata": {},
   "outputs": [
    {
     "name": "stdout",
     "output_type": "stream",
     "text": [
      "Help on function animate_topomap_2d in module simpl_eeg.topomap_2d:\n",
      "\n",
      "animate_topomap_2d(epoch, colormap='RdBu_r', mark='dot', contours=0, sphere=100, cmin=-30, cmax=30, res=100, extrapolate='head', outlines='head', axes=None, mask=None, mask_params=None, colorbar=True, timestamp=True, frame_rate=12)\n",
      "    Plots a still image mne.epochs.Epochs EEG data as a 2D topomap using the mne.viz.plot_topomap\n",
      "    function.\n",
      "    \n",
      "    Parameters\n",
      "    ----------\n",
      "    epochs : mne.epochs.Epochs\n",
      "        MNE epochs object containing portions of raw EEG data built around specified timestamp(s)\n",
      "    \n",
      "    colormap: matplotlib colormap or None\n",
      "        Specifies the 'colormap' parameter in the mne.viz.plot_topomap() function.\n",
      "    \n",
      "    mark: str\n",
      "        Specifies what kind of marker should be shown for each node on the topomap. Can be one of\n",
      "        'dot', 'r+' (for red +'s), 'channel_name', or 'none'.\n",
      "    \n",
      "    contours: int or array of float\n",
      "        specifies the 'contours' parameter in the mne.viz.plot_topomap() function. \"The number of\n",
      "        contour lines to draw. If 0, no contours will be drawn. If an array, the values represent\n",
      "        the levels for the contours. The values are in µV for EEG, fT for magnetometers and fT/m\n",
      "        for gradiometers.\"\n",
      "    \n",
      "    sphere: float or array_like or instance of ConductorModel\n",
      "        specifies the 'sphere' parameter in the mne.viz.plot_topomap() function. \"The sphere\n",
      "        parameters to use for the cartoon head. Can be array-like of shape (4,) to give the\n",
      "        X/Y/Z origin and radius in meters, or a single float to give the radius (origin\n",
      "        assumed 0, 0, 0). Can also be a spherical ConductorModel, which will use the origin\n",
      "        and radius. Can also be None (default) which is an alias for 0.095\"\n",
      "    \n",
      "    cmin: float\n",
      "        Specifies the 'vmin' parameter in the mne.viz.plot_topomap() function.\n",
      "        Sets the limits for the colors which will be used on the topomap. Value is\n",
      "        in μV. Defaults to -10.\n",
      "        \n",
      "    cmax: float\n",
      "        Specifies the 'vmax' parameter in the mne.viz.plot_topomap() function.\n",
      "        Sets the limits for the colors which will be used on the topomap. Value is\n",
      "        in μV. Defaults to +10.\n",
      "    \n",
      "    res: int\n",
      "        Specifies the 'res' and parameters in the mne.viz.plot_topomap() function. \"The\n",
      "        resolution of the topomap image (n pixels along each side).\"\n",
      "    \n",
      "    extrapolate: str\n",
      "        Specifies the 'extrapolate' and parameters in the mne.viz.plot_topomap() function. One of\n",
      "        \"box\", \"local\", or \"head\".\n",
      "    \n",
      "    outlines: ‘head’ or ‘skirt’ or dict or None\n",
      "        Specifies the 'outlines' parameter in the mne.viz.plot_topomap() function.\n",
      "    \n",
      "    axes: instance of Axes or None\n",
      "        Specifies the 'axes' parameter in the mne.viz.plot_topomap() function.\n",
      "    \n",
      "    mask: ndarray of bool, shape (n_channels, n_times) or None\n",
      "        Specifies the 'mask' parameter in the mne.viz.plot_topomap() function.\n",
      "    \n",
      "    mask_params: dict\n",
      "        Specifies the 'mask_params' parameter in the mne.viz.plot_topomap() function.\n",
      "    \n",
      "    colorbar: bool\n",
      "        Specifies whether or not to include a colorbar in the animation.\n",
      "    \n",
      "    timestamp: bool\n",
      "        Specifies whether or not to show the timestamp on the plot relative to the time in the epoch that\n",
      "        is being shown. Defaults to True.\n",
      "    \n",
      "    frame_rate: int\n",
      "        The frame rate to genearte the final animation with.\n",
      "    \n",
      "    Returns\n",
      "    -------\n",
      "    ani: matplotlib.animation.FuncAnimation\n",
      "        matplotlib funcanimation of a 2d topographic map based on the input epoch data\n",
      "\n"
     ]
    }
   ],
   "source": [
    "help(topomap_2d.animate_topomap_2d)"
   ]
  },
  {
   "cell_type": "code",
   "execution_count": 6,
   "metadata": {},
   "outputs": [],
   "source": [
    "# change values below to values of interest\n",
    "\n",
    "experiment_folder = \"../../data/109\"  # path to the experiment folder\n",
    "nth_epoch = 0  # the epoch of interest\n",
    "\n",
    "cmin = -40\n",
    "cmax = 40\n",
    "colormap = \"Spectral\"\n",
    "mark = \"dot\"\n",
    "contours = \"6\"\n",
    "sphere = 100\n",
    "res = 100\n",
    "extrapolate = \"head\"\n",
    "outlines = \"head\"\n",
    "axes = None\n",
    "mask = None\n",
    "mask_params = None\n",
    "colorbar = True\n",
    "timestamp = True\n",
    "frame_rate = 12"
   ]
  },
  {
   "cell_type": "markdown",
   "metadata": {},
   "source": [
    "<br>"
   ]
  },
  {
   "cell_type": "markdown",
   "metadata": {},
   "source": [
    "### Create epoched data"
   ]
  },
  {
   "cell_type": "markdown",
   "metadata": {},
   "source": [
    "For additional options see **Creating EEG Objects** section."
   ]
  },
  {
   "cell_type": "code",
   "execution_count": 7,
   "metadata": {},
   "outputs": [
    {
     "name": "stdout",
     "output_type": "stream",
     "text": [
      "Reading /Users/sasha/mds/simpl_eeg_capstone/data/109/fixica.fdt\n"
     ]
    },
    {
     "name": "stdout",
     "output_type": "stream",
     "text": [
      "Not setting metadata\n"
     ]
    },
    {
     "name": "stdout",
     "output_type": "stream",
     "text": [
      "Not setting metadata\n"
     ]
    },
    {
     "name": "stdout",
     "output_type": "stream",
     "text": [
      "33 matching events found\n"
     ]
    },
    {
     "name": "stdout",
     "output_type": "stream",
     "text": [
      "Applying baseline correction (mode: mean)\n"
     ]
    },
    {
     "name": "stdout",
     "output_type": "stream",
     "text": [
      "0 projection items activated\n"
     ]
    },
    {
     "name": "stdout",
     "output_type": "stream",
     "text": [
      "Loading data for 33 events and 2049 original time points ...\n"
     ]
    },
    {
     "name": "stdout",
     "output_type": "stream",
     "text": [
      "0 bad epochs dropped\n"
     ]
    }
   ],
   "source": [
    "epochs = eeg_objects.Epochs(experiment_folder)\n",
    "epoch = epochs.get_nth_epoch(nth_epoch)"
   ]
  },
  {
   "cell_type": "markdown",
   "metadata": {},
   "source": [
    "<br>"
   ]
  },
  {
   "cell_type": "markdown",
   "metadata": {},
   "source": [
    "### Create the 2D topographic map"
   ]
  },
  {
   "cell_type": "markdown",
   "metadata": {},
   "source": [
    "#### Generating the animation"
   ]
  },
  {
   "cell_type": "code",
   "execution_count": 8,
   "metadata": {},
   "outputs": [
    {
     "ename": "NameError",
     "evalue": "name 'shortened_epoch' is not defined",
     "output_type": "error",
     "traceback": [
      "\u001b[0;31m---------------------------------------------------------------------------\u001b[0m",
      "\u001b[0;31mNameError\u001b[0m                                 Traceback (most recent call last)",
      "\u001b[0;32m<ipython-input-8-46eefada27d9>\u001b[0m in \u001b[0;36m<module>\u001b[0;34m\u001b[0m\n\u001b[1;32m      1\u001b[0m anim = topomap_2d.animate_topomap_2d(\n\u001b[0;32m----> 2\u001b[0;31m     \u001b[0mshortened_epoch\u001b[0m\u001b[0;34m,\u001b[0m\u001b[0;34m\u001b[0m\u001b[0;34m\u001b[0m\u001b[0m\n\u001b[0m\u001b[1;32m      3\u001b[0m     \u001b[0mcolormap\u001b[0m\u001b[0;34m=\u001b[0m\u001b[0mcolormap\u001b[0m\u001b[0;34m,\u001b[0m\u001b[0;34m\u001b[0m\u001b[0;34m\u001b[0m\u001b[0m\n\u001b[1;32m      4\u001b[0m     \u001b[0mmark\u001b[0m\u001b[0;34m=\u001b[0m\u001b[0mmark\u001b[0m\u001b[0;34m,\u001b[0m\u001b[0;34m\u001b[0m\u001b[0;34m\u001b[0m\u001b[0m\n\u001b[1;32m      5\u001b[0m     \u001b[0mcontours\u001b[0m\u001b[0;34m=\u001b[0m\u001b[0mcontours\u001b[0m\u001b[0;34m,\u001b[0m\u001b[0;34m\u001b[0m\u001b[0;34m\u001b[0m\u001b[0m\n",
      "\u001b[0;31mNameError\u001b[0m: name 'shortened_epoch' is not defined"
     ]
    }
   ],
   "source": [
    "%%capture\n",
    "\n",
    "anim = topomap_2d.animate_topomap_2d(\n",
    "    shortened_epoch,\n",
    "    colormap=colormap,\n",
    "    mark=mark,\n",
    "    contours=contours,\n",
    "    sphere=sphere,\n",
    "    cmin=cmin,\n",
    "    cmax=cmax,\n",
    "    res=res,\n",
    "    extrapolate=extrapolate,\n",
    "    outlines=outlines,\n",
    "    axes=axes,\n",
    "    mask=mask,\n",
    "    mask_params=mask_params,\n",
    "    colorbar=colorbar,\n",
    "    timestamp=timestamp,\n",
    "    frame_rate=frame_rate,\n",
    ")\n",
    "\n",
    "from IPython.core.display import HTML\n",
    "\n",
    "html_plot = anim.to_jshtml()\n",
    "video = HTML(html_plot)"
   ]
  },
  {
   "cell_type": "code",
   "execution_count": 9,
   "metadata": {},
   "outputs": [
    {
     "ename": "NameError",
     "evalue": "name 'video' is not defined",
     "output_type": "error",
     "traceback": [
      "\u001b[0;31m---------------------------------------------------------------------------\u001b[0m",
      "\u001b[0;31mNameError\u001b[0m                                 Traceback (most recent call last)",
      "\u001b[0;32m<ipython-input-9-7bf9888fe41c>\u001b[0m in \u001b[0;36m<module>\u001b[0;34m\u001b[0m\n\u001b[0;32m----> 1\u001b[0;31m \u001b[0mvideo\u001b[0m\u001b[0;34m\u001b[0m\u001b[0;34m\u001b[0m\u001b[0m\n\u001b[0m",
      "\u001b[0;31mNameError\u001b[0m: name 'video' is not defined"
     ]
    }
   ],
   "source": [
    "video"
   ]
  },
  {
   "cell_type": "markdown",
   "metadata": {},
   "source": [
    "#### Saving the animation"
   ]
  },
  {
   "cell_type": "markdown",
   "metadata": {},
   "source": [
    "##### Save as html"
   ]
  },
  {
   "cell_type": "code",
   "execution_count": null,
   "metadata": {},
   "outputs": [],
   "source": [
    "html_file_path = \"../../exports/examples/topo_2d.html\"  # change the file path to where you would like to save the file\n",
    "\n",
    "html_file = open(html_file_path, \"w\")\n",
    "html_file.write(html_plot)\n",
    "html_file.close()"
   ]
  },
  {
   "cell_type": "markdown",
   "metadata": {},
   "source": [
    "##### Save as gif"
   ]
  },
  {
   "cell_type": "code",
   "execution_count": null,
   "metadata": {},
   "outputs": [],
   "source": [
    "%%capture\n",
    "\n",
    "anim = topomap_2d.animate_topomap_2d(shortened_epoch)\n",
    "\n",
    "gif_file_path = \"../../exports/examples/topo_2d.gif\"  # change the file path to where you would like to save the file\n",
    "anim.save(gif_file_path, fps=5, dpi=300)"
   ]
  },
  {
   "cell_type": "markdown",
   "metadata": {},
   "source": [
    "##### Save as mp4"
   ]
  },
  {
   "cell_type": "code",
   "execution_count": null,
   "metadata": {},
   "outputs": [],
   "source": [
    "%%capture\n",
    "\n",
    "anim = topomap_2d.animate_topomap_2d(shortened_epoch)\n",
    "\n",
    "mp4_file_path = \"../../exports/examples/topo_2d.mp4\"  # change the file path to where you would like to save the file\n",
    "anim.save(mp4_file_path)"
   ]
  },
  {
   "cell_type": "markdown",
   "metadata": {},
   "source": [
    "<br>"
   ]
  }
 ],
 "metadata": {
  "kernelspec": {
   "display_name": "Python 3",
   "language": "python",
   "name": "python3"
  },
  "language_info": {
   "codemirror_mode": {
    "name": "ipython",
    "version": 3
   },
   "file_extension": ".py",
   "mimetype": "text/x-python",
   "name": "python",
   "nbconvert_exporter": "python",
   "pygments_lexer": "ipython3",
   "version": "3.8.3"
  },
  "widgets": {
   "application/vnd.jupyter.widget-state+json": {
    "state": {},
    "version_major": 2,
    "version_minor": 0
   }
  }
 },
 "nbformat": 4,
 "nbformat_minor": 5
}