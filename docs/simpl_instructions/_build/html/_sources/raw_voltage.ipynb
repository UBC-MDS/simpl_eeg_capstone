{
 "cells": [
  {
   "cell_type": "markdown",
   "id": "07c77bdd",
   "metadata": {},
   "source": [
    "# Raw Voltage Visualization"
   ]
  },
  {
   "cell_type": "markdown",
   "id": "7741b586",
   "metadata": {},
   "source": [
    "<a id=\"plot\"></a>\n",
    "## Raw voltage plot"
   ]
  },
  {
   "cell_type": "markdown",
   "id": "c8500e93",
   "metadata": {},
   "source": [
    "![](instruction_imgs/voltage_plot.svg)"
   ]
  },
  {
   "cell_type": "code",
   "execution_count": null,
   "id": "48f8729a",
   "metadata": {},
   "outputs": [],
   "source": [
    "from simpl_eeg import raw_voltage, eeg_objects"
   ]
  },
  {
   "cell_type": "code",
   "execution_count": null,
   "id": "a1f1d58a",
   "metadata": {},
   "outputs": [],
   "source": [
    "import warnings\n",
    "warnings.filterwarnings('ignore')"
   ]
  },
  {
   "cell_type": "markdown",
   "id": "0951ca3c",
   "metadata": {},
   "source": [
    "```{note}\n",
    "Please include the line below in your IDE so that the changes would be simultaneously reflected when you make a change to the python scripts.\n",
    "```"
   ]
  },
  {
   "cell_type": "code",
   "execution_count": null,
   "id": "af3eadd7",
   "metadata": {},
   "outputs": [],
   "source": [
    "%load_ext autoreload"
   ]
  },
  {
   "cell_type": "code",
   "execution_count": null,
   "id": "cb7f3ba3",
   "metadata": {},
   "outputs": [],
   "source": [
    "%autoreload 2"
   ]
  },
  {
   "cell_type": "markdown",
   "id": "3c62aef8",
   "metadata": {},
   "source": [
    "<br>"
   ]
  },
  {
   "cell_type": "markdown",
   "id": "18897d22",
   "metadata": {},
   "source": [
    "### Define parameters"
   ]
  },
  {
   "cell_type": "markdown",
   "id": "1a7854ce",
   "metadata": {},
   "source": [
    "A detailed description of all parameters can be found in the `raw_voltage.plot_voltage` docstring:"
   ]
  },
  {
   "cell_type": "code",
   "execution_count": null,
   "id": "98d85729",
   "metadata": {},
   "outputs": [],
   "source": [
    "help(raw_voltage.plot_voltage)"
   ]
  },
  {
   "cell_type": "code",
   "execution_count": null,
   "id": "9ff349da",
   "metadata": {},
   "outputs": [],
   "source": [
    "# change values below to values of interest\n",
    "\n",
    "experiment_path = \"../../data/927\"\n",
    "nth_epoch = 0"
   ]
  },
  {
   "cell_type": "markdown",
   "id": "b201dc67",
   "metadata": {},
   "source": [
    "<br>"
   ]
  },
  {
   "cell_type": "markdown",
   "id": "42c61501",
   "metadata": {},
   "source": [
    "### Create epoched data"
   ]
  },
  {
   "cell_type": "markdown",
   "id": "c832d98a",
   "metadata": {},
   "source": [
    "For additional options see [Creating EEG Objects](eeg_objects.html#intro) section."
   ]
  },
  {
   "cell_type": "code",
   "execution_count": null,
   "id": "b7719047",
   "metadata": {},
   "outputs": [],
   "source": [
    "epochs = eeg_objects.Epochs(experiment_path)\n",
    "epoch = epochs.get_nth_epoch(nth_epoch)"
   ]
  },
  {
   "cell_type": "markdown",
   "id": "ecf67c13",
   "metadata": {},
   "source": [
    "</br>"
   ]
  },
  {
   "cell_type": "markdown",
   "id": "ed2781cc",
   "metadata": {},
   "source": [
    "### Create the raw voltage plot"
   ]
  },
  {
   "cell_type": "markdown",
   "id": "52196c87",
   "metadata": {},
   "source": [
    "#### Generating the plot"
   ]
  },
  {
   "cell_type": "markdown",
   "id": "5e8b552e",
   "metadata": {},
   "source": [
    "You can create a plot for one epoch or multiple epochs by customizing the epoch object you pass to the function."
   ]
  },
  {
   "cell_type": "code",
   "execution_count": null,
   "id": "dfe182d2",
   "metadata": {},
   "outputs": [],
   "source": [
    "# multiple epochs\n",
    "raw_voltage.plot_voltage(epochs.data, n_epochs=2);"
   ]
  },
  {
   "cell_type": "code",
   "execution_count": null,
   "id": "0d96e368",
   "metadata": {},
   "outputs": [],
   "source": [
    "# single epoch \n",
    "voltage_plot = raw_voltage.plot_voltage(epoch)\n",
    "voltage_plot;"
   ]
  },
  {
   "cell_type": "markdown",
   "id": "18466f4c",
   "metadata": {},
   "source": [
    "#### Saving the plot"
   ]
  },
  {
   "cell_type": "markdown",
   "id": "da1bfcb2",
   "metadata": {},
   "source": [
    "You can change the file to different formats by changing the format argument in the function. It supports `png`, `pdf`, `svg`."
   ]
  },
  {
   "cell_type": "markdown",
   "id": "a366340e",
   "metadata": {},
   "source": [
    "```python\n",
    "# change the file path to where you would like to save the file\n",
    "file_path = \"../../exports/examples/voltage_plot.svg\"\n",
    "\n",
    "voltage_plot.savefig(file_path, format=\"svg\")\n",
    "```"
   ]
  },
  {
   "cell_type": "markdown",
   "id": "53a571c4",
   "metadata": {},
   "source": [
    "<br>"
   ]
  }
 ],
 "metadata": {
  "kernelspec": {
   "display_name": "Python 3",
   "language": "python",
   "name": "python3"
  },
  "language_info": {
   "codemirror_mode": {
    "name": "ipython",
    "version": 3
   },
   "file_extension": ".py",
   "mimetype": "text/x-python",
   "name": "python",
   "nbconvert_exporter": "python",
   "pygments_lexer": "ipython3",
   "version": "3.8.5"
  },
  "widgets": {
   "application/vnd.jupyter.widget-state+json": {
    "state": {},
    "version_major": 2,
    "version_minor": 0
   }
  }
 },
 "nbformat": 4,
 "nbformat_minor": 5
}
