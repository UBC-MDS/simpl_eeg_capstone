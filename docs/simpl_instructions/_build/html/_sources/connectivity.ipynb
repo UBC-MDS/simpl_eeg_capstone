{
 "cells": [
  {
   "cell_type": "markdown",
   "metadata": {},
   "source": [
    "# Connectivity Visualizations"
   ]
  },
  {
   "cell_type": "markdown",
   "metadata": {},
   "source": [
    "## Connectivity plots\n",
    "\n",
    "The connectivity plots provide a way to visualize pair-wise correlation, coherence, and connectivity measures between nodes. There are 2 types of plots, shown in the image below. Both types of plots can be generated as an animation to view changes over time or as standalone plots. "
   ]
  },
  {
   "cell_type": "markdown",
   "metadata": {},
   "source": [
    "[1) Connectivity Plot](#connectivity)             | [2) Connectivity Circle](#circle)\n",
    ":-------------------------:|:-------------------------:\n",
    "Lines drawn on a 2D representation of a skull![](instruction_imgs/connectivity.gif)  | Lines drawn between nodes represented in a circle ![](instruction_imgs/connectivity_circle.gif)"
   ]
  },
  {
   "cell_type": "markdown",
   "metadata": {},
   "source": [
    "## General Setup\n",
    "### Import required modules"
   ]
  },
  {
   "cell_type": "code",
   "execution_count": null,
   "metadata": {},
   "outputs": [],
   "source": [
    "from simpl_eeg import connectivity, eeg_objects"
   ]
  },
  {
   "cell_type": "code",
   "execution_count": null,
   "metadata": {},
   "outputs": [],
   "source": [
    "import warnings\n",
    "warnings.filterwarnings('ignore')"
   ]
  },
  {
   "cell_type": "markdown",
   "metadata": {},
   "source": [
    "```{note}\n",
    "Please include the line below in your IDE so that the changes would be simultaneously reflected when you make a change to the python scripts.\n",
    "```"
   ]
  },
  {
   "cell_type": "code",
   "execution_count": null,
   "metadata": {},
   "outputs": [],
   "source": [
    "%load_ext autoreload"
   ]
  },
  {
   "cell_type": "code",
   "execution_count": null,
   "metadata": {},
   "outputs": [],
   "source": [
    "%autoreload 2"
   ]
  },
  {
   "cell_type": "markdown",
   "metadata": {},
   "source": [
    "### Create epoched data\n",
    "For additional options see [Creating EEG Objects](eeg_objects.html#intro) section."
   ]
  },
  {
   "cell_type": "code",
   "execution_count": null,
   "metadata": {},
   "outputs": [],
   "source": [
    "experiment_folder = \"../../data/927\"\n",
    "nth_epoch = 0\n",
    "\n",
    "epochs = eeg_objects.Epochs(experiment_folder)\n",
    "epoch = epochs.get_epoch(nth_epoch)"
   ]
  },
  {
   "cell_type": "markdown",
   "metadata": {},
   "source": [
    "<a id=\"connectivity\"></a>\n",
    "## Create a Connectivity Plot animation"
   ]
  },
  {
   "cell_type": "markdown",
   "metadata": {},
   "source": [
    "### Define parameters"
   ]
  },
  {
   "cell_type": "markdown",
   "metadata": {},
   "source": [
    "A detailed description of all parameters can be found in the `connectivity.animate_connectivity` docstring:"
   ]
  },
  {
   "cell_type": "code",
   "execution_count": null,
   "metadata": {},
   "outputs": [],
   "source": [
    "help(connectivity.animate_connectivity)"
   ]
  },
  {
   "cell_type": "code",
   "execution_count": null,
   "metadata": {},
   "outputs": [],
   "source": [
    "vmin = -1\n",
    "vmax = 1\n",
    "colormap = \"RdBu_r\"\n",
    "calc_type = \"correlation\"\n",
    "line_width = None\n",
    "steps = 50\n",
    "threshold = 0\n",
    "show_sphere = True"
   ]
  },
  {
   "cell_type": "code",
   "execution_count": null,
   "metadata": {},
   "outputs": [],
   "source": [
    "PAIR_OPTIONS = {\n",
    "    \"all_pairs\": [],\n",
    "    \"local_anterior\": \"Fp1-F7, Fp2-F8, F7-C3, F4-C4, C4-F8, F3-C3\",\n",
    "    \"local_posterior\": \"T5-C3, T5-O1, C3-P3, C4-P4, C4-T6, T6-O2\",\n",
    "    \"far_coherence\": \"Fp1-T5, Fp2-T6, F7-T5, F7-P3, F7-O1, T5-F3, F3-P3, F4-P4, P4-F8, F8-T6, F8-O2, F4-T6\",\n",
    "    \"prefrontal_to_frontal_and_central\": \"Fp1-F3, Fp1-C3, Fp2-F4, Fp2-C4\",\n",
    "    \"occipital_to_parietal_and_central\": \"C3-O1, P3-O1, C4-O2, P4-O4\",\n",
    "    \"prefrontal_to_parietal\": \"Fp1-P3, Fp2-P4\",\n",
    "    \"frontal_to_occipital\": \"F3-O1, P4-O2\",\n",
    "    \"prefrontal_to_occipital\": \"Fp1-O1, Fp2-O2\"\n",
    "}\n",
    "\n",
    "# select from the PAIR_OPTIONS options above or use a custom pair.\n",
    "pair_list = []  # leave as an empty list if you want all pairs\n",
    "\n",
    "# example of referencing a pair from the list\n",
    "pair_list = PAIR_OPTIONS[\"far_coherence\"]"
   ]
  },
  {
   "cell_type": "markdown",
   "metadata": {},
   "source": [
    "### Generating the animation"
   ]
  },
  {
   "cell_type": "code",
   "execution_count": null,
   "metadata": {},
   "outputs": [],
   "source": [
    "# for displaying animation in jupyter notebook\n",
    "%matplotlib inline"
   ]
  },
  {
   "cell_type": "code",
   "execution_count": null,
   "metadata": {},
   "outputs": [],
   "source": [
    "%%capture\n",
    "\n",
    "anim = connectivity.animate_connectivity(\n",
    "    epoch,\n",
    "    calc_type=calc_type,\n",
    "    steps=steps,\n",
    "    pair_list=pair_list,\n",
    "    threshold=threshold,\n",
    "    show_sphere=show_sphere,\n",
    "    colormap=colormap,\n",
    "    vmin=vmin,\n",
    "    vmax=vmax,\n",
    "    line_width=line_width,\n",
    ")\n",
    "\n",
    "from IPython.display import HTML\n",
    "\n",
    "html_plot = anim.to_jshtml()\n",
    "video = HTML(html_plot)"
   ]
  },
  {
   "cell_type": "code",
   "execution_count": null,
   "metadata": {},
   "outputs": [],
   "source": [
    "video"
   ]
  },
  {
   "cell_type": "markdown",
   "metadata": {},
   "source": [
    "### Saving the animation"
   ]
  },
  {
   "cell_type": "markdown",
   "metadata": {},
   "source": [
    "#### Save as html\n",
    "```python\n",
    "html_file_path = \"examples/connectivity.html\"\n",
    "\n",
    "html_file = open(html_file_path, \"w\")\n",
    "html_file.write(html_plot)\n",
    "html_file.close()\n",
    "```"
   ]
  },
  {
   "cell_type": "markdown",
   "metadata": {},
   "source": [
    "#### Save as gif\n",
    "```python\n",
    "gif_file_path = \"examples/connectivity.gif\"\n",
    "\n",
    "# set frames per second (fps) and resolution (dpi)\n",
    "anim.save(gif_file_path, fps=3, dpi=300)\n",
    "```"
   ]
  },
  {
   "cell_type": "markdown",
   "metadata": {},
   "source": [
    "#### Save as mp4\n",
    "```python\n",
    "mp4_file_path = \"examples/connectivity.mp4\"\n",
    "anim.save(mp4_file_path, fps=3, dpi=300)\n",
    "```"
   ]
  },
  {
   "cell_type": "markdown",
   "metadata": {},
   "source": [
    "```{note}\n",
    "If `FFMpegWriter` does not work on your computer you can save the file as a gif first and then convert it into mp4 file by running the code below.\n",
    "```\n",
    "```python\n",
    "import moviepy.editor as mp\n",
    "\n",
    "clip = mp.VideoFileClip(gif_file_path)\n",
    "clip.write_videofile(mp4_file_path)\n",
    "```"
   ]
  },
  {
   "cell_type": "markdown",
   "metadata": {},
   "source": [
    "<a id=\"circle\"></a>\n",
    "## Create a Connectivity Circle animation"
   ]
  },
  {
   "cell_type": "markdown",
   "metadata": {},
   "source": [
    "### Define parameters"
   ]
  },
  {
   "cell_type": "markdown",
   "metadata": {},
   "source": [
    "A detailed description of all parameters can be found in the `connectivity.animate_connectivity_circle` docstring:"
   ]
  },
  {
   "cell_type": "code",
   "execution_count": null,
   "metadata": {},
   "outputs": [],
   "source": [
    "help(connectivity.animate_connectivity_circle)"
   ]
  },
  {
   "cell_type": "code",
   "execution_count": null,
   "metadata": {},
   "outputs": [],
   "source": [
    "vmin = -1\n",
    "vmax = 1\n",
    "colormap = \"RdBu_r\"\n",
    "calc_type = \"correlation\"\n",
    "line_width = 1\n",
    "steps = 50\n",
    "max_connections = 50"
   ]
  },
  {
   "cell_type": "markdown",
   "metadata": {},
   "source": [
    "### Generating the animation"
   ]
  },
  {
   "cell_type": "code",
   "execution_count": null,
   "metadata": {},
   "outputs": [],
   "source": [
    "# for displaying animation in jupyter notebook\n",
    "%matplotlib notebook"
   ]
  },
  {
   "cell_type": "code",
   "execution_count": null,
   "metadata": {},
   "outputs": [],
   "source": [
    "%%capture\n",
    "\n",
    "anim = connectivity.animate_connectivity_circle(\n",
    "    epoch,\n",
    "    calc_type=calc_type,\n",
    "    max_connections=max_connections,\n",
    "    steps=steps,\n",
    "    colormap=colormap,\n",
    "    vmin=vmin,\n",
    "    vmax=vmax,\n",
    "    line_width=line_width,\n",
    ")\n",
    "\n",
    "from IPython.display import HTML\n",
    "\n",
    "html_plot = anim.to_jshtml()\n",
    "video = HTML(html_plot)"
   ]
  },
  {
   "cell_type": "code",
   "execution_count": null,
   "metadata": {},
   "outputs": [],
   "source": [
    "video"
   ]
  },
  {
   "cell_type": "markdown",
   "metadata": {},
   "source": [
    "### Saving the animation"
   ]
  },
  {
   "cell_type": "markdown",
   "metadata": {},
   "source": [
    "#### Save as html\n",
    "```python\n",
    "html_file_path = \"examples/connectivity_circle.html\"\n",
    "html_file = open(html_file_path, \"w\")\n",
    "html_file.write(html_plot)\n",
    "html_file.close()\n",
    "```"
   ]
  },
  {
   "cell_type": "markdown",
   "metadata": {},
   "source": [
    "#### Save as gif\n",
    "```python\n",
    "gif_file_path = \"examples/connectivity_circle.gif\"\n",
    "\n",
    "# set frames per second (fps) and resolution (dpi)\n",
    "anim.save(gif_file_path, fps=3, dpi=300)\n",
    "```"
   ]
  },
  {
   "cell_type": "markdown",
   "metadata": {},
   "source": [
    "#### Save as mp4\n",
    "```python\n",
    "mp4_file_path = \"examples/connectivity_cicle.mp4\"\n",
    "anim.save(mp4_file_path, fps=3, dpi=300)\n",
    "```"
   ]
  },
  {
   "cell_type": "markdown",
   "metadata": {},
   "source": [
    "```{note}\n",
    "If `FFMpegWriter` does not work on your computer you can save the file as a gif first and then convert it into mp4 file by running the code below.\n",
    "```\n",
    "```python\n",
    "import moviepy.editor as mp\n",
    "\n",
    "clip = mp.VideoFileClip(gif_file_path)\n",
    "clip.write_videofile(mp4_file_path)\n",
    "```"
   ]
  },
  {
   "cell_type": "markdown",
   "metadata": {},
   "source": [
    "<a id=\"circle\"></a>\n",
    "## Create a Connectivity Plot"
   ]
  },
  {
   "cell_type": "markdown",
   "metadata": {},
   "source": [
    "### Define parameters\n",
    "A detailed description of all animation parameters can be found in the `connectivity.plot_connectivity` docstring:"
   ]
  },
  {
   "cell_type": "code",
   "execution_count": null,
   "metadata": {},
   "outputs": [],
   "source": [
    "help(connectivity.plot_connectivity)"
   ]
  },
  {
   "cell_type": "code",
   "execution_count": null,
   "metadata": {},
   "outputs": [],
   "source": [
    "vmin = -1\n",
    "vmax = 1\n",
    "colormap = \"RdBu_r\"\n",
    "calc_type = \"correlation\"\n",
    "line_width = None\n",
    "threshold = 0\n",
    "show_sphere = True"
   ]
  },
  {
   "cell_type": "code",
   "execution_count": null,
   "metadata": {},
   "outputs": [],
   "source": [
    "PAIR_OPTIONS = {\n",
    "    \"all_pairs\": [],\n",
    "    \"local_anterior\": \"Fp1-F7, Fp2-F8, F7-C3, F4-C4, C4-F8, F3-C3\",\n",
    "    \"local_posterior\": \"T5-C3, T5-O1, C3-P3, C4-P4, C4-T6, T6-O2\",\n",
    "    \"far_coherence\": \"Fp1-T5, Fp2-T6, F7-T5, F7-P3, F7-O1, T5-F3, F3-P3, F4-P4, P4-F8, F8-T6, F8-O2, F4-T6\",\n",
    "    \"prefrontal_to_frontal_and_central\": \"Fp1-F3, Fp1-C3, Fp2-F4, Fp2-C4\",\n",
    "    \"occipital_to_parietal_and_central\": \"C3-O1, P3-O1, C4-O2, P4-O4\",\n",
    "    \"prefrontal_to_parietal\": \"Fp1-P3, Fp2-P4\",\n",
    "    \"frontal_to_occipital\": \"F3-O1, P4-O2\",\n",
    "    \"prefrontal_to_occipital\": \"Fp1-O1, Fp2-O2\"\n",
    "}\n",
    "\n",
    "# select from the PAIR_OPTIONS options above or use a custom pair.\n",
    "pair_list = []  # leave as an empty list if you want all pairs\n",
    "\n",
    "# example of referencing a pair from the list\n",
    "pair_list = PAIR_OPTIONS[\"far_coherence\"]"
   ]
  },
  {
   "cell_type": "markdown",
   "metadata": {},
   "source": [
    "### Generating a standalone plot"
   ]
  },
  {
   "cell_type": "markdown",
   "metadata": {},
   "source": [
    "```{note}\n",
    "Generating a plot will use the first frame in the epoch, so make sure to update your epoch object to contain your frame of interest. \n",
    "```"
   ]
  },
  {
   "cell_type": "code",
   "execution_count": null,
   "metadata": {},
   "outputs": [],
   "source": [
    "# for displaying plot in jupyter notebook\n",
    "%matplotlib inline"
   ]
  },
  {
   "cell_type": "code",
   "execution_count": null,
   "metadata": {},
   "outputs": [],
   "source": [
    "%%capture\n",
    "plot = connectivity.plot_connectivity(\n",
    "    epoch,\n",
    ")"
   ]
  },
  {
   "cell_type": "code",
   "execution_count": null,
   "metadata": {},
   "outputs": [],
   "source": [
    "plot"
   ]
  },
  {
   "cell_type": "markdown",
   "metadata": {},
   "source": [
    "### Saving the plot\n",
    "You can change the file to different formats by changing the format argument in the function. It supports `png`, `pdf`, `svg`.\n",
    "```python\n",
    "file_path = \"examples/connectivity.svg\"\n",
    "plot.figure.savefig(file_path)\n",
    "```"
   ]
  },
  {
   "cell_type": "markdown",
   "metadata": {},
   "source": [
    "</br>"
   ]
  },
  {
   "cell_type": "markdown",
   "metadata": {},
   "source": [
    "<a id=\"circle\"></a>\n",
    "## Create a Connectivity Circle Plot"
   ]
  },
  {
   "cell_type": "markdown",
   "metadata": {},
   "source": [
    "### Define parameters\n",
    "A detailed description of all animation parameters can be found in the `connectivity.plot_conn_circle` docstring:"
   ]
  },
  {
   "cell_type": "code",
   "execution_count": null,
   "metadata": {},
   "outputs": [],
   "source": [
    "help(connectivity.plot_conn_circle)"
   ]
  },
  {
   "cell_type": "code",
   "execution_count": null,
   "metadata": {},
   "outputs": [],
   "source": [
    "vmin = -1\n",
    "vmax = 1\n",
    "colormap = \"RdBu_r\"\n",
    "calc_type = \"correlation\"\n",
    "line_width = 1\n",
    "max_connections = 50"
   ]
  },
  {
   "cell_type": "markdown",
   "metadata": {},
   "source": [
    "### Generating a standalone plot"
   ]
  },
  {
   "cell_type": "markdown",
   "metadata": {},
   "source": [
    "```{note}\n",
    "Generating a plot will use the first frame in the epoch, so make sure to update your epoch object to contain your frame of interest. \n",
    "```"
   ]
  },
  {
   "cell_type": "code",
   "execution_count": null,
   "metadata": {},
   "outputs": [],
   "source": [
    "# for displaying plot in jupyter notebook\n",
    "%matplotlib inline"
   ]
  },
  {
   "cell_type": "code",
   "execution_count": null,
   "metadata": {},
   "outputs": [],
   "source": [
    "%%capture\n",
    "\n",
    "plot = connectivity.plot_conn_circle(\n",
    "    epoch,\n",
    ")"
   ]
  },
  {
   "cell_type": "code",
   "execution_count": null,
   "metadata": {},
   "outputs": [],
   "source": [
    "plot"
   ]
  },
  {
   "cell_type": "markdown",
   "metadata": {},
   "source": [
    "### Saving the plot\n",
    "You can change the file to different formats by changing the format argument in the function. It supports `png`, `pdf`, `svg`.\n",
    "```python\n",
    "file_path = \"examples/connectivity_circle.svg\"\n",
    "plot.figure.savefig(file_path)\n",
    "```"
   ]
  },
  {
   "cell_type": "code",
   "execution_count": null,
   "metadata": {},
   "outputs": [],
   "source": []
  }
 ],
 "metadata": {
  "kernelspec": {
   "display_name": "Python 3",
   "language": "python",
   "name": "python3"
  },
  "language_info": {
   "codemirror_mode": {
    "name": "ipython",
    "version": 3
   },
   "file_extension": ".py",
   "mimetype": "text/x-python",
   "name": "python",
   "nbconvert_exporter": "python",
   "pygments_lexer": "ipython3",
   "version": "3.8.3"
  },
  "widgets": {
   "application/vnd.jupyter.widget-state+json": {
    "state": {},
    "version_major": 2,
    "version_minor": 0
   }
  }
 },
 "nbformat": 4,
 "nbformat_minor": 5
}
