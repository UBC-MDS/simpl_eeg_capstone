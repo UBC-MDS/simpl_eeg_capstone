{
 "cells": [
  {
   "cell_type": "markdown",
   "metadata": {},
   "source": [
    "# 2D Head Visualizations"
   ]
  },
  {
   "cell_type": "markdown",
   "metadata": {},
   "source": [
    "## 2D topographic head map\n",
    "\n",
    "The 2D topographic head map provides a view of voltage measurements as a heatmap imposed on an image of a 2D skull. It can be generated as an [animation](#animation) to view changes over time or as a [standalone plot](#plot). "
   ]
  },
  {
   "cell_type": "markdown",
   "metadata": {},
   "source": [
    "![](instruction_imgs/topo_2d.gif)"
   ]
  },
  {
   "cell_type": "markdown",
   "metadata": {},
   "source": [
    "## General Setup\n",
    "### Import required modules"
   ]
  },
  {
   "cell_type": "code",
   "execution_count": null,
   "metadata": {},
   "outputs": [],
   "source": [
    "from simpl_eeg import topomap_2d, eeg_objects "
   ]
  },
  {
   "cell_type": "code",
   "execution_count": null,
   "metadata": {},
   "outputs": [],
   "source": [
    "import warnings\n",
    "warnings.filterwarnings('ignore')"
   ]
  },
  {
   "cell_type": "markdown",
   "metadata": {},
   "source": [
    "```{note}\n",
    "Please include the line below in your IDE so that the changes would be simultaneously reflected when you make a change to the python scripts.\n",
    "```"
   ]
  },
  {
   "cell_type": "code",
   "execution_count": null,
   "metadata": {},
   "outputs": [],
   "source": [
    "%load_ext autoreload"
   ]
  },
  {
   "cell_type": "code",
   "execution_count": null,
   "metadata": {},
   "outputs": [],
   "source": [
    "%autoreload 2"
   ]
  },
  {
   "cell_type": "markdown",
   "metadata": {},
   "source": [
    "### Create epoched data\n",
    "For additional options see [Creating EEG Objects](eeg_objects.html#intro) section."
   ]
  },
  {
   "cell_type": "code",
   "execution_count": null,
   "metadata": {},
   "outputs": [],
   "source": [
    "experiment_folder = \"../../data/109\"\n",
    "nth_epoch = 0\n",
    "num_steps = 50  # number of steps to skip to shorten epoch\n",
    "\n",
    "epochs = eeg_objects.Epochs(experiment_folder)\n",
    "epoch = epochs.get_nth_epoch(nth_epoch)\n",
    "shortened_epoch = epochs.skip_n_steps(num_steps)"
   ]
  },
  {
   "cell_type": "markdown",
   "metadata": {},
   "source": [
    "<a id=\"animation\"></a>\n",
    "## Create a 2D topographic animation"
   ]
  },
  {
   "cell_type": "markdown",
   "metadata": {},
   "source": [
    "### Define parameters\n",
    "A detailed description of all animation parameters can be found in the `topomap_2d.animate_topomap_2d` docstring:"
   ]
  },
  {
   "cell_type": "code",
   "execution_count": null,
   "metadata": {},
   "outputs": [],
   "source": [
    "help(topomap_2d.animate_topomap_2d)"
   ]
  },
  {
   "cell_type": "code",
   "execution_count": null,
   "metadata": {},
   "outputs": [],
   "source": [
    "# change values below to values of interest\n",
    "cmin = -40\n",
    "cmax = 40\n",
    "colormap = \"Spectral\"\n",
    "mark = \"dot\"\n",
    "contours = \"6\"\n",
    "sphere = 100\n",
    "res = 100\n",
    "extrapolate = \"head\"\n",
    "outlines = \"head\"\n",
    "axes = None\n",
    "mask = None\n",
    "mask_params = None\n",
    "colorbar = True\n",
    "timestamp = True\n",
    "frame_rate = 12"
   ]
  },
  {
   "cell_type": "markdown",
   "metadata": {},
   "source": [
    "### Generating the animation"
   ]
  },
  {
   "cell_type": "code",
   "execution_count": null,
   "metadata": {},
   "outputs": [],
   "source": [
    "%%capture\n",
    "\n",
    "anim = topomap_2d.animate_topomap_2d(\n",
    "    shortened_epoch,\n",
    "    colormap=colormap,\n",
    "    mark=mark,\n",
    "    contours=contours,\n",
    "    sphere=sphere,\n",
    "    cmin=cmin,\n",
    "    cmax=cmax,\n",
    "    res=res,\n",
    "    extrapolate=extrapolate,\n",
    "    outlines=outlines,\n",
    "    axes=axes,\n",
    "    mask=mask,\n",
    "    mask_params=mask_params,\n",
    "    colorbar=colorbar,\n",
    "    timestamp=timestamp,\n",
    "    frame_rate=frame_rate,\n",
    ")\n",
    "\n",
    "from IPython.core.display import HTML\n",
    "\n",
    "html_plot = anim.to_jshtml()\n",
    "video = HTML(html_plot)"
   ]
  },
  {
   "cell_type": "code",
   "execution_count": null,
   "metadata": {},
   "outputs": [],
   "source": [
    "video"
   ]
  },
  {
   "cell_type": "markdown",
   "metadata": {},
   "source": [
    "### Saving the animation"
   ]
  },
  {
   "cell_type": "markdown",
   "metadata": {},
   "source": [
    "#### Save as html"
   ]
  },
  {
   "cell_type": "markdown",
   "metadata": {},
   "source": [
    "```python\n",
    "html_file_path = \"examples/topo_2d.html\"\n",
    "html_file = open(html_file_path, \"w\")\n",
    "html_file.write(html_plot)\n",
    "html_file.close()\n",
    "```"
   ]
  },
  {
   "cell_type": "markdown",
   "metadata": {},
   "source": [
    "#### Save as gif"
   ]
  },
  {
   "cell_type": "markdown",
   "metadata": {},
   "source": [
    "```python\n",
    "anim = topomap_2d.animate_topomap_2d(shortened_epoch)\n",
    "\n",
    "gif_file_path = \"examples/topo_2d.gif\"\n",
    "anim.save(gif_file_path, fps=5, dpi=300)\n",
    "```"
   ]
  },
  {
   "cell_type": "markdown",
   "metadata": {},
   "source": [
    "#### Save as mp4"
   ]
  },
  {
   "cell_type": "markdown",
   "metadata": {},
   "source": [
    "```python\n",
    "anim = topomap_2d.animate_topomap_2d(shortened_epoch)\n",
    "\n",
    "mp4_file_path = \"examples/topo_2d.mp4\"\n",
    "anim.save(mp4_file_path)\n",
    "```"
   ]
  },
  {
   "cell_type": "markdown",
   "metadata": {},
   "source": [
    "```{note}\n",
    "If `FFMpegWriter` does not work on your computer you can save the file as a gif first and then convert it into mp4 file by running the code below.\n",
    "```\n",
    "```python\n",
    "import moviepy.editor as mp\n",
    "\n",
    "clip = mp.VideoFileClip(gif_file_path)\n",
    "clip.write_videofile(mp4_file_path)\n",
    "```"
   ]
  },
  {
   "cell_type": "markdown",
   "metadata": {},
   "source": [
    "<a id=\"plot\"></a>\n",
    "## Create a 2D topographic plot"
   ]
  },
  {
   "cell_type": "markdown",
   "metadata": {},
   "source": [
    "### Define parameters\n",
    "A detailed description of all animation parameters can be found in the `topomap_2d.plot_topomap_2d` docstring:"
   ]
  },
  {
   "cell_type": "code",
   "execution_count": null,
   "metadata": {},
   "outputs": [],
   "source": [
    "help(topomap_2d.plot_topomap_2d)"
   ]
  },
  {
   "cell_type": "code",
   "execution_count": null,
   "metadata": {},
   "outputs": [],
   "source": [
    "timestamp=True"
   ]
  },
  {
   "cell_type": "markdown",
   "metadata": {},
   "source": [
    "### Generating a standalone plot"
   ]
  },
  {
   "cell_type": "markdown",
   "metadata": {},
   "source": [
    "```{note}\n",
    "Generating a plot will use the first frame in the epoch, so make sure to update your epoch object to contain your frame of interest. \n",
    "```"
   ]
  },
  {
   "cell_type": "code",
   "execution_count": null,
   "metadata": {},
   "outputs": [],
   "source": [
    "plot = topomap_2d.plot_topomap_2d(\n",
    "    epoch,\n",
    "    timestamp=timestamp\n",
    ")\n",
    "plot;"
   ]
  },
  {
   "cell_type": "markdown",
   "metadata": {},
   "source": [
    "### Saving the plot\n",
    "You can change the file to different formats by changing the format argument in the function. It supports `png`, `pdf`, `svg`.\n",
    "```python\n",
    "file_path = \"examples/topo_2d.svg\"\n",
    "plot.figure.savefig(file_path)\n",
    "```"
   ]
  },
  {
   "cell_type": "code",
   "execution_count": null,
   "metadata": {},
   "outputs": [],
   "source": []
  }
 ],
 "metadata": {
  "kernelspec": {
   "display_name": "Python 3",
   "language": "python",
   "name": "python3"
  },
  "language_info": {
   "codemirror_mode": {
    "name": "ipython",
    "version": 3
   },
   "file_extension": ".py",
   "mimetype": "text/x-python",
   "name": "python",
   "nbconvert_exporter": "python",
   "pygments_lexer": "ipython3",
   "version": "3.8.3"
  },
  "widgets": {
   "application/vnd.jupyter.widget-state+json": {
    "state": {},
    "version_major": 2,
    "version_minor": 0
   }
  }
 },
 "nbformat": 4,
 "nbformat_minor": 5
}
