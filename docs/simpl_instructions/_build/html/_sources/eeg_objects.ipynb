{
 "cells": [
  {
   "cell_type": "markdown",
   "id": "15cb9d76",
   "metadata": {},
   "source": [
    "# Creating EEG Objects"
   ]
  },
  {
   "cell_type": "markdown",
   "id": "103f9f92",
   "metadata": {},
   "source": [
    "## Epoch Creation\n",
    "<a id=\"intro\"></a>"
   ]
  },
  {
   "cell_type": "code",
   "execution_count": null,
   "id": "4c612513",
   "metadata": {},
   "outputs": [],
   "source": [
    "from simpl_eeg import eeg_objects"
   ]
  },
  {
   "cell_type": "code",
   "execution_count": null,
   "id": "6f2491c2",
   "metadata": {},
   "outputs": [],
   "source": [
    "import warnings\n",
    "warnings.filterwarnings('ignore')"
   ]
  },
  {
   "cell_type": "markdown",
   "id": "efc17108",
   "metadata": {},
   "source": [
    "```{note}\n",
    "Please include the line below in your IDE so that the changes would be simultaneously reflected when you make a change to the python scripts.**\n",
    "```"
   ]
  },
  {
   "cell_type": "code",
   "execution_count": null,
   "id": "6e676942",
   "metadata": {},
   "outputs": [],
   "source": [
    "%load_ext autoreload"
   ]
  },
  {
   "cell_type": "code",
   "execution_count": null,
   "id": "23f1a3f9",
   "metadata": {},
   "outputs": [],
   "source": [
    "%autoreload 2"
   ]
  },
  {
   "cell_type": "markdown",
   "id": "767c5337",
   "metadata": {},
   "source": [
    "<br>"
   ]
  },
  {
   "cell_type": "markdown",
   "id": "644c31e6",
   "metadata": {},
   "source": [
    "### Module Overview"
   ]
  },
  {
   "cell_type": "markdown",
   "id": "e05325a1",
   "metadata": {},
   "source": [
    "The `eeg_objects` module contains helper classes for storing and manipulating relevant information regarding epochs to pass to other package functions. It contains two classes. Typically you will only you use the `eeg_objects.Epochs` directly, which by default contains a `eeg_objects.EEG_File` object in the `eeg_file` attribute. \n",
    "Below are the docstrings for the two classes:"
   ]
  },
  {
   "cell_type": "code",
   "execution_count": null,
   "id": "c6c3481d",
   "metadata": {},
   "outputs": [],
   "source": [
    "# Class for reading and importing EEG files\n",
    "?eeg_objects.EEG_File"
   ]
  },
  {
   "cell_type": "code",
   "execution_count": null,
   "id": "0bb07922",
   "metadata": {},
   "outputs": [],
   "source": [
    "# Class for storing, generating, and adjusting epoch objects\n",
    "?eeg_objects.Epochs"
   ]
  },
  {
   "cell_type": "markdown",
   "id": "c04915fe",
   "metadata": {},
   "source": [
    "<br>"
   ]
  },
  {
   "cell_type": "markdown",
   "id": "3caf7747",
   "metadata": {},
   "source": [
    "### Define parameters"
   ]
  },
  {
   "cell_type": "markdown",
   "id": "308304f6",
   "metadata": {},
   "source": [
    "The only required parameter to create an epoch object is the `folder_path` for the experiment of interest, however additional parameters may be used to customize your epoch object. \n",
    "\n",
    "- If you specify a `start_second`, a single epoch will be generated with an impact event at the specified second. \n",
    "\n",
    "- If you do not specify a `start_second`, epochs will be automatically generated using the impact times found in the `impact locations.mat` file in the selected `experiment_folder`. \n",
    "\n",
    "- `tmin` specifies the number of seconds before the impact to use, and `tmin` specifies the number of seconds after the impact."
   ]
  },
  {
   "cell_type": "code",
   "execution_count": null,
   "id": "7bb85a30",
   "metadata": {},
   "outputs": [],
   "source": [
    "experiment_folder = \"../../data/109\" # path to the experiment folder\n",
    "tmin = -1  # number of seconds before the impact, should be a negative number for before impact\n",
    "tmax = 1  # number of seconds after the impact\n",
    "start_second = None  # if creating a custom epoch, select a starting second"
   ]
  },
  {
   "cell_type": "markdown",
   "id": "f631fedc",
   "metadata": {},
   "source": [
    "<br>"
   ]
  },
  {
   "cell_type": "markdown",
   "id": "aa7d7dc7",
   "metadata": {},
   "source": [
    "### Create epoched data"
   ]
  },
  {
   "cell_type": "markdown",
   "id": "c2abaa59",
   "metadata": {},
   "source": [
    "You can create epoched data using the `Epochs` class."
   ]
  },
  {
   "cell_type": "code",
   "execution_count": null,
   "id": "e58511f3",
   "metadata": {},
   "outputs": [],
   "source": [
    "epochs = eeg_objects.Epochs(experiment_folder, tmin, tmax, start_second)"
   ]
  },
  {
   "cell_type": "markdown",
   "id": "a644568e",
   "metadata": {},
   "source": [
    "The generated epoch data is found within the `data` attribute. Here we are generating epochs with automatically detected impact times, so we can see that there are multiple events."
   ]
  },
  {
   "cell_type": "code",
   "execution_count": null,
   "id": "48b846d8",
   "metadata": {},
   "outputs": [],
   "source": [
    "epochs.data"
   ]
  },
  {
   "cell_type": "markdown",
   "id": "a30cb3b8",
   "metadata": {},
   "source": [
    "If instead we create epochs with a custom start second, we will only create a single epoch with an impact the given `start_second`."
   ]
  },
  {
   "cell_type": "code",
   "execution_count": null,
   "id": "074839a4",
   "metadata": {},
   "outputs": [],
   "source": [
    "start_second = 15  # record event at second 15\n",
    "custom_epoch = eeg_objects.Epochs(experiment_folder, tmin, tmax, start_second) \n",
    "\n",
    "custom_epoch.data"
   ]
  },
  {
   "cell_type": "markdown",
   "id": "6f78bcf1",
   "metadata": {},
   "source": [
    "#### Get information about epochs"
   ]
  },
  {
   "cell_type": "markdown",
   "id": "2ffb2cdb",
   "metadata": {},
   "source": [
    "In addition to the epochs contained in the `data` attribute, the `Epoch` object also contains information about the file used and has a selected epoch for quick access. "
   ]
  },
  {
   "cell_type": "code",
   "execution_count": null,
   "id": "ce9e2f6d",
   "metadata": {},
   "outputs": [],
   "source": [
    "eeg_file = epochs.eeg_file\n",
    "print(eeg_file.folder_path)  # experiment folder path\n",
    "print(eeg_file.experiment)  # experiment number\n",
    "print(eeg_file.mat)  # impact times\n",
    "print(eeg_file.raw)  # raw data"
   ]
  },
  {
   "cell_type": "markdown",
   "id": "6fa232a2",
   "metadata": {},
   "source": [
    "#### Select specific epoch"
   ]
  },
  {
   "cell_type": "markdown",
   "id": "eac63271",
   "metadata": {},
   "source": [
    "If you have a specific epoch of interest you can specify it with the `set_nth_epoch` method. Then to retrieve that epoch use `get_nth_epoch`"
   ]
  },
  {
   "cell_type": "code",
   "execution_count": null,
   "id": "423ba982",
   "metadata": {},
   "outputs": [],
   "source": [
    "nth_epoch = 5  # the epoch of interest to select, the 6th impact\n",
    "epochs.set_nth_epoch(nth_epoch)"
   ]
  },
  {
   "cell_type": "code",
   "execution_count": null,
   "id": "3371f395",
   "metadata": {},
   "outputs": [],
   "source": [
    "single_epoch = epochs.get_nth_epoch()\n",
    "single_epoch"
   ]
  },
  {
   "cell_type": "markdown",
   "id": "2318d2d8",
   "metadata": {},
   "source": [
    "#### Decimate the epoch (optional)"
   ]
  },
  {
   "cell_type": "markdown",
   "id": "c0968dfb",
   "metadata": {},
   "source": [
    "To reduce the size of the selected epoch you can choose to skip a selected number of time steps by calling the `skip_n_steps` method. This will only be run on the current selected epoch from the previous step, contained in the `epoch` attribute.\n",
    "\n",
    "Skipping steps will greatly reduce animation times for the other functions in the package. The greater the number of steps skipped, the fewer the frames to animate. In the example below we are reducing the selected epoch from 4097 time steps to 81 time steps. "
   ]
  },
  {
   "cell_type": "code",
   "execution_count": null,
   "id": "6d08473f",
   "metadata": {},
   "outputs": [],
   "source": [
    "single_epoch.get_data().shape"
   ]
  },
  {
   "cell_type": "code",
   "execution_count": null,
   "id": "37cc5021",
   "metadata": {},
   "outputs": [],
   "source": [
    "num_steps = 50\n",
    "smaller_epoch = epochs.skip_n_steps(num_steps)\n",
    "smaller_epoch.get_data().shape"
   ]
  },
  {
   "cell_type": "markdown",
   "id": "b68d50a0",
   "metadata": {},
   "source": [
    "### MNE functions"
   ]
  },
  {
   "cell_type": "markdown",
   "id": "bb82818a",
   "metadata": {},
   "source": [
    "Now that you have access epoched data, you can use the `simpl_eeg` package functions as well as any [MNE functions](https://mne.tools/stable/generated/mne.Epochs.html) which act on `mne.epoch` objects. Below are some useful examples for the MNE objects contained within the object we created. "
   ]
  },
  {
   "cell_type": "markdown",
   "id": "fa275424",
   "metadata": {},
   "source": [
    "#### Raw data\n",
    "https://mne.tools/stable/generated/mne.io.Raw.html"
   ]
  },
  {
   "cell_type": "code",
   "execution_count": null,
   "id": "918447de",
   "metadata": {},
   "outputs": [],
   "source": [
    "raw = epochs.eeg_file.raw\n",
    "raw.info"
   ]
  },
  {
   "cell_type": "code",
   "execution_count": null,
   "id": "8fd46566",
   "metadata": {},
   "outputs": [],
   "source": [
    "raw.plot_psd();"
   ]
  },
  {
   "cell_type": "markdown",
   "id": "74e0ba29",
   "metadata": {},
   "source": [
    "#### Epoch data"
   ]
  },
  {
   "cell_type": "code",
   "execution_count": null,
   "id": "adb970f8",
   "metadata": {},
   "outputs": [],
   "source": [
    "# first 3 epochs\n",
    "epochs.data.plot(n_epochs=3);"
   ]
  },
  {
   "cell_type": "code",
   "execution_count": null,
   "id": "8dbfce2d",
   "metadata": {},
   "outputs": [],
   "source": [
    "# specific epoch\n",
    "epochs.get_nth_epoch().plot();  # alternatively you could call epochs.epoch directly"
   ]
  },
  {
   "cell_type": "code",
   "execution_count": null,
   "id": "47300545",
   "metadata": {},
   "outputs": [],
   "source": [
    "# specific epoch with steps skipped\n",
    "epochs.skip_n_steps(100).plot();"
   ]
  }
 ],
 "metadata": {
  "kernelspec": {
   "display_name": "Python 3",
   "language": "python",
   "name": "python3"
  },
  "language_info": {
   "codemirror_mode": {
    "name": "ipython",
    "version": 3
   },
   "file_extension": ".py",
   "mimetype": "text/x-python",
   "name": "python",
   "nbconvert_exporter": "python",
   "pygments_lexer": "ipython3",
   "version": "3.8.5"
  },
  "widgets": {
   "application/vnd.jupyter.widget-state+json": {
    "state": {},
    "version_major": 2,
    "version_minor": 0
   }
  }
 },
 "nbformat": 4,
 "nbformat_minor": 5
}
