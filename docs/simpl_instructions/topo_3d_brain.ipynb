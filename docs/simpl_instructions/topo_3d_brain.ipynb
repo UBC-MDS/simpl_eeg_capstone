{
 "cells": [
  {
   "cell_type": "markdown",
   "id": "022afae4-7a29-412c-9bda-2cbb52f18c65",
   "metadata": {},
   "source": [
    "# 3D Brain Visualizations"
   ]
  },
  {
   "cell_type": "markdown",
   "id": "98a16399-4dfd-45d5-af74-ef6b97a16cd7",
   "metadata": {},
   "source": [
    "## 3D topographic brain map\n",
    "\n",
    "The 3D topographic brain map provides a view of voltage measurements as a heatmap converted to estimated position on the brain. There are 2 plot options with different backends: \n",
    "\n",
    "1) [matplotlib](#matplotlib) (the version found on the UI)\n",
    "\n",
    "2) [pyVista](#pyvista) (a better rendering but incompatible with the UI)\n",
    "\n",
    "Both plots can be generated as an animation to view changes over time or as a standalone plot."
   ]
  },
  {
   "cell_type": "markdown",
   "id": "e9423685-dae9-4edb-894f-f80eb85c9b5f",
   "metadata": {},
   "source": [
    "![](instruction_imgs/presentattion_brain.gif)"
   ]
  },
  {
   "cell_type": "markdown",
   "id": "f07f3185-0087-40ff-b746-f9b9ad483581",
   "metadata": {},
   "source": [
    "## General Setup\n",
    "### Import required modules"
   ]
  },
  {
   "cell_type": "code",
   "execution_count": null,
   "id": "c0f1fb01",
   "metadata": {},
   "outputs": [],
   "source": [
    "from simpl_eeg import topomap_3d_brain, eeg_objects"
   ]
  },
  {
   "cell_type": "code",
   "execution_count": null,
   "id": "24f47f67",
   "metadata": {},
   "outputs": [],
   "source": [
    "import warnings\n",
    "warnings.filterwarnings('ignore')"
   ]
  },
  {
   "cell_type": "markdown",
   "id": "d533ec3f-2c73-4289-984b-1965834d9309",
   "metadata": {},
   "source": [
    "```{note}\n",
    "Please include the line below in your IDE so that the changes would be simultaneously reflected when you make a change to the python scripts.\n",
    "```"
   ]
  },
  {
   "cell_type": "code",
   "execution_count": null,
   "id": "af75ff0c",
   "metadata": {},
   "outputs": [],
   "source": [
    "%load_ext autoreload"
   ]
  },
  {
   "cell_type": "code",
   "execution_count": null,
   "id": "68f18384",
   "metadata": {},
   "outputs": [],
   "source": [
    "%autoreload 2"
   ]
  },
  {
   "cell_type": "markdown",
   "id": "a7a4e231-fae1-481a-8f2e-fc418f501296",
   "metadata": {},
   "source": [
    "### Create epoched data\n",
    "For additional options see [Creating EEG Objects](eeg_objects.html#intro) section."
   ]
  },
  {
   "cell_type": "code",
   "execution_count": null,
   "id": "60e29749",
   "metadata": {},
   "outputs": [],
   "source": [
    "experiment_folder = \"../../data/109\"\n",
    "epochs = eeg_objects.Epochs(experiment_folder)\n",
    "\n",
    "frame_steps = 100\n",
    "epoch = epochs.skip_n_steps(frame_steps)"
   ]
  },
  {
   "cell_type": "markdown",
   "id": "edd3f0f9-ee43-4aeb-823a-b1aafb24e937",
   "metadata": {},
   "source": [
    "### Generate forward and inverse (optional)"
   ]
  },
  {
   "cell_type": "markdown",
   "id": "29611a5b-d954-48f5-b3d9-5f93420a7c63",
   "metadata": {},
   "source": [
    "```{note}\n",
    "- Before an animation or plot can be generated, an **\"inverse\"** (abbreviated as **\"stc\"**) must first be generated. An inverse can be generated from an epoch and a **\"forward\"** (abbreviated as **\"fwd\"**), which itself can be generated from an epoch alone. If only an epoch is provided to either of the plotting functions the stc and fwd will be automatically generated, **HOWEVER** this will increase the time it takes to generate the figure.\n",
    "\n",
    "- The forward/inverse are used to retrieve a brain model to attach the EEG data and to do some of the mapping calculations. The forward downloads 'fsaverage' MRI data which represents a brain averaged out from dozens of different patients.\n",
    "\n",
    "- You may pass one of three combinations to generate a figure in either of the plotting functions.\n",
    "    1. An 'stc' (fastest)\n",
    "    2. An 'epoch' AND a 'fwd' (fast)\n",
    "    3. An 'epoch' (slow)\n",
    "```"
   ]
  },
  {
   "cell_type": "markdown",
   "id": "5c0b08bb-3767-446d-b6ed-6f4594ec5a4d",
   "metadata": {},
   "source": [
    "#### Generate Forward"
   ]
  },
  {
   "cell_type": "code",
   "execution_count": null,
   "id": "a96f6c75",
   "metadata": {},
   "outputs": [],
   "source": [
    "fwd = topomap_3d_brain.create_fsaverage_forward(epoch)"
   ]
  },
  {
   "cell_type": "markdown",
   "id": "6cf4235f-f280-4151-bfb7-3a7269049b0c",
   "metadata": {},
   "source": [
    "#### Generate Inverse"
   ]
  },
  {
   "cell_type": "code",
   "execution_count": null,
   "id": "12dad124",
   "metadata": {},
   "outputs": [],
   "source": [
    "stc = topomap_3d_brain.create_inverse_solution(epoch, fwd)"
   ]
  },
  {
   "cell_type": "markdown",
   "id": "d9fd4255-8875-42e9-9924-916a68b56d70",
   "metadata": {},
   "source": [
    "<a id=\"matplotlib\"></a>\n",
    "## Create a matplotlib 3D brain animation"
   ]
  },
  {
   "cell_type": "markdown",
   "id": "f9a29878-b5d0-41c4-a23c-efe1c6c231c5",
   "metadata": {},
   "source": [
    "### Simple Plot (+ auto-generating forward and inverse)"
   ]
  },
  {
   "cell_type": "markdown",
   "id": "4ea76181-eb0d-4e0f-b566-8d2e23182ae3",
   "metadata": {},
   "source": [
    "#### Define parameters (simple)"
   ]
  },
  {
   "cell_type": "markdown",
   "id": "fd7593a8-906c-47a5-8c19-0c1fa290279e",
   "metadata": {},
   "source": [
    "A detailed description of all parameters can be found in the `topomap_3d_brain.animate_matplot_brain` docstring:"
   ]
  },
  {
   "cell_type": "code",
   "execution_count": null,
   "id": "7f3fbfe8-2c0f-40c6-8446-3b8ac096d954",
   "metadata": {},
   "outputs": [],
   "source": [
    "help(topomap_3d_brain.animate_matplot_brain)"
   ]
  },
  {
   "cell_type": "markdown",
   "id": "411b378f-60ab-453a-9d16-bacb2fa203fe",
   "metadata": {},
   "source": [
    "#### Define parameters"
   ]
  },
  {
   "cell_type": "code",
   "execution_count": null,
   "id": "40daa9a3-989a-4f9d-a2d7-0d675a9c31b7",
   "metadata": {},
   "outputs": [],
   "source": [
    "# change values below to values of interest\n",
    "\n",
    "# arguments built into the package\n",
    "stc = stc\n",
    "views=['lat', 'dor']\n",
    "size=200\n",
    "hemi='both'\n",
    "colormap='mne'\n",
    "colorbar=True\n",
    "colormap_limit_type='lims'\n",
    "cmin=-2\n",
    "cmax=2\n",
    "spacing='oct5'\n",
    "smoothing_steps=5\n",
    "timestamp=True\n",
    "frame_rate=12\n",
    "\n",
    "\n",
    "# some useful (and tested) arguments from the\n",
    "# MNE.viz.plot_topomap function (see **kwargs) include...\n",
    "surface='inflated'\n",
    "cortex='classic'"
   ]
  },
  {
   "cell_type": "markdown",
   "id": "72c881ce-950b-4b85-96c1-26a25e19feb9",
   "metadata": {},
   "source": [
    "```{note}\n",
    "Remember there are three options for passing a combination of epoch, fwd, and stc to generate a plot. These are...\n",
    "1.\n",
    "    stc=stc\n",
    "\n",
    "2.\n",
    "    epoch=epoch,\n",
    "    fwd=fwd\n",
    "\n",
    "3.\n",
    "    epoch=epoch\n",
    "```"
   ]
  },
  {
   "cell_type": "markdown",
   "id": "6219d0f0-73f6-430c-a6f0-96c8547a8424",
   "metadata": {},
   "source": [
    "#### Generate animation with matplotlib backend"
   ]
  },
  {
   "cell_type": "code",
   "execution_count": null,
   "id": "d238a2e1-733b-449f-afad-60bbcce6f767",
   "metadata": {},
   "outputs": [],
   "source": [
    "%%capture\n",
    "\n",
    "matplotlib_animation = topomap_3d_brain.animate_matplot_brain(\n",
    "    stc=stc,\n",
    "    views=views,\n",
    "    hemi=hemi,\n",
    "    colormap=colormap,\n",
    "    colorbar=colorbar,\n",
    "    colormap_limit_type=colormap_limit_type,\n",
    "    cmin=cmin,\n",
    "    cmax=cmax,\n",
    "    spacing=spacing,\n",
    "    smoothing_steps=smoothing_steps,\n",
    "    timestamp=timestamp,\n",
    "    frame_rate=frame_rate,\n",
    "    surface=surface,\n",
    "    cortex=cortex\n",
    ")\n",
    "\n",
    "from IPython.display import HTML\n",
    "video = HTML(matplotlib_animation.to_jshtml())"
   ]
  },
  {
   "cell_type": "code",
   "execution_count": null,
   "id": "d95e5509-20c5-4c0b-84fe-b9a131a8906a",
   "metadata": {},
   "outputs": [],
   "source": [
    "video"
   ]
  },
  {
   "cell_type": "markdown",
   "id": "45b5691e-e6ce-42a8-a7a6-796635f1c322",
   "metadata": {},
   "source": [
    "### Saving the animation"
   ]
  },
  {
   "cell_type": "markdown",
   "id": "d83f3af9-ba77-4bb5-a80c-aa2073882ffe",
   "metadata": {},
   "source": [
    "#### Save as gif"
   ]
  },
  {
   "cell_type": "markdown",
   "id": "41eee6b7-7c3d-4420-ab10-e44941462b1c",
   "metadata": {},
   "source": [
    "```python\n",
    "anim_brain = topomap_3d_brain.animate_matplot_brain(stc = stc, views = 'lat', hemi = 'lh')\n",
    "\n",
    "gif_file_path = \"examples/topomap_3d_brain.gif\" \n",
    "anim_brain.save(gif_file_path, fps=5, dpi=300)\n",
    "```"
   ]
  },
  {
   "cell_type": "markdown",
   "id": "ef6d22e9-eab9-44cf-b3cc-d31718333a09",
   "metadata": {},
   "source": [
    "#### Save as mp4"
   ]
  },
  {
   "cell_type": "markdown",
   "id": "4942749a-0a56-47a7-899e-e19d375b3fec",
   "metadata": {},
   "source": [
    "```python\n",
    "mp4_file_path = \"examples/topo_2d.mp4\"\n",
    "anim_brain.save(mp4_file_path, fps=5, dpi=300)\n",
    "```"
   ]
  },
  {
   "cell_type": "markdown",
   "id": "a2baa6ce-71e2-4557-94b3-e4455f715f8c",
   "metadata": {},
   "source": [
    "```{note}\n",
    "If `FFMpegWriter` does not work on your computer you can save the file as a gif first and then convert it into mp4 file by running the code below.\n",
    "```\n",
    "```python\n",
    "import moviepy.editor as mp\n",
    "\n",
    "clip = mp.VideoFileClip(gif_file_path)\n",
    "clip.write_videofile(mp4_file_path)\n",
    "```"
   ]
  },
  {
   "cell_type": "markdown",
   "id": "ea7cc49b-11a4-48b7-9e6e-272abdf7f86e",
   "metadata": {},
   "source": [
    "## Create a matplotlib 3D brain figure"
   ]
  },
  {
   "cell_type": "markdown",
   "id": "01ce5e51-fd18-4424-8a69-e38eba455554",
   "metadata": {},
   "source": [
    "### Generating a matplotlib plot"
   ]
  },
  {
   "cell_type": "markdown",
   "id": "bc89db00-5f42-4fc8-b2b4-c1e63eed2229",
   "metadata": {},
   "source": [
    "### Define parameters\n",
    "A detailed description of all animation parameters can be found in the `topomap_3d_brain.plot_topomap_3d_brain` docstring:"
   ]
  },
  {
   "cell_type": "code",
   "execution_count": null,
   "id": "d57a0f3c-5f62-497c-8e64-575fed25dbe7",
   "metadata": {},
   "outputs": [],
   "source": [
    "help(topomap_3d_brain.plot_topomap_3d_brain)"
   ]
  },
  {
   "cell_type": "code",
   "execution_count": null,
   "id": "17d72b17",
   "metadata": {},
   "outputs": [],
   "source": [
    "%%capture\n",
    "matplot_brain_fig = topomap_3d_brain.plot_topomap_3d_brain(stc=stc,\n",
    "                                                           recording_number=2,\n",
    "                                                           hemi='lh',\n",
    "                                                           views=['lat'],\n",
    "                                                           cmin=-2,\n",
    "                                                           cmax=2)"
   ]
  },
  {
   "cell_type": "code",
   "execution_count": null,
   "id": "99e0ed37-3151-4414-907b-ce259f706c84",
   "metadata": {},
   "outputs": [],
   "source": [
    "matplot_brain_fig"
   ]
  },
  {
   "cell_type": "markdown",
   "id": "399c8029-5f82-4a41-8947-d7408b02a8a5",
   "metadata": {},
   "source": [
    "### Save the plot\n",
    "You can change the file to different formats by changing the format argument in the function. It supports `png`, `pdf`, `svg`.\n",
    "```python\n",
    "file_path = \"examples/topomap_3d_brain.svg\"  \n",
    "matplot_brain_fig.savefig(file_path, format='svg')\n",
    "```"
   ]
  },
  {
   "cell_type": "markdown",
   "id": "6443262f-2637-4458-bb91-234dc2270996",
   "metadata": {},
   "source": [
    "<a id=\"pyvista\"></a>\n",
    "## Create a pyVista 3D brain animation"
   ]
  },
  {
   "cell_type": "markdown",
   "id": "a136b866-f5b5-44c4-accd-b099d9a5ec53",
   "metadata": {},
   "source": [
    "```{note}\n",
    "The dependencies for the following functions are not included with the base instalation of the simpl_eeg package due to compatability issues with certain operating systems. If you wish to use them please install 'PyVista', 'PyQt5', 'pyvistaqt', and 'pyqt5-qt5' through your preferred package installation method https://mne.tools/stable/install/mne_python.html.\n",
    "```"
   ]
  },
  {
   "cell_type": "markdown",
   "id": "409e6e68",
   "metadata": {},
   "source": [
    "### Generate figure with pyvista backend"
   ]
  },
  {
   "cell_type": "markdown",
   "id": "e5e66aec-7a65-45f7-b8db-f88da9df045b",
   "metadata": {},
   "source": [
    "```python\n",
    "pyvista_brain_fig = topomap_3d_brain.plot_topomap_3d_brain(stc = stc, backend = 'pyvista')\n",
    "```"
   ]
  },
  {
   "cell_type": "markdown",
   "id": "aac83ee7-20eb-467a-919e-e4b8717bbb21",
   "metadata": {},
   "source": [
    "### Save animation with pyvista backend"
   ]
  },
  {
   "cell_type": "markdown",
   "id": "bf8fe3ca-12da-49c0-8c0c-510046b26ad4",
   "metadata": {},
   "source": [
    "```python\n",
    "topomap_3d_brain.save_animated_topomap_3d_brain(pyvista_brain_fig, filename = \"brain_animation.gif\")\n",
    "```"
   ]
  }
 ],
 "metadata": {
  "kernelspec": {
   "display_name": "Python [conda env:simpl_eeg]",
   "language": "python",
   "name": "conda-env-simpl_eeg-py"
  },
  "language_info": {
   "codemirror_mode": {
    "name": "ipython",
    "version": 3
   },
   "file_extension": ".py",
   "mimetype": "text/x-python",
   "name": "python",
   "nbconvert_exporter": "python",
   "pygments_lexer": "ipython3",
   "version": "3.9.5"
  },
  "widgets": {
   "application/vnd.jupyter.widget-state+json": {
    "state": {},
    "version_major": 2,
    "version_minor": 0
   }
  }
 },
 "nbformat": 4,
 "nbformat_minor": 5
}
