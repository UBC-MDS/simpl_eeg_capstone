{
 "cells": [
  {
   "cell_type": "markdown",
   "id": "08fb34c8",
   "metadata": {},
   "source": [
    "# 3D Brain Visualizations"
   ]
  },
  {
   "cell_type": "markdown",
   "id": "9522dec1",
   "metadata": {},
   "source": [
    "## Topographic map in 3D brain"
   ]
  },
  {
   "cell_type": "markdown",
   "id": "5a8f5483",
   "metadata": {},
   "source": [
    "![](instruction_imgs/topomap_3d_brain.gif)"
   ]
  },
  {
   "cell_type": "code",
   "execution_count": null,
   "id": "e25ce3e6",
   "metadata": {},
   "outputs": [],
   "source": [
    "from simpl_eeg import eeg_objects, topomap_3d_brain"
   ]
  },
  {
   "cell_type": "code",
   "execution_count": null,
   "id": "e5071075",
   "metadata": {},
   "outputs": [],
   "source": [
    "import warnings\n",
    "warnings.filterwarnings('ignore')"
   ]
  },
  {
   "cell_type": "markdown",
   "id": "cabe159c",
   "metadata": {},
   "source": [
    "```{note}\n",
    "Please include the line below in your IDE so that the changes would be simultaneously reflected when you make a change to the python scripts.\n",
    "```"
   ]
  },
  {
   "cell_type": "code",
   "execution_count": null,
   "id": "2bd8876a",
   "metadata": {},
   "outputs": [],
   "source": [
    "%load_ext autoreload"
   ]
  },
  {
   "cell_type": "code",
   "execution_count": null,
   "id": "ed8406f7",
   "metadata": {},
   "outputs": [],
   "source": [
    "%autoreload 2"
   ]
  },
  {
   "cell_type": "markdown",
   "id": "dff6f6f7",
   "metadata": {},
   "source": [
    "<br>"
   ]
  },
  {
   "cell_type": "markdown",
   "id": "01bd2a5b",
   "metadata": {},
   "source": [
    "### Define global parameters"
   ]
  },
  {
   "cell_type": "markdown",
   "id": "d7f69cbc",
   "metadata": {},
   "source": [
    "There are some common parameters for all functions in this package, it would be more convenient to define all parameters before going into each functions."
   ]
  },
  {
   "cell_type": "code",
   "execution_count": null,
   "id": "e8130be1",
   "metadata": {},
   "outputs": [],
   "source": [
    "# change values belo to values of interest\n",
    "\n",
    "experiment = \"../../data/927\" # path to the experiment folder.\n",
    "nth_epoch = 0\n",
    "colormap = \"RdBu_r\" # select from [\"RdBu_r\", \"hot\", \"cool\", \"inferno\", \"turbo\", \"rainbow\"]"
   ]
  },
  {
   "cell_type": "markdown",
   "id": "d64fedf8",
   "metadata": {},
   "source": [
    "<br>"
   ]
  },
  {
   "cell_type": "markdown",
   "id": "22faa947",
   "metadata": {},
   "source": [
    "### Create epoched data"
   ]
  },
  {
   "cell_type": "code",
   "execution_count": null,
   "id": "4ee9fa09",
   "metadata": {},
   "outputs": [],
   "source": [
    "tmin = -0.3  # number of seconds before the impact. Please change it to a value of your interest\n",
    "tmax = 0.7  # number of seconds after the impact. Please change it to a value of your interest\n",
    "start_second = None  # starting time of the epoch. Please change it to a value of your interest\n",
    "\n",
    "raw = eeg_objects.Epochs(experiment, tmin, tmax, start_second)\n",
    "\n",
    "raw.set_nth_epoch(nth_epoch)\n",
    "\n",
    "epoch = raw.get_nth_epoch()"
   ]
  },
  {
   "cell_type": "markdown",
   "id": "6278ec53",
   "metadata": {},
   "source": [
    "</br>"
   ]
  },
  {
   "cell_type": "markdown",
   "id": "6d146817",
   "metadata": {},
   "source": [
    "### Create the topographic map in 3D brain"
   ]
  },
  {
   "cell_type": "markdown",
   "id": "93cd0128",
   "metadata": {},
   "source": [
    "```{note}\n",
    "- Before an animation or plot can be generated a **\"forward\"** and **\"inverse\"** (abbreviated as **\"stc\"**) must first be generated. If they are not provided to either of the plotting animations they will be automatically generated **HOWEVER** this will increase the time it takes to generate the figure.\n",
    "\n",
    "- The forward/inverse are used to retrieve a brain model to attach the EEG data to and to do some of the mapping calculations. The forward downloads 'fsaverage' MRI data which represents a brain averaged out from dozens of different patients.\n",
    "```"
   ]
  },
  {
   "cell_type": "markdown",
   "id": "7711113c",
   "metadata": {},
   "source": [
    "#### Generate Forward"
   ]
  },
  {
   "cell_type": "code",
   "execution_count": null,
   "id": "e6bce050",
   "metadata": {},
   "outputs": [],
   "source": [
    "fwd = topomap_3d_brain.create_fsaverage_forward(epoch)"
   ]
  },
  {
   "cell_type": "markdown",
   "id": "44ca8b6e",
   "metadata": {},
   "source": [
    "#### Generate Inverse"
   ]
  },
  {
   "cell_type": "code",
   "execution_count": null,
   "id": "01b1ee7d",
   "metadata": {},
   "outputs": [],
   "source": [
    "stc = topomap_3d_brain.create_inverse_solution(epoch, fwd)"
   ]
  },
  {
   "cell_type": "markdown",
   "id": "770a39c3",
   "metadata": {},
   "source": [
    "#### Generate figure with pyvista backend (NOT CURRENTLY WORKING)"
   ]
  },
  {
   "cell_type": "code",
   "execution_count": null,
   "id": "451e138f",
   "metadata": {},
   "outputs": [],
   "source": [
    "#pyvista_brain_fig = topomap_3d_brain.plot_topomap_3d_brain(epoch, stc = stc, backend = 'pyvista')"
   ]
  },
  {
   "cell_type": "markdown",
   "id": "643400a4",
   "metadata": {},
   "source": [
    "#### Save animation with pyvista backend (NOT CURRENTLY WORKING)"
   ]
  },
  {
   "cell_type": "code",
   "execution_count": null,
   "id": "6dfc388f",
   "metadata": {},
   "outputs": [],
   "source": [
    "#topomap_3d_brain.save_animated_topomap_3d_brain(pyvista_brain_fig, filename = \"brain_animation.gif\")"
   ]
  },
  {
   "cell_type": "markdown",
   "id": "e8e963dc",
   "metadata": {},
   "source": [
    "</br>"
   ]
  },
  {
   "cell_type": "markdown",
   "id": "2e5cb77f",
   "metadata": {},
   "source": [
    "#### Generate figure with matplotlib backend (recommended)"
   ]
  },
  {
   "cell_type": "code",
   "execution_count": null,
   "id": "240db01b",
   "metadata": {},
   "outputs": [],
   "source": [
    "%%capture\n",
    "matplot_brain_fig = topomap_3d_brain.plot_topomap_3d_brain(epoch, stc = stc, backend = 'matplotlib')"
   ]
  },
  {
   "cell_type": "markdown",
   "id": "8e9ed06e",
   "metadata": {},
   "source": [
    "##### Save the figure"
   ]
  },
  {
   "cell_type": "code",
   "execution_count": null,
   "id": "ef883080",
   "metadata": {},
   "outputs": [],
   "source": [
    "# You could change the plot to different formats by changing the format argument in the function. \n",
    "# It supports 'png', 'pdf', 'svg'.\n",
    "\n",
    "file_path = \"exports/topomap_3d_brain.svg\"  # change the file path to where you would like to save the file\n",
    "\n",
    "matplot_brain_fig.savefig(file_path, format= 'svg')"
   ]
  },
  {
   "cell_type": "markdown",
   "id": "3760bcb6",
   "metadata": {},
   "source": [
    "#### Generate animation with matplotlib backend (slow but recommended)"
   ]
  },
  {
   "cell_type": "code",
   "execution_count": null,
   "id": "e7e2e88f",
   "metadata": {},
   "outputs": [],
   "source": [
    "%%capture\n",
    "matplotlib_animation = topomap_3d_brain.animate_matplot_brain(epoch, stc = stc, views = 'lat', hemi = 'lh')"
   ]
  },
  {
   "cell_type": "code",
   "execution_count": null,
   "id": "bddb563f",
   "metadata": {},
   "outputs": [],
   "source": [
    "matplotlib_animation"
   ]
  },
  {
   "cell_type": "markdown",
   "id": "30a376f1",
   "metadata": {},
   "source": [
    "##### Save the animation as gif"
   ]
  },
  {
   "cell_type": "code",
   "execution_count": null,
   "id": "b245d45f",
   "metadata": {},
   "outputs": [],
   "source": [
    "%%capture\n",
    "\n",
    "anim_brain = topomap_3d_brain.animate_matplot_brain(epoch, stc = stc, views = 'lat', hemi = 'lh')\n",
    "\n",
    "# use a writer if you want to specify frames per second\n",
    "from matplotlib.animation import PillowWriter\n",
    "\n",
    "writer = PillowWriter(fps=5)\n",
    "\n",
    "gif_file_path = \"exports/topomap_3d_brain.gif\"  # change the file path to where you would like to save the file\n",
    "anim_brain.save(gif_file_path, writer=writer)"
   ]
  },
  {
   "cell_type": "markdown",
   "id": "84e7c39b",
   "metadata": {},
   "source": [
    "#### Save the animation as mp4"
   ]
  },
  {
   "cell_type": "markdown",
   "id": "7c81aad3",
   "metadata": {},
   "source": [
    "```{note}\n",
    "You would need to save it as gif file first and then convert it into mp4 file.\n",
    "```"
   ]
  },
  {
   "cell_type": "code",
   "execution_count": null,
   "id": "908ab43d",
   "metadata": {},
   "outputs": [],
   "source": [
    "import moviepy.editor as mp\n",
    "\n",
    "clip = mp.VideoFileClip(\"exports/topomap_3d_brain.gif\") # change the file path to where you saved the gif file\n",
    "clip.write_videofile(\"exports/topomap_3d_brain.mp4\")  # change the file path to where you would like to save the file"
   ]
  },
  {
   "cell_type": "markdown",
   "id": "f26a1d88",
   "metadata": {},
   "source": [
    "<br>"
   ]
  }
 ],
 "metadata": {
  "kernelspec": {
   "display_name": "Python [conda env:simpl_eeg]",
   "language": "python",
   "name": "conda-env-simpl_eeg-py"
  },
  "language_info": {
   "codemirror_mode": {
    "name": "ipython",
    "version": 3
   },
   "file_extension": ".py",
   "mimetype": "text/x-python",
   "name": "python",
   "nbconvert_exporter": "python",
   "pygments_lexer": "ipython3",
   "version": "3.9.4"
  },
  "widgets": {
   "application/vnd.jupyter.widget-state+json": {
    "state": {},
    "version_major": 2,
    "version_minor": 0
   }
  }
 },
 "nbformat": 4,
 "nbformat_minor": 5
}
