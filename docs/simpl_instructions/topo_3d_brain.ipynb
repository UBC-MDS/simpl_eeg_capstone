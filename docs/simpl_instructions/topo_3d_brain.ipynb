{
 "cells": [
  {
   "cell_type": "markdown",
   "id": "5ab36988",
   "metadata": {},
   "source": [
    "# 3D Brain Visualizations"
   ]
  },
  {
   "cell_type": "markdown",
   "id": "b495729b",
   "metadata": {},
   "source": [
    "## 3D topographic brain map\n",
    "\n",
    "The 3D topographic brain map provides a view of voltage measurements as a heatmap converted to estimated position on the brain. There are 2 plot options with different backends: \n",
    "\n",
    "1) [matplotlib](#matplotlib) (the version found on the UI)\n",
    "\n",
    "2) [pyVista](#pyvista) (a better rendering but incompatible with the UI)\n",
    "\n",
    "Both plots can be generated as an animation to view changes over time or as a standalone plot."
   ]
  },
  {
   "cell_type": "markdown",
   "id": "501bc131",
   "metadata": {},
   "source": [
    "![](instruction_imgs/topomap_3d_brain.gif)"
   ]
  },
  {
   "cell_type": "markdown",
   "id": "0c3c70f3",
   "metadata": {},
   "source": [
    "## General Setup\n",
    "### Import required modules"
   ]
  },
  {
   "cell_type": "code",
   "execution_count": null,
   "id": "752bec2c",
   "metadata": {},
   "outputs": [],
   "source": [
    "from simpl_eeg import topomap_3d_brain, eeg_objects"
   ]
  },
  {
   "cell_type": "code",
   "execution_count": null,
   "id": "1478c92d",
   "metadata": {},
   "outputs": [],
   "source": [
    "import warnings\n",
    "warnings.filterwarnings('ignore')"
   ]
  },
  {
   "cell_type": "markdown",
   "id": "ff1ab21e",
   "metadata": {},
   "source": [
    "```{note}\n",
    "Please include the line below in your IDE so that the changes would be simultaneously reflected when you make a change to the python scripts.\n",
    "```"
   ]
  },
  {
   "cell_type": "code",
   "execution_count": null,
   "id": "7d1dce70",
   "metadata": {},
   "outputs": [],
   "source": [
    "%load_ext autoreload"
   ]
  },
  {
   "cell_type": "code",
   "execution_count": null,
   "id": "f31776ff",
   "metadata": {},
   "outputs": [],
   "source": [
    "%autoreload 2"
   ]
  },
  {
   "cell_type": "markdown",
   "id": "42b3468f",
   "metadata": {},
   "source": [
    "### Create epoched data\n",
    "For additional options see [Creating EEG Objects](eeg_objects.html#intro) section."
   ]
  },
  {
   "cell_type": "code",
   "execution_count": null,
   "id": "3b695428",
   "metadata": {},
   "outputs": [],
   "source": [
    "experiment_folder = \"../../data/109\"\n",
    "nth_epoch = 0\n",
    "\n",
    "epochs = eeg_objects.Epochs(experiment_folder)\n",
    "epoch = epochs.get_nth_epoch(nth_epoch)"
   ]
  },
  {
   "cell_type": "markdown",
   "id": "97104348",
   "metadata": {},
   "source": [
    "### Generate forward and inverse (optional)"
   ]
  },
  {
   "cell_type": "markdown",
   "id": "01ea08b6",
   "metadata": {},
   "source": [
    "```{note}\n",
    "- Before an animation or plot can be generated, a **\"forward\"** and **\"inverse\"** (abbreviated as **\"stc\"**) must first be generated. If they are not provided to either of the plotting animations they will be automatically generated, **HOWEVER** this will increase the time it takes to generate the figure.\n",
    "\n",
    "- The forward/inverse are used to retrieve a brain model to attach the EEG data and to do some of the mapping calculations. The forward downloads 'fsaverage' MRI data which represents a brain averaged out from dozens of different patients.\n",
    "```"
   ]
  },
  {
   "cell_type": "markdown",
   "id": "e7edb774",
   "metadata": {},
   "source": [
    "#### Generate Forward"
   ]
  },
  {
   "cell_type": "code",
   "execution_count": null,
   "id": "dc46cab1",
   "metadata": {},
   "outputs": [],
   "source": [
    "fwd = topomap_3d_brain.create_fsaverage_forward(epoch)"
   ]
  },
  {
   "cell_type": "markdown",
   "id": "5260546d",
   "metadata": {},
   "source": [
    "#### Generate Inverse"
   ]
  },
  {
   "cell_type": "code",
   "execution_count": null,
   "id": "c5ed995d",
   "metadata": {},
   "outputs": [],
   "source": [
    "stc = topomap_3d_brain.create_inverse_solution(epoch, fwd)"
   ]
  },
  {
   "cell_type": "markdown",
   "id": "2a277253",
   "metadata": {},
   "source": [
    "<a id=\"matplotlib\"></a>\n",
    "## Create a matplotlib 3D brain animation (recommended)"
   ]
  },
  {
   "cell_type": "markdown",
   "id": "31e4dd05",
   "metadata": {},
   "source": [
    "### Define parameters"
   ]
  },
  {
   "cell_type": "markdown",
   "id": "68ca1e30",
   "metadata": {},
   "source": [
    "A detailed description of all parameters can be found in the `topomap_3d_brain.animate_matplot_brain` docstring:"
   ]
  },
  {
   "cell_type": "code",
   "execution_count": null,
   "id": "ffa8ee0c",
   "metadata": {},
   "outputs": [],
   "source": [
    "help(topomap_3d_brain.animate_matplot_brain)"
   ]
  },
  {
   "cell_type": "code",
   "execution_count": null,
   "id": "3d279dd7",
   "metadata": {},
   "outputs": [],
   "source": [
    "colormap = \"RdBu_r\""
   ]
  },
  {
   "cell_type": "markdown",
   "id": "034e383b",
   "metadata": {},
   "source": [
    "#### Generate animation with matplotlib backend (slow but recommended)"
   ]
  },
  {
   "cell_type": "code",
   "execution_count": null,
   "id": "3b1e27ab",
   "metadata": {},
   "outputs": [],
   "source": [
    "%%capture\n",
    "\n",
    "matplotlib_animation = topomap_3d_brain.animate_matplot_brain(epoch, stc = stc, views = 'lat', hemi = 'lh')\n",
    "\n",
    "from IPython.display import HTML\n",
    "video = HTML(matplotlib_animation.to_jshtml())"
   ]
  },
  {
   "cell_type": "code",
   "execution_count": null,
   "id": "2debc97b",
   "metadata": {},
   "outputs": [],
   "source": [
    "video"
   ]
  },
  {
   "cell_type": "markdown",
   "id": "e92e79ba",
   "metadata": {},
   "source": [
    "### Saving the animation"
   ]
  },
  {
   "cell_type": "markdown",
   "id": "ea632ee7",
   "metadata": {},
   "source": [
    "#### Save as gif"
   ]
  },
  {
   "cell_type": "markdown",
   "id": "536f4100",
   "metadata": {},
   "source": [
    "```python\n",
    "anim_brain = topomap_3d_brain.animate_matplot_brain(epoch, stc = stc, views = 'lat', hemi = 'lh')\n",
    "\n",
    "gif_file_path = \"examples/topomap_3d_brain.gif\" \n",
    "anim_brain.save(gif_file_path, fps=5, dpi=300)\n",
    "```"
   ]
  },
  {
   "cell_type": "markdown",
   "id": "390190fa",
   "metadata": {},
   "source": [
    "#### Save as mp4"
   ]
  },
  {
   "cell_type": "markdown",
   "id": "b8e55d79",
   "metadata": {},
   "source": [
    "```python\n",
    "mp4_file_path = \"examples/topo_2d.mp4\"\n",
    "anim_brain.save(mp4_file_path, fps=5, dpi=300)\n",
    "```"
   ]
  },
  {
   "cell_type": "markdown",
   "id": "7c321fc8",
   "metadata": {},
   "source": [
    "```{note}\n",
    "If `FFMpegWriter` does not work on your computer you can save the file as a gif first and then convert it into mp4 file by running the code below.\n",
    "```\n",
    "```python\n",
    "import moviepy.editor as mp\n",
    "\n",
    "clip = mp.VideoFileClip(gif_file_path)\n",
    "clip.write_videofile(mp4_file_path)\n",
    "```"
   ]
  },
  {
   "cell_type": "markdown",
   "id": "efa766f3",
   "metadata": {},
   "source": [
    "## Create a matplotlib 3D brain figure (recommended)"
   ]
  },
  {
   "cell_type": "markdown",
   "id": "8c833492",
   "metadata": {},
   "source": [
    "### Generating a matplotlib plot"
   ]
  },
  {
   "cell_type": "code",
   "execution_count": null,
   "id": "efc6e819",
   "metadata": {},
   "outputs": [],
   "source": [
    "%%capture\n",
    "matplot_brain_fig = topomap_3d_brain.plot_topomap_3d_brain(epoch, stc=stc, backend='matplotlib')"
   ]
  },
  {
   "cell_type": "markdown",
   "id": "d728d267",
   "metadata": {},
   "source": [
    "### Save the plot\n",
    "You can change the file to different formats by changing the format argument in the function. It supports `png`, `pdf`, `svg`.\n",
    "```python\n",
    "file_path = \"examples/topomap_3d_brain.svg\"  \n",
    "matplot_brain_fig.savefig(file_path, format='svg')\n",
    "```"
   ]
  },
  {
   "cell_type": "markdown",
   "id": "9f951a61",
   "metadata": {},
   "source": [
    "<a id=\"pyvista\"></a>\n",
    "## Create a pyVista 3D brain animation"
   ]
  },
  {
   "cell_type": "markdown",
   "id": "d93a113d",
   "metadata": {},
   "source": [
    "### Generate figure with pyvista backend (NOT CURRENTLY WORKING)"
   ]
  },
  {
   "cell_type": "code",
   "execution_count": null,
   "id": "2c0e4523",
   "metadata": {},
   "outputs": [],
   "source": [
    "#pyvista_brain_fig = topomap_3d_brain.plot_topomap_3d_brain(epoch, stc = stc, backend = 'pyvista')"
   ]
  },
  {
   "cell_type": "markdown",
   "id": "7c16683e",
   "metadata": {},
   "source": [
    "### Save animation with pyvista backend (NOT CURRENTLY WORKING)"
   ]
  },
  {
   "cell_type": "code",
   "execution_count": null,
   "id": "9f26aba8",
   "metadata": {},
   "outputs": [],
   "source": [
    "#topomap_3d_brain.save_animated_topomap_3d_brain(pyvista_brain_fig, filename = \"brain_animation.gif\")"
   ]
  }
 ],
 "metadata": {
  "kernelspec": {
   "display_name": "Python 3",
   "language": "python",
   "name": "python3"
  },
  "language_info": {
   "codemirror_mode": {
    "name": "ipython",
    "version": 3
   },
   "file_extension": ".py",
   "mimetype": "text/x-python",
   "name": "python",
   "nbconvert_exporter": "python",
   "pygments_lexer": "ipython3",
   "version": "3.8.5"
  },
  "widgets": {
   "application/vnd.jupyter.widget-state+json": {
    "state": {},
    "version_major": 2,
    "version_minor": 0
   }
  }
 },
 "nbformat": 4,
 "nbformat_minor": 5
}
