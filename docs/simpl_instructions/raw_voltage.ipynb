{
 "cells": [
  {
   "cell_type": "markdown",
   "id": "cd52ccf4",
   "metadata": {},
   "source": [
    "# Raw Voltage Visualization"
   ]
  },
  {
   "cell_type": "markdown",
   "id": "f08f3338",
   "metadata": {},
   "source": [
    "## Raw voltage plot"
   ]
  },
  {
   "cell_type": "markdown",
   "id": "14b38139",
   "metadata": {},
   "source": [
    "![](instruction_imgs/voltage_plot.svg)"
   ]
  },
  {
   "cell_type": "code",
   "execution_count": null,
   "id": "c3fb0228",
   "metadata": {},
   "outputs": [],
   "source": [
    "from simpl_eeg import raw_voltage, eeg_objects"
   ]
  },
  {
   "cell_type": "code",
   "execution_count": null,
   "id": "06d9f48d",
   "metadata": {},
   "outputs": [],
   "source": [
    "import warnings\n",
    "warnings.filterwarnings('ignore')"
   ]
  },
  {
   "cell_type": "markdown",
   "id": "ba099d5b",
   "metadata": {},
   "source": [
    "```{note}\n",
    "Please include the line below in your IDE so that the changes would be simultaneously reflected when you make a change to the python scripts.**\n",
    "```"
   ]
  },
  {
   "cell_type": "code",
   "execution_count": null,
   "id": "f5d117ce",
   "metadata": {},
   "outputs": [],
   "source": [
    "%load_ext autoreload"
   ]
  },
  {
   "cell_type": "code",
   "execution_count": null,
   "id": "86f322cd",
   "metadata": {},
   "outputs": [],
   "source": [
    "%autoreload 2"
   ]
  },
  {
   "cell_type": "markdown",
   "id": "d1d401b2",
   "metadata": {},
   "source": [
    "<br>"
   ]
  },
  {
   "cell_type": "markdown",
   "id": "081aec3b",
   "metadata": {},
   "source": [
    "### Define parameters"
   ]
  },
  {
   "cell_type": "markdown",
   "id": "c14212a4",
   "metadata": {},
   "source": [
    "A detailed description of all parameters can be found in the `raw_voltage.plot_voltage` docstring:"
   ]
  },
  {
   "cell_type": "code",
   "execution_count": null,
   "id": "22d7d2a8",
   "metadata": {},
   "outputs": [],
   "source": [
    "help(raw_voltage.plot_voltage)"
   ]
  },
  {
   "cell_type": "code",
   "execution_count": null,
   "id": "fc929f54",
   "metadata": {},
   "outputs": [],
   "source": [
    "# change values below to values of interest\n",
    "\n",
    "experiment_path = \"../../data/927\"\n",
    "nth_epoch = 0"
   ]
  },
  {
   "cell_type": "markdown",
   "id": "afc54e0c",
   "metadata": {},
   "source": [
    "<br>"
   ]
  },
  {
   "cell_type": "markdown",
   "id": "9d74660b",
   "metadata": {},
   "source": [
    "### Create epoched data"
   ]
  },
  {
   "cell_type": "markdown",
   "id": "c0d88a72",
   "metadata": {},
   "source": [
    "For additional options see **Creating EEG Objects** section."
   ]
  },
  {
   "cell_type": "code",
   "execution_count": null,
   "id": "538ac5f9",
   "metadata": {},
   "outputs": [],
   "source": [
    "epochs = eeg_objects.Epochs(experiment_path)\n",
    "epoch = epochs.get_nth_epoch(nth_epoch)"
   ]
  },
  {
   "cell_type": "markdown",
   "id": "44279a48",
   "metadata": {},
   "source": [
    "</br>"
   ]
  },
  {
   "cell_type": "markdown",
   "id": "f773554e",
   "metadata": {},
   "source": [
    "### Create the raw voltage plot"
   ]
  },
  {
   "cell_type": "markdown",
   "id": "a6ddc4e7",
   "metadata": {},
   "source": [
    "#### Generating the plot"
   ]
  },
  {
   "cell_type": "markdown",
   "id": "e7f77f93",
   "metadata": {},
   "source": [
    "You can create a plot for one epoch or multiple epochs by customizing the epoch object you pass to the function."
   ]
  },
  {
   "cell_type": "code",
   "execution_count": null,
   "id": "e4c8ad79",
   "metadata": {},
   "outputs": [],
   "source": [
    "# multiple epochs\n",
    "raw_voltage.plot_voltage(epochs.data, n_epochs=2);"
   ]
  },
  {
   "cell_type": "code",
   "execution_count": null,
   "id": "399502df",
   "metadata": {},
   "outputs": [],
   "source": [
    "# single epoch \n",
    "voltage_plot = raw_voltage.plot_voltage(epoch)\n",
    "voltage_plot;"
   ]
  },
  {
   "cell_type": "markdown",
   "id": "64deb77c",
   "metadata": {},
   "source": [
    "#### Saving the plot"
   ]
  },
  {
   "cell_type": "markdown",
   "id": "19eb6901",
   "metadata": {},
   "source": [
    "You can change the plot to different formats by changing the format argument in the function. It supports 'png', 'pdf', 'svg'."
   ]
  },
  {
   "cell_type": "markdown",
   "id": "a4993ddf",
   "metadata": {},
   "source": [
    "```python\n",
    "# change the file path to where you would like to save the file\n",
    "file_path = \"../../exports/examples/voltage_plot.svg\"\n",
    "\n",
    "voltage_plot.savefig(file_path, format=\"svg\")\n",
    "```"
   ]
  },
  {
   "cell_type": "markdown",
   "id": "31daf0a2",
   "metadata": {},
   "source": [
    "<br>"
   ]
  }
 ],
 "metadata": {
  "kernelspec": {
   "display_name": "Python 3",
   "language": "python",
   "name": "python3"
  },
  "language_info": {
   "codemirror_mode": {
    "name": "ipython",
    "version": 3
   },
   "file_extension": ".py",
   "mimetype": "text/x-python",
   "name": "python",
   "nbconvert_exporter": "python",
   "pygments_lexer": "ipython3",
   "version": "3.8.5"
  },
  "widgets": {
   "application/vnd.jupyter.widget-state+json": {
    "state": {},
    "version_major": 2,
    "version_minor": 0
   }
  }
 },
 "nbformat": 4,
 "nbformat_minor": 5
}
