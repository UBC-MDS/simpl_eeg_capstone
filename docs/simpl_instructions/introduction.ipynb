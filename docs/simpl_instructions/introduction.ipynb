{
 "cells": [
  {
   "cell_type": "markdown",
   "id": "67125379",
   "metadata": {},
   "source": [
    "# Package Introduction"
   ]
  },
  {
   "cell_type": "markdown",
   "id": "35602515",
   "metadata": {},
   "source": [
    "## Background"
   ]
  },
  {
   "cell_type": "markdown",
   "id": "8499c169",
   "metadata": {},
   "source": [
    "Electroencephalograms (EEG) is an electrophysiological measurement method used to examine the electrical activity of the brain and represent it as location-based channels of waves and frequencies. EEG benefits from being inexpensive and unobtrusive, leading to its widespread use in diagnosing brain disorders such as epilepsy and brain damage from head injuries. EEG data is recorded with high dimensionality, so the use of visualizations and metrics is essential for the data to be easily interpreted by humans. Currently, the options for visualizing EEG data require the use of complicated packages or software and the functionally is often limited.\n",
    "\n",
    "`simpl_eeg` package is developed by students from the **Master of Data Science program of University of British Columbia** to provide the ability to conveniently produce advanced visualizations and metrics for specified time ranges of EEG data.\n",
    "<br>"
   ]
  },
  {
   "cell_type": "markdown",
   "id": "ac5c3675",
   "metadata": {},
   "source": [
    "## Instructions"
   ]
  },
  {
   "cell_type": "markdown",
   "id": "2f7f556d",
   "metadata": {},
   "source": [
    "### Data Folder Structure"
   ]
  },
  {
   "cell_type": "markdown",
   "id": "3acd2118",
   "metadata": {},
   "source": [
    "```{note}\n",
    "To have data properly loaded to functions in this package, please make sure that the data is saved in the `data` folder. All files related to the same experiment should be included one subfolder under the `data` folder. Inside each experiment folder, there should be `fixedareas.mat` file, `fixica.fdt` file, `fixica.set` file and `impact locations.mat` file. Please refer to the screenshot below for setting up the data folder.\n",
    "```"
   ]
  },
  {
   "cell_type": "markdown",
   "id": "f28af34c",
   "metadata": {},
   "source": [
    "![](instruction_imgs/data_folder_structure.png)"
   ]
  },
  {
   "cell_type": "markdown",
   "id": "26959f4d",
   "metadata": {},
   "source": [
    "### Import"
   ]
  },
  {
   "cell_type": "markdown",
   "id": "042361ed",
   "metadata": {},
   "source": [
    "There are six modules in this package. Each of them contains functions for different visualizations. The `eeg_objects` module contains functions to convert the raw data into epoched data with specified time ranges."
   ]
  },
  {
   "cell_type": "code",
   "execution_count": 1,
   "id": "53adb130",
   "metadata": {},
   "outputs": [],
   "source": [
    "from simpl_eeg import (\n",
    "    eeg_objects,\n",
    "    raw_voltage,\n",
    "    connectivity,\n",
    "    topomap_2d,\n",
    "    topomap_3d_brain,\n",
    "    topomap_3d_head\n",
    ")"
   ]
  },
  {
   "cell_type": "markdown",
   "id": "c99ba351",
   "metadata": {},
   "source": [
    "```{note}\n",
    "Please include the line below in your IDE so that the changes would be simultaneously reflected when you make a change to the python scripts.**\n",
    "```"
   ]
  },
  {
   "cell_type": "code",
   "execution_count": 2,
   "id": "4b53d4be",
   "metadata": {},
   "outputs": [],
   "source": [
    "%load_ext autoreload"
   ]
  },
  {
   "cell_type": "code",
   "execution_count": 3,
   "id": "8e937cb4",
   "metadata": {},
   "outputs": [],
   "source": [
    "%autoreload 2"
   ]
  },
  {
   "cell_type": "markdown",
   "id": "9b5879d9",
   "metadata": {},
   "source": [
    "<br>"
   ]
  }
 ],
 "metadata": {
  "kernelspec": {
   "display_name": "Python 3",
   "language": "python",
   "name": "python3"
  },
  "language_info": {
   "codemirror_mode": {
    "name": "ipython",
    "version": 3
   },
   "file_extension": ".py",
   "mimetype": "text/x-python",
   "name": "python",
   "nbconvert_exporter": "python",
   "pygments_lexer": "ipython3",
   "version": "3.8.5"
  },
  "widgets": {
   "application/vnd.jupyter.widget-state+json": {
    "state": {},
    "version_major": 2,
    "version_minor": 0
   }
  }
 },
 "nbformat": 4,
 "nbformat_minor": 5
}
