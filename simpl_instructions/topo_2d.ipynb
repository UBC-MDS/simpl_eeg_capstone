{
 "cells": [
  {
   "cell_type": "markdown",
   "id": "49aa4984",
   "metadata": {},
   "source": [
    "# `simpl_eeg` package"
   ]
  },
  {
   "cell_type": "markdown",
   "id": "c984681c",
   "metadata": {},
   "source": [
    "## 2D topographic map"
   ]
  },
  {
   "cell_type": "markdown",
   "id": "7ffa9fa3",
   "metadata": {},
   "source": [
    "![](instruction_imgs/topo_2d.gif)"
   ]
  },
  {
   "cell_type": "code",
   "execution_count": null,
   "id": "3ff82142",
   "metadata": {},
   "outputs": [],
   "source": [
    "from simpl_eeg import eeg_objects, topomap_2d"
   ]
  },
  {
   "cell_type": "code",
   "execution_count": null,
   "id": "3155a089",
   "metadata": {},
   "outputs": [],
   "source": [
    "import warnings\n",
    "warnings.filterwarnings('ignore')"
   ]
  },
  {
   "cell_type": "markdown",
   "id": "06cf04b1",
   "metadata": {},
   "source": [
    "**Please include the line below in your IDE so that the changes would be simultaneously reflected when you make a change to the python scripts.**"
   ]
  },
  {
   "cell_type": "code",
   "execution_count": null,
   "id": "c634b786",
   "metadata": {},
   "outputs": [],
   "source": [
    "%load_ext autoreload"
   ]
  },
  {
   "cell_type": "code",
   "execution_count": null,
   "id": "8e73c793",
   "metadata": {},
   "outputs": [],
   "source": [
    "%autoreload 2"
   ]
  },
  {
   "cell_type": "markdown",
   "id": "4d80fe61",
   "metadata": {},
   "source": [
    "<br>"
   ]
  },
  {
   "cell_type": "markdown",
   "id": "512dba5c",
   "metadata": {},
   "source": [
    "### Define global parameters"
   ]
  },
  {
   "cell_type": "markdown",
   "id": "84b80fa8",
   "metadata": {},
   "source": [
    "There are some common parameters for all functions in this package, it would be more convenient to define all parameters before going into each functions."
   ]
  },
  {
   "cell_type": "code",
   "execution_count": 1,
   "id": "84b6aaeb",
   "metadata": {},
   "outputs": [],
   "source": [
    "# change None to values of interest\n",
    "\n",
    "experiment = None # has to be a string\n",
    "nth_epoch = None\n",
    "vmin = None # The minimum for the scale. Defaults to None.\n",
    "vmax = None # The minimum for the scale. Defaults to None.\n",
    "colormap = None # select from [\"RdBu_r\", \"hot\", \"cool\", \"inferno\", \"turbo\", \"rainbow\"]"
   ]
  },
  {
   "cell_type": "markdown",
   "id": "a5fa85bb",
   "metadata": {},
   "source": [
    "<br>"
   ]
  },
  {
   "cell_type": "markdown",
   "id": "a90136f7",
   "metadata": {},
   "source": [
    "### Create epoched data"
   ]
  },
  {
   "cell_type": "code",
   "execution_count": null,
   "id": "ff7779e8",
   "metadata": {},
   "outputs": [],
   "source": [
    "tmin = None # number of seconds before the impact\n",
    "tmax = None # number of seconds after the impact\n",
    "start_second = None # starting time of the epoch\n",
    "\n",
    "raw = eeg_objects.Epochs(experiment, tmin, tmax, start_second)"
   ]
  },
  {
   "cell_type": "markdown",
   "id": "e5fbb697",
   "metadata": {},
   "source": [
    "#### To select the epoch"
   ]
  },
  {
   "cell_type": "code",
   "execution_count": null,
   "id": "b3011500",
   "metadata": {},
   "outputs": [],
   "source": [
    "raw.set_nth_epoch(nth_epoch)"
   ]
  },
  {
   "cell_type": "markdown",
   "id": "9304e332",
   "metadata": {},
   "source": [
    "#### To select the number of time steps to skip (optional step)"
   ]
  },
  {
   "cell_type": "code",
   "execution_count": null,
   "id": "d514c83b",
   "metadata": {},
   "outputs": [],
   "source": [
    "raw.skip_n_steps(num_steps)"
   ]
  },
  {
   "cell_type": "markdown",
   "id": "fb85f13f",
   "metadata": {},
   "source": [
    "#### To get the selected epoch"
   ]
  },
  {
   "cell_type": "code",
   "execution_count": null,
   "id": "d4bf017b",
   "metadata": {},
   "outputs": [],
   "source": [
    "epoch = raw.get_nth_epoch()"
   ]
  },
  {
   "cell_type": "markdown",
   "id": "a15d124d",
   "metadata": {},
   "source": [
    "<br>"
   ]
  },
  {
   "cell_type": "markdown",
   "id": "693da985",
   "metadata": {},
   "source": [
    "### Create the 2D topographic map"
   ]
  },
  {
   "cell_type": "markdown",
   "id": "2dd8ad53",
   "metadata": {},
   "source": [
    "#### To generate the animation"
   ]
  },
  {
   "cell_type": "code",
   "execution_count": null,
   "id": "1a1e7937",
   "metadata": {},
   "outputs": [],
   "source": [
    "%%capture \n",
    "topo_2d = topomap_2d.animate_topomap_2d(epoch,\n",
    "                       colormap=colormap,\n",
    "                       mark='dot',\n",
    "                       contours='6',\n",
    "                       sphere=100,\n",
    "                       cmin= vmin,\n",
    "                       cmax = vmin,\n",
    "                       res=100,\n",
    "                       extrapolate='head',\n",
    "                       outlines='head',\n",
    "                       axes=None,\n",
    "                       mask=None,\n",
    "                       mask_params=None,\n",
    "                       colorbar=True,\n",
    "                       timestamp = True,\n",
    "                       frame_rate=12)"
   ]
  },
  {
   "cell_type": "code",
   "execution_count": null,
   "id": "5327344e",
   "metadata": {},
   "outputs": [],
   "source": [
    "from IPython.display import HTML\n",
    "\n",
    "HTML(topo_2d.to_jshtml())"
   ]
  },
  {
   "cell_type": "markdown",
   "id": "8f6ab63e",
   "metadata": {},
   "source": [
    "#### To save the animation"
   ]
  },
  {
   "cell_type": "markdown",
   "id": "dc128605",
   "metadata": {},
   "source": [
    "##### To save the animation as gif"
   ]
  },
  {
   "cell_type": "code",
   "execution_count": null,
   "id": "98706973",
   "metadata": {},
   "outputs": [],
   "source": [
    "from matplotlib.animation import PillowWriter\n",
    "writergif = PillowWriter(fps=30)\n",
    "topo_2d.save(\"topo_2d.gif\", writer=writergif)"
   ]
  },
  {
   "cell_type": "markdown",
   "id": "be4527fa",
   "metadata": {},
   "source": [
    "##### To save the animation as mp4"
   ]
  },
  {
   "cell_type": "markdown",
   "id": "289e42a7",
   "metadata": {},
   "source": [
    "You would need to save it as gif file first and then convert it into mp4 file."
   ]
  },
  {
   "cell_type": "code",
   "execution_count": null,
   "id": "da063ca4",
   "metadata": {},
   "outputs": [],
   "source": [
    "import moviepy.editor as mp\n",
    "\n",
    "clip = mp.VideoFileClip(\"topo_2d.gif\")\n",
    "clip.write_videofile(\"topo_2d.mp4\") "
   ]
  },
  {
   "cell_type": "markdown",
   "id": "f4db9670",
   "metadata": {},
   "source": [
    "<br>"
   ]
  },
  {
   "cell_type": "code",
   "execution_count": null,
   "id": "af3ced9c",
   "metadata": {},
   "outputs": [],
   "source": []
  }
 ],
 "metadata": {
  "kernelspec": {
   "display_name": "Python [conda env:simpl_eeg]",
   "language": "python",
   "name": "conda-env-simpl_eeg-py"
  },
  "language_info": {
   "codemirror_mode": {
    "name": "ipython",
    "version": 3
   },
   "file_extension": ".py",
   "mimetype": "text/x-python",
   "name": "python",
   "nbconvert_exporter": "python",
   "pygments_lexer": "ipython3",
   "version": "3.9.4"
  }
 },
 "nbformat": 4,
 "nbformat_minor": 5
}
