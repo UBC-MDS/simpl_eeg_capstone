{
 "cells": [
  {
   "cell_type": "markdown",
   "id": "fce74cfb",
   "metadata": {},
   "source": [
    "# `simpl_eeg` package\n",
    "<br>"
   ]
  },
  {
   "cell_type": "markdown",
   "id": "a5a8b7b9",
   "metadata": {},
   "source": [
    "## Introduction"
   ]
  },
  {
   "cell_type": "markdown",
   "id": "7ee91da1",
   "metadata": {},
   "source": [
    "Electroencephalograms (EEG) is an electrophysiological measurement method used to examine the electrical activity of the brain and represent it as location-based channels of waves and frequencies. EEG benefits from being inexpensive and unobtrusive, leading to its widespread use in diagnosing brain disorders such as epilepsy and brain damage from head injuries. EEG data is recorded with high dimensionality, so the use of visualizations and metrics is essential for the data to be easily interpreted by humans. Currently, the options for visualizing EEG data require the use of complicated packages or software and the functionally is often limited.\n",
    "\n",
    "`simpl_eeg` package is developed by students from the Master of Data Science program of University of British Columbia to provide the ability to conveniently produce advanced visualizations and metrics for specified time ranges of EEG data.\n",
    "<br>"
   ]
  },
  {
   "cell_type": "markdown",
   "id": "7f2a4dda",
   "metadata": {},
   "source": [
    "## Instructions"
   ]
  },
  {
   "cell_type": "markdown",
   "id": "7a536124",
   "metadata": {},
   "source": [
    "### Installation"
   ]
  },
  {
   "cell_type": "markdown",
   "id": "dc1c0519",
   "metadata": {},
   "source": [
    "Run the following commands in your terminal to clone the repository and install the package:"
   ]
  },
  {
   "cell_type": "markdown",
   "id": "f04aeccc",
   "metadata": {},
   "source": [
    "```bash\n",
    "git clone https://github.com/UBC-MDS/simpl_eeg_capstone.git\n",
    "cd simpl_eeg_capstone\n",
    "pip install -e .\n",
    "```\n",
    "<br>"
   ]
  },
  {
   "cell_type": "markdown",
   "id": "553294ae",
   "metadata": {},
   "source": [
    "### Import"
   ]
  },
  {
   "cell_type": "markdown",
   "id": "4e4356f9",
   "metadata": {},
   "source": [
    "There are six modules in this package. Each of them contains functions for different visualizations. The `eeg_objects` module contains functions to convert the raw data into epoched data with specified time ranges."
   ]
  },
  {
   "cell_type": "code",
   "execution_count": null,
   "id": "adde74cb",
   "metadata": {},
   "outputs": [],
   "source": [
    "from simpl_eeg import raw_voltage, eeg_objects, connectivity, topomap_2d, topomap_3d_brain, topomap_3d_head"
   ]
  },
  {
   "cell_type": "code",
   "execution_count": null,
   "id": "3e048238",
   "metadata": {},
   "outputs": [],
   "source": [
    "import warnings\n",
    "warnings.filterwarnings('ignore')"
   ]
  },
  {
   "cell_type": "markdown",
   "id": "34bce056",
   "metadata": {},
   "source": [
    "**Please include the line below in your IDE so that the changes would be simultaneously reflected when you make a change to the python scripts.**"
   ]
  },
  {
   "cell_type": "code",
   "execution_count": null,
   "id": "d6214ed6",
   "metadata": {},
   "outputs": [],
   "source": [
    "%load_ext autoreload"
   ]
  },
  {
   "cell_type": "code",
   "execution_count": null,
   "id": "99cda6a4",
   "metadata": {},
   "outputs": [],
   "source": [
    "%autoreload 2"
   ]
  },
  {
   "cell_type": "markdown",
   "id": "07166d92",
   "metadata": {},
   "source": [
    "<br>"
   ]
  },
  {
   "cell_type": "markdown",
   "id": "774c4467",
   "metadata": {},
   "source": [
    "### Define parameters"
   ]
  },
  {
   "cell_type": "markdown",
   "id": "5275a9d9",
   "metadata": {},
   "source": [
    "There are some common parameters for all functions in this package, it would be more convenient to define all parameters before going into each functions."
   ]
  },
  {
   "cell_type": "code",
   "execution_count": null,
   "id": "97e53b89",
   "metadata": {},
   "outputs": [],
   "source": [
    "# change None to values of interest\n",
    "\n",
    "experiment = \"927\" # has to be a string\n",
    "nth_epoch = 0\n",
    "# color_min = None\n",
    "# color_max = None\n",
    "# colormap = None"
   ]
  },
  {
   "cell_type": "markdown",
   "id": "f7b824f9",
   "metadata": {},
   "source": [
    "<br>"
   ]
  },
  {
   "cell_type": "markdown",
   "id": "2f22aabd",
   "metadata": {},
   "source": [
    "### Create epoched data"
   ]
  },
  {
   "cell_type": "code",
   "execution_count": null,
   "id": "0b17b6f6",
   "metadata": {},
   "outputs": [],
   "source": [
    "raw = eeg_objects.Epochs(experiment)"
   ]
  },
  {
   "cell_type": "code",
   "execution_count": null,
   "id": "940fe7a5",
   "metadata": {},
   "outputs": [],
   "source": [
    "raw.set_nth_epoch(nth_epoch)"
   ]
  },
  {
   "cell_type": "code",
   "execution_count": null,
   "id": "ac8a15f1",
   "metadata": {},
   "outputs": [],
   "source": [
    "epoch = raw.get_nth_epoch()"
   ]
  },
  {
   "cell_type": "markdown",
   "id": "82222b83",
   "metadata": {},
   "source": [
    "<br>"
   ]
  },
  {
   "cell_type": "markdown",
   "id": "e4cdcd37",
   "metadata": {},
   "source": [
    "### Create the raw voltage plot"
   ]
  },
  {
   "cell_type": "markdown",
   "id": "c4e97881",
   "metadata": {},
   "source": [
    "#### To generate the plot"
   ]
  },
  {
   "cell_type": "code",
   "execution_count": null,
   "id": "7a9a5787",
   "metadata": {},
   "outputs": [],
   "source": [
    "voltage_plot = raw_voltage.plot_voltage(epoch)\n",
    "voltage_plot;"
   ]
  },
  {
   "cell_type": "markdown",
   "id": "958bb483",
   "metadata": {},
   "source": [
    "#### To save the plot"
   ]
  },
  {
   "cell_type": "code",
   "execution_count": null,
   "id": "22459418",
   "metadata": {},
   "outputs": [],
   "source": [
    "# You could change the plot to different formats by changing the format argument in the function. \n",
    "# It supports 'png', 'pdf', 'svg'.\n",
    "\n",
    "voltage_plot.savefig(\"voltage_plot.svg\", format= 'svg')"
   ]
  },
  {
   "cell_type": "markdown",
   "id": "1eac63ec",
   "metadata": {},
   "source": [
    "<br>"
   ]
  },
  {
   "cell_type": "markdown",
   "id": "c683961f",
   "metadata": {},
   "source": [
    "### Create the connectivity plot"
   ]
  },
  {
   "cell_type": "markdown",
   "id": "c77e5b76",
   "metadata": {},
   "source": [
    "#### To generate the animtation"
   ]
  },
  {
   "cell_type": "code",
   "execution_count": null,
   "id": "6d3bd7d2",
   "metadata": {},
   "outputs": [],
   "source": [
    "%matplotlib inline"
   ]
  },
  {
   "cell_type": "code",
   "execution_count": null,
   "id": "f658f449",
   "metadata": {},
   "outputs": [],
   "source": [
    "conn_plot_animated = connectivity.animate_connectivity(epoch, calc_type=\"correlation\", colormap='turbo')"
   ]
  },
  {
   "cell_type": "code",
   "execution_count": null,
   "id": "434c5730",
   "metadata": {},
   "outputs": [],
   "source": [
    "from IPython.display import HTML\n",
    "\n",
    "HTML(conn_plot_animated.to_jshtml())"
   ]
  },
  {
   "cell_type": "markdown",
   "id": "2de3fab5",
   "metadata": {},
   "source": [
    "#### To save the animattion"
   ]
  },
  {
   "cell_type": "markdown",
   "id": "2ea9a65b",
   "metadata": {},
   "source": [
    "##### To save the animated plot as gif"
   ]
  },
  {
   "cell_type": "code",
   "execution_count": null,
   "id": "254405ce",
   "metadata": {},
   "outputs": [],
   "source": [
    "from matplotlib.animation import PillowWriter\n",
    "writergif = PillowWriter(fps=30)\n",
    "conn_plot_animated.save(\"connectivity.gif\", writer=writergif)"
   ]
  },
  {
   "cell_type": "markdown",
   "id": "d07e4993",
   "metadata": {},
   "source": [
    "##### To save the animated plot as mp4"
   ]
  },
  {
   "cell_type": "code",
   "execution_count": null,
   "id": "c1860ced",
   "metadata": {},
   "outputs": [],
   "source": [
    "from matplotlib.animation import FFMpegWriter\n",
    "writervideo = FFMpegWriter(fps=60) \n",
    "conn_plot_animated.save(\"connectivity.mp4\", writer=writervideo) # just change the file name to avi if you want the avi file"
   ]
  },
  {
   "cell_type": "markdown",
   "id": "5de9f6c2",
   "metadata": {},
   "source": [
    "<br>"
   ]
  },
  {
   "cell_type": "markdown",
   "id": "0881319f",
   "metadata": {},
   "source": [
    "### Create the 2D topographic map"
   ]
  },
  {
   "cell_type": "markdown",
   "id": "bbd247e0",
   "metadata": {},
   "source": [
    "#### To generate the animation"
   ]
  },
  {
   "cell_type": "code",
   "execution_count": null,
   "id": "584fd87b",
   "metadata": {},
   "outputs": [],
   "source": [
    "topo_2d = topomap_2d.animate_topomap_2d(epoch)"
   ]
  },
  {
   "cell_type": "code",
   "execution_count": null,
   "id": "b745f59b",
   "metadata": {},
   "outputs": [],
   "source": [
    "from IPython.display import HTML\n",
    "\n",
    "HTML(topo_2d.to_jshtml())"
   ]
  },
  {
   "cell_type": "markdown",
   "id": "3a955261",
   "metadata": {},
   "source": [
    "#### To save the animation"
   ]
  },
  {
   "cell_type": "markdown",
   "id": "27efd37e",
   "metadata": {},
   "source": [
    "##### To save the animation as gif"
   ]
  },
  {
   "cell_type": "code",
   "execution_count": null,
   "id": "92b76b55",
   "metadata": {},
   "outputs": [],
   "source": [
    "from matplotlib.animation import PillowWriter\n",
    "writergif = PillowWriter(fps=30)\n",
    "topo_2d.save(\"topo_2d.gif\", writer=writergif)"
   ]
  },
  {
   "cell_type": "markdown",
   "id": "32d149e6",
   "metadata": {},
   "source": [
    "##### To save the animation as mp4"
   ]
  },
  {
   "cell_type": "code",
   "execution_count": null,
   "id": "cf80b5c2",
   "metadata": {},
   "outputs": [],
   "source": [
    "from matplotlib.animation import FFMpegWriter\n",
    "writervideo = FFMpegWriter(fps=60) \n",
    "topo_2d.save(\"topo_2d.mp4\", writer=writervideo) "
   ]
  },
  {
   "cell_type": "markdown",
   "id": "138edec1",
   "metadata": {},
   "source": [
    "<br>"
   ]
  },
  {
   "cell_type": "markdown",
   "id": "6142392c",
   "metadata": {},
   "source": [
    "### Create the topographic map in 3D brain"
   ]
  },
  {
   "cell_type": "markdown",
   "id": "fea0aec9",
   "metadata": {},
   "source": [
    "```{note}\n",
    "* NOTE: Before an animation or plot can be generated a \"forward\" and \"inverse\" (abbreviated as \"stc\") must first be generated. If they are not provided to either of the plotting animations they will be automatically generated HOWEVER this will increase the time it takes to generate the figure.\n",
    "\n",
    "- The forward/inverse are used to retrieve a brain model to attach the EEG data to and to do some of the mapping calculations. The forward downloads 'fsaverage' MRI data which represents a brain averaged out from dozens of different patients.\n",
    "```"
   ]
  },
  {
   "cell_type": "markdown",
   "id": "cf4c6335",
   "metadata": {},
   "source": [
    "#### Generate Forward"
   ]
  },
  {
   "cell_type": "code",
   "execution_count": null,
   "id": "e7db7c89",
   "metadata": {},
   "outputs": [],
   "source": [
    "fwd = topomap_3d_brain.create_fsaverage_forward(epoch)"
   ]
  },
  {
   "cell_type": "markdown",
   "id": "177d833f",
   "metadata": {},
   "source": [
    "#### Generate Inverse"
   ]
  },
  {
   "cell_type": "code",
   "execution_count": null,
   "id": "e6763290",
   "metadata": {},
   "outputs": [],
   "source": [
    "stc = topomap_3d_brain.create_inverse_solution(epoch, fwd)"
   ]
  },
  {
   "cell_type": "markdown",
   "id": "019d87eb",
   "metadata": {},
   "source": [
    "#### To generate figure with pyvista backend"
   ]
  },
  {
   "cell_type": "code",
   "execution_count": null,
   "id": "6af9bfc2",
   "metadata": {},
   "outputs": [],
   "source": [
    "pyvista_brain_fig = topomap_3d_brain.plot_topomap_3d_brain(epoch, stc = stc, backend = 'pyvista')"
   ]
  },
  {
   "cell_type": "markdown",
   "id": "36e67589",
   "metadata": {},
   "source": [
    "#### To save animation with pyvista backend"
   ]
  },
  {
   "cell_type": "code",
   "execution_count": null,
   "id": "3690d4c2",
   "metadata": {},
   "outputs": [],
   "source": [
    "topomap_3d_brain.save_animated_topomap_3d_brain(pyvista_brain_fig, filename = \"brain_animation.gif\")"
   ]
  },
  {
   "cell_type": "markdown",
   "id": "c8de660d",
   "metadata": {},
   "source": [
    "#### To generate figure with matplotlib backend (recommended)"
   ]
  },
  {
   "cell_type": "code",
   "execution_count": null,
   "id": "87a56515",
   "metadata": {},
   "outputs": [],
   "source": [
    "matplot_brain_fig = topomap_3d_brain.plot_topomap_3d_brain(epoch, stc = stc, backend = 'matplotlib')"
   ]
  },
  {
   "cell_type": "markdown",
   "id": "fc9bd188",
   "metadata": {},
   "source": [
    "#### To generate animation with matplotlib backend (slow but recommended)"
   ]
  },
  {
   "cell_type": "code",
   "execution_count": null,
   "id": "e85024d1",
   "metadata": {},
   "outputs": [],
   "source": [
    "matplotlib_animation = topomap_3d_brain.animate_matplot_brain(matplotlib, stc = stc, views = 'lat', hemi = 'lh')"
   ]
  },
  {
   "cell_type": "markdown",
   "id": "f76fd129",
   "metadata": {},
   "source": [
    "<br>"
   ]
  },
  {
   "cell_type": "markdown",
   "id": "53dd58ba",
   "metadata": {},
   "source": [
    "### Create the topographic map in 3D head shape"
   ]
  },
  {
   "cell_type": "markdown",
   "id": "99dd3c87",
   "metadata": {},
   "source": [
    "#### To generate the plot for a specific time stamp"
   ]
  },
  {
   "cell_type": "code",
   "execution_count": null,
   "id": "18580192",
   "metadata": {},
   "outputs": [],
   "source": [
    "timestamp = -300 # you can change the value to the time stamp of your interest\n",
    "topo_3d__head_static = topomap_3d_head.topo_3d_map(epoch, timestamp)"
   ]
  },
  {
   "cell_type": "code",
   "execution_count": null,
   "id": "562736a1",
   "metadata": {},
   "outputs": [],
   "source": [
    "topo_3d__head_static.show()"
   ]
  },
  {
   "cell_type": "markdown",
   "id": "84803e9e",
   "metadata": {},
   "source": [
    "#### To generate the animnation"
   ]
  },
  {
   "cell_type": "code",
   "execution_count": null,
   "id": "cc6c56b8",
   "metadata": {},
   "outputs": [],
   "source": [
    "topo_3d_head = topomap_3d_head.animate_3d_head(epoch)"
   ]
  },
  {
   "cell_type": "code",
   "execution_count": null,
   "id": "108e8930",
   "metadata": {},
   "outputs": [],
   "source": [
    "topo_3d_head.show()"
   ]
  },
  {
   "cell_type": "markdown",
   "id": "86784c46",
   "metadata": {},
   "source": [
    "#### To save the animnation"
   ]
  },
  {
   "cell_type": "markdown",
   "id": "ba352065",
   "metadata": {},
   "source": [
    "##### To save the static plot"
   ]
  },
  {
   "cell_type": "code",
   "execution_count": null,
   "id": "38fa269f",
   "metadata": {},
   "outputs": [],
   "source": [
    "topo_3d__head_static.write_image(\"topo_3d_static.svg\", engine=\"kaleido\") "
   ]
  },
  {
   "cell_type": "code",
   "execution_count": null,
   "id": "1eb1459c",
   "metadata": {},
   "outputs": [],
   "source": [
    "topo_3d__head_static.write_image(\"topo_3d_static.png\") # no need to specify engine if not saved as svg file"
   ]
  },
  {
   "cell_type": "markdown",
   "id": "c9f3fed6",
   "metadata": {},
   "source": [
    "##### To save the animnation as html"
   ]
  },
  {
   "cell_type": "code",
   "execution_count": null,
   "id": "6866be36",
   "metadata": {},
   "outputs": [],
   "source": [
    "topo_3d_head.write_html(\"topo_3d.html\")"
   ]
  },
  {
   "cell_type": "markdown",
   "id": "ff68f0fe",
   "metadata": {},
   "source": [
    "##### To save the animation as gif file"
   ]
  },
  {
   "cell_type": "markdown",
   "id": "3abc76d5",
   "metadata": {},
   "source": [
    "You would need specify the starting timestamp, ending timestamp and the duration between frames"
   ]
  },
  {
   "cell_type": "code",
   "execution_count": null,
   "id": "772513cf",
   "metadata": {},
   "outputs": [],
   "source": [
    "topomap_3d_head.save_gif(epoch, starting=-300, ending=-290, gifname=\"example\", duration=200)"
   ]
  },
  {
   "cell_type": "markdown",
   "id": "e4145b8b",
   "metadata": {},
   "source": [
    "##### To save the animation as mp4 file"
   ]
  },
  {
   "cell_type": "markdown",
   "id": "cb425e85",
   "metadata": {},
   "source": [
    "You would need to save it as gif file first and then convert it into mp4 file."
   ]
  },
  {
   "cell_type": "code",
   "execution_count": null,
   "id": "d4dbad5a",
   "metadata": {},
   "outputs": [],
   "source": [
    "import moviepy.editor as mp\n",
    "\n",
    "topomap_3d_head.save_gif(epoch, starting=-300, ending=-290, gifname=\"example\", duration=100)\n",
    "clip = mp.VideoFileClip(\"example.gif\")\n",
    "clip.write_videofile(\"example.mp4\")"
   ]
  },
  {
   "cell_type": "code",
   "execution_count": null,
   "id": "e1b14370",
   "metadata": {},
   "outputs": [],
   "source": []
  }
 ],
 "metadata": {
  "kernelspec": {
   "display_name": "Python [conda env:capstone]",
   "language": "python",
   "name": "conda-env-capstone-py"
  },
  "language_info": {
   "codemirror_mode": {
    "name": "ipython",
    "version": 3
   },
   "file_extension": ".py",
   "mimetype": "text/x-python",
   "name": "python",
   "nbconvert_exporter": "python",
   "pygments_lexer": "ipython3",
   "version": "3.9.4"
  }
 },
 "nbformat": 4,
 "nbformat_minor": 5
}
