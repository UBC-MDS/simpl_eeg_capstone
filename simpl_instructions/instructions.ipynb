{
 "cells": [
  {
   "cell_type": "markdown",
   "id": "4ce55801",
   "metadata": {},
   "source": [
    "# `simpl_eeg` package\n",
    "<br>"
   ]
  },
  {
   "cell_type": "markdown",
   "id": "918c2d8e",
   "metadata": {},
   "source": [
    "## Introduction"
   ]
  },
  {
   "cell_type": "markdown",
   "id": "a102e734",
   "metadata": {},
   "source": [
    "Electroencephalograms (EEG) is an electrophysiological measurement method used to examine the electrical activity of the brain and represent it as location-based channels of waves and frequencies. EEG benefits from being inexpensive and unobtrusive, leading to its widespread use in diagnosing brain disorders such as epilepsy and brain damage from head injuries. EEG data is recorded with high dimensionality, so the use of visualizations and metrics is essential for the data to be easily interpreted by humans. Currently, the options for visualizing EEG data require the use of complicated packages or software and the functionally is often limited.\n",
    "\n",
    "`simpl_eeg` package is developed by students from the Master of Data Science program of University of British Columbia to provide the ability to conveniently produce advanced visualizations and metrics for specified time ranges of EEG data.\n",
    "<br>"
   ]
  },
  {
   "cell_type": "markdown",
   "id": "0845e4fa",
   "metadata": {},
   "source": [
    "## Instructions"
   ]
  },
  {
   "cell_type": "markdown",
   "id": "a512f2b7",
   "metadata": {},
   "source": [
    "### Installation"
   ]
  },
  {
   "cell_type": "markdown",
   "id": "f2036676",
   "metadata": {},
   "source": [
    "Run the following commands in your terminal to clone the repository and install the package:"
   ]
  },
  {
   "cell_type": "markdown",
   "id": "392248f2",
   "metadata": {},
   "source": [
    "```bash\n",
    "git clone https://github.com/UBC-MDS/simpl_eeg_capstone.git\n",
    "cd simpl_eeg_capstone\n",
    "pip install -e .\n",
    "```\n",
    "<br>"
   ]
  },
  {
   "cell_type": "markdown",
   "id": "6c1a4aa8",
   "metadata": {},
   "source": [
    "### Import"
   ]
  },
  {
   "cell_type": "markdown",
   "id": "d46c7e08",
   "metadata": {},
   "source": [
    "There are six modules in this package. Each of them contains functions for different visualizations. The `eeg_objects` module contains functions to convert the raw data into epoched data with specified time ranges."
   ]
  },
  {
   "cell_type": "code",
   "execution_count": null,
   "id": "deda7e97",
   "metadata": {},
   "outputs": [],
   "source": [
    "from simpl_eeg import raw_voltage, eeg_objects, connectivity, topomap_2d, topomap_3d_brain, topomap_3d_head"
   ]
  },
  {
   "cell_type": "code",
   "execution_count": null,
   "id": "53b1dede",
   "metadata": {},
   "outputs": [],
   "source": [
    "# import warnings\n",
    "# warnings.filterwarnings('ignore')"
   ]
  },
  {
   "cell_type": "markdown",
   "id": "ec794ae9",
   "metadata": {},
   "source": [
    "**Please include the line below in your IDE so that the changes would be simultaneously reflected when you make a change to the python scripts.**"
   ]
  },
  {
   "cell_type": "code",
   "execution_count": null,
   "id": "995f6068",
   "metadata": {},
   "outputs": [],
   "source": [
    "%load_ext autoreload"
   ]
  },
  {
   "cell_type": "code",
   "execution_count": null,
   "id": "2a4b4d44",
   "metadata": {},
   "outputs": [],
   "source": [
    "%autoreload 2"
   ]
  },
  {
   "cell_type": "markdown",
   "id": "d9f51247",
   "metadata": {},
   "source": [
    "<br>"
   ]
  },
  {
   "cell_type": "markdown",
   "id": "6716abc8",
   "metadata": {},
   "source": [
    "### Define parameters"
   ]
  },
  {
   "cell_type": "markdown",
   "id": "bf6db57d",
   "metadata": {},
   "source": [
    "There are some common parameters for all functions in this package, it would be more convenient to define all parameters before going into each functions."
   ]
  },
  {
   "cell_type": "code",
   "execution_count": null,
   "id": "9262ef64",
   "metadata": {},
   "outputs": [],
   "source": [
    "# change None to values of interest\n",
    "\n",
    "# experiment = None \n",
    "# nth_epoch = None\n",
    "# color_min = None\n",
    "# color_max = None\n",
    "# colormap = None"
   ]
  },
  {
   "cell_type": "markdown",
   "id": "f4382c47",
   "metadata": {},
   "source": [
    "<br>"
   ]
  },
  {
   "cell_type": "markdown",
   "id": "25dc353a",
   "metadata": {},
   "source": [
    "### Create epoched data"
   ]
  },
  {
   "cell_type": "code",
   "execution_count": null,
   "id": "5fca22de",
   "metadata": {},
   "outputs": [],
   "source": [
    "raw = eeg_objects.Epochs(experiment=\"927\")"
   ]
  },
  {
   "cell_type": "code",
   "execution_count": null,
   "id": "38818a73",
   "metadata": {},
   "outputs": [],
   "source": [
    "epoch = raw.get_nth_epoch(nth_epoch)"
   ]
  },
  {
   "cell_type": "markdown",
   "id": "4d33b914",
   "metadata": {},
   "source": [
    "<br>"
   ]
  },
  {
   "cell_type": "markdown",
   "id": "ccaa3701",
   "metadata": {},
   "source": [
    "### Create the raw voltage plot"
   ]
  },
  {
   "cell_type": "markdown",
   "id": "60137d0e",
   "metadata": {},
   "source": [
    "#### To generate the plot"
   ]
  },
  {
   "cell_type": "code",
   "execution_count": null,
   "id": "4bb17bae",
   "metadata": {},
   "outputs": [],
   "source": [
    "voltage_plot = raw_voltage.plot_voltage(epoch)\n",
    "voltage_plot;"
   ]
  },
  {
   "cell_type": "markdown",
   "id": "5f86d822",
   "metadata": {},
   "source": [
    "#### To save the plot"
   ]
  },
  {
   "cell_type": "code",
   "execution_count": null,
   "id": "26e32a97",
   "metadata": {},
   "outputs": [],
   "source": [
    "# You could change the plot to different formats by changing the format argument in the function. \n",
    "# It supports 'png', 'pdf', 'svg'.\n",
    "\n",
    "voltage_plot.savefig(\"voltage_plot.svg\", format= 'svg')"
   ]
  },
  {
   "cell_type": "markdown",
   "id": "6c6704fa",
   "metadata": {},
   "source": [
    "<br>"
   ]
  },
  {
   "cell_type": "markdown",
   "id": "143b3158",
   "metadata": {},
   "source": [
    "### Create the connectivity plot"
   ]
  },
  {
   "cell_type": "markdown",
   "id": "e24889a0",
   "metadata": {},
   "source": [
    "#### To generate the animtation"
   ]
  },
  {
   "cell_type": "code",
   "execution_count": null,
   "id": "ba3bf207",
   "metadata": {},
   "outputs": [],
   "source": [
    "%matplotlib inline"
   ]
  },
  {
   "cell_type": "code",
   "execution_count": null,
   "id": "4da63aaf",
   "metadata": {},
   "outputs": [],
   "source": [
    "conn_plot_animated = connectivity.animate_connectivity(epoch, calc_type=\"correlation\", colormap='turbo')"
   ]
  },
  {
   "cell_type": "code",
   "execution_count": null,
   "id": "068b0559",
   "metadata": {},
   "outputs": [],
   "source": [
    "from IPython.display import HTML\n",
    "\n",
    "HTML(conn_plot_animated.to_jshtml())"
   ]
  },
  {
   "cell_type": "markdown",
   "id": "15f1ed61",
   "metadata": {},
   "source": [
    "#### To save the animattion"
   ]
  },
  {
   "cell_type": "markdown",
   "id": "060cb850",
   "metadata": {},
   "source": [
    "##### To save the animated plot as gif"
   ]
  },
  {
   "cell_type": "code",
   "execution_count": null,
   "id": "ae5d55f6",
   "metadata": {},
   "outputs": [],
   "source": [
    "from matplotlib.animation import PillowWriter\n",
    "writergif = PillowWriter(fps=30)\n",
    "conn_plot_animated.save(\"connectivity.gif\", writer=writergif)"
   ]
  },
  {
   "cell_type": "markdown",
   "id": "f3ed597a",
   "metadata": {},
   "source": [
    "##### To save the animated plot as mp4"
   ]
  },
  {
   "cell_type": "code",
   "execution_count": null,
   "id": "926a2602",
   "metadata": {},
   "outputs": [],
   "source": [
    "from matplotlib.animation import FFMpegWriter\n",
    "writervideo = FFMpegWriter(fps=60) \n",
    "conn_plot_animated.save(\"connectivity.mp4\", writer=writervideo) # just change the file name to avi if you want the avi file"
   ]
  },
  {
   "cell_type": "markdown",
   "id": "edd4af7a",
   "metadata": {},
   "source": [
    "<br>"
   ]
  },
  {
   "cell_type": "markdown",
   "id": "10ec2000",
   "metadata": {},
   "source": [
    "### Create the 2D topographic map"
   ]
  },
  {
   "cell_type": "markdown",
   "id": "5adee51a",
   "metadata": {},
   "source": [
    "#### To generate the animation"
   ]
  },
  {
   "cell_type": "code",
   "execution_count": null,
   "id": "a7f5dab6",
   "metadata": {},
   "outputs": [],
   "source": [
    "topo_2d = topomap_2d.animate_topomap_2d(epoch)"
   ]
  },
  {
   "cell_type": "code",
   "execution_count": null,
   "id": "11fa0cb5",
   "metadata": {},
   "outputs": [],
   "source": [
    "from IPython.display import HTML\n",
    "\n",
    "HTML(topo_2d.to_jshtml())"
   ]
  },
  {
   "cell_type": "markdown",
   "id": "0257e85c",
   "metadata": {},
   "source": [
    "#### To save the animation"
   ]
  },
  {
   "cell_type": "markdown",
   "id": "b88ca30f",
   "metadata": {},
   "source": [
    "##### To save the animation as gif"
   ]
  },
  {
   "cell_type": "code",
   "execution_count": null,
   "id": "3dd472be",
   "metadata": {},
   "outputs": [],
   "source": [
    "from matplotlib.animation import PillowWriter\n",
    "writergif = PillowWriter(fps=30)\n",
    "topo_2d.save(\"topo_2d.gif\", writer=writergif)"
   ]
  },
  {
   "cell_type": "markdown",
   "id": "a02e4206",
   "metadata": {},
   "source": [
    "##### To save the animation as mp4"
   ]
  },
  {
   "cell_type": "code",
   "execution_count": null,
   "id": "97f2cf96",
   "metadata": {},
   "outputs": [],
   "source": [
    "from matplotlib.animation import FFMpegWriter\n",
    "writervideo = FFMpegWriter(fps=60) \n",
    "topo_2d.save(\"topo_2d.mp4\", writer=writervideo) "
   ]
  },
  {
   "cell_type": "markdown",
   "id": "dba7722c",
   "metadata": {},
   "source": [
    "<br>"
   ]
  },
  {
   "cell_type": "markdown",
   "id": "365fdef1",
   "metadata": {},
   "source": [
    "### Create the topographic map in 3D brain"
   ]
  },
  {
   "cell_type": "markdown",
   "id": "01567208",
   "metadata": {},
   "source": [
    "#### To generate the animation"
   ]
  },
  {
   "cell_type": "code",
   "execution_count": null,
   "id": "e14e056c",
   "metadata": {},
   "outputs": [],
   "source": []
  },
  {
   "cell_type": "markdown",
   "id": "4b1687d4",
   "metadata": {},
   "source": [
    "#### To save the animation"
   ]
  },
  {
   "cell_type": "code",
   "execution_count": null,
   "id": "4698325b",
   "metadata": {},
   "outputs": [],
   "source": []
  },
  {
   "cell_type": "markdown",
   "id": "d8c9fd5a",
   "metadata": {},
   "source": [
    "<br>"
   ]
  },
  {
   "cell_type": "markdown",
   "id": "7ff2afaa",
   "metadata": {},
   "source": [
    "### Create the topographic map in 3D head shape"
   ]
  },
  {
   "cell_type": "markdown",
   "id": "f8a40e06",
   "metadata": {},
   "source": [
    "#### To generate the plot for a specific time stamp"
   ]
  },
  {
   "cell_type": "code",
   "execution_count": null,
   "id": "0cea522c",
   "metadata": {},
   "outputs": [],
   "source": [
    "timestamp = -300 # you can change the value to the time stamp of your interest\n",
    "topo_3d__head_static = topomap_3d_head.topo_3d_map(epoch, timestamp)"
   ]
  },
  {
   "cell_type": "code",
   "execution_count": null,
   "id": "6e2f3bda",
   "metadata": {},
   "outputs": [],
   "source": [
    "topo_3d__head_static.show()"
   ]
  },
  {
   "cell_type": "markdown",
   "id": "86af7783",
   "metadata": {},
   "source": [
    "#### To generate the animnation"
   ]
  },
  {
   "cell_type": "code",
   "execution_count": null,
   "id": "cabe0f42",
   "metadata": {},
   "outputs": [],
   "source": [
    "topo_3d_head = topomap_3d_head.animate_3d_head(epoch)"
   ]
  },
  {
   "cell_type": "code",
   "execution_count": null,
   "id": "a6911d3a",
   "metadata": {},
   "outputs": [],
   "source": [
    "topo_3d_head.show()"
   ]
  },
  {
   "cell_type": "markdown",
   "id": "3a7094d0",
   "metadata": {},
   "source": [
    "#### To save the animnation"
   ]
  },
  {
   "cell_type": "markdown",
   "id": "66afca9c",
   "metadata": {},
   "source": [
    "##### To save the static plot"
   ]
  },
  {
   "cell_type": "code",
   "execution_count": null,
   "id": "a9fa6ea5",
   "metadata": {},
   "outputs": [],
   "source": [
    "topo_3d__head_static.write_image(\"topo_3d_static.svg\", engine=\"kaleido\") "
   ]
  },
  {
   "cell_type": "code",
   "execution_count": null,
   "id": "60ca4e96",
   "metadata": {},
   "outputs": [],
   "source": [
    "topo_3d__head_static.write_image(\"topo_3d_static.png\") # no need to specify engine if not saved as svg file"
   ]
  },
  {
   "cell_type": "markdown",
   "id": "2dc5beae",
   "metadata": {},
   "source": [
    "##### To save the animnation as html"
   ]
  },
  {
   "cell_type": "code",
   "execution_count": null,
   "id": "ef93ae97",
   "metadata": {},
   "outputs": [],
   "source": [
    "topo_3d_head.write_html(\"topo_3d.html\")"
   ]
  },
  {
   "cell_type": "markdown",
   "id": "119b1efd",
   "metadata": {},
   "source": [
    "##### To save the animation as gif file"
   ]
  },
  {
   "cell_type": "markdown",
   "id": "4f2600f0",
   "metadata": {},
   "source": [
    "You would need specify the starting timestamp, ending timestamp and the duration between frames"
   ]
  },
  {
   "cell_type": "code",
   "execution_count": null,
   "id": "3f871bcd",
   "metadata": {},
   "outputs": [],
   "source": [
    "topomap_3d_head.save_gif(epoch, starting=-300, ending=-290, gifname=\"example\", duration=200)"
   ]
  },
  {
   "cell_type": "markdown",
   "id": "6b81bfcd",
   "metadata": {},
   "source": [
    "##### To save the animation as mp4 file"
   ]
  },
  {
   "cell_type": "markdown",
   "id": "9a395b1f",
   "metadata": {},
   "source": [
    "You would need to save it as gif file first and then convert it into mp4 file."
   ]
  },
  {
   "cell_type": "code",
   "execution_count": null,
   "id": "9c67a29d",
   "metadata": {},
   "outputs": [],
   "source": [
    "import moviepy.editor as mp\n",
    "\n",
    "topomap_3d_head.save_gif(epoch, starting=-300, ending=-290, gifname=\"example\", duration=100)\n",
    "clip = mp.VideoFileClip(\"example.gif\")\n",
    "clip.write_videofile(\"example.mp4\")"
   ]
  },
  {
   "cell_type": "code",
   "execution_count": null,
   "id": "4de3e0d0",
   "metadata": {},
   "outputs": [],
   "source": []
  }
 ],
 "metadata": {
  "kernelspec": {
   "display_name": "Python [conda env:capstone]",
   "language": "python",
   "name": "conda-env-capstone-py"
  },
  "language_info": {
   "codemirror_mode": {
    "name": "ipython",
    "version": 3
   },
   "file_extension": ".py",
   "mimetype": "text/x-python",
   "name": "python",
   "nbconvert_exporter": "python",
   "pygments_lexer": "ipython3",
   "version": "3.9.4"
  }
 },
 "nbformat": 4,
 "nbformat_minor": 5
}
