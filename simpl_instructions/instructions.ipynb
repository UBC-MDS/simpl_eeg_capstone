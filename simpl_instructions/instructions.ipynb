{
 "cells": [
  {
   "cell_type": "markdown",
   "id": "cea2a272",
   "metadata": {},
   "source": [
    "# `simpl_eeg` package\n",
    "<br>"
   ]
  },
  {
   "cell_type": "markdown",
   "id": "a47d4ec0",
   "metadata": {},
   "source": [
    "## Introduction"
   ]
  },
  {
   "cell_type": "markdown",
   "id": "5be06469",
   "metadata": {},
   "source": [
    "Electroencephalograms (EEG) is an electrophysiological measurement method used to examine the electrical activity of the brain and represent it as location-based channels of waves and frequencies. EEG benefits from being inexpensive and unobtrusive, leading to its widespread use in diagnosing brain disorders such as epilepsy and brain damage from head injuries. EEG data is recorded with high dimensionality, so the use of visualizations and metrics is essential for the data to be easily interpreted by humans. Currently, the options for visualizing EEG data require the use of complicated packages or software and the functionally is often limited.\n",
    "\n",
    "`simpl_eeg` package is developed by students from the Master of Data Science program of University of British Columbia to provide the ability to conveniently produce advanced visualizations and metrics for specified time ranges of EEG data.\n",
    "<br>"
   ]
  },
  {
   "cell_type": "markdown",
   "id": "f1f61a37",
   "metadata": {},
   "source": [
    "## Instructions"
   ]
  },
  {
   "cell_type": "markdown",
   "id": "0a4cadcd",
   "metadata": {},
   "source": [
    "### Installation"
   ]
  },
  {
   "cell_type": "markdown",
   "id": "bf8923cb",
   "metadata": {},
   "source": [
    "Run the following commands in your terminal to clone the repository and install the package:"
   ]
  },
  {
   "cell_type": "markdown",
   "id": "d0699f71",
   "metadata": {},
   "source": [
    "```bash\n",
    "git clone https://github.com/UBC-MDS/simpl_eeg_capstone.git\n",
    "cd simpl_eeg_capstone\n",
    "pip install -e .\n",
    "```\n",
    "<br>"
   ]
  },
  {
   "cell_type": "markdown",
   "id": "44b933ca",
   "metadata": {},
   "source": [
    "### Import"
   ]
  },
  {
   "cell_type": "markdown",
   "id": "ab1d8cf9",
   "metadata": {},
   "source": [
    "There are six modules in this package. Each of them contains functions for different visualizations. The `eeg_objects` module contains functions to convert the raw data into epoched data with specified time ranges."
   ]
  },
  {
   "cell_type": "code",
   "execution_count": null,
   "id": "f3199cac",
   "metadata": {},
   "outputs": [],
   "source": [
    "from simpl_eeg import raw_voltage, eeg_objects, connectivity, topomap_2d, topomap_3d_brain, topomap_3d_head"
   ]
  },
  {
   "cell_type": "code",
   "execution_count": null,
   "id": "fefd294b",
   "metadata": {},
   "outputs": [],
   "source": [
    "import warnings\n",
    "warnings.filterwarnings('ignore')"
   ]
  },
  {
   "cell_type": "markdown",
   "id": "bcfb336a",
   "metadata": {},
   "source": [
    "**Please include the line below in your IDE so that the changes would be simultaneously reflected when you make a change to the python scripts.**"
   ]
  },
  {
   "cell_type": "code",
   "execution_count": null,
   "id": "096bce8e",
   "metadata": {},
   "outputs": [],
   "source": [
    "%load_ext autoreload"
   ]
  },
  {
   "cell_type": "code",
   "execution_count": null,
   "id": "ef03727a",
   "metadata": {},
   "outputs": [],
   "source": [
    "%autoreload 2"
   ]
  },
  {
   "cell_type": "markdown",
   "id": "e4b639e0",
   "metadata": {},
   "source": [
    "<br>"
   ]
  },
  {
   "cell_type": "markdown",
   "id": "700c78e8",
   "metadata": {},
   "source": [
    "### Define parameters"
   ]
  },
  {
   "cell_type": "markdown",
   "id": "2a3e3c65",
   "metadata": {},
   "source": [
    "There are some common parameters for all functions in this package, it would be more convenient to define all parameters before going into each functions."
   ]
  },
  {
   "cell_type": "code",
   "execution_count": null,
   "id": "d9624d14",
   "metadata": {},
   "outputs": [],
   "source": [
    "# change None to values of interest\n",
    "\n",
    "experiment = \"927\" # has to be a string\n",
    "nth_epoch = 0\n",
    "# color_min = None\n",
    "# color_max = None\n",
    "# colormap = None"
   ]
  },
  {
   "cell_type": "markdown",
   "id": "25aee23a",
   "metadata": {},
   "source": [
    "<br>"
   ]
  },
  {
   "cell_type": "markdown",
   "id": "94bf1a5d",
   "metadata": {},
   "source": [
    "### Create epoched data"
   ]
  },
  {
   "cell_type": "code",
   "execution_count": null,
   "id": "02cbb2d0",
   "metadata": {},
   "outputs": [],
   "source": [
    "raw = eeg_objects.Epochs(experiment)"
   ]
  },
  {
   "cell_type": "code",
   "execution_count": null,
   "id": "c4984dee",
   "metadata": {},
   "outputs": [],
   "source": [
    "raw.set_nth_epoch(nth_epoch)"
   ]
  },
  {
   "cell_type": "code",
   "execution_count": null,
   "id": "4d81297c",
   "metadata": {},
   "outputs": [],
   "source": [
    "epoch = raw.get_nth_epoch()"
   ]
  },
  {
   "cell_type": "markdown",
   "id": "788535fb",
   "metadata": {},
   "source": [
    "<br>"
   ]
  },
  {
   "cell_type": "markdown",
   "id": "e3d61b60",
   "metadata": {},
   "source": [
    "### Create the raw voltage plot"
   ]
  },
  {
   "cell_type": "markdown",
   "id": "2f6e7e64",
   "metadata": {},
   "source": [
    "#### To generate the plot"
   ]
  },
  {
   "cell_type": "code",
   "execution_count": null,
   "id": "0592f55e",
   "metadata": {},
   "outputs": [],
   "source": [
    "voltage_plot = raw_voltage.plot_voltage(epoch)\n",
    "voltage_plot;"
   ]
  },
  {
   "cell_type": "markdown",
   "id": "d027cce6",
   "metadata": {},
   "source": [
    "#### To save the plot"
   ]
  },
  {
   "cell_type": "code",
   "execution_count": null,
   "id": "74d14282",
   "metadata": {},
   "outputs": [],
   "source": [
    "# You could change the plot to different formats by changing the format argument in the function. \n",
    "# It supports 'png', 'pdf', 'svg'.\n",
    "\n",
    "voltage_plot.savefig(\"voltage_plot.svg\", format= 'svg')"
   ]
  },
  {
   "cell_type": "markdown",
   "id": "2cebfe76",
   "metadata": {},
   "source": [
    "<br>"
   ]
  },
  {
   "cell_type": "markdown",
   "id": "b1bfedd5",
   "metadata": {},
   "source": [
    "### Create the connectivity plot"
   ]
  },
  {
   "cell_type": "markdown",
   "id": "7a5e13ed",
   "metadata": {},
   "source": [
    "#### To generate the animtation"
   ]
  },
  {
   "cell_type": "code",
   "execution_count": null,
   "id": "a62d5a37",
   "metadata": {},
   "outputs": [],
   "source": [
    "%matplotlib inline"
   ]
  },
  {
   "cell_type": "code",
   "execution_count": null,
   "id": "05c54243",
   "metadata": {},
   "outputs": [],
   "source": [
    "%%capture\n",
    "conn_plot_animated = connectivity.animate_connectivity(epoch, calc_type=\"correlation\", colormap='turbo')"
   ]
  },
  {
   "cell_type": "code",
   "execution_count": null,
   "id": "fe8178a9",
   "metadata": {},
   "outputs": [],
   "source": [
    "from IPython.display import HTML\n",
    "\n",
    "HTML(conn_plot_animated.to_jshtml())"
   ]
  },
  {
   "cell_type": "markdown",
   "id": "e7951ffb",
   "metadata": {},
   "source": [
    "#### To save the animattion"
   ]
  },
  {
   "cell_type": "markdown",
   "id": "afd3df36",
   "metadata": {},
   "source": [
    "##### To save the animated plot as gif"
   ]
  },
  {
   "cell_type": "code",
   "execution_count": null,
   "id": "dc665206",
   "metadata": {},
   "outputs": [],
   "source": [
    "from matplotlib.animation import PillowWriter\n",
    "writergif = PillowWriter(fps=30)\n",
    "conn_plot_animated.save(\"connectivity.gif\", writer=writergif)"
   ]
  },
  {
   "cell_type": "markdown",
   "id": "6718585c",
   "metadata": {},
   "source": [
    "##### To save the animated plot as mp4"
   ]
  },
  {
   "cell_type": "code",
   "execution_count": null,
   "id": "a6ae25af",
   "metadata": {},
   "outputs": [],
   "source": [
    "from matplotlib.animation import FFMpegWriter\n",
    "writervideo = FFMpegWriter(fps=60) \n",
    "conn_plot_animated.save(\"connectivity.mp4\", writer=writervideo) # just change the file name to avi if you want the avi file"
   ]
  },
  {
   "cell_type": "markdown",
   "id": "0174fc5b",
   "metadata": {},
   "source": [
    "<br>"
   ]
  },
  {
   "cell_type": "markdown",
   "id": "f944f246",
   "metadata": {},
   "source": [
    "### Create the 2D topographic map"
   ]
  },
  {
   "cell_type": "markdown",
   "id": "a22daec2",
   "metadata": {},
   "source": [
    "#### To generate the animation"
   ]
  },
  {
   "cell_type": "code",
   "execution_count": null,
   "id": "2ab103ca",
   "metadata": {},
   "outputs": [],
   "source": [
    "%%capture \n",
    "topo_2d = topomap_2d.animate_topomap_2d(epoch)"
   ]
  },
  {
   "cell_type": "code",
   "execution_count": null,
   "id": "6d7cf090",
   "metadata": {},
   "outputs": [],
   "source": [
    "from IPython.display import HTML\n",
    "\n",
    "HTML(topo_2d.to_jshtml())"
   ]
  },
  {
   "cell_type": "markdown",
   "id": "a1b4e484",
   "metadata": {},
   "source": [
    "#### To save the animation"
   ]
  },
  {
   "cell_type": "markdown",
   "id": "243e5915",
   "metadata": {},
   "source": [
    "##### To save the animation as gif"
   ]
  },
  {
   "cell_type": "code",
   "execution_count": null,
   "id": "fb514bb4",
   "metadata": {},
   "outputs": [],
   "source": [
    "from matplotlib.animation import PillowWriter\n",
    "writergif = PillowWriter(fps=30)\n",
    "topo_2d.save(\"topo_2d.gif\", writer=writergif)"
   ]
  },
  {
   "cell_type": "markdown",
   "id": "b1951ce9",
   "metadata": {},
   "source": [
    "##### To save the animation as mp4"
   ]
  },
  {
   "cell_type": "code",
   "execution_count": null,
   "id": "0e288e94",
   "metadata": {},
   "outputs": [],
   "source": [
    "from matplotlib.animation import FFMpegWriter\n",
    "writervideo = FFMpegWriter(fps=60) \n",
    "topo_2d.save(\"topo_2d.mp4\", writer=writervideo) "
   ]
  },
  {
   "cell_type": "markdown",
   "id": "bc1a7967",
   "metadata": {},
   "source": [
    "<br>"
   ]
  },
  {
   "cell_type": "markdown",
   "id": "7ac82713",
   "metadata": {},
   "source": [
    "### Create the topographic map in 3D brain"
   ]
  },
  {
   "cell_type": "markdown",
   "id": "90d3d4fc",
   "metadata": {},
   "source": [
    "```{note}\n",
    "* NOTE: Before an animation or plot can be generated a \"forward\" and \"inverse\" (abbreviated as \"stc\") must first be generated. If they are not provided to either of the plotting animations they will be automatically generated HOWEVER this will increase the time it takes to generate the figure.\n",
    "\n",
    "- The forward/inverse are used to retrieve a brain model to attach the EEG data to and to do some of the mapping calculations. The forward downloads 'fsaverage' MRI data which represents a brain averaged out from dozens of different patients.\n",
    "```"
   ]
  },
  {
   "cell_type": "markdown",
   "id": "3be7e33a",
   "metadata": {},
   "source": [
    "#### Generate Forward"
   ]
  },
  {
   "cell_type": "code",
   "execution_count": null,
   "id": "99e0b04f",
   "metadata": {},
   "outputs": [],
   "source": [
    "fwd = topomap_3d_brain.create_fsaverage_forward(epoch)"
   ]
  },
  {
   "cell_type": "markdown",
   "id": "7b84226e",
   "metadata": {},
   "source": [
    "#### Generate Inverse"
   ]
  },
  {
   "cell_type": "code",
   "execution_count": null,
   "id": "63bf001b",
   "metadata": {},
   "outputs": [],
   "source": [
    "stc = topomap_3d_brain.create_inverse_solution(epoch, fwd)"
   ]
  },
  {
   "cell_type": "markdown",
   "id": "53bc1cea",
   "metadata": {},
   "source": [
    "#### To generate figure with pyvista backend"
   ]
  },
  {
   "cell_type": "code",
   "execution_count": null,
   "id": "92d40da3",
   "metadata": {},
   "outputs": [],
   "source": [
    "pyvista_brain_fig = topomap_3d_brain.plot_topomap_3d_brain(epoch, stc = stc, backend = 'pyvista')"
   ]
  },
  {
   "cell_type": "markdown",
   "id": "594b76e8",
   "metadata": {},
   "source": [
    "#### To save animation with pyvista backend"
   ]
  },
  {
   "cell_type": "code",
   "execution_count": null,
   "id": "10908eba",
   "metadata": {},
   "outputs": [],
   "source": [
    "topomap_3d_brain.save_animated_topomap_3d_brain(pyvista_brain_fig, filename = \"brain_animation.gif\")"
   ]
  },
  {
   "cell_type": "markdown",
   "id": "c680d1b1",
   "metadata": {},
   "source": [
    "#### To generate figure with matplotlib backend (recommended)"
   ]
  },
  {
   "cell_type": "code",
   "execution_count": null,
   "id": "6e97342c",
   "metadata": {},
   "outputs": [],
   "source": [
    "%%capture\n",
    "matplot_brain_fig = topomap_3d_brain.plot_topomap_3d_brain(epoch, stc = stc, backend = 'matplotlib')"
   ]
  },
  {
   "cell_type": "markdown",
   "id": "970ef3ff",
   "metadata": {},
   "source": [
    "#### To generate animation with matplotlib backend (slow but recommended)"
   ]
  },
  {
   "cell_type": "code",
   "execution_count": null,
   "id": "da94d926",
   "metadata": {},
   "outputs": [],
   "source": [
    "%%capture\n",
    "matplotlib_animation = topomap_3d_brain.animate_matplot_brain(matplotlib, stc = stc, views = 'lat', hemi = 'lh')"
   ]
  },
  {
   "cell_type": "markdown",
   "id": "49640355",
   "metadata": {},
   "source": [
    "<br>"
   ]
  },
  {
   "cell_type": "markdown",
   "id": "3398f098",
   "metadata": {},
   "source": [
    "### Create the topographic map in 3D head shape"
   ]
  },
  {
   "cell_type": "markdown",
   "id": "30d8d80d",
   "metadata": {},
   "source": [
    "#### To generate the plot for a specific time stamp"
   ]
  },
  {
   "cell_type": "code",
   "execution_count": null,
   "id": "839794ee",
   "metadata": {},
   "outputs": [],
   "source": [
    "timestamp = -300 # you can change the value to the time stamp of your interest\n",
    "topo_3d__head_static = topomap_3d_head.topo_3d_map(epoch, timestamp)"
   ]
  },
  {
   "cell_type": "code",
   "execution_count": null,
   "id": "94d6b6d6",
   "metadata": {},
   "outputs": [],
   "source": [
    "topo_3d__head_static.show()"
   ]
  },
  {
   "cell_type": "markdown",
   "id": "c251ea34",
   "metadata": {},
   "source": [
    "#### To generate the animnation"
   ]
  },
  {
   "cell_type": "code",
   "execution_count": null,
   "id": "3eb83ab7",
   "metadata": {},
   "outputs": [],
   "source": [
    "topo_3d_head = topomap_3d_head.animate_3d_head(epoch)"
   ]
  },
  {
   "cell_type": "code",
   "execution_count": null,
   "id": "2c487277",
   "metadata": {},
   "outputs": [],
   "source": [
    "topo_3d_head.show()"
   ]
  },
  {
   "cell_type": "markdown",
   "id": "90d2ac5f",
   "metadata": {},
   "source": [
    "#### To save the animnation"
   ]
  },
  {
   "cell_type": "markdown",
   "id": "03be59dc",
   "metadata": {},
   "source": [
    "##### To save the static plot"
   ]
  },
  {
   "cell_type": "code",
   "execution_count": null,
   "id": "ace6b7c9",
   "metadata": {},
   "outputs": [],
   "source": [
    "topo_3d__head_static.write_image(\"topo_3d_static.svg\", engine=\"kaleido\") "
   ]
  },
  {
   "cell_type": "code",
   "execution_count": null,
   "id": "f40825df",
   "metadata": {},
   "outputs": [],
   "source": [
    "topo_3d__head_static.write_image(\"topo_3d_static.png\") # no need to specify engine if not saved as svg file"
   ]
  },
  {
   "cell_type": "markdown",
   "id": "7b350fbb",
   "metadata": {},
   "source": [
    "##### To save the animnation as html"
   ]
  },
  {
   "cell_type": "code",
   "execution_count": null,
   "id": "835cdac3",
   "metadata": {},
   "outputs": [],
   "source": [
    "topo_3d_head.write_html(\"topo_3d.html\")"
   ]
  },
  {
   "cell_type": "markdown",
   "id": "10c83b32",
   "metadata": {},
   "source": [
    "##### To save the animation as gif file"
   ]
  },
  {
   "cell_type": "markdown",
   "id": "aa22c64d",
   "metadata": {},
   "source": [
    "You would need specify the starting timestamp, ending timestamp and the duration between frames"
   ]
  },
  {
   "cell_type": "code",
   "execution_count": null,
   "id": "477f9405",
   "metadata": {},
   "outputs": [],
   "source": [
    "topomap_3d_head.save_gif(epoch, starting=-300, ending=-290, gifname=\"example\", duration=200)"
   ]
  },
  {
   "cell_type": "markdown",
   "id": "76684c7b",
   "metadata": {},
   "source": [
    "##### To save the animation as mp4 file"
   ]
  },
  {
   "cell_type": "markdown",
   "id": "f8779602",
   "metadata": {},
   "source": [
    "You would need to save it as gif file first and then convert it into mp4 file."
   ]
  },
  {
   "cell_type": "code",
   "execution_count": null,
   "id": "37da20b8",
   "metadata": {},
   "outputs": [],
   "source": [
    "import moviepy.editor as mp\n",
    "\n",
    "topomap_3d_head.save_gif(epoch, starting=-300, ending=-290, gifname=\"example\", duration=100)\n",
    "clip = mp.VideoFileClip(\"example.gif\")\n",
    "clip.write_videofile(\"example.mp4\")"
   ]
  },
  {
   "cell_type": "code",
   "execution_count": null,
   "id": "d693a1d1",
   "metadata": {},
   "outputs": [],
   "source": []
  }
 ],
 "metadata": {
  "kernelspec": {
   "display_name": "Python [conda env:capstone]",
   "language": "python",
   "name": "conda-env-capstone-py"
  },
  "language_info": {
   "codemirror_mode": {
    "name": "ipython",
    "version": 3
   },
   "file_extension": ".py",
   "mimetype": "text/x-python",
   "name": "python",
   "nbconvert_exporter": "python",
   "pygments_lexer": "ipython3",
   "version": "3.9.4"
  }
 },
 "nbformat": 4,
 "nbformat_minor": 5
}
