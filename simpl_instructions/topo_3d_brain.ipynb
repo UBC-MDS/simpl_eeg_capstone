{
 "cells": [
  {
   "cell_type": "markdown",
   "id": "582e7087",
   "metadata": {},
   "source": [
    "# `simpl_eeg` package"
   ]
  },
  {
   "cell_type": "markdown",
   "id": "06ba67c0",
   "metadata": {},
   "source": [
    "## Topographic map in 3D brain"
   ]
  },
  {
   "cell_type": "markdown",
   "id": "87bd940a",
   "metadata": {},
   "source": [
    "![](instruction_imgs/topomap_3d_brain.svg)"
   ]
  },
  {
   "cell_type": "code",
   "execution_count": null,
   "id": "14bae06e",
   "metadata": {},
   "outputs": [],
   "source": [
    "from simpl_eeg import eeg_objects, topomap_3d_brain"
   ]
  },
  {
   "cell_type": "code",
   "execution_count": null,
   "id": "0d49a1bb",
   "metadata": {},
   "outputs": [],
   "source": [
    "import warnings\n",
    "warnings.filterwarnings('ignore')"
   ]
  },
  {
   "cell_type": "markdown",
   "id": "2ba85351",
   "metadata": {},
   "source": [
    "**Please include the line below in your IDE so that the changes would be simultaneously reflected when you make a change to the python scripts.**"
   ]
  },
  {
   "cell_type": "code",
   "execution_count": null,
   "id": "6d2a38d4",
   "metadata": {},
   "outputs": [],
   "source": [
    "%load_ext autoreload"
   ]
  },
  {
   "cell_type": "code",
   "execution_count": null,
   "id": "b28b6bc0",
   "metadata": {},
   "outputs": [],
   "source": [
    "%autoreload 2"
   ]
  },
  {
   "cell_type": "markdown",
   "id": "46feddf2",
   "metadata": {},
   "source": [
    "<br>"
   ]
  },
  {
   "cell_type": "markdown",
   "id": "218479f8",
   "metadata": {},
   "source": [
    "### Define global parameters"
   ]
  },
  {
   "cell_type": "markdown",
   "id": "52d7694a",
   "metadata": {},
   "source": [
    "There are some common parameters for all functions in this package, it would be more convenient to define all parameters before going into each functions."
   ]
  },
  {
   "cell_type": "code",
   "execution_count": null,
   "id": "226c4057",
   "metadata": {},
   "outputs": [],
   "source": [
    "# change None to values of interest\n",
    "\n",
    "experiment = None # has to be a string\n",
    "nth_epoch = None\n",
    "colormap = None # select from [\"RdBu_r\", \"hot\", \"cool\", \"inferno\", \"turbo\", \"rainbow\"]"
   ]
  },
  {
   "cell_type": "markdown",
   "id": "0cb6a77a",
   "metadata": {},
   "source": [
    "<br>"
   ]
  },
  {
   "cell_type": "markdown",
   "id": "cbf386de",
   "metadata": {},
   "source": [
    "### Create epoched data"
   ]
  },
  {
   "cell_type": "code",
   "execution_count": null,
   "id": "3b7aa0b3",
   "metadata": {},
   "outputs": [],
   "source": [
    "tmin = None # number of seconds before the impact\n",
    "tmax = None # number of seconds after the impact\n",
    "start_second = None # starting time of the epoch\n",
    "\n",
    "raw = eeg_objects.Epochs(experiment, tmin, tmax, start_second)"
   ]
  },
  {
   "cell_type": "markdown",
   "id": "9bbf82f1",
   "metadata": {},
   "source": [
    "#### To select the epoch"
   ]
  },
  {
   "cell_type": "code",
   "execution_count": null,
   "id": "696469de",
   "metadata": {},
   "outputs": [],
   "source": [
    "raw.set_nth_epoch(nth_epoch)"
   ]
  },
  {
   "cell_type": "markdown",
   "id": "63469502",
   "metadata": {},
   "source": [
    "#### To select the number of time steps to skip (optional step)"
   ]
  },
  {
   "cell_type": "code",
   "execution_count": null,
   "id": "9414958d",
   "metadata": {},
   "outputs": [],
   "source": [
    "raw.skip_n_steps(num_steps)"
   ]
  },
  {
   "cell_type": "markdown",
   "id": "0a6f2f90",
   "metadata": {},
   "source": [
    "#### To get the selected epoch"
   ]
  },
  {
   "cell_type": "code",
   "execution_count": null,
   "id": "3feed69c",
   "metadata": {},
   "outputs": [],
   "source": [
    "epoch = raw.get_nth_epoch()"
   ]
  },
  {
   "cell_type": "markdown",
   "id": "1e356a4b",
   "metadata": {},
   "source": [
    "</br>"
   ]
  },
  {
   "cell_type": "markdown",
   "id": "93104d3f",
   "metadata": {},
   "source": [
    "### Create the topographic map in 3D brain"
   ]
  },
  {
   "cell_type": "markdown",
   "id": "77cb45fa",
   "metadata": {},
   "source": [
    "```{note}\n",
    "* NOTE: Before an animation or plot can be generated a \"forward\" and \"inverse\" (abbreviated as \"stc\") must first be generated. If they are not provided to either of the plotting animations they will be automatically generated HOWEVER this will increase the time it takes to generate the figure.\n",
    "\n",
    "- The forward/inverse are used to retrieve a brain model to attach the EEG data to and to do some of the mapping calculations. The forward downloads 'fsaverage' MRI data which represents a brain averaged out from dozens of different patients.\n",
    "```"
   ]
  },
  {
   "cell_type": "markdown",
   "id": "3616b703",
   "metadata": {},
   "source": [
    "#### Generate Forward"
   ]
  },
  {
   "cell_type": "code",
   "execution_count": null,
   "id": "c9cfb6b5",
   "metadata": {},
   "outputs": [],
   "source": [
    "fwd = topomap_3d_brain.create_fsaverage_forward(epoch)"
   ]
  },
  {
   "cell_type": "markdown",
   "id": "c5f56120",
   "metadata": {},
   "source": [
    "#### Generate Inverse"
   ]
  },
  {
   "cell_type": "code",
   "execution_count": null,
   "id": "20a63897",
   "metadata": {},
   "outputs": [],
   "source": [
    "stc = topomap_3d_brain.create_inverse_solution(epoch, fwd)"
   ]
  },
  {
   "cell_type": "markdown",
   "id": "21237f9d",
   "metadata": {},
   "source": [
    "#### To generate figure with pyvista backend (NOT CURRENTLY WORKING)"
   ]
  },
  {
   "cell_type": "code",
   "execution_count": null,
   "id": "9fe37124",
   "metadata": {},
   "outputs": [],
   "source": [
    "#pyvista_brain_fig = topomap_3d_brain.plot_topomap_3d_brain(epoch, stc = stc, backend = 'pyvista')"
   ]
  },
  {
   "cell_type": "markdown",
   "id": "eb7fdc3d",
   "metadata": {},
   "source": [
    "#### To save animation with pyvista backend (NOT CURRENTLY WORKING)"
   ]
  },
  {
   "cell_type": "code",
   "execution_count": null,
   "id": "5af13f85",
   "metadata": {},
   "outputs": [],
   "source": [
    "#topomap_3d_brain.save_animated_topomap_3d_brain(pyvista_brain_fig, filename = \"brain_animation.gif\")"
   ]
  },
  {
   "cell_type": "markdown",
   "id": "e464f9c2",
   "metadata": {},
   "source": [
    "</br>"
   ]
  },
  {
   "cell_type": "markdown",
   "id": "f42a8349",
   "metadata": {},
   "source": [
    "#### To generate figure with matplotlib backend (recommended)"
   ]
  },
  {
   "cell_type": "code",
   "execution_count": null,
   "id": "b3fc369e",
   "metadata": {},
   "outputs": [],
   "source": [
    "%%capture\n",
    "matplot_brain_fig = topomap_3d_brain.plot_topomap_3d_brain(epoch, stc = stc, backend = 'matplotlib')"
   ]
  },
  {
   "cell_type": "markdown",
   "id": "bafe4df6",
   "metadata": {},
   "source": [
    "##### To save the figure"
   ]
  },
  {
   "cell_type": "code",
   "execution_count": null,
   "id": "b0e1547c",
   "metadata": {},
   "outputs": [],
   "source": [
    "# You could change the plot to different formats by changing the format argument in the function. \n",
    "# It supports 'png', 'pdf', 'svg'.\n",
    "\n",
    "matplot_brain_fig.savefig(\"topomap_3d_brain.svg\", format= 'svg')"
   ]
  },
  {
   "cell_type": "markdown",
   "id": "7804bf2d",
   "metadata": {},
   "source": [
    "#### To generate animation with matplotlib backend (slow but recommended)"
   ]
  },
  {
   "cell_type": "code",
   "execution_count": null,
   "id": "0f30c2e8",
   "metadata": {},
   "outputs": [],
   "source": [
    "%%capture\n",
    "matplotlib_animation = topomap_3d_brain.animate_matplot_brain(epoch, stc = stc, views = 'lat', hemi = 'lh')"
   ]
  },
  {
   "cell_type": "markdown",
   "id": "57dd83b0",
   "metadata": {},
   "source": [
    "##### To save the animation as gif"
   ]
  },
  {
   "cell_type": "code",
   "execution_count": null,
   "id": "81974cd8",
   "metadata": {},
   "outputs": [],
   "source": [
    "from matplotlib.animation import PillowWriter\n",
    "writergif = PillowWriter(fps=30)\n",
    "matplotlib_animation.save(\"topomap_3d_brain.gif\", writer=writergif)"
   ]
  },
  {
   "cell_type": "markdown",
   "id": "578ce424",
   "metadata": {},
   "source": [
    "#### To save the animation as mp4"
   ]
  },
  {
   "cell_type": "markdown",
   "id": "49568c4d",
   "metadata": {},
   "source": [
    "You would need to save it as gif file first and then convert it into mp4 file."
   ]
  },
  {
   "cell_type": "code",
   "execution_count": null,
   "id": "333c5927",
   "metadata": {},
   "outputs": [],
   "source": [
    "import moviepy.editor as mp\n",
    "\n",
    "clip = mp.VideoFileClip(\"topomap_3d_brain.gif\")\n",
    "clip.write_videofile(\"topomap_3d_brain.mp4\") "
   ]
  },
  {
   "cell_type": "markdown",
   "id": "b05ba75e",
   "metadata": {},
   "source": [
    "<br>"
   ]
  }
 ],
 "metadata": {
  "kernelspec": {
   "display_name": "Python [conda env:simpl_eeg]",
   "language": "python",
   "name": "conda-env-simpl_eeg-py"
  },
  "language_info": {
   "codemirror_mode": {
    "name": "ipython",
    "version": 3
   },
   "file_extension": ".py",
   "mimetype": "text/x-python",
   "name": "python",
   "nbconvert_exporter": "python",
   "pygments_lexer": "ipython3",
   "version": "3.9.4"
  }
 },
 "nbformat": 4,
 "nbformat_minor": 5
}
