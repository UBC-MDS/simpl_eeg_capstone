{
 "cells": [
  {
   "cell_type": "markdown",
   "id": "c72a8d65",
   "metadata": {},
   "source": [
    "# `simpl_eeg` package"
   ]
  },
  {
   "cell_type": "markdown",
   "id": "87048474",
   "metadata": {},
   "source": [
    "##  Topographic map in 3D head"
   ]
  },
  {
   "cell_type": "markdown",
   "id": "3023f30d",
   "metadata": {},
   "source": [
    "![](instruction_imgs/topo_3d_head_ani.gif)"
   ]
  },
  {
   "cell_type": "code",
   "execution_count": null,
   "id": "344f6116",
   "metadata": {},
   "outputs": [],
   "source": [
    "from simpl_eeg import eeg_objects, topomap_3d_head"
   ]
  },
  {
   "cell_type": "code",
   "execution_count": null,
   "id": "9755d8e4",
   "metadata": {},
   "outputs": [],
   "source": [
    "import warnings\n",
    "warnings.filterwarnings('ignore')"
   ]
  },
  {
   "cell_type": "markdown",
   "id": "002496f3",
   "metadata": {},
   "source": [
    "**Please include the line below in your IDE so that the changes would be simultaneously reflected when you make a change to the python scripts.**"
   ]
  },
  {
   "cell_type": "code",
   "execution_count": null,
   "id": "61592ec3",
   "metadata": {},
   "outputs": [],
   "source": [
    "%load_ext autoreload"
   ]
  },
  {
   "cell_type": "code",
   "execution_count": null,
   "id": "16f864da",
   "metadata": {},
   "outputs": [],
   "source": [
    "%autoreload 2"
   ]
  },
  {
   "cell_type": "markdown",
   "id": "4ee4404f",
   "metadata": {},
   "source": [
    "<br>"
   ]
  },
  {
   "cell_type": "markdown",
   "id": "61075074",
   "metadata": {},
   "source": [
    "### Define global parameters"
   ]
  },
  {
   "cell_type": "markdown",
   "id": "33de58f9",
   "metadata": {},
   "source": [
    "There are some common parameters for all functions in this package, it would be more convenient to define all parameters before going into each functions."
   ]
  },
  {
   "cell_type": "code",
   "execution_count": null,
   "id": "9426be68",
   "metadata": {},
   "outputs": [],
   "source": [
    "# change None to values of interest\n",
    "\n",
    "experiment = None # has to be a string\n",
    "nth_epoch = None\n",
    "color_min = None\n",
    "color_max = None\n",
    "colormap = None # select from [\"RdBu_r\", \"hot\", \"cool\", \"inferno\", \"turbo\", \"rainbow\"]"
   ]
  },
  {
   "cell_type": "markdown",
   "id": "146d7ec4",
   "metadata": {},
   "source": [
    "<br>"
   ]
  },
  {
   "cell_type": "markdown",
   "id": "15d4f0c9",
   "metadata": {},
   "source": [
    "### Create epoched data"
   ]
  },
  {
   "cell_type": "code",
   "execution_count": null,
   "id": "358e591e",
   "metadata": {},
   "outputs": [],
   "source": [
    "tmin = None # number of seconds before the impact\n",
    "tmax = None # number of seconds after the impact\n",
    "start_second = None # starting time of the epoch\n",
    "\n",
    "raw = eeg_objects.Epochs(experiment, tmin, tmax, start_second)"
   ]
  },
  {
   "cell_type": "markdown",
   "id": "a3487fb1",
   "metadata": {},
   "source": [
    "#### To select the epoch"
   ]
  },
  {
   "cell_type": "code",
   "execution_count": null,
   "id": "019b30f4",
   "metadata": {},
   "outputs": [],
   "source": [
    "raw.set_nth_epoch(nth_epoch)"
   ]
  },
  {
   "cell_type": "markdown",
   "id": "017babd7",
   "metadata": {},
   "source": [
    "#### To select the number of time steps to skip (optional step)"
   ]
  },
  {
   "cell_type": "code",
   "execution_count": null,
   "id": "6c9e79b4",
   "metadata": {},
   "outputs": [],
   "source": [
    "raw.skip_n_steps(num_steps)"
   ]
  },
  {
   "cell_type": "markdown",
   "id": "f3e8a386",
   "metadata": {},
   "source": [
    "#### To get the selected epoch"
   ]
  },
  {
   "cell_type": "code",
   "execution_count": null,
   "id": "adf9a0d6",
   "metadata": {},
   "outputs": [],
   "source": [
    "epoch = raw.get_nth_epoch()"
   ]
  },
  {
   "cell_type": "markdown",
   "id": "d08b0547",
   "metadata": {},
   "source": [
    "</br>"
   ]
  },
  {
   "cell_type": "markdown",
   "id": "1e9e25e9",
   "metadata": {},
   "source": [
    "### Create the topographic map in 3D head shape"
   ]
  },
  {
   "cell_type": "code",
   "execution_count": null,
   "id": "f909d653",
   "metadata": {},
   "outputs": [],
   "source": [
    "timestamp = -300 # you can change the value to the time stamp of your interest\n",
    "topo_3d__head_static = topomap_3d_head.topo_3d_map(epoch, time_stamp,  color_title=\"EEG MicroVolt\",  color_min = color_min, color_max = color_max, colormap=colormap)"
   ]
  },
  {
   "cell_type": "code",
   "execution_count": null,
   "id": "e816e03e",
   "metadata": {},
   "outputs": [],
   "source": [
    "topo_3d__head_static.show()"
   ]
  },
  {
   "cell_type": "markdown",
   "id": "223d1840",
   "metadata": {},
   "source": [
    "#### To generate the animnation"
   ]
  },
  {
   "cell_type": "code",
   "execution_count": null,
   "id": "c99d4d2a",
   "metadata": {},
   "outputs": [],
   "source": [
    "topo_3d_head = topomap_3d_head.animate_3d_head(epoch, color_title=\"EEG MicroVolt\", color_min = color_min, color_max = color_max, colormap=colormap)"
   ]
  },
  {
   "cell_type": "code",
   "execution_count": null,
   "id": "8ea235d0",
   "metadata": {},
   "outputs": [],
   "source": [
    "topo_3d_head.show()"
   ]
  },
  {
   "cell_type": "markdown",
   "id": "9e6e8ba3",
   "metadata": {},
   "source": [
    "#### To save the animnation"
   ]
  },
  {
   "cell_type": "markdown",
   "id": "3c8d6c67",
   "metadata": {},
   "source": [
    "##### To save the static plot"
   ]
  },
  {
   "cell_type": "code",
   "execution_count": null,
   "id": "4dfe75ed",
   "metadata": {},
   "outputs": [],
   "source": [
    "topo_3d__head_static.write_image(\"topo_3d_static.svg\", engine=\"kaleido\") "
   ]
  },
  {
   "cell_type": "code",
   "execution_count": null,
   "id": "227ebd03",
   "metadata": {},
   "outputs": [],
   "source": [
    "topo_3d__head_static.write_image(\"topo_3d_static.png\") # no need to specify engine if not saved as svg file"
   ]
  },
  {
   "cell_type": "markdown",
   "id": "d11e5029",
   "metadata": {},
   "source": [
    "##### To save the animnation as html"
   ]
  },
  {
   "cell_type": "code",
   "execution_count": null,
   "id": "0bede35f",
   "metadata": {},
   "outputs": [],
   "source": [
    "topo_3d_head.write_html(\"topo_3d.html\")"
   ]
  },
  {
   "cell_type": "markdown",
   "id": "accf82fd",
   "metadata": {},
   "source": [
    "##### To save the animation as gif file"
   ]
  },
  {
   "cell_type": "code",
   "execution_count": null,
   "id": "93a443e2",
   "metadata": {},
   "outputs": [],
   "source": [
    "topomap_3d_head.save_gif(epoch, gifname=\"topo_3d_head_ani\", duration=200)"
   ]
  },
  {
   "cell_type": "markdown",
   "id": "d81e6a76",
   "metadata": {},
   "source": [
    "##### To save the animation as mp4 file"
   ]
  },
  {
   "cell_type": "markdown",
   "id": "f8ced04d",
   "metadata": {},
   "source": [
    "You would need to save it as gif file first and then convert it into mp4 file."
   ]
  },
  {
   "cell_type": "code",
   "execution_count": null,
   "id": "148452f8",
   "metadata": {},
   "outputs": [],
   "source": [
    "import moviepy.editor as mp\n",
    "\n",
    "clip = mp.VideoFileClip(\"topo_3d_head_ani.gif\")\n",
    "clip.write_videofile(\"topo_3d_head_ani.mp4\")"
   ]
  },
  {
   "cell_type": "code",
   "execution_count": null,
   "id": "c30e5b64",
   "metadata": {},
   "outputs": [],
   "source": []
  }
 ],
 "metadata": {
  "kernelspec": {
   "display_name": "Python [conda env:simpl_eeg]",
   "language": "python",
   "name": "conda-env-simpl_eeg-py"
  },
  "language_info": {
   "codemirror_mode": {
    "name": "ipython",
    "version": 3
   },
   "file_extension": ".py",
   "mimetype": "text/x-python",
   "name": "python",
   "nbconvert_exporter": "python",
   "pygments_lexer": "ipython3",
   "version": "3.9.4"
  }
 },
 "nbformat": 4,
 "nbformat_minor": 5
}
