{
 "cells": [
  {
   "cell_type": "markdown",
   "id": "bc366e1e",
   "metadata": {},
   "source": [
    "# `simpl_eeg` package"
   ]
  },
  {
   "cell_type": "markdown",
   "id": "6f5b9565",
   "metadata": {},
   "source": [
    "## Raw voltage plot"
   ]
  },
  {
   "cell_type": "markdown",
   "id": "feed6108",
   "metadata": {},
   "source": [
    "![](instruction_imgs/voltage_plot.svg)"
   ]
  },
  {
   "cell_type": "code",
   "execution_count": null,
   "id": "fb34bb4f",
   "metadata": {},
   "outputs": [],
   "source": [
    "from simpl_eeg import raw_voltage, eeg_objects"
   ]
  },
  {
   "cell_type": "code",
   "execution_count": null,
   "id": "6a000536",
   "metadata": {},
   "outputs": [],
   "source": [
    "import warnings\n",
    "warnings.filterwarnings('ignore')"
   ]
  },
  {
   "cell_type": "markdown",
   "id": "9f81e603",
   "metadata": {},
   "source": [
    "**Please include the line below in your IDE so that the changes would be simultaneously reflected when you make a change to the python scripts.**"
   ]
  },
  {
   "cell_type": "code",
   "execution_count": null,
   "id": "cf029fa2",
   "metadata": {},
   "outputs": [],
   "source": [
    "%load_ext autoreload"
   ]
  },
  {
   "cell_type": "code",
   "execution_count": null,
   "id": "a1441c60",
   "metadata": {},
   "outputs": [],
   "source": [
    "%autoreload 2"
   ]
  },
  {
   "cell_type": "markdown",
   "id": "263ad944",
   "metadata": {},
   "source": [
    "<br>"
   ]
  },
  {
   "cell_type": "markdown",
   "id": "ee153419",
   "metadata": {},
   "source": [
    "### Define global parameters"
   ]
  },
  {
   "cell_type": "markdown",
   "id": "82e42ae7",
   "metadata": {},
   "source": [
    "There are some common parameters for all functions in this package, it would be more convenient to define all parameters before going into each functions."
   ]
  },
  {
   "cell_type": "code",
   "execution_count": null,
   "id": "901d1993",
   "metadata": {},
   "outputs": [],
   "source": [
    "# change None to values of interest\n",
    "\n",
    "experiment = None # has to be a string\n",
    "nth_epoch = None"
   ]
  },
  {
   "cell_type": "markdown",
   "id": "466595dd",
   "metadata": {},
   "source": [
    "<br>"
   ]
  },
  {
   "cell_type": "markdown",
   "id": "e04f8b1b",
   "metadata": {},
   "source": [
    "### Create epoched data"
   ]
  },
  {
   "cell_type": "code",
   "execution_count": null,
   "id": "27f031fe",
   "metadata": {},
   "outputs": [],
   "source": [
    "tmin = None # number of seconds before the impact\n",
    "tmax = None # number of seconds after the impact\n",
    "start_second = None # starting time of the epoch\n",
    "\n",
    "raw = eeg_objects.Epochs(experiment, tmin, tmax, start_second)"
   ]
  },
  {
   "cell_type": "markdown",
   "id": "ab84331b",
   "metadata": {},
   "source": [
    "#### To select the epoch"
   ]
  },
  {
   "cell_type": "code",
   "execution_count": null,
   "id": "6bcccf05",
   "metadata": {},
   "outputs": [],
   "source": [
    "raw.set_nth_epoch(nth_epoch)"
   ]
  },
  {
   "cell_type": "markdown",
   "id": "4c515927",
   "metadata": {},
   "source": [
    "#### To select the number of time steps to skip (optional step)"
   ]
  },
  {
   "cell_type": "code",
   "execution_count": null,
   "id": "28ae27a9",
   "metadata": {},
   "outputs": [],
   "source": [
    "raw.skip_n_steps(num_steps)"
   ]
  },
  {
   "cell_type": "markdown",
   "id": "1e9a74a3",
   "metadata": {},
   "source": [
    "#### To get the selected epoch"
   ]
  },
  {
   "cell_type": "code",
   "execution_count": null,
   "id": "f08091ca",
   "metadata": {},
   "outputs": [],
   "source": [
    "epoch = raw.get_nth_epoch()"
   ]
  },
  {
   "cell_type": "markdown",
   "id": "51026b8a",
   "metadata": {},
   "source": [
    "<br>"
   ]
  },
  {
   "cell_type": "markdown",
   "id": "6d8ce9a5",
   "metadata": {},
   "source": [
    "### Create the raw voltage plot"
   ]
  },
  {
   "cell_type": "markdown",
   "id": "ff0d2d4a",
   "metadata": {},
   "source": [
    "#### To generate the plot"
   ]
  },
  {
   "cell_type": "code",
   "execution_count": null,
   "id": "e137fbc4",
   "metadata": {},
   "outputs": [],
   "source": [
    "voltage_plot = raw_voltage.plot_voltage(epoch)\n",
    "voltage_plot;"
   ]
  },
  {
   "cell_type": "markdown",
   "id": "a525feba",
   "metadata": {},
   "source": [
    "#### To save the plot"
   ]
  },
  {
   "cell_type": "code",
   "execution_count": null,
   "id": "dd01bf0f",
   "metadata": {},
   "outputs": [],
   "source": [
    "# You could change the plot to different formats by changing the format argument in the function. \n",
    "# It supports 'png', 'pdf', 'svg'.\n",
    "\n",
    "voltage_plot.savefig(\"voltage_plot.svg\", format= 'svg')"
   ]
  },
  {
   "cell_type": "markdown",
   "id": "12e692af",
   "metadata": {},
   "source": [
    "<br>"
   ]
  },
  {
   "cell_type": "code",
   "execution_count": null,
   "id": "ae98cd06",
   "metadata": {},
   "outputs": [],
   "source": []
  }
 ],
 "metadata": {
  "kernelspec": {
   "display_name": "Python [conda env:simpl_eeg]",
   "language": "python",
   "name": "conda-env-simpl_eeg-py"
  },
  "language_info": {
   "codemirror_mode": {
    "name": "ipython",
    "version": 3
   },
   "file_extension": ".py",
   "mimetype": "text/x-python",
   "name": "python",
   "nbconvert_exporter": "python",
   "pygments_lexer": "ipython3",
   "version": "3.9.4"
  }
 },
 "nbformat": 4,
 "nbformat_minor": 5
}
