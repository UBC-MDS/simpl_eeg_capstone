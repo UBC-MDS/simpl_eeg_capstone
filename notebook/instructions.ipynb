{
 "cells": [
  {
   "cell_type": "markdown",
   "id": "dff71722",
   "metadata": {},
   "source": [
    "# `simpl_eeg` package\n",
    "<br>"
   ]
  },
  {
   "cell_type": "markdown",
   "id": "f579e8d0",
   "metadata": {},
   "source": [
    "## Introduction"
   ]
  },
  {
   "cell_type": "markdown",
   "id": "d01a499d",
   "metadata": {},
   "source": [
    "Electroencephalograms (EEG) is an electrophysiological measurement method used to examine the electrical activity of the brain and represent it as location-based channels of waves and frequencies. EEG benefits from being inexpensive and unobtrusive, leading to its widespread use in diagnosing brain disorders such as epilepsy and brain damage from head injuries. EEG data is recorded with high dimensionality, so the use of visualizations and metrics is essential for the data to be easily interpreted by humans. Currently, the options for visualizing EEG data require the use of complicated packages or software and the functionally is often limited.\n",
    "\n",
    "`simpl_eeg` package is developed by students from the Master of Data Science program of University of British Columbia to provide the ability to conveniently produce advanced visualizations and metrics for specified time ranges of EEG data.\n",
    "<br>"
   ]
  },
  {
   "cell_type": "markdown",
   "id": "7e90c7b8",
   "metadata": {},
   "source": [
    "## Instructions"
   ]
  },
  {
   "cell_type": "markdown",
   "id": "e5bacda8",
   "metadata": {},
   "source": [
    "### Installation"
   ]
  },
  {
   "cell_type": "markdown",
   "id": "2da59dec",
   "metadata": {},
   "source": [
    "Run the following commands in your terminal to clone the repository and install the package:"
   ]
  },
  {
   "cell_type": "markdown",
   "id": "e408bb4f",
   "metadata": {},
   "source": [
    "```bash\n",
    "git clone https://github.com/UBC-MDS/simpl_eeg_capstone.git\n",
    "cd simpl_eeg_capstone\n",
    "pip install -e .\n",
    "```\n",
    "<br>"
   ]
  },
  {
   "cell_type": "markdown",
   "id": "06b2f64c",
   "metadata": {},
   "source": [
    "### Import"
   ]
  },
  {
   "cell_type": "markdown",
   "id": "cd19915d",
   "metadata": {},
   "source": [
    "There are six modules in this package. Each of them contains functions for different visualizations. The `eeg_objects` module contains functions to convert the raw data into epoched data with specified time ranges."
   ]
  },
  {
   "cell_type": "code",
   "execution_count": null,
   "id": "54111d53",
   "metadata": {},
   "outputs": [],
   "source": [
    "from simpl_eeg import raw_voltage, eeg_objects, connectivity, topomap_2d, topomap_3d_brain, topomap_3d_head"
   ]
  },
  {
   "cell_type": "code",
   "execution_count": null,
   "id": "7a10a464",
   "metadata": {},
   "outputs": [],
   "source": [
    "# import warnings\n",
    "# warnings.filterwarnings('ignore')"
   ]
  },
  {
   "cell_type": "markdown",
   "id": "a760b5d6",
   "metadata": {},
   "source": [
    "**Please include the line below in your IDE so that the changes would be simultaneously reflected when you make a change to the python scripts.**"
   ]
  },
  {
   "cell_type": "code",
   "execution_count": null,
   "id": "cd3b43b7",
   "metadata": {},
   "outputs": [],
   "source": [
    "%load_ext autoreload"
   ]
  },
  {
   "cell_type": "code",
   "execution_count": null,
   "id": "5302a7f5",
   "metadata": {},
   "outputs": [],
   "source": [
    "%autoreload 2"
   ]
  },
  {
   "cell_type": "markdown",
   "id": "0fa715e1",
   "metadata": {},
   "source": [
    "<br>"
   ]
  },
  {
   "cell_type": "markdown",
   "id": "9e53963d",
   "metadata": {},
   "source": [
    "### Define parameters"
   ]
  },
  {
   "cell_type": "markdown",
   "id": "b5aae3f5",
   "metadata": {},
   "source": [
    "There are some common parameters for all functions in this package, it would be more convenient to define all parameters before going into each functions."
   ]
  },
  {
   "cell_type": "code",
   "execution_count": null,
   "id": "979c1b60",
   "metadata": {},
   "outputs": [],
   "source": [
    "# change None to values of interest\n",
    "\n",
    "# experiment = None \n",
    "# nth_epoch = None\n",
    "# color_min = None\n",
    "# color_max = None\n",
    "# colormap = None"
   ]
  },
  {
   "cell_type": "code",
   "execution_count": null,
   "id": "2b17d7f3",
   "metadata": {},
   "outputs": [],
   "source": [
    "nth_epoch = 0\n",
    "experiment = \"927\""
   ]
  },
  {
   "cell_type": "markdown",
   "id": "acd41b06",
   "metadata": {},
   "source": [
    "<br>"
   ]
  },
  {
   "cell_type": "markdown",
   "id": "d2adb0ff",
   "metadata": {},
   "source": [
    "### Create epoched data"
   ]
  },
  {
   "cell_type": "code",
   "execution_count": null,
   "id": "d11eb07c",
   "metadata": {},
   "outputs": [],
   "source": [
    "raw = eeg_objects.Epochs(experiment)"
   ]
  },
  {
   "cell_type": "code",
   "execution_count": null,
   "id": "18e94ab1",
   "metadata": {},
   "outputs": [],
   "source": [
    "epoch = raw.get_nth_epoch(nth_epoch)"
   ]
  },
  {
   "cell_type": "markdown",
   "id": "40a19601",
   "metadata": {},
   "source": [
    "<br>"
   ]
  },
  {
   "cell_type": "markdown",
   "id": "ca880443",
   "metadata": {},
   "source": [
    "### Create the raw voltage plot"
   ]
  },
  {
   "cell_type": "markdown",
   "id": "bd1142a1",
   "metadata": {},
   "source": [
    "#### To generate the plot"
   ]
  },
  {
   "cell_type": "code",
   "execution_count": null,
   "id": "35b48bde",
   "metadata": {},
   "outputs": [],
   "source": [
    "voltage_plot = raw_voltage.plot_voltage(epoch)\n",
    "voltage_plot;"
   ]
  },
  {
   "cell_type": "markdown",
   "id": "d6dca108",
   "metadata": {},
   "source": [
    "#### To save the plot"
   ]
  },
  {
   "cell_type": "code",
   "execution_count": null,
   "id": "f26d7009",
   "metadata": {},
   "outputs": [],
   "source": [
    "# You could change the plot to different formats by changing the format argument in the function. \n",
    "# It supports 'png', 'pdf', 'svg'.\n",
    "\n",
    "voltage_plot.savefig(\"voltage_plot.svg\", format= 'svg')"
   ]
  },
  {
   "cell_type": "markdown",
   "id": "6531bc3f",
   "metadata": {},
   "source": [
    "<br>"
   ]
  },
  {
   "cell_type": "markdown",
   "id": "49e3ca7e",
   "metadata": {},
   "source": [
    "### Create the connectivity plot"
   ]
  },
  {
   "cell_type": "markdown",
   "id": "22dd58c9",
   "metadata": {},
   "source": [
    "#### To generate the animtated plot"
   ]
  },
  {
   "cell_type": "code",
   "execution_count": null,
   "id": "242bf224",
   "metadata": {},
   "outputs": [],
   "source": [
    "%matplotlib inline"
   ]
  },
  {
   "cell_type": "code",
   "execution_count": null,
   "id": "80498fe5",
   "metadata": {},
   "outputs": [],
   "source": [
    "conn_plot_animated = connectivity.animate_connectivity(epoch, calc_type=\"correlation\", colormap='turbo')"
   ]
  },
  {
   "cell_type": "code",
   "execution_count": null,
   "id": "d6e3993f",
   "metadata": {},
   "outputs": [],
   "source": [
    "from IPython.display import HTML\n",
    "\n",
    "HTML(conn_plot_animated.to_jshtml())"
   ]
  },
  {
   "cell_type": "markdown",
   "id": "e6f1bde0",
   "metadata": {},
   "source": [
    "#### To save the animattion"
   ]
  },
  {
   "cell_type": "markdown",
   "id": "12a3a95d",
   "metadata": {},
   "source": [
    "##### To save the animated plot as gif"
   ]
  },
  {
   "cell_type": "code",
   "execution_count": null,
   "id": "8d606238",
   "metadata": {},
   "outputs": [],
   "source": [
    "from matplotlib.animation import PillowWriter\n",
    "writergif = PillowWriter(fps=30)\n",
    "conn_plot_animated.save(\"connectivity.gif\", writer=writergif)"
   ]
  },
  {
   "cell_type": "markdown",
   "id": "6ebf5c63",
   "metadata": {},
   "source": [
    "##### To save the animated plot as mp4"
   ]
  },
  {
   "cell_type": "code",
   "execution_count": null,
   "id": "b73f6cdc",
   "metadata": {},
   "outputs": [],
   "source": [
    "from matplotlib.animation import FFMpegWriter\n",
    "writervideo = FFMpegWriter(fps=60) \n",
    "conn_plot_animated.save(\"connectivity.mp4\", writer=writervideo) # just change the file name to avi if you want the avi file"
   ]
  },
  {
   "cell_type": "markdown",
   "id": "a026c538",
   "metadata": {},
   "source": [
    "<br>"
   ]
  },
  {
   "cell_type": "markdown",
   "id": "252b9189",
   "metadata": {},
   "source": [
    "### Create the topographic map in 3D head shape"
   ]
  },
  {
   "cell_type": "markdown",
   "id": "47bc739f",
   "metadata": {},
   "source": [
    "#### To generate the plot for a specific time stamp"
   ]
  },
  {
   "cell_type": "code",
   "execution_count": null,
   "id": "05ab611e",
   "metadata": {},
   "outputs": [],
   "source": [
    "timestamp = -300 # you can change the value to the time stamp of your interest\n",
    "topo_3d_static = topomap_3d_head.topo_3d_map(epoch, timestamp)"
   ]
  },
  {
   "cell_type": "code",
   "execution_count": null,
   "id": "60f7c3c2",
   "metadata": {},
   "outputs": [],
   "source": [
    "topo_3d_static.show()"
   ]
  },
  {
   "cell_type": "markdown",
   "id": "54da29c9",
   "metadata": {},
   "source": [
    "#### To generate the animnation"
   ]
  },
  {
   "cell_type": "code",
   "execution_count": null,
   "id": "2dd18890",
   "metadata": {},
   "outputs": [],
   "source": [
    "topo_3d = topomap_3d_head.animate_3d_head(epoch)"
   ]
  },
  {
   "cell_type": "code",
   "execution_count": null,
   "id": "2af61969",
   "metadata": {},
   "outputs": [],
   "source": [
    "topo_3d.show()"
   ]
  },
  {
   "cell_type": "markdown",
   "id": "846bb479",
   "metadata": {},
   "source": [
    "#### To save the animnation"
   ]
  },
  {
   "cell_type": "markdown",
   "id": "b849ec11",
   "metadata": {},
   "source": [
    "##### To save the static plot"
   ]
  },
  {
   "cell_type": "code",
   "execution_count": null,
   "id": "8e8322ab",
   "metadata": {},
   "outputs": [],
   "source": [
    "topo_3d_static.write_image(\"topo_3d_static.svg\", engine=\"kaleido\") "
   ]
  },
  {
   "cell_type": "code",
   "execution_count": null,
   "id": "b6191267",
   "metadata": {},
   "outputs": [],
   "source": [
    "topo_3d_static.write_image(\"topo_3d_static.png\") # no need to specify engine if not saved as svg file"
   ]
  },
  {
   "cell_type": "markdown",
   "id": "2cf63d93",
   "metadata": {},
   "source": [
    "##### To save the animnation as html"
   ]
  },
  {
   "cell_type": "code",
   "execution_count": null,
   "id": "ac67175d",
   "metadata": {},
   "outputs": [],
   "source": [
    "topo_3d.write_html(\"topo_3d.html\")"
   ]
  },
  {
   "cell_type": "markdown",
   "id": "887e259d",
   "metadata": {},
   "source": [
    "##### To save the animation as gif file"
   ]
  },
  {
   "cell_type": "markdown",
   "id": "f18d122e",
   "metadata": {},
   "source": [
    "You would need specify the starting timestamp, ending timestamp and the duration between frames"
   ]
  },
  {
   "cell_type": "code",
   "execution_count": null,
   "id": "a017497b",
   "metadata": {},
   "outputs": [],
   "source": [
    "topomap_3d_head.save_gif(epoch, starting=-300, ending=-290, gifname=\"example\", duration=100)"
   ]
  },
  {
   "cell_type": "markdown",
   "id": "f8400d3c",
   "metadata": {},
   "source": [
    "##### To save the animation as mp4 file"
   ]
  },
  {
   "cell_type": "markdown",
   "id": "0d60a13f",
   "metadata": {},
   "source": [
    "You would need to save it as gif file first and then convert it into mp4 file."
   ]
  },
  {
   "cell_type": "code",
   "execution_count": null,
   "id": "64ac1a62",
   "metadata": {},
   "outputs": [],
   "source": [
    "import moviepy.editor as mp\n",
    "\n",
    "clip = mp.VideoFileClip(\"example.gif\")\n",
    "clip.write_videofile(\"example.mp4\")"
   ]
  },
  {
   "cell_type": "code",
   "execution_count": null,
   "id": "4ce94277",
   "metadata": {},
   "outputs": [],
   "source": []
  }
 ],
 "metadata": {
  "kernelspec": {
   "display_name": "Python [conda env:capstone]",
   "language": "python",
   "name": "conda-env-capstone-py"
  },
  "language_info": {
   "codemirror_mode": {
    "name": "ipython",
    "version": 3
   },
   "file_extension": ".py",
   "mimetype": "text/x-python",
   "name": "python",
   "nbconvert_exporter": "python",
   "pygments_lexer": "ipython3",
   "version": "3.9.4"
  }
 },
 "nbformat": 4,
 "nbformat_minor": 5
}
