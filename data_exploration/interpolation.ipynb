{
 "cells": [
  {
   "cell_type": "code",
   "execution_count": null,
   "id": "f064fffd-7bb6-4a85-b07e-f258a93ad679",
   "metadata": {},
   "outputs": [],
   "source": [
    "import mne\n",
    "import numpy as np\n",
    "import pandas as pd\n",
    "import scipy.io\n",
    "from scipy.interpolate import NearestNDInterpolator, griddata"
   ]
  },
  {
   "cell_type": "code",
   "execution_count": null,
   "id": "4a3b590c-d639-4a50-8d93-228e3b436b2c",
   "metadata": {},
   "outputs": [],
   "source": [
    "import plotly\n",
    "import plotly.graph_objects as go\n",
    "import plotly.express as px\n",
    "\n",
    "plotly.offline.init_notebook_mode(connected=True)"
   ]
  },
  {
   "cell_type": "code",
   "execution_count": null,
   "id": "397c9c6d-4f92-4785-85a6-b35a00e93e8e",
   "metadata": {},
   "outputs": [],
   "source": [
    "import matplotlib\n",
    "import matplotlib.pyplot as plt\n",
    "from matplotlib import cm"
   ]
  },
  {
   "cell_type": "markdown",
   "id": "06b9d8c3-366a-4514-a96d-9f04381ee037",
   "metadata": {},
   "source": [
    "### Read in data"
   ]
  },
  {
   "cell_type": "code",
   "execution_count": null,
   "id": "0c646f18-1ad3-4081-88a2-f1eedd897c96",
   "metadata": {},
   "outputs": [],
   "source": [
    "raw = mne.io.read_raw_eeglab(\"../927/fixica.set\")"
   ]
  },
  {
   "cell_type": "code",
   "execution_count": null,
   "id": "8f465d60-bee3-49be-b096-c1d71b1fb28f",
   "metadata": {},
   "outputs": [],
   "source": [
    "# get the coordinate for each nodes and save them in an array\n",
    "node_list = []\n",
    "for key, value in raw.get_montage().get_positions()[\"ch_pos\"].items():\n",
    "    node_list.append(value.tolist())\n",
    "node_coord = np.array(node_list)"
   ]
  },
  {
   "cell_type": "code",
   "execution_count": null,
   "id": "9e8a335e-785c-41b7-8125-8ded4c67ee91",
   "metadata": {},
   "outputs": [],
   "source": [
    "df = raw.to_data_frame()"
   ]
  },
  {
   "cell_type": "code",
   "execution_count": null,
   "id": "d0fe03d9-8d36-45aa-8ce6-ef1a26852fa6",
   "metadata": {},
   "outputs": [],
   "source": [
    "# use the (x, y) location of each node to interpolate the z values to get a head shape\n",
    "xi = np.linspace(min(node_coord[:, 0]), max(node_coord[:, 0]), num=100)\n",
    "yi = np.linspace(min(node_coord[:, 1]), max(node_coord[:, 1]), num=100)\n",
    "\n",
    "x_grid, y_grid = np.meshgrid(xi, yi)\n",
    "\n",
    "z_grid = griddata(\n",
    "    (node_coord[:, 0], node_coord[:, 1]),\n",
    "    node_coord[:, 2],\n",
    "    (x_grid, y_grid),\n",
    "    method=\"cubic\",\n",
    ")"
   ]
  },
  {
   "cell_type": "code",
   "execution_count": null,
   "id": "c4c36684-aea2-4750-8bcc-6e8b1f32177a",
   "metadata": {},
   "outputs": [],
   "source": [
    "# unpack the interpolated value and save all interpolated (x, y, z) values into one list\n",
    "xy = []\n",
    "for x in xi:\n",
    "    for y in yi:\n",
    "        xy.append([x, y])\n",
    "\n",
    "row_count = 0\n",
    "num_count = 0\n",
    "xyz = []\n",
    "list_count = 0\n",
    "for xyval in xy:\n",
    "    if num_count != 99:\n",
    "        xyz.append([xyval[0], xyval[1], z_grid[row_count, num_count]])\n",
    "        num_count += 1\n",
    "    elif num_count == 99:\n",
    "        xyz.append([xyval[0], xyval[1], z_grid[row_count, num_count]])\n",
    "        num_count = 0\n",
    "        row_count += 1"
   ]
  },
  {
   "cell_type": "markdown",
   "id": "d1295917-10b8-467a-9e3a-21f766311042",
   "metadata": {},
   "source": [
    "## interpolation for one time stamp"
   ]
  },
  {
   "cell_type": "code",
   "execution_count": null,
   "id": "7393d03e-e646-4337-83b6-619b3c30ad42",
   "metadata": {},
   "outputs": [],
   "source": [
    "t0 = df[df[\"time\"] == 0]"
   ]
  },
  {
   "cell_type": "code",
   "execution_count": null,
   "id": "8e22f2ee-41d5-4735-9fe1-e945c45fe68f",
   "metadata": {},
   "outputs": [],
   "source": [
    "# create the list for egg data for the current time stamp\n",
    "eeg_list = []\n",
    "for val in t0.columns:\n",
    "    if val != \"time\":\n",
    "        eeg_list.append(np.mean(t0[val]))\n",
    "eeg = np.array(eeg_list)"
   ]
  },
  {
   "cell_type": "code",
   "execution_count": null,
   "id": "b0809e56-5016-4cbf-a487-c5398526c762",
   "metadata": {},
   "outputs": [],
   "source": [
    "# create interpolation model using the eeg data from the current time stamp\n",
    "interpolate_model = NearestNDInterpolator(node_coord, eeg)"
   ]
  },
  {
   "cell_type": "code",
   "execution_count": null,
   "id": "63267227-ccb7-48bd-b69a-7923292e5c9a",
   "metadata": {},
   "outputs": [],
   "source": [
    "# use the interpolation model to interpolate eeg values for interpolated data points\n",
    "interpolated_eeg = interpolate_model(np.nan_to_num(np.array(xyz)))"
   ]
  },
  {
   "cell_type": "markdown",
   "id": "144b8c57-beb8-4959-a10b-124bebcc129b",
   "metadata": {},
   "source": [
    "### Use plotly to plot one time stamp"
   ]
  },
  {
   "cell_type": "code",
   "execution_count": null,
   "id": "9577fe3d-5203-4a39-a8f0-3034ea2eee71",
   "metadata": {},
   "outputs": [],
   "source": [
    "fig = go.Figure(\n",
    "    go.Surface(\n",
    "        x=x_grid,\n",
    "        y=y_grid,\n",
    "        z=z_grid,\n",
    "        surfacecolor=np.reshape(interpolated_eeg, (-1, 100)),\n",
    "    )\n",
    ")\n",
    "\n",
    "fig.show()"
   ]
  },
  {
   "cell_type": "markdown",
   "id": "2e6c5b3a-d106-4071-a39c-a5de30af6060",
   "metadata": {},
   "source": [
    "### Use matplotlib to plot one time stamp"
   ]
  },
  {
   "cell_type": "code",
   "execution_count": null,
   "id": "7ee0e239-8a25-44d8-9319-755bf0e357d9",
   "metadata": {},
   "outputs": [],
   "source": [
    "fig, ax = plt.subplots(subplot_kw={\"projection\": \"3d\"})\n",
    "\n",
    "# create colormap\n",
    "import matplotlib\n",
    "\n",
    "color_dimension = np.reshape(\n",
    "    interpolated_eeg, (-1, 100)\n",
    ")  # change to desired fourth dimension\n",
    "minn, maxx = color_dimension.min(), color_dimension.max()\n",
    "norm = matplotlib.colors.Normalize(minn, maxx)\n",
    "m = plt.cm.ScalarMappable(norm=norm, cmap=\"jet\")\n",
    "m.set_array([])\n",
    "fcolors = m.to_rgba(color_dimension)\n",
    "\n",
    "# Plot the surface.\n",
    "surf = ax.plot_surface(x_grid, y_grid, z_grid, facecolors=fcolors)\n",
    "\n",
    "# Add a color bar which maps values to colors.\n",
    "fig.colorbar(surf)\n",
    "\n",
    "plt.show()"
   ]
  },
  {
   "cell_type": "markdown",
   "id": "6f371dc5-4d9a-45eb-86e4-bc8d73195ffe",
   "metadata": {},
   "source": [
    "### Animated using matplotlib"
   ]
  },
  {
   "cell_type": "code",
   "execution_count": null,
   "id": "cf147063-6fd3-43f5-9935-c9bd7a2bca6b",
   "metadata": {},
   "outputs": [],
   "source": [
    "%matplotlib inline"
   ]
  },
  {
   "cell_type": "code",
   "execution_count": null,
   "id": "d88a6820-ed43-4756-9096-3cddc3b1ff9d",
   "metadata": {},
   "outputs": [],
   "source": [
    "from IPython.display import HTML\n",
    "from matplotlib import animation, rc"
   ]
  },
  {
   "cell_type": "code",
   "execution_count": null,
   "id": "d6d0ae47-a9a3-44e5-a9ca-beac477c54aa",
   "metadata": {},
   "outputs": [],
   "source": [
    "fig, ax = plt.subplots(subplot_kw={\"projection\": \"3d\"})\n",
    "\n",
    "\n",
    "def update_graph(tp):\n",
    "    now = df[df[\"time\"] == tp]\n",
    "    ax.cla()\n",
    "    eeg_list = []\n",
    "    for val in now.columns:\n",
    "        if val != \"time\":\n",
    "            eeg_list.append(np.mean(now[val]))\n",
    "    eeg = np.array(eeg_list)\n",
    "    interpolate_model = NearestNDInterpolator(node_coord, eeg)\n",
    "    interpolated_eeg = interpolate_model(np.nan_to_num(np.array(xyz)))\n",
    "    color_dimension = np.reshape(\n",
    "        interpolated_eeg, (-1, 100)\n",
    "    )  # change to desired fourth dimension\n",
    "    minn, maxx = color_dimension.min(), color_dimension.max()\n",
    "    norm = matplotlib.colors.Normalize(minn, maxx)\n",
    "    m = plt.cm.ScalarMappable(norm=norm, cmap=\"jet\")\n",
    "    m.set_array([])\n",
    "    fcolors = m.to_rgba(color_dimension)\n",
    "\n",
    "    # Plot the surface.\n",
    "    surf = ax.plot_surface(x_grid, y_grid, z_grid, facecolors=fcolors)\n",
    "\n",
    "    # Add a color bar which maps values to colors.\n",
    "    #     fig.colorbar(surf, ax=ax)\n",
    "\n",
    "    return fig"
   ]
  },
  {
   "cell_type": "code",
   "execution_count": null,
   "id": "26c8ac13-a862-450f-8673-ffd3de12749c",
   "metadata": {},
   "outputs": [],
   "source": [
    "ani = matplotlib.animation.FuncAnimation(fig, update_graph, df[\"time\"].head(10))"
   ]
  },
  {
   "cell_type": "code",
   "execution_count": null,
   "id": "14666907-a95e-4eba-b86d-15d785a39939",
   "metadata": {},
   "outputs": [],
   "source": [
    "# HTML(ani.to_jshtml())"
   ]
  },
  {
   "cell_type": "markdown",
   "id": "5f0c8ce7-ed15-4eba-8931-afba7cd14f8f",
   "metadata": {},
   "source": [
    "### Animated using plotly"
   ]
  },
  {
   "cell_type": "code",
   "execution_count": null,
   "id": "488a8400-b946-4eaf-806c-35835479e503",
   "metadata": {},
   "outputs": [],
   "source": [
    "# Define frames\n",
    "import plotly.graph_objects as go\n",
    "\n",
    "nb_frames = df[\"time\"].head(50)"
   ]
  },
  {
   "cell_type": "code",
   "execution_count": null,
   "id": "d13b1c17-6e61-4577-98fc-20d9f4bd3499",
   "metadata": {},
   "outputs": [],
   "source": [
    "node_df = pd.DataFrame(raw.get_montage().get_positions()[\"ch_pos\"]).transpose().reset_index()\n",
    "node_df = node_df.rename(columns={'index':'channel', 0:'x', 1:'y', 2:'z'})"
   ]
  },
  {
   "cell_type": "code",
   "execution_count": null,
   "id": "dbe72f0c-6a2c-44f7-95e5-9d4a265465cb",
   "metadata": {},
   "outputs": [],
   "source": [
    "def interpolated_time(k):\n",
    "    now = df[df[\"time\"] == k]\n",
    "    eeg_list = []\n",
    "    for val in now.columns:\n",
    "        if val != \"time\":\n",
    "            eeg_list.append(np.mean(now[val]))\n",
    "    eeg = np.array(eeg_list)\n",
    "    interpolate_model = NearestNDInterpolator(node_coord, eeg)\n",
    "    interpolated_eeg = interpolate_model(np.nan_to_num(np.array(xyz)))\n",
    "    return np.reshape(interpolated_eeg, (-1, 100))"
   ]
  },
  {
   "cell_type": "code",
   "execution_count": null,
   "id": "eec22626-abbb-4a2c-bf59-d0ff493b6234",
   "metadata": {},
   "outputs": [],
   "source": [
    "fig = go.Figure(\n",
    "    frames=[\n",
    "        go.Frame(\n",
    "            data=go.Surface(\n",
    "                x=x_grid, y=y_grid, z=z_grid, surfacecolor=interpolated_time(k)\n",
    "            ),\n",
    "            name=str(\n",
    "                k\n",
    "            ),  # you need to name the frame for the animation to behave properly\n",
    "        )\n",
    "        for k in nb_frames\n",
    "    ]\n",
    ")\n",
    "\n",
    "# Add data to be displayed before animation starts\n",
    "fig.add_trace(\n",
    "    go.Surface(x=x_grid, y=y_grid, z=z_grid, surfacecolor=interpolated_time(0))\n",
    ")\n",
    "fig.add_scatter3d(connectgaps=True,  x=node_df['x'], y=node_df['y'], z=node_df['z'], text=node_df[\"channel\"], mode='markers')\n",
    "\n",
    "def frame_args(duration):\n",
    "    return {\n",
    "        \"frame\": {\"duration\": duration},\n",
    "        \"mode\": \"immediate\",\n",
    "        \"fromcurrent\": True,\n",
    "        \"transition\": {\"duration\": duration, \"easing\": \"linear\"},\n",
    "    }\n",
    "\n",
    "\n",
    "sliders = [\n",
    "    {\n",
    "        \"pad\": {\"b\": 10, \"t\": 60},\n",
    "        \"len\": 0.9,\n",
    "        \"x\": 0.1,\n",
    "        \"y\": 0,\n",
    "        \"steps\": [\n",
    "            {\n",
    "                \"args\": [[f.name], frame_args(0)],\n",
    "                \"label\": str(k),\n",
    "                \"method\": \"animate\",\n",
    "            }\n",
    "            for k, f in enumerate(fig.frames)\n",
    "        ],\n",
    "    }\n",
    "]\n",
    "\n",
    "fig.update_layout(\n",
    "    title=\"EEG Interpolated 3D Graph\",\n",
    "    width=1000,\n",
    "    height=600,\n",
    "    scene=dict(\n",
    "        zaxis=dict(\n",
    "            range=[\n",
    "                np.nan_to_num(z_grid.data.tolist()).min(),\n",
    "                np.nan_to_num(z_grid.data.tolist()).max(),\n",
    "            ],\n",
    "            autorange=False,\n",
    "        ),\n",
    "        aspectratio=dict(x=1.5, y=1.5, z=1),\n",
    "    ),\n",
    "    updatemenus=[\n",
    "        {\n",
    "            \"buttons\": [\n",
    "                {\n",
    "                    \"args\": [None, frame_args(50)],\n",
    "                    \"label\": \"&#9654;\",  # play symbol\n",
    "                    \"method\": \"animate\",\n",
    "                },\n",
    "                {\n",
    "                    \"args\": [[None], frame_args(0)],\n",
    "                    \"label\": \"&#9724;\",  # pause symbol\n",
    "                    \"method\": \"animate\",\n",
    "                },\n",
    "            ],\n",
    "            \"direction\": \"left\",\n",
    "            \"pad\": {\"r\": 1, \"t\": 1},\n",
    "            \"type\": \"buttons\",\n",
    "            \"x\": 0.1,\n",
    "            \"y\": 0,\n",
    "        }\n",
    "    ],\n",
    "    sliders=sliders,\n",
    ")"
   ]
  },
  {
   "cell_type": "markdown",
   "id": "7fbc645c-e21e-48b2-a2a5-c843232b36dc",
   "metadata": {},
   "source": [
    "### 3D animated scatter plot using plotly"
   ]
  },
  {
   "cell_type": "code",
   "execution_count": null,
   "id": "ebf2186d-41dc-4efb-8bf2-65798922d278",
   "metadata": {},
   "outputs": [],
   "source": [
    "import matplotlib as mpl\n",
    "import matplotlib.colors\n",
    "import plotly.express as px"
   ]
  },
  {
   "cell_type": "code",
   "execution_count": null,
   "id": "aaaf80ed-e714-4706-8477-62c5f903e764",
   "metadata": {},
   "outputs": [],
   "source": [
    "plot_df = raw.to_data_frame()\n",
    "col_names = plot_df.columns.tolist()[1:]\n",
    "df = plot_df.melt(\n",
    "    id_vars=\"time\", value_vars=col_names, var_name=\"channels\", value_name=\"signal\"\n",
    ")\n",
    "channel_dict = raw.get_montage().get_positions()[\"ch_pos\"]\n",
    "n = mpl.colors.SymLogNorm(\n",
    "    linthresh=1, linscale=1, vmin=min(df[\"signal\"]), vmax=max(df[\"signal\"])\n",
    ")\n",
    "m = mpl.cm.ScalarMappable(norm=n, cmap=\"seismic\")\n",
    "plot_df3 = df[df[\"time\"] <= 50]"
   ]
  },
  {
   "cell_type": "code",
   "execution_count": null,
   "id": "1e95dc55-31f1-4a82-815b-2e63d66fc282",
   "metadata": {},
   "outputs": [],
   "source": [
    "plot_df4 = plot_df3.copy()\n",
    "loca_listx = []\n",
    "loca_listy = []\n",
    "loca_listz = []\n",
    "for index, row in plot_df4.iterrows():\n",
    "    loca_listx.append(channel_dict[row[\"channels\"]][0])\n",
    "    loca_listy.append(channel_dict[row[\"channels\"]][1])\n",
    "    loca_listz.append(channel_dict[row[\"channels\"]][2])\n",
    "plot_df4[\"chan_locax\"] = loca_listx\n",
    "plot_df4[\"chan_locay\"] = loca_listy\n",
    "plot_df4[\"chan_locaz\"] = loca_listz"
   ]
  },
  {
   "cell_type": "code",
   "execution_count": null,
   "id": "4bb3cc1e-3648-4fa4-b552-edc522fd6d3b",
   "metadata": {},
   "outputs": [],
   "source": [
    "fig = px.scatter_3d(\n",
    "    plot_df4,\n",
    "    x=\"chan_locax\",\n",
    "    y=\"chan_locay\",\n",
    "    z=\"chan_locaz\",\n",
    "    color=\"signal\",\n",
    "    animation_frame=\"time\",\n",
    "    hover_name=\"channels\",\n",
    "    text=\"channels\",\n",
    "    color_continuous_scale=\"RdYlGn_r\",\n",
    ")\n",
    "fig.update_layout(margin=dict(l=0, r=0, t=30, b=10))\n",
    "fig.show()"
   ]
  },
  {
   "cell_type": "code",
   "execution_count": null,
   "id": "04c55b40-0810-4a6b-9bb3-d930816e8df5",
   "metadata": {},
   "outputs": [],
   "source": []
  }
 ],
 "metadata": {
  "kernelspec": {
   "display_name": "Python [conda env:capstone]",
   "language": "python",
   "name": "conda-env-capstone-py"
  },
  "language_info": {
   "codemirror_mode": {
    "name": "ipython",
    "version": 3
   },
   "file_extension": ".py",
   "mimetype": "text/x-python",
   "name": "python",
   "nbconvert_exporter": "python",
   "pygments_lexer": "ipython3",
   "version": "3.9.2"
  }
 },
 "nbformat": 4,
 "nbformat_minor": 5
}
