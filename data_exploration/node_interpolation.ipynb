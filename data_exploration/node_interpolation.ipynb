{
 "cells": [
  {
   "cell_type": "markdown",
   "id": "2ad6f2f2",
   "metadata": {},
   "source": [
    "# More node interpolation"
   ]
  },
  {
   "cell_type": "code",
   "execution_count": null,
   "id": "cb082339",
   "metadata": {},
   "outputs": [],
   "source": [
    "import mne\n",
    "import numpy as np\n",
    "import pandas as pd\n",
    "import scipy.io\n",
    "from scipy.interpolate import NearestNDInterpolator"
   ]
  },
  {
   "cell_type": "code",
   "execution_count": null,
   "id": "f824f436",
   "metadata": {},
   "outputs": [],
   "source": [
    "import plotly\n",
    "import plotly.graph_objects as go"
   ]
  },
  {
   "cell_type": "markdown",
   "id": "75d2321a",
   "metadata": {},
   "source": [
    "## Read in data"
   ]
  },
  {
   "cell_type": "code",
   "execution_count": null,
   "id": "ab6de3e3",
   "metadata": {},
   "outputs": [],
   "source": [
    "raw = mne.io.read_raw_eeglab(\"data/927/fixica.set\")"
   ]
  },
  {
   "cell_type": "code",
   "execution_count": null,
   "id": "b6bc395b",
   "metadata": {},
   "outputs": [],
   "source": [
    "ten_five_montage = mne.channels.make_standard_montage(\"standard_1005\")"
   ]
  },
  {
   "cell_type": "code",
   "execution_count": null,
   "id": "e52b528b",
   "metadata": {},
   "outputs": [],
   "source": [
    "standard_coord = []\n",
    "for key, value in ten_five_montage.get_positions()[\"ch_pos\"].items():\n",
    "    standard_coord.append(value.tolist())\n",
    "standard_coord = np.array(standard_coord)"
   ]
  },
  {
   "cell_type": "code",
   "execution_count": null,
   "id": "3916f854",
   "metadata": {},
   "outputs": [],
   "source": [
    "# get the coordinate for each nodes and save them in an array\n",
    "node_list = []\n",
    "for channel in raw.get_montage().ch_names:\n",
    "    node_list.append(ten_five_montage.get_positions()[\"ch_pos\"][channel].tolist())\n",
    "node_coord = np.array(node_list)"
   ]
  },
  {
   "cell_type": "code",
   "execution_count": null,
   "id": "15987320",
   "metadata": {},
   "outputs": [],
   "source": [
    "node_list_name = []\n",
    "for channel in raw.get_montage().ch_names:\n",
    "    node_list_name.append(\n",
    "        [\n",
    "            channel,\n",
    "            ten_five_montage.get_positions()[\"ch_pos\"][channel][0],\n",
    "            ten_five_montage.get_positions()[\"ch_pos\"][channel][1],\n",
    "            ten_five_montage.get_positions()[\"ch_pos\"][channel][2],\n",
    "        ]\n",
    "    )\n",
    "node_df = pd.DataFrame(node_list_name, columns=[\"channel\", \"X\", \"Y\", \"Z\"])"
   ]
  },
  {
   "cell_type": "code",
   "execution_count": null,
   "id": "b6efb2ef",
   "metadata": {},
   "outputs": [],
   "source": [
    "x = np.array(standard_coord)[:, 0]\n",
    "y = np.array(standard_coord)[:, 1]\n",
    "z = np.array(standard_coord)[:, 2]"
   ]
  },
  {
   "cell_type": "code",
   "execution_count": null,
   "id": "805e96ac",
   "metadata": {},
   "outputs": [],
   "source": [
    "df = raw.to_data_frame()"
   ]
  },
  {
   "cell_type": "markdown",
   "id": "584d8ef8",
   "metadata": {},
   "source": [
    "## One time stamp"
   ]
  },
  {
   "cell_type": "code",
   "execution_count": null,
   "id": "19c3dcea",
   "metadata": {},
   "outputs": [],
   "source": [
    "eeg = df[df[\"time\"] == 0].loc[:, raw.ch_names].mean().values"
   ]
  },
  {
   "cell_type": "code",
   "execution_count": null,
   "id": "38b00df0",
   "metadata": {},
   "outputs": [],
   "source": [
    "inter = NearestNDInterpolator(node_coord, eeg)"
   ]
  },
  {
   "cell_type": "code",
   "execution_count": null,
   "id": "c25d15ec",
   "metadata": {},
   "outputs": [],
   "source": [
    "figu = go.Figure(\n",
    "    data=[\n",
    "        go.Mesh3d(\n",
    "            x=np.array(standard_coord)[:, 0],\n",
    "            y=np.array(standard_coord)[:, 1],\n",
    "            z=np.array(standard_coord)[:, 2],\n",
    "            colorscale=\"RdBu\",\n",
    "            intensity=inter(np.array(list(zip(x, y, z)))),\n",
    "            intensitymode=\"vertex\",\n",
    "            alphahull=1,\n",
    "            opacity=1,\n",
    "        )\n",
    "    ]\n",
    ")\n",
    "\n",
    "figu.show()"
   ]
  },
  {
   "cell_type": "markdown",
   "id": "b0284873",
   "metadata": {},
   "source": [
    "## Animated - color not normalized"
   ]
  },
  {
   "cell_type": "code",
   "execution_count": null,
   "id": "ae3adec7",
   "metadata": {},
   "outputs": [],
   "source": [
    "df.iloc[100:110,:][\"time\"]"
   ]
  },
  {
   "cell_type": "code",
   "execution_count": null,
   "id": "968317dc",
   "metadata": {},
   "outputs": [],
   "source": [
    "def interpolated_time_notnor(x, y, z, k):\n",
    "    now = df[df[\"time\"] == k]\n",
    "    eeg = now.iloc[:, 1:].mean().values\n",
    "    interpolate_model = NearestNDInterpolator(node_coord, eeg)\n",
    "    interpolated_eeg = interpolate_model(np.array(list(zip(x, y, z))))\n",
    "    return interpolated_eeg"
   ]
  },
  {
   "cell_type": "code",
   "execution_count": null,
   "id": "405fa5a0",
   "metadata": {},
   "outputs": [],
   "source": [
    "fig = go.Figure(\n",
    "    frames=[\n",
    "        go.Frame(\n",
    "            data=go.Mesh3d(\n",
    "                x=np.array(standard_coord)[:, 0],\n",
    "                y=np.array(standard_coord)[:, 1],\n",
    "                z=np.array(standard_coord)[:, 2],\n",
    "                colorscale=\"Bluered\",\n",
    "                colorbar_title=\"EEG MicroVolt\",\n",
    "                cmin=-50,\n",
    "                cmax=50,\n",
    "                intensity=interpolated_time_notnor(x, y, z, k),\n",
    "                intensitymode=\"vertex\",\n",
    "                alphahull=1,\n",
    "                opacity=1,\n",
    "            ),\n",
    "            name=str(\n",
    "                k\n",
    "            ),  # you need to name the frame for the animation to behave properly\n",
    "        )\n",
    "        for k in df.iloc[100:110,:][\"time\"]\n",
    "    ]\n",
    ")\n",
    "\n",
    "# Add data to be displayed before animation starts\n",
    "fig.add_trace(\n",
    "    go.Mesh3d(\n",
    "        x=np.array(standard_coord)[:, 0],\n",
    "        y=np.array(standard_coord)[:, 1],\n",
    "        z=np.array(standard_coord)[:, 2],\n",
    "        colorscale=\"Bluered\",\n",
    "        colorbar_title=\"EEG Voltage\",\n",
    "        cmin=-50,\n",
    "        cmax=50,\n",
    "        intensity=interpolated_time_notnor(x, y, z, 0),\n",
    "        intensitymode=\"vertex\",\n",
    "        alphahull=1,\n",
    "        opacity=1,\n",
    "    )\n",
    ")\n",
    "fig.add_scatter3d(\n",
    "    connectgaps=True,\n",
    "    x=node_df[\"X\"],\n",
    "    y=node_df[\"Y\"],\n",
    "    z=node_df[\"Z\"],\n",
    "    text=node_df[\"channel\"],\n",
    "    mode=\"markers+text\",\n",
    "    marker={\"size\": 5, \"color\": \"black\"},\n",
    "    textposition=\"top left\",\n",
    "    textfont=dict(family=\"sans serif\", size=18, color=\"White\"),\n",
    ")\n",
    "\n",
    "\n",
    "def frame_args(duration):\n",
    "    return {\n",
    "        \"frame\": {\"duration\": duration},\n",
    "        \"mode\": \"immediate\",\n",
    "        \"fromcurrent\": True,\n",
    "        \"transition\": {\"duration\": duration, \"easing\": \"linear\", \"redraw\": False},\n",
    "    }\n",
    "\n",
    "\n",
    "sliders = [\n",
    "    {\n",
    "        \"pad\": {\"b\": 10, \"t\": 60},\n",
    "        \"len\": 0.9,\n",
    "        \"x\": 0.1,\n",
    "        \"y\": 0,\n",
    "        \"currentvalue\":{\"prefix\": \"Time stamp : \"},\n",
    "        \"steps\": [\n",
    "            {\n",
    "                \"args\": [[f.name], frame_args(0)],\n",
    "                \"label\": f.name,\n",
    "                \"method\": \"animate\",\n",
    "            }\n",
    "            for k, f in enumerate(fig.frames)\n",
    "        ],\n",
    "    }\n",
    "]\n",
    "\n",
    "\n",
    "fig.update_layout(\n",
    "    title=\"EEG Interpolated 3D Graph\",\n",
    "    width=1000,\n",
    "    height=600,\n",
    "    scene=dict(\n",
    "        zaxis=dict(\n",
    "            range=[\n",
    "                np.nan_to_num(np.array(standard_coord)[:, 2].tolist()).min(),\n",
    "                np.nan_to_num(np.array(standard_coord)[:, 2].tolist()).max(),\n",
    "            ],\n",
    "            autorange=False,\n",
    "        ),\n",
    "        aspectratio=dict(x=1.5, y=1.5, z=1),\n",
    "    ),\n",
    "    updatemenus=[\n",
    "        {\n",
    "            \"buttons\": [\n",
    "                {\n",
    "                    \"args\": [None, frame_args(0)],\n",
    "                    \"label\": \"&#9654;\",  # play symbol\n",
    "                    \"method\": \"animate\",\n",
    "                },\n",
    "                {\n",
    "                    \"args\": [[None], frame_args(0)],\n",
    "                    \"label\": \"&#9724;\",  # pause symbol\n",
    "                    \"method\": \"animate\",\n",
    "                },\n",
    "            ],\n",
    "            \"direction\": \"left\",\n",
    "            \"pad\": {\"r\": 1, \"t\": 1},\n",
    "            \"type\": \"buttons\",\n",
    "            \"x\": 0.1,\n",
    "            \"y\": 0,\n",
    "        }\n",
    "    ],\n",
    "    sliders=sliders,\n",
    ")"
   ]
  },
  {
   "cell_type": "code",
   "execution_count": null,
   "id": "f19723b2",
   "metadata": {},
   "outputs": [],
   "source": []
  },
  {
   "cell_type": "code",
   "execution_count": null,
   "id": "fba07039",
   "metadata": {},
   "outputs": [],
   "source": []
  },
  {
   "cell_type": "code",
   "execution_count": null,
   "id": "59d1b0ec",
   "metadata": {},
   "outputs": [],
   "source": []
  },
  {
   "cell_type": "markdown",
   "id": "1e236f4b",
   "metadata": {},
   "source": [
    "## Animated - normalized color"
   ]
  },
  {
   "cell_type": "code",
   "execution_count": null,
   "id": "38e017e6",
   "metadata": {},
   "outputs": [],
   "source": [
    "nb_frames = df[df[\"time\"] > 1557250].head(15)"
   ]
  },
  {
   "cell_type": "code",
   "execution_count": null,
   "id": "89e614a9",
   "metadata": {},
   "outputs": [],
   "source": [
    "def interpolated_time(x, y, z, k):\n",
    "    now = df[df[\"time\"] == k]\n",
    "    eeg = now.iloc[:, 1:].mean().values\n",
    "    interpolate_model = NearestNDInterpolator(node_coord, eeg)\n",
    "    interpolated_eeg = interpolate_model(np.array(list(zip(x, y, z))))\n",
    "    return interpolated_eeg"
   ]
  },
  {
   "cell_type": "code",
   "execution_count": null,
   "id": "0c18a6da",
   "metadata": {},
   "outputs": [],
   "source": [
    "fig = go.Figure(\n",
    "    frames=[\n",
    "        go.Frame(\n",
    "            data=go.Mesh3d(\n",
    "                x=np.array(standard_coord)[:, 0],\n",
    "                y=np.array(standard_coord)[:, 1],\n",
    "                z=np.array(standard_coord)[:, 2],\n",
    "                colorscale=\"Bluered\",\n",
    "                colorbar_title=\"EEG Voltage\",\n",
    "                cmin=-50,\n",
    "                cmax=50,\n",
    "                intensity=interpolated_time(x, y, z, k),\n",
    "                intensitymode=\"vertex\",\n",
    "                alphahull=1,\n",
    "                opacity=1,\n",
    "            ),\n",
    "            name=str(\n",
    "                k\n",
    "            ),  # you need to name the frame for the animation to behave properly\n",
    "        )\n",
    "        for k in nb_frames\n",
    "    ]\n",
    ")\n",
    "\n",
    "# Add data to be displayed before animation starts\n",
    "fig.add_trace(\n",
    "    go.Mesh3d(\n",
    "        x=np.array(standard_coord)[:, 0],\n",
    "        y=np.array(standard_coord)[:, 1],\n",
    "        z=np.array(standard_coord)[:, 2],\n",
    "        colorscale=\"Bluered\",\n",
    "        colorbar_title=\"EEG Voltage\",\n",
    "        cmin=-50,\n",
    "        cmax=50,\n",
    "        intensity=interpolated_time(x, y, z, 0),\n",
    "        intensitymode=\"vertex\",\n",
    "        alphahull=1,\n",
    "        opacity=1,\n",
    "    )\n",
    ")\n",
    "fig.add_scatter3d(\n",
    "    connectgaps=True,\n",
    "    x=node_df[\"X\"],\n",
    "    y=node_df[\"Y\"],\n",
    "    z=node_df[\"Z\"],\n",
    "    text=node_df[\"channel\"],\n",
    "    mode=\"markers+text\",\n",
    "    marker={\"size\": 5, \"color\": \"black\"},\n",
    "    textposition=\"top left\",\n",
    "    textfont=dict(family=\"sans serif\", size=18, color=\"White\"),\n",
    ")\n",
    "\n",
    "\n",
    "def frame_args(duration):\n",
    "    return {\n",
    "        \"frame\": {\"duration\": duration},\n",
    "        \"mode\": \"immediate\",\n",
    "        \"fromcurrent\": True,\n",
    "        \"transition\": {\"duration\": duration, \"easing\": \"linear\", \"redraw\": False},\n",
    "    }\n",
    "\n",
    "\n",
    "sliders = [\n",
    "    {\n",
    "        \"pad\": {\"b\": 10, \"t\": 60},\n",
    "        \"len\": 0.9,\n",
    "        \"x\": 0.1,\n",
    "        \"y\": 0,\n",
    "        \"steps\": [\n",
    "            {\n",
    "                \"args\": [[f.name], frame_args(0)],\n",
    "                \"label\": str(k),\n",
    "                \"method\": \"animate\",\n",
    "            }\n",
    "            for k, f in enumerate(fig.frames)\n",
    "        ],\n",
    "    }\n",
    "]\n",
    "\n",
    "\n",
    "fig.update_layout(\n",
    "    title=\"EEG Interpolated 3D Graph\",\n",
    "    width=1000,\n",
    "    height=600,\n",
    "    scene=dict(\n",
    "        zaxis=dict(\n",
    "            range=[\n",
    "                np.nan_to_num(np.array(standard_coord)[:, 2].tolist()).min(),\n",
    "                np.nan_to_num(np.array(standard_coord)[:, 2].tolist()).max(),\n",
    "            ],\n",
    "            autorange=False,\n",
    "        ),\n",
    "        aspectratio=dict(x=1.5, y=1.5, z=1),\n",
    "    ),\n",
    "    updatemenus=[\n",
    "        {\n",
    "            \"buttons\": [\n",
    "                {\n",
    "                    \"args\": [None, frame_args(0)],\n",
    "                    \"label\": \"&#9654;\",  # play symbol\n",
    "                    \"method\": \"animate\",\n",
    "                },\n",
    "                {\n",
    "                    \"args\": [[None], frame_args(0)],\n",
    "                    \"label\": \"&#9724;\",  # pause symbol\n",
    "                    \"method\": \"animate\",\n",
    "                },\n",
    "            ],\n",
    "            \"direction\": \"left\",\n",
    "            \"pad\": {\"r\": 1, \"t\": 1},\n",
    "            \"type\": \"buttons\",\n",
    "            \"x\": 0.1,\n",
    "            \"y\": 0,\n",
    "        }\n",
    "    ],\n",
    "    sliders=sliders,\n",
    ")"
   ]
  },
  {
   "cell_type": "code",
   "execution_count": null,
   "id": "80afb937",
   "metadata": {},
   "outputs": [],
   "source": []
  },
  {
   "cell_type": "markdown",
   "id": "ac88c2a1",
   "metadata": {},
   "source": [
    "### 3D animated scatter plot using plotly"
   ]
  },
  {
   "cell_type": "code",
   "execution_count": null,
   "id": "94b80ec1",
   "metadata": {},
   "outputs": [],
   "source": [
    "plot_df = raw.to_data_frame()\n",
    "col_names = plot_df.columns.tolist()[1:]\n",
    "df = plot_df.melt(\n",
    "    id_vars=\"time\", value_vars=col_names, var_name=\"channels\", value_name=\"signal\"\n",
    ")\n",
    "channel_dict = ten_five_montage.get_positions()[\"ch_pos\"]\n",
    "plot_df3 = df[df[\"time\"] <= 50]"
   ]
  },
  {
   "cell_type": "code",
   "execution_count": null,
   "id": "269fc5bc",
   "metadata": {},
   "outputs": [],
   "source": [
    "plot_df4 = plot_df3.copy()\n",
    "loca_listx = []\n",
    "loca_listy = []\n",
    "loca_listz = []\n",
    "for index, row in plot_df4.iterrows():\n",
    "    loca_listx.append(channel_dict[row[\"channels\"]][0])\n",
    "    loca_listy.append(channel_dict[row[\"channels\"]][1])\n",
    "    loca_listz.append(channel_dict[row[\"channels\"]][2])\n",
    "plot_df4[\"chan_locax\"] = loca_listx\n",
    "plot_df4[\"chan_locay\"] = loca_listy\n",
    "plot_df4[\"chan_locaz\"] = loca_listz"
   ]
  },
  {
   "cell_type": "code",
   "execution_count": null,
   "id": "4c780fc9",
   "metadata": {},
   "outputs": [],
   "source": [
    "fig_scatter = px.scatter_3d(\n",
    "    plot_df4,\n",
    "    x=\"chan_locax\",\n",
    "    y=\"chan_locay\",\n",
    "    z=\"chan_locaz\",\n",
    "    color=\"signal\",\n",
    "    animation_frame=\"time\",\n",
    "    hover_name=\"channels\",\n",
    "    text=\"channels\",\n",
    "    color_continuous_scale=\"RdYlGn_r\",\n",
    ")\n",
    "\n",
    "fig_scatter.add_mesh3d(\n",
    "    x=np.array(standard_coord)[:, 0],\n",
    "    y=np.array(standard_coord)[:, 1],\n",
    "    z=np.array(standard_coord)[:, 2],\n",
    "    alphahull=1,\n",
    "    opacity=0.4,\n",
    "    color=\"cyan\",\n",
    ")\n",
    "\n",
    "fig_scatter.show()"
   ]
  },
  {
   "cell_type": "code",
   "execution_count": null,
   "id": "82d508d7",
   "metadata": {},
   "outputs": [],
   "source": [
    "import scipy.ndimage\n",
    "\n",
    "sigma = [6, 6]\n",
    "zSmooth = scipy.ndimage.filters.gaussian_filter(Z, sigma)"
   ]
  },
  {
   "cell_type": "code",
   "execution_count": null,
   "id": "ec7893f2",
   "metadata": {},
   "outputs": [],
   "source": []
  },
  {
   "cell_type": "code",
   "execution_count": null,
   "id": "8f88cd49",
   "metadata": {},
   "outputs": [],
   "source": []
  },
  {
   "cell_type": "code",
   "execution_count": null,
   "id": "4bf8b2bd",
   "metadata": {},
   "outputs": [],
   "source": []
  },
  {
   "cell_type": "markdown",
   "id": "3ed3b9a7",
   "metadata": {},
   "source": [
    "### Script"
   ]
  },
  {
   "cell_type": "code",
   "execution_count": 19,
   "id": "325b27f7",
   "metadata": {},
   "outputs": [],
   "source": [
    "\"\"\"Module for generating and animating the topographic map in a 3D head shape\n",
    "\"\"\"\n",
    "\n",
    "# import libraries\n",
    "import mne\n",
    "import numpy as np\n",
    "import pandas as pd\n",
    "import plotly.graph_objects as go\n",
    "from scipy.interpolate import NearestNDInterpolator\n",
    "\n",
    "\n",
    "def frame_args(duration):\n",
    "    \"\"\"Return the frame arguments of the animated plot\n",
    "\n",
    "    Args:\n",
    "        duration (int): The number of time stamps for the animated plot\n",
    "\n",
    "    Returns:\n",
    "        dict: A dictionary of frame arguments\n",
    "    \"\"\"\n",
    "    return {\n",
    "        \"frame\": {\"duration\": duration},\n",
    "        \"mode\": \"immediate\",\n",
    "        \"fromcurrent\": True,\n",
    "        \"transition\": {\"duration\": duration, \"easing\": \"linear\", \"redraw\": False},\n",
    "    }\n",
    "\n",
    "\n",
    "def get_standard_coord():\n",
    "    \"\"\"Generate an array of cartesian coordinates of the standard node locations (\"standard_1005\")\n",
    "\n",
    "    Returns:\n",
    "        array: A numpy array of cartesian coordinates of the standard node locations (\"standard_1005\")\n",
    "    \"\"\"\n",
    "    # get the dictionary of standard montage \"standard_1005\"\n",
    "    montage = mne.channels.make_standard_montage(\"standard_1005\")\n",
    "    standard_coord_list = []\n",
    "    # get the cartesian coordinates from the standard montage dictionary\n",
    "    for key, value in montage.get_positions()[\"ch_pos\"].items():\n",
    "        standard_coord_list.append(value.tolist())\n",
    "    # save the cartesian coordinates in a numpy array\n",
    "    standard_coord_array = np.array(standard_coord_list)\n",
    "    return montage, standard_coord_array\n",
    "\n",
    "\n",
    "def interpolated_time(df, channel_names, node_coord, x, y, z, t):\n",
    "    \"\"\"The function to animate the 3D plot\n",
    "\n",
    "    Args:\n",
    "        df (dataframe): A dataframe that contains the EEG signal of each electrodes for each time stamps\n",
    "        channel_names (list): A list of channel names\n",
    "        node_coord (array): A numpy array of (x, y, z) coordinates of all nodes\n",
    "        x (array): A numpy array of X coordinates of all nodes for interpolation\n",
    "        y (array): A numpy array of Y coordinates of all nodes for interpolation\n",
    "        z (array): A numpy array of Z coordinates of all nodes for interpolation\n",
    "        t (int): The time stampe we want to interpolate EEG voltages for\n",
    "\n",
    "    Returns:\n",
    "        array: A numpy array of interpolated EEG voltages\n",
    "    \"\"\"\n",
    "    # get the EEG data for a specific time stamp\n",
    "    now = df[df[\"time\"] == t]\n",
    "    # slice the dataframe to only include EEG signals of each electrodes\n",
    "    eeg = now.loc[:, channel_names].mean().values\n",
    "    # build the interpolation model using NearestNDInterpolator\n",
    "    interpolate_model = NearestNDInterpolator(node_coord, eeg)\n",
    "    return interpolate_model(np.array(list(zip(x, y, z))))\n",
    "\n",
    "\n",
    "def get_eeg_node(raw, standard_montage_list):\n",
    "    \"\"\"Get the electrode location from the raw data\n",
    "\n",
    "    Args:\n",
    "        raw (dataframe): The raw dataframe\n",
    "        standard_montage_list (array): The numpy array which contains the cartesian coordinate of standard node location\n",
    "\n",
    "    Returns:\n",
    "        array: The electrode location from the raw data\n",
    "    \"\"\"\n",
    "    node_list = []\n",
    "    for channel in raw.get_montage().ch_names:\n",
    "        node_list.append(\n",
    "            standard_montage_list.get_positions()[\"ch_pos\"][channel].tolist()\n",
    "        )\n",
    "    node_coord = np.array(node_list)\n",
    "    return node_coord\n",
    "\n",
    "\n",
    "def get_node_dataframe(raw, montage):\n",
    "    \"\"\"Get the electrode name and electrode location from the raw data and save it in a dataframe\n",
    "\n",
    "    Args:\n",
    "        raw (dataframe): The raw dataframe\n",
    "        montage (array): The numpy array which contains the cartesian coordinate of standard node location\n",
    "\n",
    "    Returns:\n",
    "        dataframe: A dataframe which contains the electrode name and electrode location from the raw data\n",
    "    \"\"\"\n",
    "    node_list_name = []\n",
    "    for channel in raw.get_montage().ch_names:\n",
    "        node_list_name.append(\n",
    "            [\n",
    "                channel,\n",
    "                montage.get_positions()[\"ch_pos\"][channel][0],  # x value\n",
    "                montage.get_positions()[\"ch_pos\"][channel][1],  # y value\n",
    "                montage.get_positions()[\"ch_pos\"][channel][2],  # z value\n",
    "            ]\n",
    "        )\n",
    "    node_df = pd.DataFrame(node_list_name, columns=[\"channel\", \"X\", \"Y\", \"Z\"])\n",
    "    return node_df\n",
    "    \n",
    "\n",
    "def animate_3d_head(epoch, plot_title=\"\", color_title=\"\", color_min = -50, color_max = 50, colormap=\"Bluered\"):\n",
    "    \"\"\"Plot an animated topographic map in a 3D head shape\n",
    "\n",
    "    Args:\n",
    "        epoch (epoch): An epoched file for the EEGLab data\n",
    "        starting (int, optional): The starting time stamp of the animation. Defaults to 0.\n",
    "        color_min (int, optional): The minimum EEG voltage value to be shown on the color bar. Defaults to -50.\n",
    "        color_max (int, optional): The maximum EEG voltage value to be shown on the color bar. Defaults to 50.\n",
    "        colormap (str, optional): The colour scheme to use. Defaults to Bluered.\n",
    "\n",
    "    Returns:\n",
    "        figure: An animated topographic map in a 3D head shape\n",
    "    \"\"\"\n",
    "\n",
    "    # find out the channel names\n",
    "    channel_names = epoch.ch_names\n",
    "\n",
    "    # change the raw epoched data to a dataframe\n",
    "    df = epoch.to_data_frame().groupby(\"time\").mean().reset_index()\n",
    "\n",
    "    # get the standard montage coordinates\n",
    "    standard_montage, standard_coord = get_standard_coord()\n",
    "    x = np.array(standard_coord)[:, 0]\n",
    "    y = np.array(standard_coord)[:, 1]\n",
    "    z = np.array(standard_coord)[:, 2]\n",
    "\n",
    "    # get the coordinated of the electrodes in the raw data\n",
    "    node_coord = get_eeg_node(epoch, standard_montage)\n",
    "    node_df = get_node_dataframe(epoch, standard_montage)\n",
    "\n",
    "    # generate the animated plot\n",
    "    fig = go.Figure(\n",
    "        frames=[\n",
    "            go.Frame(\n",
    "                data=go.Mesh3d(\n",
    "                    x=np.array(standard_coord)[:, 0],\n",
    "                    y=np.array(standard_coord)[:, 1],\n",
    "                    z=np.array(standard_coord)[:, 2],\n",
    "                    colorscale=colormap,\n",
    "                    colorbar_title=color_title,\n",
    "                    cmin=color_min,\n",
    "                    cmax=color_max,\n",
    "                    intensity=interpolated_time(\n",
    "                        df, channel_names, node_coord, x, y, z, k\n",
    "                    ),\n",
    "                    intensitymode=\"vertex\",\n",
    "                    alphahull=1,\n",
    "                    opacity=1,\n",
    "                )\n",
    "                ,\n",
    "                name=str(\n",
    "                    k\n",
    "                ),  # you need to name the frame for the animation to behave properly\n",
    "            )\n",
    "            for k in df[\"time\"]\n",
    "        ]\n",
    "    )\n",
    "\n",
    "    # add data to be displayed before animation starts\n",
    "    fig.add_trace(\n",
    "        go.Mesh3d(\n",
    "            x=np.array(standard_coord)[:, 0],\n",
    "            y=np.array(standard_coord)[:, 1],\n",
    "            z=np.array(standard_coord)[:, 2],\n",
    "            colorscale=colormap,\n",
    "            colorbar_title=color_title,\n",
    "            cmin=color_min,\n",
    "            cmax=color_max,\n",
    "            intensity=interpolated_time(df, channel_names, node_coord, x, y, z, 0),\n",
    "            intensitymode=\"vertex\",\n",
    "            alphahull=1,\n",
    "            opacity=1,\n",
    "        )\n",
    "    )\n",
    "\n",
    "    # add the 3D scatter plot for the electrodes of the raw data\n",
    "    fig.add_scatter3d(\n",
    "        connectgaps=True,\n",
    "        x=node_df[\"X\"],\n",
    "        y=node_df[\"Y\"],\n",
    "        z=node_df[\"Z\"],\n",
    "        text=node_df[\"channel\"],\n",
    "        mode=\"markers+text\",\n",
    "        marker={\"size\": 5, \"color\": \"black\"},\n",
    "        textposition=\"top center\",\n",
    "        textfont=dict(family=\"sans serif\", size=18),\n",
    "    )\n",
    "    \n",
    "\n",
    "    # set up slider for the animated plot\n",
    "    sliders = [\n",
    "        {\n",
    "            \"pad\": {\"b\": 0, \"t\": 0},\n",
    "            \"len\": 0.9,\n",
    "            \"x\": 0.1,\n",
    "            \"y\": 0,\n",
    "            \"currentvalue\":{\"prefix\": \"Time stamp : \", \"visible\": True, \"xanchor\":\"center\"},\n",
    "            \"steps\": [\n",
    "                {\n",
    "                    \"args\": [[f.name], frame_args(0)],\n",
    "                    \"label\": f.name,\n",
    "                    \"method\": \"animate\",\n",
    "                }\n",
    "                for k, f in enumerate(fig.frames)\n",
    "            ],\n",
    "            'transition': {'duration': 0, 'easing': 'linear'},\n",
    "        }\n",
    "    ]\n",
    "\n",
    "    fig.update_layout(\n",
    "        title=plot_title,\n",
    "        width=1000,\n",
    "        height=600,\n",
    "        scene=dict(\n",
    "            aspectratio=dict(x=1.5, y=1.5, z=1),\n",
    "        ),\n",
    "        updatemenus=[\n",
    "            {\n",
    "                \"buttons\": [\n",
    "                    {\n",
    "                        \"args\": [None, frame_args(0)],\n",
    "                        \"label\": \"Play\",  # play symbol\n",
    "                        \"method\": \"animate\",\n",
    "                    },\n",
    "                    {\n",
    "                        \"args\": [[None], frame_args(0)],\n",
    "                        \"label\": \"Pause\",  # pause symbol\n",
    "                        \"method\": \"animate\",\n",
    "                    },\n",
    "                ],\n",
    "                \"direction\": \"left\",\n",
    "                \"pad\": {\"r\": 1, \"t\": 1},\n",
    "                \"type\": \"buttons\",\n",
    "                \"x\": 0.1,\n",
    "                \"y\": 0,\n",
    "            }\n",
    "        ],\n",
    "        sliders=sliders,\n",
    "        transition=dict(duration=0, easing=\"linear\")\n",
    "    )\n",
    "    return fig\n"
   ]
  },
  {
   "cell_type": "code",
   "execution_count": 21,
   "id": "2bbab5ef",
   "metadata": {},
   "outputs": [],
   "source": [
    "from simpl_eeg import eeg_objects"
   ]
  },
  {
   "cell_type": "code",
   "execution_count": 22,
   "id": "1e44e726",
   "metadata": {},
   "outputs": [
    {
     "name": "stdout",
     "output_type": "stream",
     "text": [
      "Reading C:\\Users\\Yiki\\Documents\\UBC\\MDS\\Homework\\capstone\\simpl_eeg_capstone\\data_exploration\\data\\927\\fixica.fdt\n"
     ]
    },
    {
     "name": "stderr",
     "output_type": "stream",
     "text": [
      "c:\\users\\yiki\\documents\\ubc\\mds\\homework\\capstone\\simpl_eeg_capstone\\simpl_eeg\\eeg_objects.py:22: RuntimeWarning:\n",
      "\n",
      "Data file name in EEG.data (927 fix ica correct.fdt) is incorrect, the file name must have changed on disk, using the correct file name (fixica.fdt).\n",
      "\n"
     ]
    },
    {
     "name": "stdout",
     "output_type": "stream",
     "text": [
      "Not setting metadata\n",
      "Not setting metadata\n",
      "33 matching events found\n",
      "Applying baseline correction (mode: mean)\n",
      "0 projection items activated\n",
      "Loading data for 33 events and 4097 original time points ...\n",
      "0 bad epochs dropped\n"
     ]
    }
   ],
   "source": [
    "raw = eeg_objects.Epochs(\"927\")"
   ]
  },
  {
   "cell_type": "code",
   "execution_count": null,
   "id": "21fe1016",
   "metadata": {},
   "outputs": [
    {
     "name": "stdout",
     "output_type": "stream",
     "text": [
      "Reading C:\\Users\\Yiki\\Documents\\UBC\\MDS\\Homework\\capstone\\simpl_eeg_capstone\\data_exploration\\data\\927\\fixica.fdt\n"
     ]
    },
    {
     "name": "stderr",
     "output_type": "stream",
     "text": [
      "c:\\users\\yiki\\documents\\ubc\\mds\\homework\\capstone\\simpl_eeg_capstone\\simpl_eeg\\eeg_objects.py:22: RuntimeWarning: Data file name in EEG.data (927 fix ica correct.fdt) is incorrect, the file name must have changed on disk, using the correct file name (fixica.fdt).\n",
      "  self.raw = mne.io.read_raw_eeglab(\"data/\"+experiment+\"/fixica.set\")\n"
     ]
    },
    {
     "name": "stdout",
     "output_type": "stream",
     "text": [
      "Not setting metadata\n",
      "Not setting metadata\n",
      "33 matching events found\n",
      "Applying baseline correction (mode: mean)\n",
      "0 projection items activated\n",
      "Loading data for 33 events and 4097 original time points ...\n",
      "0 bad epochs dropped\n"
     ]
    }
   ],
   "source": [
    "raw = eeg_objects.Epochs(\"927\")"
   ]
  },
  {
   "cell_type": "code",
   "execution_count": 4,
   "id": "41dbcacd-8277-427b-9616-a13198a527be",
   "metadata": {},
   "outputs": [],
   "source": [
    "epoch = raw.get_nth_epoch(0)"
   ]
  },
  {
   "cell_type": "code",
   "execution_count": 6,
   "id": "3a4ddae3-e613-4301-9c10-147a3def8fd4",
   "metadata": {},
   "outputs": [
    {
     "name": "stderr",
     "output_type": "stream",
     "text": [
      "c:\\users\\yiki\\documents\\ubc\\mds\\homework\\capstone\\simpl_eeg_capstone\\simpl_eeg\\eeg_objects.py:88: RuntimeWarning: tmax is not in epochs time interval. tmax is set to epochs.tmax\n",
      "  return self.epoch.copy().crop(\n"
     ]
    },
    {
     "ename": "ValueError",
     "evalue": "tmin (200) must be less than or equal to tmax (1.7001953125)",
     "output_type": "error",
     "traceback": [
      "\u001b[1;31m---------------------------------------------------------------------------\u001b[0m",
      "\u001b[1;31mValueError\u001b[0m                                Traceback (most recent call last)",
      "\u001b[1;32m<ipython-input-6-891730c169c2>\u001b[0m in \u001b[0;36m<module>\u001b[1;34m\u001b[0m\n\u001b[1;32m----> 1\u001b[1;33m \u001b[0mraw\u001b[0m\u001b[1;33m.\u001b[0m\u001b[0mget_frame\u001b[0m\u001b[1;33m(\u001b[0m\u001b[1;33m-\u001b[0m\u001b[1;36m300\u001b[0m\u001b[1;33m,\u001b[0m \u001b[1;36m10\u001b[0m\u001b[1;33m,\u001b[0m \u001b[1;36m50\u001b[0m\u001b[1;33m)\u001b[0m\u001b[1;33m\u001b[0m\u001b[1;33m\u001b[0m\u001b[0m\n\u001b[0m",
      "\u001b[1;32mc:\\users\\yiki\\documents\\ubc\\mds\\homework\\capstone\\simpl_eeg_capstone\\simpl_eeg\\eeg_objects.py\u001b[0m in \u001b[0;36mget_frame\u001b[1;34m(self, tmin, step_size, frame_number)\u001b[0m\n\u001b[0;32m     86\u001b[0m \u001b[1;33m\u001b[0m\u001b[0m\n\u001b[0;32m     87\u001b[0m     \u001b[1;32mdef\u001b[0m \u001b[0mget_frame\u001b[0m\u001b[1;33m(\u001b[0m\u001b[0mself\u001b[0m\u001b[1;33m,\u001b[0m \u001b[0mtmin\u001b[0m\u001b[1;33m,\u001b[0m \u001b[0mstep_size\u001b[0m\u001b[1;33m,\u001b[0m \u001b[0mframe_number\u001b[0m\u001b[1;33m)\u001b[0m\u001b[1;33m:\u001b[0m\u001b[1;33m\u001b[0m\u001b[1;33m\u001b[0m\u001b[0m\n\u001b[1;32m---> 88\u001b[1;33m         return self.epoch.copy().crop(\n\u001b[0m\u001b[0;32m     89\u001b[0m             \u001b[0mtmin\u001b[0m\u001b[1;33m=\u001b[0m\u001b[0mtmin\u001b[0m\u001b[1;33m+\u001b[0m\u001b[0mstep_size\u001b[0m\u001b[1;33m*\u001b[0m\u001b[0mframe_number\u001b[0m\u001b[1;33m,\u001b[0m\u001b[1;33m\u001b[0m\u001b[1;33m\u001b[0m\u001b[0m\n\u001b[0;32m     90\u001b[0m             \u001b[0mtmax\u001b[0m\u001b[1;33m=\u001b[0m\u001b[0mtmin\u001b[0m\u001b[1;33m+\u001b[0m\u001b[0mstep_size\u001b[0m\u001b[1;33m*\u001b[0m\u001b[1;33m(\u001b[0m\u001b[0mframe_number\u001b[0m\u001b[1;33m+\u001b[0m\u001b[1;36m1\u001b[0m\u001b[1;33m)\u001b[0m\u001b[1;33m,\u001b[0m\u001b[1;33m\u001b[0m\u001b[1;33m\u001b[0m\u001b[0m\n",
      "\u001b[1;32m<decorator-gen-221>\u001b[0m in \u001b[0;36mcrop\u001b[1;34m(self, tmin, tmax, include_tmax, verbose)\u001b[0m\n",
      "\u001b[1;32m~\\miniconda3\\envs\\capstone\\lib\\site-packages\\mne\\epochs.py\u001b[0m in \u001b[0;36mcrop\u001b[1;34m(self, tmin, tmax, include_tmax, verbose)\u001b[0m\n\u001b[0;32m   1639\u001b[0m             \u001b[0mtmax\u001b[0m \u001b[1;33m=\u001b[0m \u001b[0mself\u001b[0m\u001b[1;33m.\u001b[0m\u001b[0mtmax\u001b[0m\u001b[1;33m\u001b[0m\u001b[1;33m\u001b[0m\u001b[0m\n\u001b[0;32m   1640\u001b[0m \u001b[1;33m\u001b[0m\u001b[0m\n\u001b[1;32m-> 1641\u001b[1;33m         tmask = _time_mask(self.times, tmin, tmax, sfreq=self.info['sfreq'],\n\u001b[0m\u001b[0;32m   1642\u001b[0m                            include_tmax=include_tmax)\n\u001b[0;32m   1643\u001b[0m         \u001b[0mself\u001b[0m\u001b[1;33m.\u001b[0m\u001b[0m_set_times\u001b[0m\u001b[1;33m(\u001b[0m\u001b[0mself\u001b[0m\u001b[1;33m.\u001b[0m\u001b[0mtimes\u001b[0m\u001b[1;33m[\u001b[0m\u001b[0mtmask\u001b[0m\u001b[1;33m]\u001b[0m\u001b[1;33m)\u001b[0m\u001b[1;33m\u001b[0m\u001b[1;33m\u001b[0m\u001b[0m\n",
      "\u001b[1;32m~\\miniconda3\\envs\\capstone\\lib\\site-packages\\mne\\utils\\numerics.py\u001b[0m in \u001b[0;36m_time_mask\u001b[1;34m(times, tmin, tmax, sfreq, raise_error, include_tmax)\u001b[0m\n\u001b[0;32m    485\u001b[0m         \u001b[1;32massert\u001b[0m \u001b[0minclude_tmax\u001b[0m  \u001b[1;31m# can only be used when sfreq is known\u001b[0m\u001b[1;33m\u001b[0m\u001b[1;33m\u001b[0m\u001b[0m\n\u001b[0;32m    486\u001b[0m     \u001b[1;32mif\u001b[0m \u001b[0mraise_error\u001b[0m \u001b[1;32mand\u001b[0m \u001b[0mtmin\u001b[0m \u001b[1;33m>\u001b[0m \u001b[0mtmax\u001b[0m\u001b[1;33m:\u001b[0m\u001b[1;33m\u001b[0m\u001b[1;33m\u001b[0m\u001b[0m\n\u001b[1;32m--> 487\u001b[1;33m         raise ValueError('tmin (%s) must be less than or equal to tmax (%s)'\n\u001b[0m\u001b[0;32m    488\u001b[0m                          % (orig_tmin, orig_tmax))\n\u001b[0;32m    489\u001b[0m     \u001b[0mmask\u001b[0m \u001b[1;33m=\u001b[0m \u001b[1;33m(\u001b[0m\u001b[0mtimes\u001b[0m \u001b[1;33m>=\u001b[0m \u001b[0mtmin\u001b[0m\u001b[1;33m)\u001b[0m\u001b[1;33m\u001b[0m\u001b[1;33m\u001b[0m\u001b[0m\n",
      "\u001b[1;31mValueError\u001b[0m: tmin (200) must be less than or equal to tmax (1.7001953125)"
     ]
    }
   ],
   "source": [
    "raw.get_frame(-300, 10, 50)"
   ]
  },
  {
   "cell_type": "code",
   "execution_count": 27,
   "id": "689daa02",
   "metadata": {},
   "outputs": [],
   "source": [
    "def topo_3d_map(epoch, time_stamp, plot_title=\"\", color_title=\"EEG MicroVolt\", color_min = -50, color_max = 50, colormap=\"Bluered\"):\n",
    "    # find out the channel names\n",
    "    channel_names = epoch.ch_names\n",
    "\n",
    "    # change the raw epoched data to a dataframe\n",
    "    df = epoch.to_data_frame().groupby(\"time\").mean().reset_index()\n",
    "    df = df[df[\"time\"] == time_stamp]\n",
    "\n",
    "    # get the standard montage coordinates\n",
    "    standard_montage, standard_coord = get_standard_coord()\n",
    "    x = np.array(standard_coord)[:, 0]\n",
    "    y = np.array(standard_coord)[:, 1]\n",
    "    z = np.array(standard_coord)[:, 2]\n",
    "\n",
    "    # get the coordinated of the electrodes in the raw data\n",
    "    node_coord = get_eeg_node(epoch, standard_montage)\n",
    "    node_df = get_node_dataframe(epoch, standard_montage)\n",
    "    \n",
    "    fig = go.Figure(\n",
    "                data=go.Mesh3d(\n",
    "                    x=np.array(standard_coord)[:, 0],\n",
    "                    y=np.array(standard_coord)[:, 1],\n",
    "                    z=np.array(standard_coord)[:, 2],\n",
    "                    colorscale=colormap,\n",
    "                    colorbar_title=color_title,\n",
    "                    cmin=color_min,\n",
    "                    cmax=color_max,\n",
    "                    intensity=interpolated_time(\n",
    "                        df, channel_names, node_coord, x, y, z, time_stamp\n",
    "                    ),\n",
    "                    intensitymode=\"vertex\",\n",
    "                    alphahull=1,\n",
    "                    opacity=1,\n",
    "                )\n",
    "    )\n",
    "    \n",
    "    fig.add_scatter3d(\n",
    "        connectgaps=True,\n",
    "        x=node_df[\"X\"],\n",
    "        y=node_df[\"Y\"],\n",
    "        z=node_df[\"Z\"],\n",
    "        text=node_df[\"channel\"],\n",
    "        mode=\"markers+text\",\n",
    "        marker={\"size\": 5, \"color\": \"black\"},\n",
    "        textposition=\"top center\",\n",
    "        textfont=dict(family=\"sans serif\", size=18),\n",
    "    )\n",
    "    \n",
    "    fig.update_layout(\n",
    "        title=plot_title,\n",
    "        width=1000,\n",
    "        height=600,\n",
    "        scene=dict(\n",
    "            aspectratio=dict(x=1.5, y=1.5, z=1),\n",
    "        ),)\n",
    "    \n",
    "    return fig"
   ]
  },
  {
   "cell_type": "code",
   "execution_count": 28,
   "id": "88f01d91",
   "metadata": {},
   "outputs": [
    {
     "data": {
      "application/vnd.plotly.v1+json": {
       "config": {
        "plotlyServerURL": "https://plot.ly"
       },
       "data": [
        {
         "alphahull": 1,
         "cmax": 50,
         "cmin": -50,
         "colorbar": {
          "title": {
           "text": "EEG MicroVolt"
          }
         },
         "colorscale": [
          [
           0,
           "rgb(0,0,255)"
          ],
          [
           1,
           "rgb(255,0,0)"
          ]
         ],
         "intensity": [
          14.125364303588867,
          14.125364303588867,
          13.747786045074461,
          34.1719365119934,
          14.125364303588867,
          14.125364303588867,
          14.125364303588867,
          14.125364303588867,
          19.81519603729248,
          13.747786045074461,
          13.747786045074461,
          13.747786045074461,
          13.747786045074461,
          17.633610606193542,
          34.1719365119934,
          34.1719365119934,
          21.69820404052734,
          21.69820404052734,
          19.81519603729248,
          19.81519603729248,
          14.722037792205809,
          14.722037792205809,
          17.633610606193542,
          17.633610606193542,
          17.633610606193542,
          34.1719365119934,
          34.1719365119934,
          34.1719365119934,
          21.69820404052734,
          19.81519603729248,
          19.81519603729248,
          19.81519603729248,
          14.722037792205809,
          17.633610606193542,
          17.633610606193542,
          17.633610606193542,
          18.44011640548706,
          18.44011640548706,
          33.08040142059326,
          33.08040142059326,
          30.920199394226074,
          30.920199394226074,
          40.041176319122314,
          40.041176319122314,
          40.041176319122314,
          23.371044158935547,
          23.371044158935547,
          18.44011640548706,
          18.44011640548706,
          36.24429702758789,
          45.933552742004395,
          30.993893623352054,
          30.993893623352054,
          41.518795013427734,
          41.518795013427734,
          18.526440620422363,
          18.526440620422363,
          23.371044158935547,
          36.24429702758789,
          36.24429702758789,
          45.933552742004395,
          45.933552742004395,
          30.993893623352054,
          30.993893623352054,
          41.518795013427734,
          41.518795013427734,
          41.518795013427734,
          18.526440620422363,
          18.526440620422363,
          36.24429702758789,
          13.358681201934814,
          13.358681201934814,
          13.358681201934814,
          13.358681201934814,
          30.993893623352054,
          2.557616710662841,
          2.557616710662841,
          2.557616710662841,
          2.557616710662841,
          18.526440620422363,
          13.358681201934814,
          13.358681201934814,
          2.557616710662841,
          13.358681201934814,
          13.358681201934814,
          2.557616710662841,
          14.125364303588867,
          14.125364303588867,
          14.125364303588867,
          14.125364303588867,
          14.125364303588867,
          13.747786045074461,
          13.747786045074461,
          13.747786045074461,
          13.747786045074461,
          13.747786045074461,
          34.1719365119934,
          34.1719365119934,
          21.69820404052734,
          21.69820404052734,
          19.81519603729248,
          19.81519603729248,
          14.722037792205809,
          14.722037792205809,
          17.633610606193542,
          17.633610606193542,
          34.1719365119934,
          34.1719365119934,
          21.69820404052734,
          21.69820404052734,
          19.81519603729248,
          19.81519603729248,
          14.722037792205809,
          14.722037792205809,
          17.633610606193542,
          17.633610606193542,
          18.44011640548706,
          18.44011640548706,
          33.08040142059326,
          33.08040142059326,
          30.920199394226074,
          30.920199394226074,
          40.041176319122314,
          40.041176319122314,
          23.371044158935547,
          23.371044158935547,
          18.44011640548706,
          18.44011640548706,
          33.08040142059326,
          33.08040142059326,
          30.920199394226074,
          30.920199394226074,
          40.041176319122314,
          40.041176319122314,
          23.371044158935547,
          23.371044158935547,
          36.24429702758789,
          36.24429702758789,
          45.933552742004395,
          45.933552742004395,
          30.993893623352054,
          30.993893623352054,
          41.518795013427734,
          41.518795013427734,
          18.526440620422363,
          18.526440620422363,
          36.24429702758789,
          36.24429702758789,
          45.933552742004395,
          45.933552742004395,
          30.993893623352054,
          30.993893623352054,
          41.518795013427734,
          41.518795013427734,
          18.526440620422363,
          18.526440620422363,
          13.358681201934814,
          13.358681201934814,
          13.358681201934814,
          13.358681201934814,
          13.358681201934814,
          2.557616710662841,
          2.557616710662841,
          2.557616710662841,
          2.557616710662841,
          2.557616710662841,
          13.358681201934814,
          2.557616710662841,
          14.125364303588867,
          13.747786045074461,
          34.1719365119934,
          14.125364303588867,
          14.125364303588867,
          14.125364303588867,
          19.81519603729248,
          19.81519603729248,
          13.747786045074461,
          13.747786045074461,
          13.747786045074461,
          17.633610606193542,
          34.1719365119934,
          34.1719365119934,
          21.69820404052734,
          21.69820404052734,
          19.81519603729248,
          19.81519603729248,
          14.722037792205809,
          14.722037792205809,
          17.633610606193542,
          17.633610606193542,
          18.44011640548706,
          34.1719365119934,
          21.69820404052734,
          21.69820404052734,
          19.81519603729248,
          19.81519603729248,
          14.722037792205809,
          14.722037792205809,
          17.633610606193542,
          23.371044158935547,
          18.44011640548706,
          18.44011640548706,
          33.08040142059326,
          33.08040142059326,
          30.920199394226074,
          30.920199394226074,
          40.041176319122314,
          40.041176319122314,
          23.371044158935547,
          23.371044158935547,
          18.44011640548706,
          36.24429702758789,
          45.933552742004395,
          45.933552742004395,
          30.993893623352054,
          30.993893623352054,
          41.518795013427734,
          41.518795013427734,
          18.526440620422363,
          23.371044158935547,
          36.24429702758789,
          36.24429702758789,
          45.933552742004395,
          45.933552742004395,
          30.993893623352054,
          30.993893623352054,
          41.518795013427734,
          41.518795013427734,
          18.526440620422363,
          18.526440620422363,
          36.24429702758789,
          13.358681201934814,
          13.358681201934814,
          13.358681201934814,
          30.993893623352054,
          30.993893623352054,
          2.557616710662841,
          2.557616710662841,
          2.557616710662841,
          18.526440620422363,
          13.358681201934814,
          2.557616710662841,
          13.358681201934814,
          2.557616710662841,
          14.125364303588867,
          14.125364303588867,
          14.125364303588867,
          14.125364303588867,
          14.125364303588867,
          14.125364303588867,
          13.747786045074461,
          13.747786045074461,
          13.747786045074461,
          13.747786045074461,
          13.747786045074461,
          34.1719365119934,
          34.1719365119934,
          21.69820404052734,
          21.69820404052734,
          21.69820404052734,
          19.81519603729248,
          14.722037792205809,
          14.722037792205809,
          14.722037792205809,
          17.633610606193542,
          17.633610606193542,
          34.1719365119934,
          34.1719365119934,
          34.1719365119934,
          21.69820404052734,
          19.81519603729248,
          19.81519603729248,
          19.81519603729248,
          14.722037792205809,
          17.633610606193542,
          17.633610606193542,
          17.633610606193542,
          18.44011640548706,
          18.44011640548706,
          18.44011640548706,
          33.08040142059326,
          33.08040142059326,
          30.920199394226074,
          40.041176319122314,
          40.041176319122314,
          23.371044158935547,
          23.371044158935547,
          23.371044158935547,
          18.44011640548706,
          18.44011640548706,
          33.08040142059326,
          33.08040142059326,
          30.920199394226074,
          30.920199394226074,
          40.041176319122314,
          40.041176319122314,
          40.041176319122314,
          23.371044158935547,
          23.371044158935547,
          36.24429702758789,
          36.24429702758789,
          36.24429702758789,
          45.933552742004395,
          30.993893623352054,
          30.993893623352054,
          41.518795013427734,
          41.518795013427734,
          18.526440620422363,
          18.526440620422363,
          18.526440620422363,
          36.24429702758789,
          36.24429702758789,
          45.933552742004395,
          45.933552742004395,
          45.933552742004395,
          30.993893623352054,
          41.518795013427734,
          41.518795013427734,
          41.518795013427734,
          18.526440620422363,
          18.526440620422363,
          13.358681201934814,
          13.358681201934814,
          13.358681201934814,
          13.358681201934814,
          13.358681201934814,
          13.358681201934814,
          2.557616710662841,
          2.557616710662841,
          2.557616710662841,
          2.557616710662841,
          2.557616710662841,
          13.358681201934814,
          13.358681201934814,
          2.557616710662841,
          18.44011640548706,
          36.24429702758789,
          23.371044158935547,
          18.526440620422363,
          18.44011640548706,
          23.371044158935547,
          18.44011640548706,
          23.371044158935547
         ],
         "intensitymode": "vertex",
         "opacity": 1,
         "type": "mesh3d",
         "x": [
          -0.02882712843176081,
          0.0001099745053924774,
          0.029253708080460395,
          -0.04795671868810269,
          -0.053704086227710085,
          -0.044489926644114185,
          -0.033002830043457373,
          -0.01808919030505988,
          0.00022651026800783635,
          0.01940986366189243,
          0.03497277407771835,
          0.045619638036997194,
          0.05458897458988856,
          0.04939079407275758,
          -0.06865023846458514,
          -0.06880790449635886,
          -0.06313085013116981,
          -0.04920335756045019,
          -0.02692642035058308,
          0.00030573500074382407,
          0.02890302357127922,
          0.050762782336825796,
          0.06650784108749588,
          0.07153053245621786,
          0.0706207700741198,
          -0.08233486658884587,
          -0.07910232122063546,
          -0.07561594333419058,
          -0.058935660606229165,
          -0.033356550358219286,
          0.00036831176739190335,
          0.03406379512931855,
          0.06100314213592283,
          0.07788711762543042,
          0.0801208829575786,
          0.0823712962558147,
          -0.0841154155265538,
          -0.08241830227770998,
          -0.07861766954905276,
          -0.06400467249236043,
          -0.035409244576858394,
          0.00039259821203779327,
          0.03689189285080506,
          0.06572803077009581,
          0.08172770547269861,
          0.08331807588015527,
          0.08378813609910798,
          -0.08384620812199112,
          -0.08307354663708759,
          -0.07794401449776617,
          -0.06224008601625442,
          -0.03477769908685298,
          0.00037781090098323937,
          0.037588952983827015,
          0.06523241102673755,
          0.0815963823990287,
          0.08377726595654471,
          0.08437757202783223,
          -0.0714974323824666,
          -0.07093433941184617,
          -0.06587923347385893,
          -0.05190963134185812,
          -0.028027634342692082,
          0.00031797615227905084,
          0.03125871077271826,
          0.05451396081328069,
          0.0664818898462412,
          0.07154287153696537,
          0.0723644976280098,
          -0.05377332218079333,
          -0.053704771732196066,
          -0.04742163347219486,
          -0.03575532641306233,
          -0.018579521870954928,
          0.00021113538167959154,
          0.01946597710052991,
          0.036019931144647785,
          0.04878794184195073,
          0.05451386288406841,
          0.05384892353267489,
          -0.02880431092529915,
          0.00010537183241523213,
          0.0292246231044127,
          -0.0292009242350405,
          4.406814552681641e-06,
          0.029125714600008065,
          -0.042393262209160544,
          -0.03775337613124818,
          -0.027406175561551692,
          -0.016838634264221115,
          -0.005808867084920376,
          0.006958164320259748,
          0.018531438627724557,
          0.02805113735363972,
          0.03850606005684621,
          0.04291483319377348,
          -0.06194394807831422,
          -0.060080355168591296,
          -0.049747843980737075,
          -0.033605094698990534,
          -0.011198890928911432,
          0.013200172311102588,
          0.035434020667565694,
          0.051312165217726774,
          0.061612359765527994,
          0.06300197528780693,
          -0.07742959234564979,
          -0.07295716522073933,
          -0.0638869615791977,
          -0.04349016731592914,
          -0.015104405843922466,
          0.017227902883041324,
          0.04490367756600485,
          0.06573801954974855,
          0.07643678599153676,
          0.07843845909057703,
          -0.08238294983207624,
          -0.08064960277468813,
          -0.07314528723753269,
          -0.04999374423277671,
          -0.01784172318562374,
          0.01839796111138444,
          0.050810669721631604,
          0.0754074520412426,
          0.08215085759896834,
          0.0823809912478306,
          -0.08517207172707458,
          -0.08379322841814664,
          -0.0748248711573781,
          -0.05183207140573093,
          -0.01797402555141647,
          0.019801188794170557,
          0.05397260812778682,
          0.07736985552615788,
          0.08421902463314797,
          0.08678966645554559,
          -0.07654166817789058,
          -0.07509231583611972,
          -0.06670467880418234,
          -0.045942706508314904,
          -0.015492597241407577,
          0.019017657166703762,
          0.04962445317326199,
          0.06962355690545409,
          0.07689382162525599,
          0.07726879257908305,
          -0.0632596270453204,
          -0.06165554654814428,
          -0.05289186134104472,
          -0.0351442481284238,
          -0.011797923920439289,
          0.013634292509147869,
          0.03701587123355384,
          0.0534778697473391,
          0.061804790667661764,
          0.06366740428526187,
          -0.04197481068508035,
          -0.039289591684313,
          -0.0312897543330116,
          -0.019451091860263073,
          -0.0067761139146278555,
          0.006662711886805514,
          0.019873362623622257,
          0.03150931162694743,
          0.04024655594673089,
          0.04298563601425323,
          -0.014542879740698544,
          0.014782022877090734,
          -0.014504001843422664,
          0.014848320953805522,
          -0.05369439123569419,
          -0.050115959889704416,
          -0.03881982525299714,
          -0.026655058503350173,
          -0.009007235158044429,
          0.010265233819016615,
          0.027988462657779357,
          0.0400925132958116,
          0.05095188364574198,
          0.054599648874027275,
          -0.07002712318926746,
          -0.06713615491349602,
          -0.057276641820962954,
          -0.03915190321184477,
          -0.013106649913373456,
          0.01550630733112703,
          0.040928730839486005,
          0.05880864641789965,
          0.07046907772429527,
          0.07129060588612743,
          -0.08123805941128955,
          -0.07845491119824038,
          -0.06973529413666765,
          -0.047507321532941446,
          -0.016984744648945584,
          0.01803670024727683,
          0.048522064030605605,
          0.07170288786983385,
          0.07989074930871634,
          0.08164466150068364,
          -0.08336919492896638,
          -0.08122846234848592,
          -0.0737349190246815,
          -0.05051296491629489,
          -0.017900480712992828,
          0.01927051039281541,
          0.05269169403114069,
          0.07650709916595509,
          0.08337389553115591,
          0.0843169538454298,
          -0.08305396079463122,
          -0.08099157158397621,
          -0.07178328775311722,
          -0.049992079436167916,
          -0.016994831357810606,
          0.020251565241454623,
          0.052878640897386676,
          0.07496461614330424,
          0.08343549300568118,
          0.08367346099152599,
          -0.07068266133628191,
          -0.06866140239478527,
          -0.06045003794495514,
          -0.04081033442183729,
          -0.013672191114300932,
          0.01693950135287138,
          0.043821070124229394,
          0.062309126110913104,
          0.0706105854360425,
          0.07176419155672227,
          -0.05364111774421288,
          -0.050853073070549634,
          -0.04244487090403306,
          -0.027427426200616844,
          -0.009306604759989935,
          0.010023642452317379,
          0.02805436901764502,
          0.043304885246291946,
          0.051744424760738705,
          0.05470286626377231,
          -0.014498811595171726,
          0.014831966775354458,
          -0.014844501714526531,
          0.01481531880926655,
          -0.03537663414916855,
          -0.04261066506042617,
          -0.03259544452036503,
          -0.021888843741594277,
          -0.011988200379902855,
          0.00016677344851592966,
          0.013340211084665581,
          0.023602213239676897,
          0.033211027548768514,
          0.04303822400124857,
          0.03693135832335463,
          -0.058110998709604005,
          -0.061951782415296766,
          -0.05466389043728415,
          -0.042483357084459814,
          -0.02309337305266059,
          0.00027057841353465275,
          0.02502904186262293,
          0.04421719378790933,
          0.05679913898187683,
          0.06333395531744229,
          0.05934627779332682,
          -0.07685866503804682,
          -0.07502836806049971,
          -0.07002516460502181,
          -0.05478150342123461,
          -0.030020004166565594,
          0.00034392739353373165,
          0.031969089278610544,
          0.05631341008895903,
          0.07271253804845937,
          0.07739747156402135,
          0.07826512438483824,
          -0.08555291843363856,
          -0.0809561212091302,
          -0.07847361567778621,
          -0.06283236189213484,
          -0.03500871409862578,
          0.00038300114923417553,
          0.0353230668700504,
          0.06381459189132144,
          0.0798553968630826,
          0.08144576727053927,
          0.08362469224380964,
          -0.08483813311319359,
          -0.08415360791934372,
          -0.07985451550017207,
          -0.06475872742693041,
          -0.03616535602488628,
          0.00038770175142370256,
          0.03774182048419893,
          0.06742808189530809,
          0.0828019889314301,
          0.08421902463314797,
          0.0849652452307354,
          -0.07904375955169093,
          -0.07697157741980774,
          -0.07213877079370021,
          -0.058180920167173224,
          -0.03205056638322901,
          0.00035822505852687653,
          0.03514855701376421,
          0.06096661453974171,
          0.07508311049016524,
          0.07767627603138767,
          0.07987086967862313,
          -0.06323318615800431,
          -0.06324591695560093,
          -0.057496492902535626,
          -0.0452044181769223,
          -0.02413788603085842,
          0.0002670529618925075,
          0.025889252063306386,
          0.04616745405050167,
          0.05955339807730285,
          0.06380254659821077,
          0.0636909072962095,
          -0.04223530238974998,
          -0.042086449987081616,
          -0.035484062495041706,
          -0.025446318236155743,
          -0.013381439283036227,
          0.0001641293597843207,
          0.013367925051741336,
          0.026111453445973824,
          0.03691990060551766,
          0.042765295286619154,
          0.04228250427006981,
          -0.028782766498597154,
          5.1412836447952475e-05,
          0.02894062838879544,
          -0.08241830227770998,
          -0.07093433941184617,
          0.08331807588015527,
          0.07154287153696537,
          -0.0842936466929067,
          0.08401729045584742,
          -0.0842936466929067,
          0.08401729045584742
         ],
         "y": [
          0.08217935499974235,
          0.08641959196233262,
          0.08313788612955673,
          0.06276009013347085,
          0.06715221530431023,
          0.07135337851120006,
          0.0752459667701899,
          0.07824945571087313,
          0.07909840405214419,
          0.07863901811733019,
          0.07611636160895066,
          0.0722793971425369,
          0.0682143555407188,
          0.0625471920259702,
          0.04078976928725811,
          0.041594747412214625,
          0.04704059090720632,
          0.052011379793418924,
          0.05575217777337195,
          0.057300340690335155,
          0.05640908692935836,
          0.05318026287121466,
          0.0487978326923912,
          0.04350182089219068,
          0.04119558794295395,
          0.014265642140728726,
          0.013827898561829017,
          0.018257236833335477,
          0.022245795720361488,
          0.025472465335834985,
          0.02682281124398892,
          0.02589042721385377,
          0.023231551171190228,
          0.019522873972865642,
          0.015097452869850458,
          0.014067237556645771,
          -0.015500921224451531,
          -0.015686986727786977,
          -0.013474765822340796,
          -0.011390832184983789,
          -0.009777154625004053,
          -0.008977170889873912,
          -0.009424805319214085,
          -0.010674577926354598,
          -0.012511729948761435,
          -0.014709261472365346,
          -0.016022492209064473,
          -0.04555147930524905,
          -0.04506868828869971,
          -0.04558673382167051,
          -0.046035347543133494,
          -0.04631258514310331,
          -0.046338144667508865,
          -0.0460983160266307,
          -0.04567144259029427,
          -0.04514663994167603,
          -0.04460215352138914,
          -0.04606129878438817,
          -0.07223816894416625,
          -0.07193165050972417,
          -0.07471088155428206,
          -0.07715627191417125,
          -0.07885740026071865,
          -0.07943528054239363,
          -0.07882038301847612,
          -0.07693338502701783,
          -0.07433248307802513,
          -0.07155521061771287,
          -0.07284983480407846,
          -0.09601450032328021,
          -0.09550830422499552,
          -0.09728366291445253,
          -0.09876445053336584,
          -0.09966060075495672,
          -0.10006211052531216,
          -0.09968508305802719,
          -0.09876072922329913,
          -0.09738678237498528,
          -0.09560349141933344,
          -0.0960598415485667,
          -0.1101204199187773,
          -0.11251283057482202,
          -0.10983348732679159,
          -0.11219749851127457,
          -0.11610977054193306,
          -0.11189391795320096,
          0.07428439983479476,
          0.0782975389541035,
          0.0807515470846735,
          0.08309205525820886,
          0.08507894104619458,
          0.08527088230226694,
          0.08382436990765227,
          0.0812576452537459,
          0.0790159476554029,
          0.07495678180632169,
          0.052742029646253547,
          0.05758159338800852,
          0.06271504269582123,
          0.0669768240851135,
          0.06929089137133278,
          0.06972657843677456,
          0.06771893165578508,
          0.06372332186547479,
          0.0588013996561908,
          0.05346915404744602,
          0.027499795888493102,
          0.030652137231844706,
          0.035673849308443854,
          0.039918101368737684,
          0.0427558940822401,
          0.04314173517863045,
          0.04076088016963498,
          0.03701704638410122,
          0.032298719007151123,
          0.02792324180239967,
          -0.0018084587632082637,
          0.0008091890810846312,
          0.004214187792123313,
          0.007028575423890372,
          0.008905780494120469,
          0.0090563956226099,
          0.007636324115311311,
          0.005225208979720763,
          0.0019054086833672598,
          -0.001770853945692047,
          -0.03154858124107243,
          -0.02999444464216004,
          -0.029115040315869346,
          -0.02830722224375666,
          -0.027735413573243148,
          -0.027565212602297356,
          -0.027798382056740355,
          -0.028386055259643522,
          -0.029202784890073854,
          -0.03160400917522394,
          -0.05949855771842504,
          -0.05957200462763639,
          -0.061670627646835674,
          -0.06335119085880389,
          -0.06424146532765787,
          -0.06423666679625606,
          -0.06314691052198403,
          -0.061327483687000195,
          -0.05918087535378283,
          -0.05969304513401672,
          -0.08584063445932254,
          -0.08569080276453135,
          -0.08803718669080363,
          -0.08976867309315838,
          -0.09068920768860743,
          -0.09077450403250491,
          -0.08973165585091586,
          -0.08778394174784285,
          -0.0854218891476055,
          -0.08598791999459439,
          -0.10583503758932511,
          -0.10491058582538479,
          -0.10601033087930956,
          -0.10668604244405407,
          -0.10699745733911026,
          -0.10690246600319689,
          -0.10665862226461517,
          -0.10601033087930956,
          -0.10502418371163169,
          -0.10686721148677543,
          -0.11554373969494416,
          -0.11557409775075154,
          0.08542864626325294,
          0.08626682239117298,
          0.06503792361114587,
          0.06936933267037051,
          0.07331676128823815,
          0.07707920162410546,
          0.07893593948896865,
          0.07919045751168909,
          0.07766070528663487,
          0.07417148745303384,
          0.07035900528969052,
          0.06577885603127007,
          0.04026780658579605,
          0.04434655827733361,
          0.04962288630586548,
          0.054115780636142835,
          0.05670307042462836,
          0.05724540240224506,
          0.0550615809683606,
          0.051007213650681206,
          0.046214460072396935,
          0.040955759302075796,
          0.013044464863574502,
          0.0160508916806262,
          0.02038915578471057,
          0.02402125233903078,
          0.026464488256249766,
          0.026706177552161283,
          0.024715178737259716,
          0.021550987959222015,
          0.017317508112279188,
          0.01326715589230335,
          -0.016702512659149394,
          -0.01457451087626557,
          -0.012377958644784475,
          -0.010532090922484558,
          -0.009236585373208438,
          -0.00911143183991228,
          -0.009934135152291801,
          -0.011492286848907747,
          -0.013618330047545934,
          -0.016734437582353264,
          -0.04626734184702911,
          -0.045338972914597514,
          -0.04582274322326967,
          -0.04619888932764413,
          -0.046361549749244224,
          -0.04625402347415879,
          -0.045919203497367264,
          -0.045413007399082564,
          -0.04485872805756749,
          -0.04624344711923235,
          -0.0730823187540355,
          -0.07331734886351185,
          -0.07601637588321093,
          -0.07810128881269075,
          -0.07932550189542571,
          -0.07930405539793599,
          -0.07796252311888742,
          -0.07570143553651261,
          -0.07295657764546565,
          -0.07352260849245452,
          -0.09692720058174673,
          -0.09640523788028466,
          -0.09808873896862132,
          -0.09926202886096974,
          -0.09994655405481963,
          -0.09991619599901226,
          -0.09929052626174376,
          -0.0981437751859237,
          -0.0964955286140085,
          -0.09782540731679552,
          -0.1127165233363682,
          -0.11280563891954465,
          -0.11579345918626281,
          -0.11570434360308635,
          0.07088126177878944,
          0.07695297086947421,
          0.07952547334690517,
          0.0818317062961419,
          0.08440920316339925,
          0.08551374674872583,
          0.08496132806224413,
          0.08262963351781413,
          0.08011774922278558,
          0.07765375231256286,
          0.07067345599032743,
          0.05158930488848431,
          0.054832720399257996,
          0.06012481503096724,
          0.06499287617349622,
          0.06846926528028835,
          0.06980394251447719,
          0.06909483708834457,
          0.06588168170416597,
          0.06130349102999116,
          0.05608778118386173,
          0.05118446552491129,
          0.028174528161114803,
          0.028059950982745083,
          0.033223758346365144,
          0.03791446968545177,
          0.041536773318543795,
          0.04316132102108681,
          0.04220837185637248,
          0.03902655382012405,
          0.03476457657240721,
          0.02971534638715687,
          0.028342378830965836,
          -0.000504041655614498,
          -0.0009221993920578447,
          0.0025317639251217438,
          0.005710546155789434,
          0.008137036177708229,
          0.009311109503754899,
          0.008472737517410286,
          0.006482717994631539,
          0.0035878325503688286,
          0.00017793737871605648,
          -0.0009325798885597171,
          -0.03059083354495629,
          -0.03044883618714766,
          -0.029547887434154967,
          -0.028689048242443456,
          -0.027978278019702048,
          -0.027579804054927347,
          -0.027640618095754355,
          -0.028047220185148446,
          -0.028769937771788233,
          -0.0296532592665702,
          -0.031074212136779324,
          -0.05938985629279222,
          -0.0584869489555539,
          -0.06064041233363099,
          -0.06260105309272519,
          -0.06396726353326879,
          -0.06438845707529287,
          -0.06378922822534044,
          -0.0622978642515007,
          -0.06027376536284788,
          -0.05807525454712115,
          -0.059947661085949434,
          -0.08464198090099312,
          -0.08443632955520132,
          -0.08686791189615876,
          -0.08900570660027077,
          -0.09038073066991972,
          -0.09083717872836526,
          -0.09038386440471274,
          -0.0888337429035039,
          -0.08667146589632144,
          -0.08416349876978418,
          -0.08492245016496824,
          -0.10528957187691541,
          -0.10428775603527245,
          -0.10548543030147903,
          -0.10636679321201536,
          -0.10700333309184716,
          -0.10701312601307533,
          -0.10684664635219625,
          -0.10641771640240191,
          -0.10560686252470848,
          -0.10439156100029118,
          -0.10521906284407251,
          -0.11213972027602831,
          -0.11687165981348559,
          -0.11128283966856244,
          -0.015686986727786977,
          -0.07193165050972417,
          -0.014709261472365346,
          -0.07155521061771287,
          -0.044058058817951384,
          -0.044077252943558624,
          -0.024472216361588535,
          -0.02449141048719577
         ],
         "z": [
          -0.006845251938498816,
          -0.0016775274063874782,
          -0.006933388229552449,
          -0.046695586292337485,
          -0.010370703580644128,
          0.0058542083102068555,
          0.02078743389106071,
          0.0320737756065398,
          0.03468358911385015,
          0.03208552711201362,
          0.021501337848595134,
          0.005909048669084671,
          -0.010532286780909124,
          -0.04701091835588493,
          -0.04891760011901185,
          -0.011183516042583186,
          0.016570602010205788,
          0.04131829324594307,
          0.05909244527509235,
          0.06508571306673938,
          0.0583070529925922,
          0.03996882870069967,
          0.01602807417416454,
          -0.01175150547381771,
          -0.04940724618042092,
          -0.04938472246159611,
          -0.010904417787580016,
          0.023953485324131767,
          0.0543938016698109,
          0.07833063902785475,
          0.08683187394603906,
          0.07717605361505218,
          0.054478020792373266,
          0.023931940897429765,
          -0.011095379751529555,
          -0.04949146530298328,
          -0.047283161566028374,
          -0.00915246417985836,
          0.028556158301377036,
          0.06302528244033001,
          0.08789342660717392,
          0.09816815955978188,
          0.08658117516259761,
          0.0622633931687775,
          0.028603164323272305,
          -0.009293482245544172,
          -0.047271410060554554,
          -0.044760505057648836,
          -0.006909885218604813,
          0.030308111909098694,
          0.06426506626781778,
          0.08942406019513868,
          0.09737297435605355,
          0.08881689907899143,
          0.06422197741441378,
          0.030559789984662952,
          -0.0069823528356933555,
          -0.04491915038154538,
          -0.0401490184512982,
          -0.0024354995094487204,
          0.02779426902982452,
          0.054781601350446886,
          0.0738738805769094,
          0.08090421872662083,
          0.0751273744941166,
          0.05538974175871696,
          0.02750929502208444,
          -0.002487401991958082,
          -0.040366421302563835,
          -0.034730595135745425,
          0.0027341836069082535,
          0.02115173056074906,
          0.0363973503287819,
          0.04557233822746508,
          0.049560015751580554,
          0.045432299453902085,
          0.03564329539421193,
          0.02127707995246978,
          0.002673467495293529,
          -0.0348050213370796,
          0.008655963073589562,
          0.014353484644145514,
          0.008617770680799655,
          -0.028610998660254853,
          -0.02260010361039709,
          -0.028650170345167578,
          -0.027659126716875617,
          -0.004891564153476621,
          0.002646047315854621,
          0.009819362115497514,
          0.015864532389653907,
          0.01612796197069199,
          0.011206039761408004,
          0.0027694381233297066,
          -0.004627155280315723,
          -0.027720822120613157,
          -0.029688219995354807,
          0.0008784250341678738,
          0.02261087582374809,
          0.04033508395463366,
          0.049305399799647834,
          0.050115274385218435,
          0.040399717234739646,
          0.02238857651186837,
          0.0006169540373754298,
          -0.02981356938707553,
          -0.030605816714435408,
          0.004745649627176719,
          0.03539553448713894,
          0.06041253105665121,
          0.07607337068475895,
          0.07617717564977766,
          0.059391129372551886,
          0.03456509476698916,
          0.004390166586593732,
          -0.03068905654487495,
          -0.029177029507243737,
          0.008401347121656844,
          0.04436878820852158,
          0.07283681021884497,
          0.0906129208322399,
          0.08966594534947477,
          0.0719848260719932,
          0.04441089776980276,
          0.008324962336077029,
          -0.02902425993608411,
          -0.02727132703623963,
          0.010922045045790743,
          0.048197820408740516,
          0.07864107463078812,
          0.09618607230319795,
          0.09613906628130268,
          0.0788075542916672,
          0.048600309471218774,
          0.011015077797458465,
          -0.02742017943890799,
          -0.023330655534019428,
          0.012613282541897676,
          0.04627351138740287,
          0.07373677967971486,
          0.08927618708459314,
          0.09049148860901046,
          0.07455350931014518,
          0.04634793758873705,
          0.012634826968599673,
          -0.02331204898368588,
          -0.01862026042326416,
          0.012683791574740581,
          0.0365589335290469,
          0.05435462998489818,
          0.06415146838157088,
          0.06557144195965718,
          0.055558180003841676,
          0.0362680837685699,
          0.01258977953095004,
          -0.018559544311649436,
          -0.012878670707181392,
          0.011811242293309616,
          0.02256974555458973,
          0.029143733575067922,
          0.03203264533738144,
          0.030928003822842578,
          0.028344631202848313,
          0.02179414619331776,
          0.011886647786766614,
          -0.012897277257514937,
          -0.006776701489901546,
          -0.006789432287498181,
          -0.004384290833856824,
          -0.004456758450945367,
          -0.029088893216190105,
          -0.00171865767554584,
          0.013394757655906553,
          0.027787413984964794,
          0.0344054701509698,
          0.0346267901707267,
          0.027880446736632515,
          0.013572988822259454,
          -0.0018802408758108334,
          -0.029206408270928283,
          -0.030215079157430966,
          0.0029398349527000635,
          0.029566787772125357,
          0.0515107656602343,
          0.06299982084513674,
          0.06364615364619672,
          0.05043256503301152,
          0.028113518261863233,
          0.0024237480039749027,
          -0.03038351740255569,
          -0.03017003171978133,
          0.006708151041304276,
          0.04046826768333692,
          0.06770434020315509,
          0.0851230091917214,
          0.08464707322003177,
          0.06701295996444549,
          0.040441826796020826,
          0.006428073494178287,
          -0.03011225348453506,
          -0.028136041980688052,
          0.009801734857286788,
          0.0469120098514803,
          0.07641906080411374,
          0.09533996390908307,
          0.09372413190643315,
          0.07612037670665422,
          0.04684933515561994,
          0.009685199094671429,
          -0.028160524283758506,
          -0.025677039460291696,
          0.011726043878624437,
          0.04809205685947616,
          0.0783590384994165,
          0.09539284568371525,
          0.09604113706902087,
          0.0784187753189084,
          0.048122414915283525,
          0.011851393270345161,
          -0.025633950606887695,
          -0.02109003515701152,
          0.012729818304513035,
          0.04213698146061903,
          0.06533347397381238,
          0.079325599824638,
          0.07995038819899597,
          0.06625400856926143,
          0.042226097043795485,
          0.012755279899706306,
          -0.021129206841924243,
          -0.015857677344794183,
          0.012049210279154425,
          0.02938757731364964,
          0.04150142087291006,
          0.04839465812542696,
          0.04792851507496553,
          0.04126541147131089,
          0.02919073959696319,
          0.011996328504522246,
          -0.01587236672663645,
          0.011584046520815808,
          0.01158796368930708,
          -0.025508601215166973,
          -0.025540917855219974,
          -0.044902502415457464,
          -0.009048659214839636,
          -0.0011163930200126823,
          0.005945282477628943,
          0.013894196638543806,
          0.01708081320619404,
          0.014985128063363216,
          0.0072790783489072525,
          -0.0010135673471167773,
          -0.009107416742208725,
          -0.04524035819782973,
          -0.04776007682984081,
          -0.010941630888247105,
          0.011637907587570806,
          0.03213155384178607,
          0.04631366236443841,
          0.05101328526184268,
          0.046836604358023295,
          0.03205321047196062,
          0.011653576261535896,
          -0.011222687727495913,
          -0.04802252711875607,
          -0.049475796629018194,
          -0.011269693749391184,
          0.020558279534321263,
          0.04875699621086967,
          0.06956891240500085,
          0.07750215789195061,
          0.0693289858349104,
          0.04780022780687635,
          0.019957973463033744,
          -0.011748567597449255,
          -0.049859679141162905,
          -0.04880498152488777,
          -0.010071040191061777,
          0.02674642645840911,
          0.0596242008977826,
          0.08368932552391564,
          0.0935811552565017,
          0.08209601724009051,
          0.05880845055947509,
          0.026637725032776293,
          -0.010149383560887229,
          -0.048494545921954416,
          -0.04620104377031432,
          -0.00829852144876094,
          0.029646110434073628,
          0.06453339230946994,
          0.08983438359459947,
          0.09917193398567048,
          0.08909208016550332,
          0.06503478987635283,
          0.030238582168378603,
          -0.008260329055971032,
          -0.04627449067952569,
          -0.042691260802134104,
          -0.004659471920368722,
          0.02975089469121517,
          0.061374195921258624,
          0.08416428220348243,
          0.09211025848802885,
          0.08419953671990389,
          0.06142022265103108,
          0.029910519307234526,
          -0.00473977387443981,
          -0.042892994979434634,
          -0.03753039131488249,
          3.23166400529987e-05,
          0.024671306450157464,
          0.04646349405922959,
          0.06079053781605901,
          0.06594749013481935,
          0.061890282869983784,
          0.04669068983172339,
          0.025130594455759173,
          -8.813629105363281e-06,
          -0.037651823538111945,
          -0.031716333981711184,
          0.005653453425029136,
          0.01738243518002203,
          0.025994330108084773,
          0.03217562198731289,
          0.03211098870720689,
          0.030295381111502054,
          0.025868001424241234,
          0.017694829367201015,
          0.005607426695256683,
          -0.03179076018304536,
          -0.009812507070637787,
          -0.003854493795412209,
          -0.00984286512644515,
          -0.00915246417985836,
          -0.0024354995094487204,
          -0.009293482245544172,
          -0.002487401991958082,
          -0.06657815426191424,
          -0.06662222240744106,
          -0.06657815426191424,
          -0.06662222240744106
         ]
        },
        {
         "connectgaps": true,
         "marker": {
          "color": "black",
          "size": 5
         },
         "mode": "markers+text",
         "text": [
          "Fp1",
          "Fp2",
          "F7",
          "T3",
          "T5",
          "F3",
          "C3",
          "P3",
          "Fz",
          "Cz",
          "Pz",
          "F4",
          "C4",
          "P4",
          "F8",
          "T4",
          "T6",
          "O1",
          "O2"
         ],
         "textfont": {
          "family": "sans serif",
          "size": 18
         },
         "textposition": "top center",
         "type": "scatter3d",
         "x": [
          -0.02882712843176081,
          0.029253708080460395,
          -0.06880790449635886,
          -0.08241830227770998,
          -0.07093433941184617,
          -0.04920335756045019,
          -0.06400467249236043,
          -0.05190963134185812,
          0.00030573500074382407,
          0.00039259821203779327,
          0.00031797615227905084,
          0.050762782336825796,
          0.06572803077009581,
          0.05451396081328069,
          0.07153053245621786,
          0.08331807588015527,
          0.07154287153696537,
          -0.02880431092529915,
          0.0292246231044127
         ],
         "y": [
          0.08217935499974235,
          0.08313788612955673,
          0.041594747412214625,
          -0.015686986727786977,
          -0.07193165050972417,
          0.052011379793418924,
          -0.011390832184983789,
          -0.07715627191417125,
          0.057300340690335155,
          -0.008977170889873912,
          -0.07943528054239363,
          0.05318026287121466,
          -0.010674577926354598,
          -0.07693338502701783,
          0.04350182089219068,
          -0.014709261472365346,
          -0.07155521061771287,
          -0.1101204199187773,
          -0.10983348732679159
         ],
         "z": [
          -0.006845251938498816,
          -0.006933388229552449,
          -0.011183516042583186,
          -0.00915246417985836,
          -0.0024354995094487204,
          0.04131829324594307,
          0.06302528244033001,
          0.054781601350446886,
          0.06508571306673938,
          0.09816815955978188,
          0.08090421872662083,
          0.03996882870069967,
          0.0622633931687775,
          0.05538974175871696,
          -0.01175150547381771,
          -0.009293482245544172,
          -0.002487401991958082,
          0.008655963073589562,
          0.008617770680799655
         ]
        }
       ],
       "layout": {
        "height": 600,
        "scene": {
         "aspectratio": {
          "x": 1.5,
          "y": 1.5,
          "z": 1
         },
         "camera": {
          "center": {
           "x": 0,
           "y": 0,
           "z": 0
          },
          "eye": {
           "x": 1.0002221337480277,
           "y": -2.0951116380585977,
           "z": 0.7976246189830575
          },
          "projection": {
           "type": "perspective"
          },
          "up": {
           "x": 0,
           "y": 0,
           "z": 1
          }
         }
        },
        "template": {
         "data": {
          "bar": [
           {
            "error_x": {
             "color": "#2a3f5f"
            },
            "error_y": {
             "color": "#2a3f5f"
            },
            "marker": {
             "line": {
              "color": "#E5ECF6",
              "width": 0.5
             }
            },
            "type": "bar"
           }
          ],
          "barpolar": [
           {
            "marker": {
             "line": {
              "color": "#E5ECF6",
              "width": 0.5
             }
            },
            "type": "barpolar"
           }
          ],
          "carpet": [
           {
            "aaxis": {
             "endlinecolor": "#2a3f5f",
             "gridcolor": "white",
             "linecolor": "white",
             "minorgridcolor": "white",
             "startlinecolor": "#2a3f5f"
            },
            "baxis": {
             "endlinecolor": "#2a3f5f",
             "gridcolor": "white",
             "linecolor": "white",
             "minorgridcolor": "white",
             "startlinecolor": "#2a3f5f"
            },
            "type": "carpet"
           }
          ],
          "choropleth": [
           {
            "colorbar": {
             "outlinewidth": 0,
             "ticks": ""
            },
            "type": "choropleth"
           }
          ],
          "contour": [
           {
            "colorbar": {
             "outlinewidth": 0,
             "ticks": ""
            },
            "colorscale": [
             [
              0,
              "#0d0887"
             ],
             [
              0.1111111111111111,
              "#46039f"
             ],
             [
              0.2222222222222222,
              "#7201a8"
             ],
             [
              0.3333333333333333,
              "#9c179e"
             ],
             [
              0.4444444444444444,
              "#bd3786"
             ],
             [
              0.5555555555555556,
              "#d8576b"
             ],
             [
              0.6666666666666666,
              "#ed7953"
             ],
             [
              0.7777777777777778,
              "#fb9f3a"
             ],
             [
              0.8888888888888888,
              "#fdca26"
             ],
             [
              1,
              "#f0f921"
             ]
            ],
            "type": "contour"
           }
          ],
          "contourcarpet": [
           {
            "colorbar": {
             "outlinewidth": 0,
             "ticks": ""
            },
            "type": "contourcarpet"
           }
          ],
          "heatmap": [
           {
            "colorbar": {
             "outlinewidth": 0,
             "ticks": ""
            },
            "colorscale": [
             [
              0,
              "#0d0887"
             ],
             [
              0.1111111111111111,
              "#46039f"
             ],
             [
              0.2222222222222222,
              "#7201a8"
             ],
             [
              0.3333333333333333,
              "#9c179e"
             ],
             [
              0.4444444444444444,
              "#bd3786"
             ],
             [
              0.5555555555555556,
              "#d8576b"
             ],
             [
              0.6666666666666666,
              "#ed7953"
             ],
             [
              0.7777777777777778,
              "#fb9f3a"
             ],
             [
              0.8888888888888888,
              "#fdca26"
             ],
             [
              1,
              "#f0f921"
             ]
            ],
            "type": "heatmap"
           }
          ],
          "heatmapgl": [
           {
            "colorbar": {
             "outlinewidth": 0,
             "ticks": ""
            },
            "colorscale": [
             [
              0,
              "#0d0887"
             ],
             [
              0.1111111111111111,
              "#46039f"
             ],
             [
              0.2222222222222222,
              "#7201a8"
             ],
             [
              0.3333333333333333,
              "#9c179e"
             ],
             [
              0.4444444444444444,
              "#bd3786"
             ],
             [
              0.5555555555555556,
              "#d8576b"
             ],
             [
              0.6666666666666666,
              "#ed7953"
             ],
             [
              0.7777777777777778,
              "#fb9f3a"
             ],
             [
              0.8888888888888888,
              "#fdca26"
             ],
             [
              1,
              "#f0f921"
             ]
            ],
            "type": "heatmapgl"
           }
          ],
          "histogram": [
           {
            "marker": {
             "colorbar": {
              "outlinewidth": 0,
              "ticks": ""
             }
            },
            "type": "histogram"
           }
          ],
          "histogram2d": [
           {
            "colorbar": {
             "outlinewidth": 0,
             "ticks": ""
            },
            "colorscale": [
             [
              0,
              "#0d0887"
             ],
             [
              0.1111111111111111,
              "#46039f"
             ],
             [
              0.2222222222222222,
              "#7201a8"
             ],
             [
              0.3333333333333333,
              "#9c179e"
             ],
             [
              0.4444444444444444,
              "#bd3786"
             ],
             [
              0.5555555555555556,
              "#d8576b"
             ],
             [
              0.6666666666666666,
              "#ed7953"
             ],
             [
              0.7777777777777778,
              "#fb9f3a"
             ],
             [
              0.8888888888888888,
              "#fdca26"
             ],
             [
              1,
              "#f0f921"
             ]
            ],
            "type": "histogram2d"
           }
          ],
          "histogram2dcontour": [
           {
            "colorbar": {
             "outlinewidth": 0,
             "ticks": ""
            },
            "colorscale": [
             [
              0,
              "#0d0887"
             ],
             [
              0.1111111111111111,
              "#46039f"
             ],
             [
              0.2222222222222222,
              "#7201a8"
             ],
             [
              0.3333333333333333,
              "#9c179e"
             ],
             [
              0.4444444444444444,
              "#bd3786"
             ],
             [
              0.5555555555555556,
              "#d8576b"
             ],
             [
              0.6666666666666666,
              "#ed7953"
             ],
             [
              0.7777777777777778,
              "#fb9f3a"
             ],
             [
              0.8888888888888888,
              "#fdca26"
             ],
             [
              1,
              "#f0f921"
             ]
            ],
            "type": "histogram2dcontour"
           }
          ],
          "mesh3d": [
           {
            "colorbar": {
             "outlinewidth": 0,
             "ticks": ""
            },
            "type": "mesh3d"
           }
          ],
          "parcoords": [
           {
            "line": {
             "colorbar": {
              "outlinewidth": 0,
              "ticks": ""
             }
            },
            "type": "parcoords"
           }
          ],
          "pie": [
           {
            "automargin": true,
            "type": "pie"
           }
          ],
          "scatter": [
           {
            "marker": {
             "colorbar": {
              "outlinewidth": 0,
              "ticks": ""
             }
            },
            "type": "scatter"
           }
          ],
          "scatter3d": [
           {
            "line": {
             "colorbar": {
              "outlinewidth": 0,
              "ticks": ""
             }
            },
            "marker": {
             "colorbar": {
              "outlinewidth": 0,
              "ticks": ""
             }
            },
            "type": "scatter3d"
           }
          ],
          "scattercarpet": [
           {
            "marker": {
             "colorbar": {
              "outlinewidth": 0,
              "ticks": ""
             }
            },
            "type": "scattercarpet"
           }
          ],
          "scattergeo": [
           {
            "marker": {
             "colorbar": {
              "outlinewidth": 0,
              "ticks": ""
             }
            },
            "type": "scattergeo"
           }
          ],
          "scattergl": [
           {
            "marker": {
             "colorbar": {
              "outlinewidth": 0,
              "ticks": ""
             }
            },
            "type": "scattergl"
           }
          ],
          "scattermapbox": [
           {
            "marker": {
             "colorbar": {
              "outlinewidth": 0,
              "ticks": ""
             }
            },
            "type": "scattermapbox"
           }
          ],
          "scatterpolar": [
           {
            "marker": {
             "colorbar": {
              "outlinewidth": 0,
              "ticks": ""
             }
            },
            "type": "scatterpolar"
           }
          ],
          "scatterpolargl": [
           {
            "marker": {
             "colorbar": {
              "outlinewidth": 0,
              "ticks": ""
             }
            },
            "type": "scatterpolargl"
           }
          ],
          "scatterternary": [
           {
            "marker": {
             "colorbar": {
              "outlinewidth": 0,
              "ticks": ""
             }
            },
            "type": "scatterternary"
           }
          ],
          "surface": [
           {
            "colorbar": {
             "outlinewidth": 0,
             "ticks": ""
            },
            "colorscale": [
             [
              0,
              "#0d0887"
             ],
             [
              0.1111111111111111,
              "#46039f"
             ],
             [
              0.2222222222222222,
              "#7201a8"
             ],
             [
              0.3333333333333333,
              "#9c179e"
             ],
             [
              0.4444444444444444,
              "#bd3786"
             ],
             [
              0.5555555555555556,
              "#d8576b"
             ],
             [
              0.6666666666666666,
              "#ed7953"
             ],
             [
              0.7777777777777778,
              "#fb9f3a"
             ],
             [
              0.8888888888888888,
              "#fdca26"
             ],
             [
              1,
              "#f0f921"
             ]
            ],
            "type": "surface"
           }
          ],
          "table": [
           {
            "cells": {
             "fill": {
              "color": "#EBF0F8"
             },
             "line": {
              "color": "white"
             }
            },
            "header": {
             "fill": {
              "color": "#C8D4E3"
             },
             "line": {
              "color": "white"
             }
            },
            "type": "table"
           }
          ]
         },
         "layout": {
          "annotationdefaults": {
           "arrowcolor": "#2a3f5f",
           "arrowhead": 0,
           "arrowwidth": 1
          },
          "autotypenumbers": "strict",
          "coloraxis": {
           "colorbar": {
            "outlinewidth": 0,
            "ticks": ""
           }
          },
          "colorscale": {
           "diverging": [
            [
             0,
             "#8e0152"
            ],
            [
             0.1,
             "#c51b7d"
            ],
            [
             0.2,
             "#de77ae"
            ],
            [
             0.3,
             "#f1b6da"
            ],
            [
             0.4,
             "#fde0ef"
            ],
            [
             0.5,
             "#f7f7f7"
            ],
            [
             0.6,
             "#e6f5d0"
            ],
            [
             0.7,
             "#b8e186"
            ],
            [
             0.8,
             "#7fbc41"
            ],
            [
             0.9,
             "#4d9221"
            ],
            [
             1,
             "#276419"
            ]
           ],
           "sequential": [
            [
             0,
             "#0d0887"
            ],
            [
             0.1111111111111111,
             "#46039f"
            ],
            [
             0.2222222222222222,
             "#7201a8"
            ],
            [
             0.3333333333333333,
             "#9c179e"
            ],
            [
             0.4444444444444444,
             "#bd3786"
            ],
            [
             0.5555555555555556,
             "#d8576b"
            ],
            [
             0.6666666666666666,
             "#ed7953"
            ],
            [
             0.7777777777777778,
             "#fb9f3a"
            ],
            [
             0.8888888888888888,
             "#fdca26"
            ],
            [
             1,
             "#f0f921"
            ]
           ],
           "sequentialminus": [
            [
             0,
             "#0d0887"
            ],
            [
             0.1111111111111111,
             "#46039f"
            ],
            [
             0.2222222222222222,
             "#7201a8"
            ],
            [
             0.3333333333333333,
             "#9c179e"
            ],
            [
             0.4444444444444444,
             "#bd3786"
            ],
            [
             0.5555555555555556,
             "#d8576b"
            ],
            [
             0.6666666666666666,
             "#ed7953"
            ],
            [
             0.7777777777777778,
             "#fb9f3a"
            ],
            [
             0.8888888888888888,
             "#fdca26"
            ],
            [
             1,
             "#f0f921"
            ]
           ]
          },
          "colorway": [
           "#636efa",
           "#EF553B",
           "#00cc96",
           "#ab63fa",
           "#FFA15A",
           "#19d3f3",
           "#FF6692",
           "#B6E880",
           "#FF97FF",
           "#FECB52"
          ],
          "font": {
           "color": "#2a3f5f"
          },
          "geo": {
           "bgcolor": "white",
           "lakecolor": "white",
           "landcolor": "#E5ECF6",
           "showlakes": true,
           "showland": true,
           "subunitcolor": "white"
          },
          "hoverlabel": {
           "align": "left"
          },
          "hovermode": "closest",
          "mapbox": {
           "style": "light"
          },
          "paper_bgcolor": "white",
          "plot_bgcolor": "#E5ECF6",
          "polar": {
           "angularaxis": {
            "gridcolor": "white",
            "linecolor": "white",
            "ticks": ""
           },
           "bgcolor": "#E5ECF6",
           "radialaxis": {
            "gridcolor": "white",
            "linecolor": "white",
            "ticks": ""
           }
          },
          "scene": {
           "xaxis": {
            "backgroundcolor": "#E5ECF6",
            "gridcolor": "white",
            "gridwidth": 2,
            "linecolor": "white",
            "showbackground": true,
            "ticks": "",
            "zerolinecolor": "white"
           },
           "yaxis": {
            "backgroundcolor": "#E5ECF6",
            "gridcolor": "white",
            "gridwidth": 2,
            "linecolor": "white",
            "showbackground": true,
            "ticks": "",
            "zerolinecolor": "white"
           },
           "zaxis": {
            "backgroundcolor": "#E5ECF6",
            "gridcolor": "white",
            "gridwidth": 2,
            "linecolor": "white",
            "showbackground": true,
            "ticks": "",
            "zerolinecolor": "white"
           }
          },
          "shapedefaults": {
           "line": {
            "color": "#2a3f5f"
           }
          },
          "ternary": {
           "aaxis": {
            "gridcolor": "white",
            "linecolor": "white",
            "ticks": ""
           },
           "baxis": {
            "gridcolor": "white",
            "linecolor": "white",
            "ticks": ""
           },
           "bgcolor": "#E5ECF6",
           "caxis": {
            "gridcolor": "white",
            "linecolor": "white",
            "ticks": ""
           }
          },
          "title": {
           "x": 0.05
          },
          "xaxis": {
           "automargin": true,
           "gridcolor": "white",
           "linecolor": "white",
           "ticks": "",
           "title": {
            "standoff": 15
           },
           "zerolinecolor": "white",
           "zerolinewidth": 2
          },
          "yaxis": {
           "automargin": true,
           "gridcolor": "white",
           "linecolor": "white",
           "ticks": "",
           "title": {
            "standoff": 15
           },
           "zerolinecolor": "white",
           "zerolinewidth": 2
          }
         }
        },
        "title": {
         "text": ""
        },
        "width": 1000
       }
      },
      "image/png": "[encoded data removed]",
      "text/html": [
       "<div>                            <div id=\"d088c867-29cf-4473-93ea-b9b344fe6a64\" class=\"plotly-graph-div\" style=\"height:600px; width:1000px;\"></div>            <script type=\"text/javascript\">                require([\"plotly\"], function(Plotly) {                    window.PLOTLYENV=window.PLOTLYENV || {};                                    if (document.getElementById(\"d088c867-29cf-4473-93ea-b9b344fe6a64\")) {                    Plotly.newPlot(                        \"d088c867-29cf-4473-93ea-b9b344fe6a64\",                        [{\"alphahull\": 1, \"cmax\": 50, \"cmin\": -50, \"colorbar\": {\"title\": {\"text\": \"EEG MicroVolt\"}}, \"colorscale\": [[0.0, \"rgb(0,0,255)\"], [1.0, \"rgb(255,0,0)\"]], \"intensity\": [14.125364303588867, 14.125364303588867, 13.747786045074461, 34.1719365119934, 14.125364303588867, 14.125364303588867, 14.125364303588867, 14.125364303588867, 19.81519603729248, 13.747786045074461, 13.747786045074461, 13.747786045074461, 13.747786045074461, 17.633610606193542, 34.1719365119934, 34.1719365119934, 21.69820404052734, 21.69820404052734, 19.81519603729248, 19.81519603729248, 14.722037792205809, 14.722037792205809, 17.633610606193542, 17.633610606193542, 17.633610606193542, 34.1719365119934, 34.1719365119934, 34.1719365119934, 21.69820404052734, 19.81519603729248, 19.81519603729248, 19.81519603729248, 14.722037792205809, 17.633610606193542, 17.633610606193542, 17.633610606193542, 18.44011640548706, 18.44011640548706, 33.08040142059326, 33.08040142059326, 30.920199394226074, 30.920199394226074, 40.041176319122314, 40.041176319122314, 40.041176319122314, 23.371044158935547, 23.371044158935547, 18.44011640548706, 18.44011640548706, 36.24429702758789, 45.933552742004395, 30.993893623352054, 30.993893623352054, 41.518795013427734, 41.518795013427734, 18.526440620422363, 18.526440620422363, 23.371044158935547, 36.24429702758789, 36.24429702758789, 45.933552742004395, 45.933552742004395, 30.993893623352054, 30.993893623352054, 41.518795013427734, 41.518795013427734, 41.518795013427734, 18.526440620422363, 18.526440620422363, 36.24429702758789, 13.358681201934814, 13.358681201934814, 13.358681201934814, 13.358681201934814, 30.993893623352054, 2.557616710662841, 2.557616710662841, 2.557616710662841, 2.557616710662841, 18.526440620422363, 13.358681201934814, 13.358681201934814, 2.557616710662841, 13.358681201934814, 13.358681201934814, 2.557616710662841, 14.125364303588867, 14.125364303588867, 14.125364303588867, 14.125364303588867, 14.125364303588867, 13.747786045074461, 13.747786045074461, 13.747786045074461, 13.747786045074461, 13.747786045074461, 34.1719365119934, 34.1719365119934, 21.69820404052734, 21.69820404052734, 19.81519603729248, 19.81519603729248, 14.722037792205809, 14.722037792205809, 17.633610606193542, 17.633610606193542, 34.1719365119934, 34.1719365119934, 21.69820404052734, 21.69820404052734, 19.81519603729248, 19.81519603729248, 14.722037792205809, 14.722037792205809, 17.633610606193542, 17.633610606193542, 18.44011640548706, 18.44011640548706, 33.08040142059326, 33.08040142059326, 30.920199394226074, 30.920199394226074, 40.041176319122314, 40.041176319122314, 23.371044158935547, 23.371044158935547, 18.44011640548706, 18.44011640548706, 33.08040142059326, 33.08040142059326, 30.920199394226074, 30.920199394226074, 40.041176319122314, 40.041176319122314, 23.371044158935547, 23.371044158935547, 36.24429702758789, 36.24429702758789, 45.933552742004395, 45.933552742004395, 30.993893623352054, 30.993893623352054, 41.518795013427734, 41.518795013427734, 18.526440620422363, 18.526440620422363, 36.24429702758789, 36.24429702758789, 45.933552742004395, 45.933552742004395, 30.993893623352054, 30.993893623352054, 41.518795013427734, 41.518795013427734, 18.526440620422363, 18.526440620422363, 13.358681201934814, 13.358681201934814, 13.358681201934814, 13.358681201934814, 13.358681201934814, 2.557616710662841, 2.557616710662841, 2.557616710662841, 2.557616710662841, 2.557616710662841, 13.358681201934814, 2.557616710662841, 14.125364303588867, 13.747786045074461, 34.1719365119934, 14.125364303588867, 14.125364303588867, 14.125364303588867, 19.81519603729248, 19.81519603729248, 13.747786045074461, 13.747786045074461, 13.747786045074461, 17.633610606193542, 34.1719365119934, 34.1719365119934, 21.69820404052734, 21.69820404052734, 19.81519603729248, 19.81519603729248, 14.722037792205809, 14.722037792205809, 17.633610606193542, 17.633610606193542, 18.44011640548706, 34.1719365119934, 21.69820404052734, 21.69820404052734, 19.81519603729248, 19.81519603729248, 14.722037792205809, 14.722037792205809, 17.633610606193542, 23.371044158935547, 18.44011640548706, 18.44011640548706, 33.08040142059326, 33.08040142059326, 30.920199394226074, 30.920199394226074, 40.041176319122314, 40.041176319122314, 23.371044158935547, 23.371044158935547, 18.44011640548706, 36.24429702758789, 45.933552742004395, 45.933552742004395, 30.993893623352054, 30.993893623352054, 41.518795013427734, 41.518795013427734, 18.526440620422363, 23.371044158935547, 36.24429702758789, 36.24429702758789, 45.933552742004395, 45.933552742004395, 30.993893623352054, 30.993893623352054, 41.518795013427734, 41.518795013427734, 18.526440620422363, 18.526440620422363, 36.24429702758789, 13.358681201934814, 13.358681201934814, 13.358681201934814, 30.993893623352054, 30.993893623352054, 2.557616710662841, 2.557616710662841, 2.557616710662841, 18.526440620422363, 13.358681201934814, 2.557616710662841, 13.358681201934814, 2.557616710662841, 14.125364303588867, 14.125364303588867, 14.125364303588867, 14.125364303588867, 14.125364303588867, 14.125364303588867, 13.747786045074461, 13.747786045074461, 13.747786045074461, 13.747786045074461, 13.747786045074461, 34.1719365119934, 34.1719365119934, 21.69820404052734, 21.69820404052734, 21.69820404052734, 19.81519603729248, 14.722037792205809, 14.722037792205809, 14.722037792205809, 17.633610606193542, 17.633610606193542, 34.1719365119934, 34.1719365119934, 34.1719365119934, 21.69820404052734, 19.81519603729248, 19.81519603729248, 19.81519603729248, 14.722037792205809, 17.633610606193542, 17.633610606193542, 17.633610606193542, 18.44011640548706, 18.44011640548706, 18.44011640548706, 33.08040142059326, 33.08040142059326, 30.920199394226074, 40.041176319122314, 40.041176319122314, 23.371044158935547, 23.371044158935547, 23.371044158935547, 18.44011640548706, 18.44011640548706, 33.08040142059326, 33.08040142059326, 30.920199394226074, 30.920199394226074, 40.041176319122314, 40.041176319122314, 40.041176319122314, 23.371044158935547, 23.371044158935547, 36.24429702758789, 36.24429702758789, 36.24429702758789, 45.933552742004395, 30.993893623352054, 30.993893623352054, 41.518795013427734, 41.518795013427734, 18.526440620422363, 18.526440620422363, 18.526440620422363, 36.24429702758789, 36.24429702758789, 45.933552742004395, 45.933552742004395, 45.933552742004395, 30.993893623352054, 41.518795013427734, 41.518795013427734, 41.518795013427734, 18.526440620422363, 18.526440620422363, 13.358681201934814, 13.358681201934814, 13.358681201934814, 13.358681201934814, 13.358681201934814, 13.358681201934814, 2.557616710662841, 2.557616710662841, 2.557616710662841, 2.557616710662841, 2.557616710662841, 13.358681201934814, 13.358681201934814, 2.557616710662841, 18.44011640548706, 36.24429702758789, 23.371044158935547, 18.526440620422363, 18.44011640548706, 23.371044158935547, 18.44011640548706, 23.371044158935547], \"intensitymode\": \"vertex\", \"opacity\": 1, \"type\": \"mesh3d\", \"x\": [-0.02882712843176081, 0.0001099745053924774, 0.029253708080460395, -0.04795671868810269, -0.053704086227710085, -0.044489926644114185, -0.033002830043457373, -0.01808919030505988, 0.00022651026800783635, 0.01940986366189243, 0.03497277407771835, 0.045619638036997194, 0.05458897458988856, 0.04939079407275758, -0.06865023846458514, -0.06880790449635886, -0.06313085013116981, -0.04920335756045019, -0.02692642035058308, 0.00030573500074382407, 0.02890302357127922, 0.050762782336825796, 0.06650784108749588, 0.07153053245621786, 0.0706207700741198, -0.08233486658884587, -0.07910232122063546, -0.07561594333419058, -0.058935660606229165, -0.033356550358219286, 0.00036831176739190335, 0.03406379512931855, 0.06100314213592283, 0.07788711762543042, 0.0801208829575786, 0.0823712962558147, -0.0841154155265538, -0.08241830227770998, -0.07861766954905276, -0.06400467249236043, -0.035409244576858394, 0.00039259821203779327, 0.03689189285080506, 0.06572803077009581, 0.08172770547269861, 0.08331807588015527, 0.08378813609910798, -0.08384620812199112, -0.08307354663708759, -0.07794401449776617, -0.06224008601625442, -0.03477769908685298, 0.00037781090098323937, 0.037588952983827015, 0.06523241102673755, 0.0815963823990287, 0.08377726595654471, 0.08437757202783223, -0.0714974323824666, -0.07093433941184617, -0.06587923347385893, -0.05190963134185812, -0.028027634342692082, 0.00031797615227905084, 0.03125871077271826, 0.05451396081328069, 0.0664818898462412, 0.07154287153696537, 0.0723644976280098, -0.05377332218079333, -0.053704771732196066, -0.04742163347219486, -0.03575532641306233, -0.018579521870954928, 0.00021113538167959154, 0.01946597710052991, 0.036019931144647785, 0.04878794184195073, 0.05451386288406841, 0.05384892353267489, -0.02880431092529915, 0.00010537183241523213, 0.0292246231044127, -0.0292009242350405, 4.406814552681641e-06, 0.029125714600008065, -0.042393262209160544, -0.03775337613124818, -0.027406175561551692, -0.016838634264221115, -0.005808867084920376, 0.006958164320259748, 0.018531438627724557, 0.02805113735363972, 0.03850606005684621, 0.04291483319377348, -0.06194394807831422, -0.060080355168591296, -0.049747843980737075, -0.033605094698990534, -0.011198890928911432, 0.013200172311102588, 0.035434020667565694, 0.051312165217726774, 0.061612359765527994, 0.06300197528780693, -0.07742959234564979, -0.07295716522073933, -0.0638869615791977, -0.04349016731592914, -0.015104405843922466, 0.017227902883041324, 0.04490367756600485, 0.06573801954974855, 0.07643678599153676, 0.07843845909057703, -0.08238294983207624, -0.08064960277468813, -0.07314528723753269, -0.04999374423277671, -0.01784172318562374, 0.01839796111138444, 0.050810669721631604, 0.0754074520412426, 0.08215085759896834, 0.0823809912478306, -0.08517207172707458, -0.08379322841814664, -0.0748248711573781, -0.05183207140573093, -0.01797402555141647, 0.019801188794170557, 0.05397260812778682, 0.07736985552615788, 0.08421902463314797, 0.08678966645554559, -0.07654166817789058, -0.07509231583611972, -0.06670467880418234, -0.045942706508314904, -0.015492597241407577, 0.019017657166703762, 0.04962445317326199, 0.06962355690545409, 0.07689382162525599, 0.07726879257908305, -0.0632596270453204, -0.06165554654814428, -0.05289186134104472, -0.0351442481284238, -0.011797923920439289, 0.013634292509147869, 0.03701587123355384, 0.0534778697473391, 0.061804790667661764, 0.06366740428526187, -0.04197481068508035, -0.039289591684313, -0.0312897543330116, -0.019451091860263073, -0.0067761139146278555, 0.006662711886805514, 0.019873362623622257, 0.03150931162694743, 0.04024655594673089, 0.04298563601425323, -0.014542879740698544, 0.014782022877090734, -0.014504001843422664, 0.014848320953805522, -0.05369439123569419, -0.050115959889704416, -0.03881982525299714, -0.026655058503350173, -0.009007235158044429, 0.010265233819016615, 0.027988462657779357, 0.0400925132958116, 0.05095188364574198, 0.054599648874027275, -0.07002712318926746, -0.06713615491349602, -0.057276641820962954, -0.03915190321184477, -0.013106649913373456, 0.01550630733112703, 0.040928730839486005, 0.05880864641789965, 0.07046907772429527, 0.07129060588612743, -0.08123805941128955, -0.07845491119824038, -0.06973529413666765, -0.047507321532941446, -0.016984744648945584, 0.01803670024727683, 0.048522064030605605, 0.07170288786983385, 0.07989074930871634, 0.08164466150068364, -0.08336919492896638, -0.08122846234848592, -0.0737349190246815, -0.05051296491629489, -0.017900480712992828, 0.01927051039281541, 0.05269169403114069, 0.07650709916595509, 0.08337389553115591, 0.0843169538454298, -0.08305396079463122, -0.08099157158397621, -0.07178328775311722, -0.049992079436167916, -0.016994831357810606, 0.020251565241454623, 0.052878640897386676, 0.07496461614330424, 0.08343549300568118, 0.08367346099152599, -0.07068266133628191, -0.06866140239478527, -0.06045003794495514, -0.04081033442183729, -0.013672191114300932, 0.01693950135287138, 0.043821070124229394, 0.062309126110913104, 0.0706105854360425, 0.07176419155672227, -0.05364111774421288, -0.050853073070549634, -0.04244487090403306, -0.027427426200616844, -0.009306604759989935, 0.010023642452317379, 0.02805436901764502, 0.043304885246291946, 0.051744424760738705, 0.05470286626377231, -0.014498811595171726, 0.014831966775354458, -0.014844501714526531, 0.01481531880926655, -0.03537663414916855, -0.04261066506042617, -0.03259544452036503, -0.021888843741594277, -0.011988200379902855, 0.00016677344851592966, 0.013340211084665581, 0.023602213239676897, 0.033211027548768514, 0.04303822400124857, 0.03693135832335463, -0.058110998709604005, -0.061951782415296766, -0.05466389043728415, -0.042483357084459814, -0.02309337305266059, 0.00027057841353465275, 0.02502904186262293, 0.04421719378790933, 0.05679913898187683, 0.06333395531744229, 0.05934627779332682, -0.07685866503804682, -0.07502836806049971, -0.07002516460502181, -0.05478150342123461, -0.030020004166565594, 0.00034392739353373165, 0.031969089278610544, 0.05631341008895903, 0.07271253804845937, 0.07739747156402135, 0.07826512438483824, -0.08555291843363856, -0.0809561212091302, -0.07847361567778621, -0.06283236189213484, -0.03500871409862578, 0.00038300114923417553, 0.0353230668700504, 0.06381459189132144, 0.0798553968630826, 0.08144576727053927, 0.08362469224380964, -0.08483813311319359, -0.08415360791934372, -0.07985451550017207, -0.06475872742693041, -0.03616535602488628, 0.00038770175142370256, 0.03774182048419893, 0.06742808189530809, 0.0828019889314301, 0.08421902463314797, 0.0849652452307354, -0.07904375955169093, -0.07697157741980774, -0.07213877079370021, -0.058180920167173224, -0.03205056638322901, 0.00035822505852687653, 0.03514855701376421, 0.06096661453974171, 0.07508311049016524, 0.07767627603138767, 0.07987086967862313, -0.06323318615800431, -0.06324591695560093, -0.057496492902535626, -0.0452044181769223, -0.02413788603085842, 0.0002670529618925075, 0.025889252063306386, 0.04616745405050167, 0.05955339807730285, 0.06380254659821077, 0.0636909072962095, -0.04223530238974998, -0.042086449987081616, -0.035484062495041706, -0.025446318236155743, -0.013381439283036227, 0.0001641293597843207, 0.013367925051741336, 0.026111453445973824, 0.03691990060551766, 0.042765295286619154, 0.04228250427006981, -0.028782766498597154, 5.1412836447952475e-05, 0.02894062838879544, -0.08241830227770998, -0.07093433941184617, 0.08331807588015527, 0.07154287153696537, -0.0842936466929067, 0.08401729045584742, -0.0842936466929067, 0.08401729045584742], \"y\": [0.08217935499974235, 0.08641959196233262, 0.08313788612955673, 0.06276009013347085, 0.06715221530431023, 0.07135337851120006, 0.0752459667701899, 0.07824945571087313, 0.07909840405214419, 0.07863901811733019, 0.07611636160895066, 0.0722793971425369, 0.0682143555407188, 0.0625471920259702, 0.04078976928725811, 0.041594747412214625, 0.04704059090720632, 0.052011379793418924, 0.05575217777337195, 0.057300340690335155, 0.05640908692935836, 0.05318026287121466, 0.0487978326923912, 0.04350182089219068, 0.04119558794295395, 0.014265642140728726, 0.013827898561829017, 0.018257236833335477, 0.022245795720361488, 0.025472465335834985, 0.02682281124398892, 0.02589042721385377, 0.023231551171190228, 0.019522873972865642, 0.015097452869850458, 0.014067237556645771, -0.015500921224451531, -0.015686986727786977, -0.013474765822340796, -0.011390832184983789, -0.009777154625004053, -0.008977170889873912, -0.009424805319214085, -0.010674577926354598, -0.012511729948761435, -0.014709261472365346, -0.016022492209064473, -0.04555147930524905, -0.04506868828869971, -0.04558673382167051, -0.046035347543133494, -0.04631258514310331, -0.046338144667508865, -0.0460983160266307, -0.04567144259029427, -0.04514663994167603, -0.04460215352138914, -0.04606129878438817, -0.07223816894416625, -0.07193165050972417, -0.07471088155428206, -0.07715627191417125, -0.07885740026071865, -0.07943528054239363, -0.07882038301847612, -0.07693338502701783, -0.07433248307802513, -0.07155521061771287, -0.07284983480407846, -0.09601450032328021, -0.09550830422499552, -0.09728366291445253, -0.09876445053336584, -0.09966060075495672, -0.10006211052531216, -0.09968508305802719, -0.09876072922329913, -0.09738678237498528, -0.09560349141933344, -0.0960598415485667, -0.1101204199187773, -0.11251283057482202, -0.10983348732679159, -0.11219749851127457, -0.11610977054193306, -0.11189391795320096, 0.07428439983479476, 0.0782975389541035, 0.0807515470846735, 0.08309205525820886, 0.08507894104619458, 0.08527088230226694, 0.08382436990765227, 0.0812576452537459, 0.0790159476554029, 0.07495678180632169, 0.052742029646253547, 0.05758159338800852, 0.06271504269582123, 0.0669768240851135, 0.06929089137133278, 0.06972657843677456, 0.06771893165578508, 0.06372332186547479, 0.0588013996561908, 0.05346915404744602, 0.027499795888493102, 0.030652137231844706, 0.035673849308443854, 0.039918101368737684, 0.0427558940822401, 0.04314173517863045, 0.04076088016963498, 0.03701704638410122, 0.032298719007151123, 0.02792324180239967, -0.0018084587632082637, 0.0008091890810846312, 0.004214187792123313, 0.007028575423890372, 0.008905780494120469, 0.0090563956226099, 0.007636324115311311, 0.005225208979720763, 0.0019054086833672598, -0.001770853945692047, -0.03154858124107243, -0.02999444464216004, -0.029115040315869346, -0.02830722224375666, -0.027735413573243148, -0.027565212602297356, -0.027798382056740355, -0.028386055259643522, -0.029202784890073854, -0.03160400917522394, -0.05949855771842504, -0.05957200462763639, -0.061670627646835674, -0.06335119085880389, -0.06424146532765787, -0.06423666679625606, -0.06314691052198403, -0.061327483687000195, -0.05918087535378283, -0.05969304513401672, -0.08584063445932254, -0.08569080276453135, -0.08803718669080363, -0.08976867309315838, -0.09068920768860743, -0.09077450403250491, -0.08973165585091586, -0.08778394174784285, -0.0854218891476055, -0.08598791999459439, -0.10583503758932511, -0.10491058582538479, -0.10601033087930956, -0.10668604244405407, -0.10699745733911026, -0.10690246600319689, -0.10665862226461517, -0.10601033087930956, -0.10502418371163169, -0.10686721148677543, -0.11554373969494416, -0.11557409775075154, 0.08542864626325294, 0.08626682239117298, 0.06503792361114587, 0.06936933267037051, 0.07331676128823815, 0.07707920162410546, 0.07893593948896865, 0.07919045751168909, 0.07766070528663487, 0.07417148745303384, 0.07035900528969052, 0.06577885603127007, 0.04026780658579605, 0.04434655827733361, 0.04962288630586548, 0.054115780636142835, 0.05670307042462836, 0.05724540240224506, 0.0550615809683606, 0.051007213650681206, 0.046214460072396935, 0.040955759302075796, 0.013044464863574502, 0.0160508916806262, 0.02038915578471057, 0.02402125233903078, 0.026464488256249766, 0.026706177552161283, 0.024715178737259716, 0.021550987959222015, 0.017317508112279188, 0.01326715589230335, -0.016702512659149394, -0.01457451087626557, -0.012377958644784475, -0.010532090922484558, -0.009236585373208438, -0.00911143183991228, -0.009934135152291801, -0.011492286848907747, -0.013618330047545934, -0.016734437582353264, -0.04626734184702911, -0.045338972914597514, -0.04582274322326967, -0.04619888932764413, -0.046361549749244224, -0.04625402347415879, -0.045919203497367264, -0.045413007399082564, -0.04485872805756749, -0.04624344711923235, -0.0730823187540355, -0.07331734886351185, -0.07601637588321093, -0.07810128881269075, -0.07932550189542571, -0.07930405539793599, -0.07796252311888742, -0.07570143553651261, -0.07295657764546565, -0.07352260849245452, -0.09692720058174673, -0.09640523788028466, -0.09808873896862132, -0.09926202886096974, -0.09994655405481963, -0.09991619599901226, -0.09929052626174376, -0.0981437751859237, -0.0964955286140085, -0.09782540731679552, -0.1127165233363682, -0.11280563891954465, -0.11579345918626281, -0.11570434360308635, 0.07088126177878944, 0.07695297086947421, 0.07952547334690517, 0.0818317062961419, 0.08440920316339925, 0.08551374674872583, 0.08496132806224413, 0.08262963351781413, 0.08011774922278558, 0.07765375231256286, 0.07067345599032743, 0.05158930488848431, 0.054832720399257996, 0.06012481503096724, 0.06499287617349622, 0.06846926528028835, 0.06980394251447719, 0.06909483708834457, 0.06588168170416597, 0.06130349102999116, 0.05608778118386173, 0.05118446552491129, 0.028174528161114803, 0.028059950982745083, 0.033223758346365144, 0.03791446968545177, 0.041536773318543795, 0.04316132102108681, 0.04220837185637248, 0.03902655382012405, 0.03476457657240721, 0.02971534638715687, 0.028342378830965836, -0.000504041655614498, -0.0009221993920578447, 0.0025317639251217438, 0.005710546155789434, 0.008137036177708229, 0.009311109503754899, 0.008472737517410286, 0.006482717994631539, 0.0035878325503688286, 0.00017793737871605648, -0.0009325798885597171, -0.03059083354495629, -0.03044883618714766, -0.029547887434154967, -0.028689048242443456, -0.027978278019702048, -0.027579804054927347, -0.027640618095754355, -0.028047220185148446, -0.028769937771788233, -0.0296532592665702, -0.031074212136779324, -0.05938985629279222, -0.0584869489555539, -0.06064041233363099, -0.06260105309272519, -0.06396726353326879, -0.06438845707529287, -0.06378922822534044, -0.0622978642515007, -0.06027376536284788, -0.05807525454712115, -0.059947661085949434, -0.08464198090099312, -0.08443632955520132, -0.08686791189615876, -0.08900570660027077, -0.09038073066991972, -0.09083717872836526, -0.09038386440471274, -0.0888337429035039, -0.08667146589632144, -0.08416349876978418, -0.08492245016496824, -0.10528957187691541, -0.10428775603527245, -0.10548543030147903, -0.10636679321201536, -0.10700333309184716, -0.10701312601307533, -0.10684664635219625, -0.10641771640240191, -0.10560686252470848, -0.10439156100029118, -0.10521906284407251, -0.11213972027602831, -0.11687165981348559, -0.11128283966856244, -0.015686986727786977, -0.07193165050972417, -0.014709261472365346, -0.07155521061771287, -0.044058058817951384, -0.044077252943558624, -0.024472216361588535, -0.02449141048719577], \"z\": [-0.006845251938498816, -0.0016775274063874782, -0.006933388229552449, -0.046695586292337485, -0.010370703580644128, 0.0058542083102068555, 0.02078743389106071, 0.0320737756065398, 0.03468358911385015, 0.03208552711201362, 0.021501337848595134, 0.005909048669084671, -0.010532286780909124, -0.04701091835588493, -0.04891760011901185, -0.011183516042583186, 0.016570602010205788, 0.04131829324594307, 0.05909244527509235, 0.06508571306673938, 0.0583070529925922, 0.03996882870069967, 0.01602807417416454, -0.01175150547381771, -0.04940724618042092, -0.04938472246159611, -0.010904417787580016, 0.023953485324131767, 0.0543938016698109, 0.07833063902785475, 0.08683187394603906, 0.07717605361505218, 0.054478020792373266, 0.023931940897429765, -0.011095379751529555, -0.04949146530298328, -0.047283161566028374, -0.00915246417985836, 0.028556158301377036, 0.06302528244033001, 0.08789342660717392, 0.09816815955978188, 0.08658117516259761, 0.0622633931687775, 0.028603164323272305, -0.009293482245544172, -0.047271410060554554, -0.044760505057648836, -0.006909885218604813, 0.030308111909098694, 0.06426506626781778, 0.08942406019513868, 0.09737297435605355, 0.08881689907899143, 0.06422197741441378, 0.030559789984662952, -0.0069823528356933555, -0.04491915038154538, -0.0401490184512982, -0.0024354995094487204, 0.02779426902982452, 0.054781601350446886, 0.0738738805769094, 0.08090421872662083, 0.0751273744941166, 0.05538974175871696, 0.02750929502208444, -0.002487401991958082, -0.040366421302563835, -0.034730595135745425, 0.0027341836069082535, 0.02115173056074906, 0.0363973503287819, 0.04557233822746508, 0.049560015751580554, 0.045432299453902085, 0.03564329539421193, 0.02127707995246978, 0.002673467495293529, -0.0348050213370796, 0.008655963073589562, 0.014353484644145514, 0.008617770680799655, -0.028610998660254853, -0.02260010361039709, -0.028650170345167578, -0.027659126716875617, -0.004891564153476621, 0.002646047315854621, 0.009819362115497514, 0.015864532389653907, 0.01612796197069199, 0.011206039761408004, 0.0027694381233297066, -0.004627155280315723, -0.027720822120613157, -0.029688219995354807, 0.0008784250341678738, 0.02261087582374809, 0.04033508395463366, 0.049305399799647834, 0.050115274385218435, 0.040399717234739646, 0.02238857651186837, 0.0006169540373754298, -0.02981356938707553, -0.030605816714435408, 0.004745649627176719, 0.03539553448713894, 0.06041253105665121, 0.07607337068475895, 0.07617717564977766, 0.059391129372551886, 0.03456509476698916, 0.004390166586593732, -0.03068905654487495, -0.029177029507243737, 0.008401347121656844, 0.04436878820852158, 0.07283681021884497, 0.0906129208322399, 0.08966594534947477, 0.0719848260719932, 0.04441089776980276, 0.008324962336077029, -0.02902425993608411, -0.02727132703623963, 0.010922045045790743, 0.048197820408740516, 0.07864107463078812, 0.09618607230319795, 0.09613906628130268, 0.0788075542916672, 0.048600309471218774, 0.011015077797458465, -0.02742017943890799, -0.023330655534019428, 0.012613282541897676, 0.04627351138740287, 0.07373677967971486, 0.08927618708459314, 0.09049148860901046, 0.07455350931014518, 0.04634793758873705, 0.012634826968599673, -0.02331204898368588, -0.01862026042326416, 0.012683791574740581, 0.0365589335290469, 0.05435462998489818, 0.06415146838157088, 0.06557144195965718, 0.055558180003841676, 0.0362680837685699, 0.01258977953095004, -0.018559544311649436, -0.012878670707181392, 0.011811242293309616, 0.02256974555458973, 0.029143733575067922, 0.03203264533738144, 0.030928003822842578, 0.028344631202848313, 0.02179414619331776, 0.011886647786766614, -0.012897277257514937, -0.006776701489901546, -0.006789432287498181, -0.004384290833856824, -0.004456758450945367, -0.029088893216190105, -0.00171865767554584, 0.013394757655906553, 0.027787413984964794, 0.0344054701509698, 0.0346267901707267, 0.027880446736632515, 0.013572988822259454, -0.0018802408758108334, -0.029206408270928283, -0.030215079157430966, 0.0029398349527000635, 0.029566787772125357, 0.0515107656602343, 0.06299982084513674, 0.06364615364619672, 0.05043256503301152, 0.028113518261863233, 0.0024237480039749027, -0.03038351740255569, -0.03017003171978133, 0.006708151041304276, 0.04046826768333692, 0.06770434020315509, 0.0851230091917214, 0.08464707322003177, 0.06701295996444549, 0.040441826796020826, 0.006428073494178287, -0.03011225348453506, -0.028136041980688052, 0.009801734857286788, 0.0469120098514803, 0.07641906080411374, 0.09533996390908307, 0.09372413190643315, 0.07612037670665422, 0.04684933515561994, 0.009685199094671429, -0.028160524283758506, -0.025677039460291696, 0.011726043878624437, 0.04809205685947616, 0.0783590384994165, 0.09539284568371525, 0.09604113706902087, 0.0784187753189084, 0.048122414915283525, 0.011851393270345161, -0.025633950606887695, -0.02109003515701152, 0.012729818304513035, 0.04213698146061903, 0.06533347397381238, 0.079325599824638, 0.07995038819899597, 0.06625400856926143, 0.042226097043795485, 0.012755279899706306, -0.021129206841924243, -0.015857677344794183, 0.012049210279154425, 0.02938757731364964, 0.04150142087291006, 0.04839465812542696, 0.04792851507496553, 0.04126541147131089, 0.02919073959696319, 0.011996328504522246, -0.01587236672663645, 0.011584046520815808, 0.01158796368930708, -0.025508601215166973, -0.025540917855219974, -0.044902502415457464, -0.009048659214839636, -0.0011163930200126823, 0.005945282477628943, 0.013894196638543806, 0.01708081320619404, 0.014985128063363216, 0.0072790783489072525, -0.0010135673471167773, -0.009107416742208725, -0.04524035819782973, -0.04776007682984081, -0.010941630888247105, 0.011637907587570806, 0.03213155384178607, 0.04631366236443841, 0.05101328526184268, 0.046836604358023295, 0.03205321047196062, 0.011653576261535896, -0.011222687727495913, -0.04802252711875607, -0.049475796629018194, -0.011269693749391184, 0.020558279534321263, 0.04875699621086967, 0.06956891240500085, 0.07750215789195061, 0.0693289858349104, 0.04780022780687635, 0.019957973463033744, -0.011748567597449255, -0.049859679141162905, -0.04880498152488777, -0.010071040191061777, 0.02674642645840911, 0.0596242008977826, 0.08368932552391564, 0.0935811552565017, 0.08209601724009051, 0.05880845055947509, 0.026637725032776293, -0.010149383560887229, -0.048494545921954416, -0.04620104377031432, -0.00829852144876094, 0.029646110434073628, 0.06453339230946994, 0.08983438359459947, 0.09917193398567048, 0.08909208016550332, 0.06503478987635283, 0.030238582168378603, -0.008260329055971032, -0.04627449067952569, -0.042691260802134104, -0.004659471920368722, 0.02975089469121517, 0.061374195921258624, 0.08416428220348243, 0.09211025848802885, 0.08419953671990389, 0.06142022265103108, 0.029910519307234526, -0.00473977387443981, -0.042892994979434634, -0.03753039131488249, 3.23166400529987e-05, 0.024671306450157464, 0.04646349405922959, 0.06079053781605901, 0.06594749013481935, 0.061890282869983784, 0.04669068983172339, 0.025130594455759173, -8.813629105363281e-06, -0.037651823538111945, -0.031716333981711184, 0.005653453425029136, 0.01738243518002203, 0.025994330108084773, 0.03217562198731289, 0.03211098870720689, 0.030295381111502054, 0.025868001424241234, 0.017694829367201015, 0.005607426695256683, -0.03179076018304536, -0.009812507070637787, -0.003854493795412209, -0.00984286512644515, -0.00915246417985836, -0.0024354995094487204, -0.009293482245544172, -0.002487401991958082, -0.06657815426191424, -0.06662222240744106, -0.06657815426191424, -0.06662222240744106]}, {\"connectgaps\": true, \"marker\": {\"color\": \"black\", \"size\": 5}, \"mode\": \"markers+text\", \"text\": [\"Fp1\", \"Fp2\", \"F7\", \"T3\", \"T5\", \"F3\", \"C3\", \"P3\", \"Fz\", \"Cz\", \"Pz\", \"F4\", \"C4\", \"P4\", \"F8\", \"T4\", \"T6\", \"O1\", \"O2\"], \"textfont\": {\"family\": \"sans serif\", \"size\": 18}, \"textposition\": \"top center\", \"type\": \"scatter3d\", \"x\": [-0.02882712843176081, 0.029253708080460395, -0.06880790449635886, -0.08241830227770998, -0.07093433941184617, -0.04920335756045019, -0.06400467249236043, -0.05190963134185812, 0.00030573500074382407, 0.00039259821203779327, 0.00031797615227905084, 0.050762782336825796, 0.06572803077009581, 0.05451396081328069, 0.07153053245621786, 0.08331807588015527, 0.07154287153696537, -0.02880431092529915, 0.0292246231044127], \"y\": [0.08217935499974235, 0.08313788612955673, 0.041594747412214625, -0.015686986727786977, -0.07193165050972417, 0.052011379793418924, -0.011390832184983789, -0.07715627191417125, 0.057300340690335155, -0.008977170889873912, -0.07943528054239363, 0.05318026287121466, -0.010674577926354598, -0.07693338502701783, 0.04350182089219068, -0.014709261472365346, -0.07155521061771287, -0.1101204199187773, -0.10983348732679159], \"z\": [-0.006845251938498816, -0.006933388229552449, -0.011183516042583186, -0.00915246417985836, -0.0024354995094487204, 0.04131829324594307, 0.06302528244033001, 0.054781601350446886, 0.06508571306673938, 0.09816815955978188, 0.08090421872662083, 0.03996882870069967, 0.0622633931687775, 0.05538974175871696, -0.01175150547381771, -0.009293482245544172, -0.002487401991958082, 0.008655963073589562, 0.008617770680799655]}],                        {\"height\": 600, \"scene\": {\"aspectratio\": {\"x\": 1.5, \"y\": 1.5, \"z\": 1}}, \"template\": {\"data\": {\"bar\": [{\"error_x\": {\"color\": \"#2a3f5f\"}, \"error_y\": {\"color\": \"#2a3f5f\"}, \"marker\": {\"line\": {\"color\": \"#E5ECF6\", \"width\": 0.5}}, \"type\": \"bar\"}], \"barpolar\": [{\"marker\": {\"line\": {\"color\": \"#E5ECF6\", \"width\": 0.5}}, \"type\": \"barpolar\"}], \"carpet\": [{\"aaxis\": {\"endlinecolor\": \"#2a3f5f\", \"gridcolor\": \"white\", \"linecolor\": \"white\", \"minorgridcolor\": \"white\", \"startlinecolor\": \"#2a3f5f\"}, \"baxis\": {\"endlinecolor\": \"#2a3f5f\", \"gridcolor\": \"white\", \"linecolor\": \"white\", \"minorgridcolor\": \"white\", \"startlinecolor\": \"#2a3f5f\"}, \"type\": \"carpet\"}], \"choropleth\": [{\"colorbar\": {\"outlinewidth\": 0, \"ticks\": \"\"}, \"type\": \"choropleth\"}], \"contour\": [{\"colorbar\": {\"outlinewidth\": 0, \"ticks\": \"\"}, \"colorscale\": [[0.0, \"#0d0887\"], [0.1111111111111111, \"#46039f\"], [0.2222222222222222, \"#7201a8\"], [0.3333333333333333, \"#9c179e\"], [0.4444444444444444, \"#bd3786\"], [0.5555555555555556, \"#d8576b\"], [0.6666666666666666, \"#ed7953\"], [0.7777777777777778, \"#fb9f3a\"], [0.8888888888888888, \"#fdca26\"], [1.0, \"#f0f921\"]], \"type\": \"contour\"}], \"contourcarpet\": [{\"colorbar\": {\"outlinewidth\": 0, \"ticks\": \"\"}, \"type\": \"contourcarpet\"}], \"heatmap\": [{\"colorbar\": {\"outlinewidth\": 0, \"ticks\": \"\"}, \"colorscale\": [[0.0, \"#0d0887\"], [0.1111111111111111, \"#46039f\"], [0.2222222222222222, \"#7201a8\"], [0.3333333333333333, \"#9c179e\"], [0.4444444444444444, \"#bd3786\"], [0.5555555555555556, \"#d8576b\"], [0.6666666666666666, \"#ed7953\"], [0.7777777777777778, \"#fb9f3a\"], [0.8888888888888888, \"#fdca26\"], [1.0, \"#f0f921\"]], \"type\": \"heatmap\"}], \"heatmapgl\": [{\"colorbar\": {\"outlinewidth\": 0, \"ticks\": \"\"}, \"colorscale\": [[0.0, \"#0d0887\"], [0.1111111111111111, \"#46039f\"], [0.2222222222222222, \"#7201a8\"], [0.3333333333333333, \"#9c179e\"], [0.4444444444444444, \"#bd3786\"], [0.5555555555555556, \"#d8576b\"], [0.6666666666666666, \"#ed7953\"], [0.7777777777777778, \"#fb9f3a\"], [0.8888888888888888, \"#fdca26\"], [1.0, \"#f0f921\"]], \"type\": \"heatmapgl\"}], \"histogram\": [{\"marker\": {\"colorbar\": {\"outlinewidth\": 0, \"ticks\": \"\"}}, \"type\": \"histogram\"}], \"histogram2d\": [{\"colorbar\": {\"outlinewidth\": 0, \"ticks\": \"\"}, \"colorscale\": [[0.0, \"#0d0887\"], [0.1111111111111111, \"#46039f\"], [0.2222222222222222, \"#7201a8\"], [0.3333333333333333, \"#9c179e\"], [0.4444444444444444, \"#bd3786\"], [0.5555555555555556, \"#d8576b\"], [0.6666666666666666, \"#ed7953\"], [0.7777777777777778, \"#fb9f3a\"], [0.8888888888888888, \"#fdca26\"], [1.0, \"#f0f921\"]], \"type\": \"histogram2d\"}], \"histogram2dcontour\": [{\"colorbar\": {\"outlinewidth\": 0, \"ticks\": \"\"}, \"colorscale\": [[0.0, \"#0d0887\"], [0.1111111111111111, \"#46039f\"], [0.2222222222222222, \"#7201a8\"], [0.3333333333333333, \"#9c179e\"], [0.4444444444444444, \"#bd3786\"], [0.5555555555555556, \"#d8576b\"], [0.6666666666666666, \"#ed7953\"], [0.7777777777777778, \"#fb9f3a\"], [0.8888888888888888, \"#fdca26\"], [1.0, \"#f0f921\"]], \"type\": \"histogram2dcontour\"}], \"mesh3d\": [{\"colorbar\": {\"outlinewidth\": 0, \"ticks\": \"\"}, \"type\": \"mesh3d\"}], \"parcoords\": [{\"line\": {\"colorbar\": {\"outlinewidth\": 0, \"ticks\": \"\"}}, \"type\": \"parcoords\"}], \"pie\": [{\"automargin\": true, \"type\": \"pie\"}], \"scatter\": [{\"marker\": {\"colorbar\": {\"outlinewidth\": 0, \"ticks\": \"\"}}, \"type\": \"scatter\"}], \"scatter3d\": [{\"line\": {\"colorbar\": {\"outlinewidth\": 0, \"ticks\": \"\"}}, \"marker\": {\"colorbar\": {\"outlinewidth\": 0, \"ticks\": \"\"}}, \"type\": \"scatter3d\"}], \"scattercarpet\": [{\"marker\": {\"colorbar\": {\"outlinewidth\": 0, \"ticks\": \"\"}}, \"type\": \"scattercarpet\"}], \"scattergeo\": [{\"marker\": {\"colorbar\": {\"outlinewidth\": 0, \"ticks\": \"\"}}, \"type\": \"scattergeo\"}], \"scattergl\": [{\"marker\": {\"colorbar\": {\"outlinewidth\": 0, \"ticks\": \"\"}}, \"type\": \"scattergl\"}], \"scattermapbox\": [{\"marker\": {\"colorbar\": {\"outlinewidth\": 0, \"ticks\": \"\"}}, \"type\": \"scattermapbox\"}], \"scatterpolar\": [{\"marker\": {\"colorbar\": {\"outlinewidth\": 0, \"ticks\": \"\"}}, \"type\": \"scatterpolar\"}], \"scatterpolargl\": [{\"marker\": {\"colorbar\": {\"outlinewidth\": 0, \"ticks\": \"\"}}, \"type\": \"scatterpolargl\"}], \"scatterternary\": [{\"marker\": {\"colorbar\": {\"outlinewidth\": 0, \"ticks\": \"\"}}, \"type\": \"scatterternary\"}], \"surface\": [{\"colorbar\": {\"outlinewidth\": 0, \"ticks\": \"\"}, \"colorscale\": [[0.0, \"#0d0887\"], [0.1111111111111111, \"#46039f\"], [0.2222222222222222, \"#7201a8\"], [0.3333333333333333, \"#9c179e\"], [0.4444444444444444, \"#bd3786\"], [0.5555555555555556, \"#d8576b\"], [0.6666666666666666, \"#ed7953\"], [0.7777777777777778, \"#fb9f3a\"], [0.8888888888888888, \"#fdca26\"], [1.0, \"#f0f921\"]], \"type\": \"surface\"}], \"table\": [{\"cells\": {\"fill\": {\"color\": \"#EBF0F8\"}, \"line\": {\"color\": \"white\"}}, \"header\": {\"fill\": {\"color\": \"#C8D4E3\"}, \"line\": {\"color\": \"white\"}}, \"type\": \"table\"}]}, \"layout\": {\"annotationdefaults\": {\"arrowcolor\": \"#2a3f5f\", \"arrowhead\": 0, \"arrowwidth\": 1}, \"autotypenumbers\": \"strict\", \"coloraxis\": {\"colorbar\": {\"outlinewidth\": 0, \"ticks\": \"\"}}, \"colorscale\": {\"diverging\": [[0, \"#8e0152\"], [0.1, \"#c51b7d\"], [0.2, \"#de77ae\"], [0.3, \"#f1b6da\"], [0.4, \"#fde0ef\"], [0.5, \"#f7f7f7\"], [0.6, \"#e6f5d0\"], [0.7, \"#b8e186\"], [0.8, \"#7fbc41\"], [0.9, \"#4d9221\"], [1, \"#276419\"]], \"sequential\": [[0.0, \"#0d0887\"], [0.1111111111111111, \"#46039f\"], [0.2222222222222222, \"#7201a8\"], [0.3333333333333333, \"#9c179e\"], [0.4444444444444444, \"#bd3786\"], [0.5555555555555556, \"#d8576b\"], [0.6666666666666666, \"#ed7953\"], [0.7777777777777778, \"#fb9f3a\"], [0.8888888888888888, \"#fdca26\"], [1.0, \"#f0f921\"]], \"sequentialminus\": [[0.0, \"#0d0887\"], [0.1111111111111111, \"#46039f\"], [0.2222222222222222, \"#7201a8\"], [0.3333333333333333, \"#9c179e\"], [0.4444444444444444, \"#bd3786\"], [0.5555555555555556, \"#d8576b\"], [0.6666666666666666, \"#ed7953\"], [0.7777777777777778, \"#fb9f3a\"], [0.8888888888888888, \"#fdca26\"], [1.0, \"#f0f921\"]]}, \"colorway\": [\"#636efa\", \"#EF553B\", \"#00cc96\", \"#ab63fa\", \"#FFA15A\", \"#19d3f3\", \"#FF6692\", \"#B6E880\", \"#FF97FF\", \"#FECB52\"], \"font\": {\"color\": \"#2a3f5f\"}, \"geo\": {\"bgcolor\": \"white\", \"lakecolor\": \"white\", \"landcolor\": \"#E5ECF6\", \"showlakes\": true, \"showland\": true, \"subunitcolor\": \"white\"}, \"hoverlabel\": {\"align\": \"left\"}, \"hovermode\": \"closest\", \"mapbox\": {\"style\": \"light\"}, \"paper_bgcolor\": \"white\", \"plot_bgcolor\": \"#E5ECF6\", \"polar\": {\"angularaxis\": {\"gridcolor\": \"white\", \"linecolor\": \"white\", \"ticks\": \"\"}, \"bgcolor\": \"#E5ECF6\", \"radialaxis\": {\"gridcolor\": \"white\", \"linecolor\": \"white\", \"ticks\": \"\"}}, \"scene\": {\"xaxis\": {\"backgroundcolor\": \"#E5ECF6\", \"gridcolor\": \"white\", \"gridwidth\": 2, \"linecolor\": \"white\", \"showbackground\": true, \"ticks\": \"\", \"zerolinecolor\": \"white\"}, \"yaxis\": {\"backgroundcolor\": \"#E5ECF6\", \"gridcolor\": \"white\", \"gridwidth\": 2, \"linecolor\": \"white\", \"showbackground\": true, \"ticks\": \"\", \"zerolinecolor\": \"white\"}, \"zaxis\": {\"backgroundcolor\": \"#E5ECF6\", \"gridcolor\": \"white\", \"gridwidth\": 2, \"linecolor\": \"white\", \"showbackground\": true, \"ticks\": \"\", \"zerolinecolor\": \"white\"}}, \"shapedefaults\": {\"line\": {\"color\": \"#2a3f5f\"}}, \"ternary\": {\"aaxis\": {\"gridcolor\": \"white\", \"linecolor\": \"white\", \"ticks\": \"\"}, \"baxis\": {\"gridcolor\": \"white\", \"linecolor\": \"white\", \"ticks\": \"\"}, \"bgcolor\": \"#E5ECF6\", \"caxis\": {\"gridcolor\": \"white\", \"linecolor\": \"white\", \"ticks\": \"\"}}, \"title\": {\"x\": 0.05}, \"xaxis\": {\"automargin\": true, \"gridcolor\": \"white\", \"linecolor\": \"white\", \"ticks\": \"\", \"title\": {\"standoff\": 15}, \"zerolinecolor\": \"white\", \"zerolinewidth\": 2}, \"yaxis\": {\"automargin\": true, \"gridcolor\": \"white\", \"linecolor\": \"white\", \"ticks\": \"\", \"title\": {\"standoff\": 15}, \"zerolinecolor\": \"white\", \"zerolinewidth\": 2}}}, \"title\": {\"text\": \"\"}, \"width\": 1000},                        {\"responsive\": true}                    ).then(function(){\n",
       "                            \n",
       "var gd = document.getElementById('d088c867-29cf-4473-93ea-b9b344fe6a64');\n",
       "var x = new MutationObserver(function (mutations, observer) {{\n",
       "        var display = window.getComputedStyle(gd).display;\n",
       "        if (!display || display === 'none') {{\n",
       "            console.log([gd, 'removed!']);\n",
       "            Plotly.purge(gd);\n",
       "            observer.disconnect();\n",
       "        }}\n",
       "}});\n",
       "\n",
       "// Listen for the removal of the full notebook cells\n",
       "var notebookContainer = gd.closest('#notebook-container');\n",
       "if (notebookContainer) {{\n",
       "    x.observe(notebookContainer, {childList: true});\n",
       "}}\n",
       "\n",
       "// Listen for the clearing of the current output cell\n",
       "var outputEl = gd.closest('.output');\n",
       "if (outputEl) {{\n",
       "    x.observe(outputEl, {childList: true});\n",
       "}}\n",
       "\n",
       "                        })                };                });            </script>        </div>"
      ]
     },
     "metadata": {},
     "output_type": "display_data"
    }
   ],
   "source": [
    "topo_3d_map(raw.data[0], -300)"
   ]
  },
  {
   "cell_type": "code",
   "execution_count": null,
   "id": "355fe4af",
   "metadata": {},
   "outputs": [],
   "source": [
    "epoch"
   ]
  }
 ],
 "metadata": {
  "kernelspec": {
   "display_name": "Python [conda env:capstone]",
   "language": "python",
   "name": "conda-env-capstone-py"
  },
  "language_info": {
   "codemirror_mode": {
    "name": "ipython",
    "version": 3
   },
   "file_extension": ".py",
   "mimetype": "text/x-python",
   "name": "python",
   "nbconvert_exporter": "python",
   "pygments_lexer": "ipython3",
   "version": "3.9.4"
  }
 },
 "nbformat": 4,
 "nbformat_minor": 5
}
