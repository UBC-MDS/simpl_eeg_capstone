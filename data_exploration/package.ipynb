{
 "cells": [
  {
   "cell_type": "code",
   "execution_count": null,
   "id": "43281aa6",
   "metadata": {},
   "outputs": [],
   "source": [
    "from simpl_eeg import raw_voltage\n",
    "from simpl_eeg import eeg_objects\n",
    "from simpl_eeg import connectivity\n",
    "from simpl_eeg import topomap_2d\n",
    "from simpl_eeg import topomap_3d_brain\n",
    "from simpl_eeg import topomap_3d_head"
   ]
  },
  {
   "cell_type": "code",
   "execution_count": null,
   "id": "7528231a",
   "metadata": {},
   "outputs": [],
   "source": [
    "raw = eeg_objects.Epochs(\"927\")"
   ]
  },
  {
   "cell_type": "code",
   "execution_count": null,
   "id": "690d0fdd",
   "metadata": {},
   "outputs": [],
   "source": [
    "epoch = raw.get_nth_epoch(0)"
   ]
  },
  {
   "cell_type": "code",
   "execution_count": null,
   "id": "b8760aa4",
   "metadata": {},
   "outputs": [],
   "source": [
    "raw_voltage.plot_voltage(epoch);"
   ]
  },
  {
   "cell_type": "code",
   "execution_count": null,
   "id": "9b0c5742",
   "metadata": {},
   "outputs": [],
   "source": [
    "# from IPython.display import HTML\n",
    "# pair_list = connectivity.PAIR_OPTIONS[\"far_coherence\"];\n",
    "# anim = connectivity.animate_connectivity(epoch, \"correlation\", pair_list=pair_list);\n",
    "# HTML(anim.to_jshtml())"
   ]
  },
  {
   "cell_type": "code",
   "execution_count": null,
   "id": "f1f13891",
   "metadata": {},
   "outputs": [],
   "source": [
    "epoch2 = raw.get_frame(-300, 10, 30)"
   ]
  },
  {
   "cell_type": "code",
   "execution_count": null,
   "id": "6f6c93a1",
   "metadata": {},
   "outputs": [],
   "source": [
    "topomap_3d_head.animate_3d_head(epoch)"
   ]
  },
  {
   "cell_type": "code",
   "execution_count": null,
   "id": "5cb383eb",
   "metadata": {},
   "outputs": [],
   "source": [
    "anim2 = topomap_2d.animate_topomap_2d(epoch, steps = 50);"
   ]
  },
  {
   "cell_type": "code",
   "execution_count": null,
   "id": "03fad982",
   "metadata": {},
   "outputs": [],
   "source": [
    "HTML(anim2.to_jshtml())"
   ]
  },
  {
   "cell_type": "code",
   "execution_count": null,
   "id": "97788477",
   "metadata": {},
   "outputs": [],
   "source": []
  }
 ],
 "metadata": {
  "kernelspec": {
   "display_name": "Python [conda env:capstone]",
   "language": "python",
   "name": "conda-env-capstone-py"
  },
  "language_info": {
   "codemirror_mode": {
    "name": "ipython",
    "version": 3
   },
   "file_extension": ".py",
   "mimetype": "text/x-python",
   "name": "python",
   "nbconvert_exporter": "python",
   "pygments_lexer": "ipython3",
   "version": "3.9.4"
  }
 },
 "nbformat": 4,
 "nbformat_minor": 5
}
