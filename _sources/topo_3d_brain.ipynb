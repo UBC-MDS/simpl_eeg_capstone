{
 "cells": [
  {
   "cell_type": "markdown",
   "id": "caf12214",
   "metadata": {},
   "source": [
    "# 3D Brain Visualizations"
   ]
  },
  {
   "cell_type": "markdown",
   "id": "0f54fd88",
   "metadata": {},
   "source": [
    "## 3D topographic brain map\n",
    "\n",
    "The 3D topographic brain map provides a view of voltage measurements as a heatmap converted to estimated position on the brain. There are 2 plot options with different backends: \n",
    "\n",
    "1) [matplotlib](#matplotlib) (the version found on the UI)\n",
    "\n",
    "2) [pyVista](#pyvista) (a better rendering but incompatible with the UI)\n",
    "\n",
    "Both plots can be generated as an animation to view changes over time or as a standalone plot."
   ]
  },
  {
   "cell_type": "markdown",
   "id": "06ddf671",
   "metadata": {},
   "source": [
    "![](instruction_imgs/presentattion_brain.gif)"
   ]
  },
  {
   "cell_type": "markdown",
   "id": "f55279a0",
   "metadata": {},
   "source": [
    "## General Setup\n",
    "### Import required modules"
   ]
  },
  {
   "cell_type": "code",
   "execution_count": null,
   "id": "5ec438df",
   "metadata": {},
   "outputs": [],
   "source": [
    "from simpl_eeg import topomap_3d_brain, eeg_objects"
   ]
  },
  {
   "cell_type": "markdown",
   "id": "a7687df8",
   "metadata": {},
   "source": [
    "### Create epoched data\n",
    "For additional options see [Creating EEG Objects](eeg_objects.html#intro) section."
   ]
  },
  {
   "cell_type": "code",
   "execution_count": null,
   "id": "1e9bcef9",
   "metadata": {},
   "outputs": [],
   "source": [
    "experiment_folder = \"../../data/109\"\n",
    "epochs = eeg_objects.Epochs(experiment_folder)\n",
    "\n",
    "frame_steps = 100\n",
    "epoch = epochs.skip_n_steps(frame_steps)"
   ]
  },
  {
   "cell_type": "markdown",
   "id": "3f35d7b9",
   "metadata": {},
   "source": [
    "### Generate forward and inverse (optional)"
   ]
  },
  {
   "cell_type": "markdown",
   "id": "dea35abf",
   "metadata": {},
   "source": [
    "```{note}\n",
    "- Before an animation or plot can be generated, an **\"inverse\"** (abbreviated as **\"stc\"**) must first be generated. An inverse can be generated from an epoch and a **\"forward\"** (abbreviated as **\"fwd\"**), which itself can be generated from an epoch alone. If only an epoch is provided to either of the plotting functions the stc and fwd will be automatically generated, **HOWEVER** this will increase the time it takes to generate the figure.\n",
    "\n",
    "- The forward/inverse are used to retrieve a brain model to attach the EEG data and to do some of the mapping calculations. The forward downloads 'fsaverage' MRI data which represents a brain averaged out from dozens of different patients.\n",
    "\n",
    "- You may pass one of three combinations to generate a figure in either of the plotting functions.\n",
    "    1. An 'stc' (fastest)\n",
    "    2. An 'epoch' AND a 'fwd' (fast)\n",
    "    3. An 'epoch' (slow)\n",
    "```"
   ]
  },
  {
   "cell_type": "markdown",
   "id": "ac465ac2",
   "metadata": {},
   "source": [
    "#### Generate Forward"
   ]
  },
  {
   "cell_type": "code",
   "execution_count": null,
   "id": "b4920952",
   "metadata": {},
   "outputs": [],
   "source": [
    "fwd = topomap_3d_brain.create_fsaverage_forward(epoch)"
   ]
  },
  {
   "cell_type": "markdown",
   "id": "aaecae8c",
   "metadata": {},
   "source": [
    "#### Generate Inverse"
   ]
  },
  {
   "cell_type": "code",
   "execution_count": null,
   "id": "265b888e",
   "metadata": {},
   "outputs": [],
   "source": [
    "stc = topomap_3d_brain.create_inverse_solution(epoch, fwd)"
   ]
  },
  {
   "cell_type": "markdown",
   "id": "0cd81f1c",
   "metadata": {},
   "source": [
    "<a id=\"matplotlib\"></a>\n",
    "## Create a matplotlib 3D brain animation"
   ]
  },
  {
   "cell_type": "markdown",
   "id": "8976a98a",
   "metadata": {},
   "source": [
    "### Simple Plot (+ auto-generating forward and inverse)"
   ]
  },
  {
   "cell_type": "markdown",
   "id": "0932fdf6",
   "metadata": {},
   "source": [
    "#### Define parameters (simple)"
   ]
  },
  {
   "cell_type": "markdown",
   "id": "f2820771",
   "metadata": {},
   "source": [
    "A detailed description of all parameters can be found in the `topomap_3d_brain.animate_matplot_brain` docstring:"
   ]
  },
  {
   "cell_type": "code",
   "execution_count": null,
   "id": "3e56fb0c",
   "metadata": {},
   "outputs": [],
   "source": [
    "help(topomap_3d_brain.animate_matplot_brain)"
   ]
  },
  {
   "cell_type": "markdown",
   "id": "db8eb611",
   "metadata": {},
   "source": [
    "#### Define parameters"
   ]
  },
  {
   "cell_type": "code",
   "execution_count": null,
   "id": "d8571350",
   "metadata": {},
   "outputs": [],
   "source": [
    "# change values below to values of interest\n",
    "\n",
    "# arguments built into the package\n",
    "stc = stc\n",
    "views=['lat', 'dor']\n",
    "size=200\n",
    "hemi='both'\n",
    "colormap='mne'\n",
    "colorbar=True\n",
    "colormap_limit_type='lims'\n",
    "vmin=-2\n",
    "vmax=2\n",
    "spacing='oct5'\n",
    "smoothing_steps=5\n",
    "timestamp=True\n",
    "frame_rate=12\n",
    "\n",
    "\n",
    "# some useful (and tested) arguments from the\n",
    "# MNE.viz.plot_topomap function (see **kwargs) include...\n",
    "surface='inflated'\n",
    "cortex='classic'"
   ]
  },
  {
   "cell_type": "markdown",
   "id": "a69e559f",
   "metadata": {},
   "source": [
    "```{note}\n",
    "Remember there are three options for passing a combination of epoch, fwd, and stc to generate a plot. These are...\n",
    "1.\n",
    "    stc=stc\n",
    "\n",
    "2.\n",
    "    epoch=epoch,\n",
    "    fwd=fwd\n",
    "\n",
    "3.\n",
    "    epoch=epoch\n",
    "```"
   ]
  },
  {
   "cell_type": "markdown",
   "id": "14beec54",
   "metadata": {},
   "source": [
    "#### Generate animation with matplotlib backend"
   ]
  },
  {
   "cell_type": "code",
   "execution_count": null,
   "id": "ec8bc62e",
   "metadata": {},
   "outputs": [],
   "source": [
    "%%capture\n",
    "\n",
    "matplotlib_animation = topomap_3d_brain.animate_matplot_brain(\n",
    "    stc=stc,\n",
    "    views=views,\n",
    "    hemi=hemi,\n",
    "    colormap=colormap,\n",
    "    colorbar=colorbar,\n",
    "    colormap_limit_type=colormap_limit_type,\n",
    "    vmin=vmin,\n",
    "    vmax=vmax,\n",
    "    spacing=spacing,\n",
    "    smoothing_steps=smoothing_steps,\n",
    "    timestamp=timestamp,\n",
    "    frame_rate=frame_rate,\n",
    "    surface=surface,\n",
    "    cortex=cortex\n",
    ")\n",
    "\n",
    "from IPython.display import HTML\n",
    "video = HTML(matplotlib_animation.to_jshtml())"
   ]
  },
  {
   "cell_type": "code",
   "execution_count": null,
   "id": "af92685c",
   "metadata": {},
   "outputs": [],
   "source": [
    "video"
   ]
  },
  {
   "cell_type": "markdown",
   "id": "1379765c",
   "metadata": {},
   "source": [
    "### Saving the animation"
   ]
  },
  {
   "cell_type": "markdown",
   "id": "19250571",
   "metadata": {},
   "source": [
    "#### Save as gif"
   ]
  },
  {
   "cell_type": "markdown",
   "id": "15fe90e1",
   "metadata": {},
   "source": [
    "```python\n",
    "anim_brain = topomap_3d_brain.animate_matplot_brain(stc = stc, views = 'lat', hemi = 'lh')\n",
    "\n",
    "gif_file_path = \"examples/topomap_3d_brain.gif\" \n",
    "anim_brain.save(gif_file_path, fps=5, dpi=300)\n",
    "```"
   ]
  },
  {
   "cell_type": "markdown",
   "id": "dd76b69c",
   "metadata": {},
   "source": [
    "#### Save as mp4"
   ]
  },
  {
   "cell_type": "markdown",
   "id": "03f94906",
   "metadata": {},
   "source": [
    "```python\n",
    "mp4_file_path = \"examples/topo_2d.mp4\"\n",
    "anim_brain.save(mp4_file_path, fps=5, dpi=300)\n",
    "```"
   ]
  },
  {
   "cell_type": "markdown",
   "id": "4c744b59",
   "metadata": {},
   "source": [
    "```{note}\n",
    "If `FFMpegWriter` does not work on your computer you can save the file as a gif first and then convert it into mp4 file by running the code below.\n",
    "```\n",
    "```python\n",
    "import moviepy.editor as mp\n",
    "\n",
    "clip = mp.VideoFileClip(gif_file_path)\n",
    "clip.write_videofile(mp4_file_path)\n",
    "```"
   ]
  },
  {
   "cell_type": "markdown",
   "id": "0afdebc8",
   "metadata": {},
   "source": [
    "## Create a matplotlib 3D brain figure"
   ]
  },
  {
   "cell_type": "markdown",
   "id": "28f302d6",
   "metadata": {},
   "source": [
    "### Generating a matplotlib plot"
   ]
  },
  {
   "cell_type": "markdown",
   "id": "db52dcb6",
   "metadata": {},
   "source": [
    "### Define parameters\n",
    "A detailed description of all animation parameters can be found in the `topomap_3d_brain.plot_topomap_3d_brain` docstring:"
   ]
  },
  {
   "cell_type": "code",
   "execution_count": null,
   "id": "b2fabc68",
   "metadata": {},
   "outputs": [],
   "source": [
    "help(topomap_3d_brain.plot_topomap_3d_brain)"
   ]
  },
  {
   "cell_type": "code",
   "execution_count": null,
   "id": "1c4e4051",
   "metadata": {},
   "outputs": [],
   "source": [
    "%%capture\n",
    "matplot_brain_fig = topomap_3d_brain.plot_topomap_3d_brain(stc=stc,\n",
    "                                                           recording_number=2,\n",
    "                                                           hemi='lh',\n",
    "                                                           views=['lat'],\n",
    "                                                           vmin=-2,\n",
    "                                                           vmax=2)"
   ]
  },
  {
   "cell_type": "code",
   "execution_count": null,
   "id": "02200216",
   "metadata": {},
   "outputs": [],
   "source": [
    "matplot_brain_fig"
   ]
  },
  {
   "cell_type": "markdown",
   "id": "25945881",
   "metadata": {},
   "source": [
    "### Save the plot\n",
    "You can change the file to different formats by changing the format argument in the function. It supports `png`, `pdf`, `svg`.\n",
    "```python\n",
    "file_path = \"examples/topomap_3d_brain.svg\"  \n",
    "matplot_brain_fig.savefig(file_path, format='svg')\n",
    "```"
   ]
  },
  {
   "cell_type": "markdown",
   "id": "f595d1d6",
   "metadata": {},
   "source": [
    "<a id=\"pyvista\"></a>\n",
    "## Create a pyVista 3D brain animation"
   ]
  },
  {
   "cell_type": "markdown",
   "id": "a198f636",
   "metadata": {},
   "source": [
    "```{note}\n",
    "The dependencies for the following functions are not included with the base instalation of the simpl_eeg package due to compatability issues with certain operating systems. If you wish to use them please install 'PyVista', 'PyQt5', 'pyvistaqt', and 'pyqt5-qt5' through your preferred package installation method https://mne.tools/stable/install/mne_python.html. \n",
    "```"
   ]
  },
  {
   "cell_type": "markdown",
   "id": "3b660f59",
   "metadata": {},
   "source": [
    "### Generate figure with pyvista backend"
   ]
  },
  {
   "cell_type": "markdown",
   "id": "a8f7bce4",
   "metadata": {},
   "source": [
    "```python\n",
    "pyvista_brain_fig = topomap_3d_brain.plot_topomap_3d_brain(stc = stc, backend = 'pyvista')\n",
    "```"
   ]
  },
  {
   "cell_type": "markdown",
   "id": "cf2a4560",
   "metadata": {},
   "source": [
    "### Save animation with pyvista backend"
   ]
  },
  {
   "cell_type": "markdown",
   "id": "ba487193",
   "metadata": {},
   "source": [
    "```python\n",
    "topomap_3d_brain.save_animated_topomap_3d_brain(pyvista_brain_fig, filename = \"brain_animation.gif\")\n",
    "```"
   ]
  }
 ],
 "metadata": {
  "kernelspec": {
   "display_name": "Python 3",
   "language": "python",
   "name": "python3"
  },
  "language_info": {
   "codemirror_mode": {
    "name": "ipython",
    "version": 3
   },
   "file_extension": ".py",
   "mimetype": "text/x-python",
   "name": "python",
   "nbconvert_exporter": "python",
   "pygments_lexer": "ipython3",
   "version": "3.8.3"
  },
  "widgets": {
   "application/vnd.jupyter.widget-state+json": {
    "state": {},
    "version_major": 2,
    "version_minor": 0
   }
  }
 },
 "nbformat": 4,
 "nbformat_minor": 5
}
