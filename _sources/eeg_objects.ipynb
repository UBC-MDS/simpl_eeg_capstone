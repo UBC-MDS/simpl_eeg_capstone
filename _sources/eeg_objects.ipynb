{
 "cells": [
  {
   "cell_type": "markdown",
   "id": "14f8100c",
   "metadata": {},
   "source": [
    "# Creating EEG Objects"
   ]
  },
  {
   "cell_type": "markdown",
   "id": "834677e4",
   "metadata": {},
   "source": [
    "## Epoch Creation\n",
    "<a id=\"intro\"></a>"
   ]
  },
  {
   "cell_type": "code",
   "execution_count": null,
   "id": "0f61b8f9",
   "metadata": {},
   "outputs": [],
   "source": [
    "from simpl_eeg import eeg_objects"
   ]
  },
  {
   "cell_type": "markdown",
   "id": "3e241e5e",
   "metadata": {},
   "source": [
    "<br>"
   ]
  },
  {
   "cell_type": "markdown",
   "id": "fc7537b5",
   "metadata": {},
   "source": [
    "### Module Overview"
   ]
  },
  {
   "cell_type": "markdown",
   "id": "9f78c496",
   "metadata": {},
   "source": [
    "The `eeg_objects` module contains helper classes for storing and manipulating relevant information regarding epochs to pass to other package functions. It contains two classes. Typically you will only you use the `eeg_objects.Epochs` directly, which by default contains a `eeg_objects.EEG_File` object in the `eeg_file` attribute. \n",
    "Below are the docstrings for the two classes:"
   ]
  },
  {
   "cell_type": "code",
   "execution_count": null,
   "id": "564374c8",
   "metadata": {},
   "outputs": [],
   "source": [
    "# Class for reading and importing EEG files\n",
    "help(eeg_objects.EEG_File)"
   ]
  },
  {
   "cell_type": "code",
   "execution_count": null,
   "id": "25e0afb2",
   "metadata": {},
   "outputs": [],
   "source": [
    "# Class for storing, generating, and adjusting epoch objects\n",
    "help(eeg_objects.Epochs)"
   ]
  },
  {
   "cell_type": "markdown",
   "id": "9d02cb46",
   "metadata": {},
   "source": [
    "<br>"
   ]
  },
  {
   "cell_type": "markdown",
   "id": "a6001c65",
   "metadata": {},
   "source": [
    "### Define parameters"
   ]
  },
  {
   "cell_type": "markdown",
   "id": "37ab3044",
   "metadata": {},
   "source": [
    "The only required parameter to create an epoch object is the `folder_path` for the experiment of interest, however additional parameters may be used to customize your epoch object. \n",
    "\n",
    "- `file_name`\n",
    "    - If you specify a `file_name`, and the file exists in the `folder_path` directory, then it will be used as the main data file for the epoch.\n",
    "    - If you do not specify a `file_name` then the alphabetical first file with a supported main file type in `folder_path` will be automatically loaded.\n",
    "\n",
    "\n",
    "- `events_file`\n",
    "    - If you specify an `events_file`, and the file exists in the `folder_path` directory, then it will be used as the events data file for the epoch.\n",
    "    - If you do not specify an `events_file` then the alphabetical first file with a supported events file type in `folder_path` will be automatically loaded.\n",
    "    - If you try to load an `events_file` (automatically or manually) with over 5,000 events or if the final column in the loaded dictionary does not contain a numerical value in its first index (both forms of error catching) then the file will be rejected and will not be loaded.\n",
    "    - If you want to force no events data to be loaded you can pass and `events_file` of `None`.\n",
    "   \n",
    "\n",
    "- `montage`\n",
    "    - If you specify a `montage`, it will load a standard montage with the specified name into the epoch data.\n",
    "    - If montage data already exists in the main data file and a `montage` is provided the original data overwritten in the epoch object.\n",
    "    - If you do not specify a `montage` and montage data already exists in the main data then it will be used instead.\n",
    "    - If you do not specify a `montage` and montage data does not exist in the main data then one attempt will be made to load a \"easycap-M1\" montage. If this fails then no montage information will be loaded.\n",
    "    - If you want to force no `montage` to be loaded data to be loaded you can pass and `events_file` of `None`.\n",
    "\n",
    "\n",
    "- `start_second`\n",
    "    - If you specify a `start_second`, a single epoch will be generated with an impact event at the specified second.\n",
    "    - If you do not specify a `start_second`, epochs will be automatically generated using the impact times found in the `impact locations.mat` file in the selected `experiment_folder`. \n",
    "\n",
    "\n",
    "- `tmin`\n",
    "    - specifies the number of seconds before the impact to use,\n",
    "\n",
    "\n",
    "- `tmax`\n",
    "    - specifies the number of seconds after the impact."
   ]
  },
  {
   "cell_type": "code",
   "execution_count": null,
   "id": "5b212c23",
   "metadata": {},
   "outputs": [],
   "source": [
    "# path to the experiment folder\n",
    "folder_path = \"../../data/109\"\n",
    "\n",
    "# the name of the main data file to load (optional)\n",
    "file_name = \"fixica.set\"\n",
    "\n",
    "# the name of the events file to load (optional)\n",
    "events_file = \"impact locations.mat\"\n",
    "\n",
    "# the montage type to load (optional)\n",
    "montage = None\n",
    "\n",
    "# number of seconds before the impact, should be a negative number for before impact (optional)\n",
    "tmin = -1\n",
    "\n",
    "# number of seconds after the impact (optional)\n",
    "tmax = 1\n",
    "\n",
    "# if creating a custom epoch, select a starting second (optional)\n",
    "start_second = None"
   ]
  },
  {
   "cell_type": "markdown",
   "id": "4eac20e5",
   "metadata": {},
   "source": [
    "<br>"
   ]
  },
  {
   "cell_type": "markdown",
   "id": "31731f0d",
   "metadata": {},
   "source": [
    "### Create epoched data"
   ]
  },
  {
   "cell_type": "markdown",
   "id": "66e2edbd-2588-4728-97f0-a64466f1d25f",
   "metadata": {},
   "source": [
    "The following data formats are currently supported. Note that due to limited availability of test files not all formats have been fully tested (see Notes).\n",
    "\n",
    "|                       | Main File | Secondary File | Events File | Notes                                                   |\n",
    "|-----------------------|-----------|----------------|-------------|---------------------------------------------------------|\n",
    "| EEGLAB                | .set      | .fdt           | .mat        |                                                         |\n",
    "| BrainVision           | .vhdr     | .eeg           | .vmrk       |                                                         |\n",
    "| European data format  | .edf      | N/A            | N/A         |                                                         |\n",
    "| BioSemi data format   | .bdf      | N/A            | N/A         | Montage has not be successfully loaded with test files. |\n",
    "| General data format   | .gdf      | N/A            | N/A         | Events have not be successfully loaded with test files. |\n",
    "| Neuroscan CNT         | .cnt      | N/A            | N/A         | Montage has not be successfully loaded with test files. |\n",
    "| eXimia                | .nxe      | N/A            | N/A         | Events have not be successfully loaded with test files. |\n",
    "| Nihon Kohden EEG data | .eeg      | .pnt AND .21e  | .log        | Montage has not be successfully loaded with test files. |"
   ]
  },
  {
   "cell_type": "markdown",
   "id": "141f569e-56c2-46ca-b546-6cc585211b48",
   "metadata": {},
   "source": [
    "- A **main file** represents the lead file used to load in your EEG data. This is the file that may be passed as your `file_name`.\n",
    "\n",
    "- A **secondary file** contains some secondary information for some data types. They will be automatically loaded to when the main file is loaded.\n",
    "\n",
    "- A **events file** contains a list of the annotations associated with events in your EEG data. This is the file that may be passed as your `events_file`.\n",
    "\n",
    "- A **montage** must exist in your epoch in order to visualize it. This contains information about your node locations in 3D space. A complete list of usable montages is available here: https://mne.tools/dev/generated/mne.channels.make_standard_montage.html."
   ]
  },
  {
   "cell_type": "markdown",
   "id": "5c14bdb7",
   "metadata": {},
   "source": [
    "You can create epoched data using the `Epochs` class."
   ]
  },
  {
   "cell_type": "code",
   "execution_count": null,
   "id": "262a8eca",
   "metadata": {},
   "outputs": [],
   "source": [
    "epochs = eeg_objects.Epochs(\n",
    "    folder_path = folder_path,\n",
    "    file_name = file_name,\n",
    "    events_file = events_file,\n",
    "    montage = montage,\n",
    "    tmin = tmin,\n",
    "    tmax = tmax,\n",
    "    start_second = start_second\n",
    ")"
   ]
  },
  {
   "cell_type": "markdown",
   "id": "094d3aaf",
   "metadata": {},
   "source": [
    "The generated epoch data is found within the `all_epochs` attribute. Here we are generating epochs with automatically detected impact times, so we can see that there are multiple events."
   ]
  },
  {
   "cell_type": "code",
   "execution_count": null,
   "id": "9e8f6d05",
   "metadata": {},
   "outputs": [],
   "source": [
    "epochs.all_epochs"
   ]
  },
  {
   "cell_type": "markdown",
   "id": "1e452222",
   "metadata": {},
   "source": [
    "If instead we create epochs with a custom start second, we will only create a single epoch with an impact the given `start_second`."
   ]
  },
  {
   "cell_type": "code",
   "execution_count": null,
   "id": "1fc0967c",
   "metadata": {},
   "outputs": [],
   "source": [
    "start_second = 15  # record event at second 15\n",
    "custom_epoch = eeg_objects.Epochs(folder_path, tmin, tmax, start_second) \n",
    "\n",
    "custom_epoch.all_epochs"
   ]
  },
  {
   "cell_type": "markdown",
   "id": "7adce034",
   "metadata": {},
   "source": [
    "#### Get information about epochs"
   ]
  },
  {
   "cell_type": "markdown",
   "id": "b45e1bd7",
   "metadata": {},
   "source": [
    "In addition to the epochs contained in the `all_epochs` attribute, the `Epoch` object also contains information about the file used and has a selected epoch for quick access. "
   ]
  },
  {
   "cell_type": "code",
   "execution_count": null,
   "id": "8876380d",
   "metadata": {},
   "outputs": [],
   "source": [
    "eeg_file = epochs.eeg_file\n",
    "print(eeg_file.folder_path)  # experiment folder path\n",
    "print(eeg_file.experiment)  # experiment number\n",
    "print(eeg_file.raw)  # raw data\n",
    "print(eeg_file.file_source) # primary data file the EEG data was loaded from\n",
    "print(eeg_file.events_source) # source file of events\n",
    "print(eeg_file.montage_source) # source of the montage (may be pre-set montage name)\n",
    "print(eeg_file.events)  # impact times"
   ]
  },
  {
   "cell_type": "markdown",
   "id": "08078d81",
   "metadata": {},
   "source": [
    "#### Select specific epoch"
   ]
  },
  {
   "cell_type": "markdown",
   "id": "cbb91832",
   "metadata": {},
   "source": [
    "If you have a specific epoch of interest you can specify it with the `get_epoch` method. You can retrieve it later by accessing the `epoch` attribute."
   ]
  },
  {
   "cell_type": "code",
   "execution_count": null,
   "id": "0f5ed152",
   "metadata": {},
   "outputs": [],
   "source": [
    "nth_epoch = 5  # the epoch of interest to select, the 6th impact\n",
    "single_epoch = epochs.get_epoch(nth_epoch)\n",
    "single_epoch"
   ]
  },
  {
   "cell_type": "code",
   "execution_count": null,
   "id": "b5effd1a",
   "metadata": {},
   "outputs": [],
   "source": [
    "epochs.epoch"
   ]
  },
  {
   "cell_type": "markdown",
   "id": "75fa8122-67ab-4ee5-bd99-b351cd67647d",
   "metadata": {},
   "source": [
    "#### Getting an evoked object"
   ]
  },
  {
   "cell_type": "markdown",
   "id": "1bf279a9-19d1-4fb5-8a5e-e3a698994dfb",
   "metadata": {},
   "source": [
    "You can also use the `get_epoch` method to retrieve an evoked object, which represents an averaging of each event in your epoch. Note that evoked data is its own type of object and is not guaranteed to work with every function in this package."
   ]
  },
  {
   "cell_type": "code",
   "execution_count": null,
   "id": "a1147154-750c-489b-a85c-10a441c56ba8",
   "metadata": {},
   "outputs": [],
   "source": [
    "evoked = epochs.get_epoch(\"evoked\")\n",
    "type(evoked)"
   ]
  },
  {
   "cell_type": "code",
   "execution_count": null,
   "id": "2928afeb-8508-44ef-91b2-27e0fb9b5c20",
   "metadata": {},
   "outputs": [],
   "source": [
    "evoked.info"
   ]
  },
  {
   "cell_type": "markdown",
   "id": "a4aed73e",
   "metadata": {},
   "source": [
    "#### Decimate the epoch (optional)\n",
    "To reduce the size of the selected epoch you can choose to skip a selected number of time steps by calling the `skip_n_steps` method. If `use_single=True` (the default), it will only be run on the current selected epoch from the previous step, contained in the `epoch` attribute. Otherwise it will run on all the epochs contained within the `all_epochs` attribute.\n",
    "\n",
    "Skipping steps will greatly reduce animation times for the other functions in the package. The greater the number of steps skipped, the fewer the frames to animate. In the example below we are reducing the selected epoch from 4097 time steps to 81 time steps. "
   ]
  },
  {
   "cell_type": "code",
   "execution_count": null,
   "id": "0404b2b4",
   "metadata": {},
   "outputs": [],
   "source": [
    "single_epoch.get_data().shape"
   ]
  },
  {
   "cell_type": "code",
   "execution_count": null,
   "id": "45d7ed6f",
   "metadata": {},
   "outputs": [],
   "source": [
    "num_steps = 50\n",
    "smaller_epoch = epochs.skip_n_steps(num_steps)\n",
    "smaller_epoch.get_data().shape"
   ]
  },
  {
   "cell_type": "markdown",
   "id": "69b413bb",
   "metadata": {},
   "source": [
    "#### Average the epoch (optional)\n",
    "To reduce the size of the selected epoch you can choose to average a selected number of time steps by calling the `average_n_steps` method. It will be run on the current selected epoch from the previous step, contained in the `epoch` attribute.\n",
    "\n",
    "Averaging works the same way as decimating above, but instead of simply ignoring records between steps it takes an average. "
   ]
  },
  {
   "cell_type": "code",
   "execution_count": null,
   "id": "5cdb2beb",
   "metadata": {},
   "outputs": [],
   "source": [
    "num_steps = 50\n",
    "average_epoch = epochs.average_n_steps(num_steps)\n",
    "average_epoch.get_data()"
   ]
  },
  {
   "cell_type": "markdown",
   "id": "46ff0334",
   "metadata": {},
   "source": [
    "### MNE functions"
   ]
  },
  {
   "cell_type": "markdown",
   "id": "4468ce25",
   "metadata": {},
   "source": [
    "Now that you have access epoched data, you can use the `simpl_eeg` package functions as well as any [MNE functions](https://mne.tools/stable/generated/mne.Epochs.html) which act on `mne.epoch` objects. Below are some useful examples for the MNE objects contained within the object we created. "
   ]
  },
  {
   "cell_type": "markdown",
   "id": "04f4f5fd",
   "metadata": {},
   "source": [
    "#### Raw data\n",
    "https://mne.tools/stable/generated/mne.io.Raw.html"
   ]
  },
  {
   "cell_type": "code",
   "execution_count": null,
   "id": "dffd7647",
   "metadata": {},
   "outputs": [],
   "source": [
    "raw = epochs.eeg_file.raw\n",
    "raw.info"
   ]
  },
  {
   "cell_type": "code",
   "execution_count": null,
   "id": "64fc99b9",
   "metadata": {},
   "outputs": [],
   "source": [
    "raw.plot_psd();"
   ]
  },
  {
   "cell_type": "markdown",
   "id": "e07a85d3",
   "metadata": {},
   "source": [
    "#### Epoch data"
   ]
  },
  {
   "cell_type": "code",
   "execution_count": null,
   "id": "aef2fa24",
   "metadata": {},
   "outputs": [],
   "source": [
    "# first 3 epochs\n",
    "epochs.all_epochs.plot(n_epochs=3);"
   ]
  },
  {
   "cell_type": "code",
   "execution_count": null,
   "id": "85557983",
   "metadata": {},
   "outputs": [],
   "source": [
    "# specific epoch\n",
    "epochs.epoch.plot();"
   ]
  },
  {
   "cell_type": "code",
   "execution_count": null,
   "id": "0be8ae54",
   "metadata": {},
   "outputs": [],
   "source": [
    "# specific epoch with steps skipped\n",
    "epochs.skip_n_steps(100).plot();"
   ]
  }
 ],
 "metadata": {
  "kernelspec": {
   "display_name": "Python 3",
   "language": "python",
   "name": "python3"
  },
  "language_info": {
   "codemirror_mode": {
    "name": "ipython",
    "version": 3
   },
   "file_extension": ".py",
   "mimetype": "text/x-python",
   "name": "python",
   "nbconvert_exporter": "python",
   "pygments_lexer": "ipython3",
   "version": "3.8.3"
  },
  "widgets": {
   "application/vnd.jupyter.widget-state+json": {
    "state": {},
    "version_major": 2,
    "version_minor": 0
   }
  }
 },
 "nbformat": 4,
 "nbformat_minor": 5
}
