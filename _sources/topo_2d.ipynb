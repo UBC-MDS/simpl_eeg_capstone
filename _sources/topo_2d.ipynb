{
 "cells": [
  {
   "cell_type": "markdown",
   "id": "51bbbada",
   "metadata": {},
   "source": [
    "# 2D Head Visualizations"
   ]
  },
  {
   "cell_type": "markdown",
   "id": "7f03b044",
   "metadata": {},
   "source": [
    "## 2D topographic head map\n",
    "\n",
    "The 2D topographic head map provides a view of voltage measurements as a heatmap imposed on an image of a 2D skull. It can be generated as an [animation](#animation) to view changes over time or as a [standalone plot](#plot). "
   ]
  },
  {
   "cell_type": "markdown",
   "id": "7ed4d38a",
   "metadata": {},
   "source": [
    "![](instruction_imgs/topo_2d.gif)"
   ]
  },
  {
   "cell_type": "markdown",
   "id": "62c113fa",
   "metadata": {},
   "source": [
    "## General Setup\n",
    "### Import required modules"
   ]
  },
  {
   "cell_type": "code",
   "execution_count": null,
   "id": "20db1597",
   "metadata": {},
   "outputs": [],
   "source": [
    "from simpl_eeg import topomap_2d, eeg_objects "
   ]
  },
  {
   "cell_type": "markdown",
   "id": "84e2d1d0",
   "metadata": {},
   "source": [
    "### Create epoched data\n",
    "For additional options see [Creating EEG Objects](eeg_objects.html#intro) section."
   ]
  },
  {
   "cell_type": "code",
   "execution_count": null,
   "id": "cf30f625",
   "metadata": {},
   "outputs": [],
   "source": [
    "experiment_folder = \"../../data/109\"\n",
    "nth_epoch = 0\n",
    "num_steps = 50  # number of steps to skip to shorten epoch\n",
    "\n",
    "epochs = eeg_objects.Epochs(experiment_folder)\n",
    "epoch = epochs.get_epoch(nth_epoch)\n",
    "shortened_epoch = epochs.skip_n_steps(num_steps)"
   ]
  },
  {
   "cell_type": "markdown",
   "id": "fb46e15d",
   "metadata": {},
   "source": [
    "<a id=\"animation\"></a>\n",
    "## Create a 2D topographic animation"
   ]
  },
  {
   "cell_type": "markdown",
   "id": "70ef39c4",
   "metadata": {},
   "source": [
    "### Define parameters\n",
    "A detailed description of all animation parameters can be found in the `topomap_2d.animate_topomap_2d` docstring:"
   ]
  },
  {
   "cell_type": "code",
   "execution_count": null,
   "id": "d97ee01e",
   "metadata": {},
   "outputs": [],
   "source": [
    "help(topomap_2d.animate_topomap_2d)"
   ]
  },
  {
   "cell_type": "code",
   "execution_count": null,
   "id": "d46cd19c",
   "metadata": {},
   "outputs": [],
   "source": [
    "# change values below to values of interest\n",
    "\n",
    "# arguments built into the package\n",
    "colormap = \"Spectral\"\n",
    "mark = \"dot\"\n",
    "cmin = -40\n",
    "cmax = 40\n",
    "colorbar = True\n",
    "timestamp = True\n",
    "frame_rate = 12\n",
    "\n",
    "# some useful (and tested) arguments from the\n",
    "# MNE.viz.plot_topomap function (see **kwargs) include...\n",
    "contours = 0\n",
    "res = 100\n",
    "sphere = 100\n",
    "extrapolate = \"head\"\n",
    "outlines = \"head\"\n",
    "border = \"mean\""
   ]
  },
  {
   "cell_type": "markdown",
   "id": "d147bab0",
   "metadata": {},
   "source": [
    "### Generating the animation"
   ]
  },
  {
   "cell_type": "code",
   "execution_count": null,
   "id": "0d3011c4",
   "metadata": {},
   "outputs": [],
   "source": [
    "%%capture\n",
    "\n",
    "anim = topomap_2d.animate_topomap_2d(\n",
    "    shortened_epoch, # REQUIRED\n",
    "    colormap=colormap,\n",
    "    mark=mark,\n",
    "    cmin=cmin,\n",
    "    cmax=cmax,\n",
    "    colorbar=colorbar,\n",
    "    timestamp=timestamp,\n",
    "    frame_rate=frame_rate,\n",
    "    contours=contours,\n",
    "    res=res,\n",
    "    sphere=sphere,\n",
    "    extrapolate=extrapolate,\n",
    "    outlines=outlines,\n",
    "    border=border\n",
    ")\n",
    "\n",
    "from IPython.core.display import HTML\n",
    "\n",
    "html_plot = anim.to_jshtml()\n",
    "video = HTML(html_plot)"
   ]
  },
  {
   "cell_type": "code",
   "execution_count": null,
   "id": "b66dd05c",
   "metadata": {},
   "outputs": [],
   "source": [
    "video"
   ]
  },
  {
   "cell_type": "markdown",
   "id": "1bbcf66e",
   "metadata": {},
   "source": [
    "### Saving the animation"
   ]
  },
  {
   "cell_type": "markdown",
   "id": "11ed47ec",
   "metadata": {},
   "source": [
    "#### Save as html"
   ]
  },
  {
   "cell_type": "markdown",
   "id": "ddd93a4d",
   "metadata": {},
   "source": [
    "```python\n",
    "html_file_path = \"examples/topo_2d.html\"\n",
    "html_file = open(html_file_path, \"w\")\n",
    "html_file.write(html_plot)\n",
    "html_file.close()\n",
    "```"
   ]
  },
  {
   "cell_type": "markdown",
   "id": "7aec4ceb",
   "metadata": {},
   "source": [
    "#### Save as gif"
   ]
  },
  {
   "cell_type": "markdown",
   "id": "87a7765a",
   "metadata": {},
   "source": [
    "```python\n",
    "anim = topomap_2d.animate_topomap_2d(shortened_epoch)\n",
    "\n",
    "gif_file_path = \"examples/topo_2d.gif\"\n",
    "anim.save(gif_file_path, fps=5, dpi=300)\n",
    "```"
   ]
  },
  {
   "cell_type": "markdown",
   "id": "3165706c",
   "metadata": {},
   "source": [
    "#### Save as mp4"
   ]
  },
  {
   "cell_type": "markdown",
   "id": "8dfc8ed0",
   "metadata": {},
   "source": [
    "```python\n",
    "anim = topomap_2d.animate_topomap_2d(shortened_epoch)\n",
    "\n",
    "mp4_file_path = \"examples/topo_2d.mp4\"\n",
    "anim.save(mp4_file_path)\n",
    "```"
   ]
  },
  {
   "cell_type": "markdown",
   "id": "216317a5",
   "metadata": {},
   "source": [
    "```{note}\n",
    "If `FFMpegWriter` does not work on your computer you can save the file as a gif first and then convert it into mp4 file by running the code below.\n",
    "```\n",
    "```python\n",
    "import moviepy.editor as mp\n",
    "\n",
    "clip = mp.VideoFileClip(gif_file_path)\n",
    "clip.write_videofile(mp4_file_path)\n",
    "```"
   ]
  },
  {
   "cell_type": "markdown",
   "id": "053a8f75",
   "metadata": {},
   "source": [
    "<a id=\"plot\"></a>\n",
    "## Create a 2D topographic plot"
   ]
  },
  {
   "cell_type": "markdown",
   "id": "b76fffb8",
   "metadata": {},
   "source": [
    "### Define parameters\n",
    "A detailed description of all animation parameters can be found in the `topomap_2d.plot_topomap_2d` docstring:"
   ]
  },
  {
   "cell_type": "code",
   "execution_count": null,
   "id": "493e4416",
   "metadata": {},
   "outputs": [],
   "source": [
    "help(topomap_2d.plot_topomap_2d)"
   ]
  },
  {
   "cell_type": "code",
   "execution_count": null,
   "id": "5d57f5e8",
   "metadata": {},
   "outputs": [],
   "source": [
    "timestamp=True\n",
    "recording_number = 2"
   ]
  },
  {
   "cell_type": "markdown",
   "id": "4142f12f",
   "metadata": {},
   "source": [
    "### Generating a standalone plot"
   ]
  },
  {
   "cell_type": "markdown",
   "id": "3a40de28",
   "metadata": {},
   "source": [
    "```{note}\n",
    "Generating a plot will use the first data recording in the epoch by default. \n",
    "```"
   ]
  },
  {
   "cell_type": "code",
   "execution_count": null,
   "id": "f6ae0564",
   "metadata": {},
   "outputs": [],
   "source": [
    "plot = topomap_2d.plot_topomap_2d(\n",
    "    epoch,\n",
    "    timestamp=timestamp,\n",
    "    recording_number=recording_number\n",
    ")\n",
    "plot;"
   ]
  },
  {
   "cell_type": "markdown",
   "id": "a3a0dbfd",
   "metadata": {},
   "source": [
    "### Saving the plot\n",
    "You can change the file to different formats by changing the format argument in the function. It supports `png`, `pdf`, `svg`.\n",
    "```python\n",
    "file_path = \"examples/topo_2d.svg\"\n",
    "plot.figure.savefig(file_path)\n",
    "```"
   ]
  },
  {
   "cell_type": "code",
   "execution_count": null,
   "id": "62cd2618",
   "metadata": {},
   "outputs": [],
   "source": []
  }
 ],
 "metadata": {
  "kernelspec": {
   "display_name": "Python 3",
   "language": "python",
   "name": "python3"
  },
  "language_info": {
   "codemirror_mode": {
    "name": "ipython",
    "version": 3
   },
   "file_extension": ".py",
   "mimetype": "text/x-python",
   "name": "python",
   "nbconvert_exporter": "python",
   "pygments_lexer": "ipython3",
   "version": "3.8.5"
  },
  "widgets": {
   "application/vnd.jupyter.widget-state+json": {
    "state": {},
    "version_major": 2,
    "version_minor": 0
   }
  }
 },
 "nbformat": 4,
 "nbformat_minor": 5
}
