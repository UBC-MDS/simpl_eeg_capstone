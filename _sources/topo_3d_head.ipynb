{
 "cells": [
  {
   "cell_type": "markdown",
   "metadata": {},
   "source": [
    "# 3D Head Visualizations"
   ]
  },
  {
   "cell_type": "markdown",
   "metadata": {},
   "source": [
    "##  Topographic map in 3D head"
   ]
  },
  {
   "cell_type": "markdown",
   "metadata": {},
   "source": [
    "![](instruction_imgs/topo_3d_head_ani.gif)"
   ]
  },
  {
   "cell_type": "code",
   "execution_count": 2,
   "metadata": {},
   "outputs": [],
   "source": [
    "from simpl_eeg import topomap_3d_head, eeg_objects"
   ]
  },
  {
   "cell_type": "code",
   "execution_count": null,
   "metadata": {},
   "outputs": [],
   "source": [
    "import warnings\n",
    "warnings.filterwarnings('ignore')"
   ]
  },
  {
   "cell_type": "markdown",
   "metadata": {},
   "source": [
    "```{note}\n",
    "Please include the line below in your IDE so that the changes would be simultaneously reflected when you make a change to the python scripts.\n",
    "```"
   ]
  },
  {
   "cell_type": "code",
   "execution_count": null,
   "metadata": {},
   "outputs": [],
   "source": [
    "%load_ext autoreload"
   ]
  },
  {
   "cell_type": "code",
   "execution_count": null,
   "metadata": {},
   "outputs": [],
   "source": [
    "%autoreload 2"
   ]
  },
  {
   "cell_type": "markdown",
   "metadata": {},
   "source": [
    "<br>"
   ]
  },
  {
   "cell_type": "markdown",
   "metadata": {},
   "source": [
    "### Define parameters"
   ]
  },
  {
   "cell_type": "markdown",
   "metadata": {},
   "source": [
    "A detailed description of all parameters can be found in the `topomap_3d_head.animate_3d_head` docstring:"
   ]
  },
  {
   "cell_type": "code",
   "execution_count": 3,
   "metadata": {},
   "outputs": [
    {
     "name": "stdout",
     "output_type": "stream",
     "text": [
      "Help on function animate_3d_head in module simpl_eeg.topomap_3d_head:\n",
      "\n",
      "animate_3d_head(epoch, plot_title='', color_title='EEG MicroVolt', color_min=-50, color_max=50, colormap='Bluered')\n",
      "    Plot an animated topographic map in a 3D head shape\n",
      "    \n",
      "    Args:\n",
      "        epoch (mne.epochs.Epochs): An epoched file for the EEGLab data\n",
      "        plot_title (str, optionl): The title of the plot. Defaults to \"\".\n",
      "        color_title (str,  optional): The title of the color bar. Defaults to \"EEG MicroVolt\".\n",
      "        color_min (int, optional): The minimum EEG voltage value to be shown on the color bar. Defaults to -50.\n",
      "        color_max (int, optional): The maximum EEG voltage value to be shown on the color bar. Defaults to 50.\n",
      "        colormap (str, optional): The colour scheme to use. Defaults to Bluered.\n",
      "    \n",
      "    Returns:\n",
      "        figure: An animated topographic map in a 3D head shape\n",
      "\n"
     ]
    }
   ],
   "source": [
    "help(topomap_3d_head.animate_3d_head)"
   ]
  },
  {
   "cell_type": "code",
   "execution_count": null,
   "metadata": {},
   "outputs": [],
   "source": [
    "# change values below to values of interest\n",
    "\n",
    "experiment_folder = \"../../data/927\"\n",
    "nth_epoch = 0\n",
    "\n",
    "color_min = -40\n",
    "color_max = 40\n",
    "colormap = \"RdBu_r\""
   ]
  },
  {
   "cell_type": "markdown",
   "metadata": {},
   "source": [
    "<br>"
   ]
  },
  {
   "cell_type": "markdown",
   "metadata": {},
   "source": [
    "### Create epoched data"
   ]
  },
  {
   "cell_type": "markdown",
   "metadata": {},
   "source": [
    "For additional options see **Creating EEG Objects** section."
   ]
  },
  {
   "cell_type": "code",
   "execution_count": null,
   "metadata": {},
   "outputs": [],
   "source": [
    "epochs = eeg_objects.Epochs(experiment_folder)\n",
    "epoch = epochs.get_nth_epoch(nth_epoch)"
   ]
  },
  {
   "cell_type": "markdown",
   "metadata": {},
   "source": [
    "</br>"
   ]
  },
  {
   "cell_type": "markdown",
   "metadata": {},
   "source": [
    "### Create the topographic map in 3D head shape"
   ]
  },
  {
   "cell_type": "code",
   "execution_count": null,
   "metadata": {},
   "outputs": [],
   "source": [
    "timestamp = -300  # you can change the value to the time stamp of your interest\n",
    "topo_3d__head_static = topomap_3d_head.topo_3d_map(\n",
    "    epoch,\n",
    "    time_stamp,\n",
    "    color_title=\"EEG MicroVolt\",\n",
    "    color_min=color_min,\n",
    "    color_max=color_max,\n",
    "    colormap=colormap,\n",
    ")"
   ]
  },
  {
   "cell_type": "code",
   "execution_count": null,
   "metadata": {},
   "outputs": [],
   "source": [
    "topo_3d__head_static.show()"
   ]
  },
  {
   "cell_type": "markdown",
   "metadata": {},
   "source": [
    "#### Generating the animation"
   ]
  },
  {
   "cell_type": "code",
   "execution_count": null,
   "metadata": {},
   "outputs": [],
   "source": [
    "topo_3d_head = topomap_3d_head.animate_3d_head(\n",
    "    epoch,\n",
    "    color_title=\"EEG MicroVolt\",\n",
    "    color_min=color_min,\n",
    "    color_max=color_max,\n",
    "    colormap=colormap,\n",
    ")"
   ]
  },
  {
   "cell_type": "code",
   "execution_count": null,
   "metadata": {},
   "outputs": [],
   "source": [
    "topo_3d_head.show()"
   ]
  },
  {
   "cell_type": "markdown",
   "metadata": {},
   "source": [
    "#### Saving the animation"
   ]
  },
  {
   "cell_type": "markdown",
   "metadata": {},
   "source": [
    "##### Save static plot"
   ]
  },
  {
   "cell_type": "code",
   "execution_count": null,
   "metadata": {},
   "outputs": [],
   "source": [
    "static_file_path = \"../../exports/examples/topo_3d_static.svg\"  # change the file path to where you would like to save the file\n",
    "\n",
    "topo_3d__head_static.write_image(static_file_path, engine=\"kaleido\")"
   ]
  },
  {
   "cell_type": "code",
   "execution_count": null,
   "metadata": {},
   "outputs": [],
   "source": [
    "static_file_path_png = \"../../exports/examples/topo_3d_static.png\"  # change the file path to where you would like to save the file\n",
    "\n",
    "topo_3d__head_static.write_image(static_file_path_png) # no need to specify engine if not saved as svg file"
   ]
  },
  {
   "cell_type": "markdown",
   "metadata": {},
   "source": [
    "##### Save animation as html"
   ]
  },
  {
   "cell_type": "code",
   "execution_count": null,
   "metadata": {},
   "outputs": [],
   "source": [
    "html_file_path = \"../../exports/examples/topo_3d.html\"  # change the file path to where you would like to save the file\n",
    "\n",
    "topo_3d_head.write_html(html_file_path)"
   ]
  },
  {
   "cell_type": "markdown",
   "metadata": {},
   "source": [
    "##### Save animation as gif"
   ]
  },
  {
   "cell_type": "code",
   "execution_count": null,
   "metadata": {},
   "outputs": [],
   "source": [
    "topomap_3d_head.save_gif(epoch, gifname=\"topo_3d_head_ani\", duration=200) "
   ]
  },
  {
   "cell_type": "markdown",
   "metadata": {},
   "source": [
    "##### Save animation as mp4 "
   ]
  },
  {
   "cell_type": "markdown",
   "metadata": {},
   "source": [
    "```{note}\n",
    "You would need to save it as gif file first and then convert it into mp4 file.\n",
    "```"
   ]
  },
  {
   "cell_type": "code",
   "execution_count": null,
   "metadata": {},
   "outputs": [],
   "source": [
    "import moviepy.editor as mp\n",
    "\n",
    "clip = mp.VideoFileClip(\"topo_3d_head_ani.gif\")  # change the file path to where you saved the gif file\n",
    "clip.write_videofile(\"../../exports/examples/topo_3d_head_ani.mp4\")  # change the file path to where you would like to save the file"
   ]
  }
 ],
 "metadata": {
  "kernelspec": {
   "display_name": "Python 3",
   "language": "python",
   "name": "python3"
  },
  "language_info": {
   "codemirror_mode": {
    "name": "ipython",
    "version": 3
   },
   "file_extension": ".py",
   "mimetype": "text/x-python",
   "name": "python",
   "nbconvert_exporter": "python",
   "pygments_lexer": "ipython3",
   "version": "3.8.3"
  },
  "widgets": {
   "application/vnd.jupyter.widget-state+json": {
    "state": {},
    "version_major": 2,
    "version_minor": 0
   }
  }
 },
 "nbformat": 4,
 "nbformat_minor": 5
}
